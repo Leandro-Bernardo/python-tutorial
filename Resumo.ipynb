{
  "nbformat": 4,
  "nbformat_minor": 0,
  "metadata": {
    "colab": {
      "provenance": [],
      "collapsed_sections": [
        "1JQLuQc1aGl8",
        "Q-5MBeX6gEwW",
        "21VFBdlnszFX",
        "1i9peW9LMGWb",
        "hcarqcHJVXnJ",
        "opw1zLvWVaNW",
        "UIOaEpnyuE4y",
        "Zie1LzhoNHXm",
        "TadhRQipEeAT",
        "tGpblrZIzXPN",
        "r1pzYAwYp7sO",
        "LNE1PXyxp_Sy",
        "aOqOO8xHf8KW",
        "6NIzQshm4E7V",
        "_K44nehH4NpE",
        "b-jzkaxWnVnB",
        "T0Ebo0iwhrTK",
        "D8nFjuR0FpVZ",
        "IHwZ9VHRG6UL",
        "osYz6F3NIgMI",
        "KZXuejyVIlRm",
        "tcJyOQdzUeEp",
        "JBKZUeW0GYGR",
        "rj862LiauEjb",
        "V2U5pJY1_EdU",
        "OpnAEhYvbMgz",
        "RwFvhH3obZmF",
        "hanOL4mu1877",
        "BVq6HVG_QWNI",
        "QTq_WqYbV7oa",
        "9ppfZe09N2Ox"
      ],
      "include_colab_link": true
    },
    "kernelspec": {
      "display_name": "Python 3",
      "name": "python3"
    },
    "language_info": {
      "name": "python"
    }
  },
  "cells": [
    {
      "cell_type": "markdown",
      "metadata": {
        "id": "view-in-github",
        "colab_type": "text"
      },
      "source": [
        "<a href=\"https://colab.research.google.com/github/Leandro-Bernardo/python-tutorial/blob/main/Resumo.ipynb\" target=\"_parent\"><img src=\"https://colab.research.google.com/assets/colab-badge.svg\" alt=\"Open In Colab\"/></a>"
      ]
    },
    {
      "cell_type": "markdown",
      "metadata": {
        "id": "1JQLuQc1aGl8"
      },
      "source": [
        "# Basic Python"
      ]
    },
    {
      "cell_type": "markdown",
      "metadata": {
        "id": "Q-5MBeX6gEwW"
      },
      "source": [
        "##Objetos Introdução"
      ]
    },
    {
      "cell_type": "code",
      "metadata": {
        "id": "ifsG4X64_BhU"
      },
      "source": [
        "#Python é uma linguagem referenciada ao objeto (variável)"
      ],
      "execution_count": null,
      "outputs": []
    },
    {
      "cell_type": "code",
      "metadata": {
        "id": "lECcubcKgG1d"
      },
      "source": [
        "a = 3     # a recebe o valor 3"
      ],
      "execution_count": null,
      "outputs": []
    },
    {
      "cell_type": "code",
      "metadata": {
        "colab": {
          "base_uri": "https://localhost:8080/"
        },
        "id": "J422BRa1c5Dz",
        "outputId": "3ca431a5-ecf7-45fa-83ae-6a2d879a7bf2"
      },
      "source": [
        "print(a)  # uma função para mostrar ao usuario algo (no caso, meu objeto a)"
      ],
      "execution_count": null,
      "outputs": [
        {
          "output_type": "stream",
          "name": "stdout",
          "text": [
            "3\n"
          ]
        }
      ]
    },
    {
      "cell_type": "code",
      "metadata": {
        "id": "PTgxPbOn_GSZ"
      },
      "source": [
        "b = a + 5  # b recebe o valor de a ( no caso 3) e soma 5"
      ],
      "execution_count": null,
      "outputs": []
    },
    {
      "cell_type": "code",
      "metadata": {
        "id": "qTX72WTt_OUi"
      },
      "source": [
        "b"
      ],
      "execution_count": null,
      "outputs": []
    },
    {
      "cell_type": "code",
      "metadata": {
        "id": "ABigO-l-iIcH"
      },
      "source": [
        "# Os valores armazenados nas variaveis em Python podem ser substituidos \n",
        "\n",
        "a = 7   "
      ],
      "execution_count": null,
      "outputs": []
    },
    {
      "cell_type": "code",
      "metadata": {
        "id": "mRAGVvIfiYAf"
      },
      "source": [
        "a"
      ],
      "execution_count": null,
      "outputs": []
    },
    {
      "cell_type": "code",
      "metadata": {
        "id": "SWEwQ0pP4x45"
      },
      "source": [],
      "execution_count": null,
      "outputs": []
    },
    {
      "cell_type": "markdown",
      "metadata": {
        "id": "G04Z94BgpPoQ"
      },
      "source": [
        "## Tipos Primitivos"
      ]
    },
    {
      "cell_type": "code",
      "metadata": {
        "id": "R0gBMY64pUbA"
      },
      "source": [
        "  # 4 tipos primitivos  \n",
        "  # usar type(x) para mostrar o tipo do dado armazenado em x"
      ],
      "execution_count": null,
      "outputs": []
    },
    {
      "cell_type": "markdown",
      "metadata": {
        "id": "vTvL1lN9phZ3"
      },
      "source": [
        "### String "
      ]
    },
    {
      "cell_type": "code",
      "metadata": {
        "colab": {
          "base_uri": "https://localhost:8080/",
          "height": 34
        },
        "id": "z6Oj8PPQplsW",
        "outputId": "8626403e-8308-48f8-caec-a109ed555bbd"
      },
      "source": [
        " #  str: stringer  ( texto )   usar 'texto' para receber informações\n",
        "\n",
        " a = 'Python'\n",
        " a\n"
      ],
      "execution_count": null,
      "outputs": [
        {
          "output_type": "execute_result",
          "data": {
            "application/vnd.google.colaboratory.intrinsic+json": {
              "type": "string"
            },
            "text/plain": [
              "'Python'"
            ]
          },
          "metadata": {},
          "execution_count": 10
        }
      ]
    },
    {
      "cell_type": "code",
      "metadata": {
        "colab": {
          "base_uri": "https://localhost:8080/"
        },
        "id": "TtBdAJ9FqALh",
        "outputId": "d25fa401-3c8d-41f9-e71e-a66789c6254a"
      },
      "source": [
        "type(a)"
      ],
      "execution_count": null,
      "outputs": [
        {
          "output_type": "execute_result",
          "data": {
            "text/plain": [
              "str"
            ]
          },
          "metadata": {},
          "execution_count": 12
        }
      ]
    },
    {
      "cell_type": "markdown",
      "metadata": {
        "id": "E-YFovJnphh1"
      },
      "source": [
        "### Inteiro"
      ]
    },
    {
      "cell_type": "code",
      "metadata": {
        "colab": {
          "base_uri": "https://localhost:8080/"
        },
        "id": "iBR2gfORps9N",
        "outputId": "7afc1be5-f7ad-44fc-fa8c-bd1feb66c067"
      },
      "source": [
        "  #  int:  inteiros            usa numeros inteiros para receber informações\n",
        "\n",
        "  a = 10\n",
        "  a"
      ],
      "execution_count": null,
      "outputs": [
        {
          "output_type": "execute_result",
          "data": {
            "text/plain": [
              "10"
            ]
          },
          "metadata": {},
          "execution_count": 13
        }
      ]
    },
    {
      "cell_type": "code",
      "metadata": {
        "colab": {
          "base_uri": "https://localhost:8080/"
        },
        "id": "m0UtPcMKqk-S",
        "outputId": "842982d5-b40f-4ac2-e9ed-29aebe03a49f"
      },
      "source": [
        "type(a)"
      ],
      "execution_count": null,
      "outputs": [
        {
          "output_type": "execute_result",
          "data": {
            "text/plain": [
              "int"
            ]
          },
          "metadata": {},
          "execution_count": 14
        }
      ]
    },
    {
      "cell_type": "code",
      "metadata": {
        "colab": {
          "base_uri": "https://localhost:8080/"
        },
        "id": "LS3SxQoQqbxB",
        "outputId": "02460045-6c50-41b5-d9ac-a709d27c3a57"
      },
      "source": [
        "int(3.14)  # Função int( ) transforma o objeto em tipo inteiro, se possível"
      ],
      "execution_count": null,
      "outputs": [
        {
          "output_type": "execute_result",
          "data": {
            "text/plain": [
              "3"
            ]
          },
          "metadata": {},
          "execution_count": 24
        }
      ]
    },
    {
      "cell_type": "markdown",
      "metadata": {
        "id": "-r5MWpYDphnq"
      },
      "source": [
        "### Flutuante"
      ]
    },
    {
      "cell_type": "code",
      "metadata": {
        "colab": {
          "base_uri": "https://localhost:8080/"
        },
        "id": "S8tl5WMwpy0d",
        "outputId": "ef3a572c-d6e7-45be-cc08-132ff2346ef9"
      },
      "source": [
        " # float: ponto flutuante usa numeros reais (com virgula) para receber informações\n",
        "  \n",
        "a = 10.1\n",
        "a"
      ],
      "execution_count": null,
      "outputs": [
        {
          "output_type": "execute_result",
          "data": {
            "text/plain": [
              "10.1"
            ]
          },
          "metadata": {},
          "execution_count": 18
        }
      ]
    },
    {
      "cell_type": "code",
      "metadata": {
        "colab": {
          "base_uri": "https://localhost:8080/"
        },
        "id": "VCCpKZjcrH2q",
        "outputId": "ae61460f-b1cc-4feb-bc50-b73780862fe8"
      },
      "source": [
        "type(a)"
      ],
      "execution_count": null,
      "outputs": [
        {
          "output_type": "execute_result",
          "data": {
            "text/plain": [
              "float"
            ]
          },
          "metadata": {},
          "execution_count": 19
        }
      ]
    },
    {
      "cell_type": "code",
      "metadata": {
        "colab": {
          "base_uri": "https://localhost:8080/"
        },
        "id": "jxHr41fhrNAC",
        "outputId": "940fca5e-b957-4f66-8010-07b9ce652f34"
      },
      "source": [
        "float(70)  # Função float( ) transforma o objeto em tipo flutuante, se possível"
      ],
      "execution_count": null,
      "outputs": [
        {
          "output_type": "execute_result",
          "data": {
            "text/plain": [
              "70.0"
            ]
          },
          "metadata": {},
          "execution_count": 25
        }
      ]
    },
    {
      "cell_type": "markdown",
      "metadata": {
        "id": "subN1rYhphq2"
      },
      "source": [
        "### Booleano"
      ]
    },
    {
      "cell_type": "code",
      "metadata": {
        "colab": {
          "base_uri": "https://localhost:8080/"
        },
        "id": "zeuCOUeKpzXO",
        "outputId": "d53da818-c802-4229-c27c-3c6d1fd81184"
      },
      "source": [
        "# bool: booleano armazena informações no formato:  verdadeiro ou falso\n",
        "\n",
        "a = True     \n",
        "b = False\n",
        "\n",
        "a,b"
      ],
      "execution_count": null,
      "outputs": [
        {
          "output_type": "execute_result",
          "data": {
            "text/plain": [
              "(True, False)"
            ]
          },
          "metadata": {},
          "execution_count": 21
        }
      ]
    },
    {
      "cell_type": "code",
      "metadata": {
        "colab": {
          "base_uri": "https://localhost:8080/"
        },
        "id": "rgDtKAepsJnc",
        "outputId": "397355c5-2e4a-442d-9585-22cefbf06a07"
      },
      "source": [
        "type(a), type(b)"
      ],
      "execution_count": null,
      "outputs": [
        {
          "output_type": "execute_result",
          "data": {
            "text/plain": [
              "(bool, bool)"
            ]
          },
          "metadata": {},
          "execution_count": 27
        }
      ]
    },
    {
      "cell_type": "code",
      "metadata": {
        "colab": {
          "base_uri": "https://localhost:8080/"
        },
        "id": "FLojujs5r8Wd",
        "outputId": "15c3a5e8-763a-4bf4-ac68-cc98c5e55a82"
      },
      "source": [
        "bool(10) # Função bool( ) transforma o objeto em booleano \n",
        "         # True para qualquer valor diferente de ZERO"
      ],
      "execution_count": null,
      "outputs": [
        {
          "output_type": "execute_result",
          "data": {
            "text/plain": [
              "True"
            ]
          },
          "metadata": {},
          "execution_count": 33
        }
      ]
    },
    {
      "cell_type": "code",
      "metadata": {
        "colab": {
          "base_uri": "https://localhost:8080/"
        },
        "id": "7JTvFZ0vsYwl",
        "outputId": "1bf1a6be-2b4d-49ca-d608-45bd73d2c68d"
      },
      "source": [
        "bool(0) # False para ZERO"
      ],
      "execution_count": null,
      "outputs": [
        {
          "output_type": "execute_result",
          "data": {
            "text/plain": [
              "False"
            ]
          },
          "metadata": {},
          "execution_count": 31
        }
      ]
    },
    {
      "cell_type": "markdown",
      "metadata": {
        "id": "21VFBdlnszFX"
      },
      "source": [
        "## Operações Matemáticas"
      ]
    },
    {
      "cell_type": "code",
      "metadata": {
        "id": "WPwwrt5is1fm"
      },
      "source": [
        "#adicao                +\n",
        "\n",
        "#subtracao             -\n",
        "\n",
        "#multiplicacao         *\n",
        "\n",
        "#divisao               /\n",
        "\n",
        "#potencia              **\n",
        "\n",
        "#potencia (função)   pow(3,4) -> (3^4)\n",
        "\n",
        "#divisao por inteiro   //\n",
        "\n",
        "#resto da divisao      %\n",
        "\n",
        "#igualdade             ==\n",
        "\n",
        "#raiz x-ésima          ** 1/x"
      ],
      "execution_count": null,
      "outputs": []
    },
    {
      "cell_type": "markdown",
      "metadata": {
        "id": "1i9peW9LMGWb"
      },
      "source": [
        "## Estruturas de Condições"
      ]
    },
    {
      "cell_type": "markdown",
      "metadata": {
        "id": "6Uhu3Ui4MMeW"
      },
      "source": [
        "### If e Else\n",
        "\n",
        "https://www.youtube.com/watch?v=K10u3XIf1-Q&list=PLvE-ZAFRgX8hnECDn1v9HNTI71veL3oW0&index=38"
      ]
    },
    {
      "cell_type": "markdown",
      "metadata": {
        "id": "UmTY_AiVMQEt"
      },
      "source": [
        "### Elif\n",
        "\n",
        "https://www.youtube.com/watch?v=j9bYDjaAYzw&list=PLCKfaoRJSWVtmyzLfMsW7VYGAaVVRJh3w&index=2"
      ]
    },
    {
      "cell_type": "markdown",
      "metadata": {
        "id": "JW1Gh9Bv1gR-"
      },
      "source": [
        "### Multiplas Condicoes :\n",
        "\n",
        "https://www.geeksforgeeks.org/check-multiple-conditions-in-if-statement-python/"
      ]
    },
    {
      "cell_type": "markdown",
      "metadata": {
        "id": "j5j8gJgE0Oow"
      },
      "source": [
        "## Estruturas de Agrupamento"
      ]
    },
    {
      "cell_type": "markdown",
      "metadata": {
        "id": "YX38yOLihfE3"
      },
      "source": [
        "###Tuplas e Listas  "
      ]
    },
    {
      "cell_type": "markdown",
      "metadata": {
        "id": "hcarqcHJVXnJ"
      },
      "source": [
        "#### Tuplas\n",
        "\n",
        "https://www.youtube.com/watch?v=0LB3FSfjvao&list=PLHz_AreHm4dksnH2jVTIVNviIMBVYyFnH"
      ]
    },
    {
      "cell_type": "code",
      "metadata": {
        "id": "vkTRZPnohbF4"
      },
      "source": [
        "# para criar uma tupla usar parenteses ( )\n",
        "\n",
        "tupla = (1,'Leandro')   "
      ],
      "execution_count": 17,
      "outputs": []
    },
    {
      "cell_type": "code",
      "metadata": {
        "colab": {
          "base_uri": "https://localhost:8080/"
        },
        "id": "e4_nAjodh5ki",
        "outputId": "b6af8c3d-e66e-46b0-fd2c-3854665a3dcc"
      },
      "source": [
        "tupla"
      ],
      "execution_count": 18,
      "outputs": [
        {
          "output_type": "execute_result",
          "data": {
            "text/plain": [
              "(1, 'Leandro')"
            ]
          },
          "metadata": {},
          "execution_count": 18
        }
      ]
    },
    {
      "cell_type": "code",
      "source": [
        "type(tupla)"
      ],
      "metadata": {
        "id": "N_VB4eS3XVkp"
      },
      "execution_count": null,
      "outputs": []
    },
    {
      "cell_type": "code",
      "source": [],
      "metadata": {
        "id": "j-77G0dKXahR"
      },
      "execution_count": null,
      "outputs": []
    },
    {
      "cell_type": "code",
      "metadata": {
        "id": "kgu1l4Qbhb1s"
      },
      "source": [
        "tupla2 = tuple((2,5))   # OU função para criar uma tupla"
      ],
      "execution_count": null,
      "outputs": []
    },
    {
      "cell_type": "code",
      "metadata": {
        "colab": {
          "base_uri": "https://localhost:8080/"
        },
        "id": "C652ZNbeh_9x",
        "outputId": "a58a8622-fa8e-46e2-c88a-bb6ef011d0a2"
      },
      "source": [
        "tupla2\n"
      ],
      "execution_count": null,
      "outputs": [
        {
          "output_type": "execute_result",
          "data": {
            "text/plain": [
              "(2, 5)"
            ]
          },
          "metadata": {},
          "execution_count": 13
        }
      ]
    },
    {
      "cell_type": "code",
      "metadata": {
        "id": "1QgwRu6xuPzJ"
      },
      "source": [
        "# Tuplas e Listas sao indexadas por numeros (index começando em ZERO )\n"
      ],
      "execution_count": null,
      "outputs": []
    },
    {
      "cell_type": "code",
      "metadata": {
        "colab": {
          "base_uri": "https://localhost:8080/"
        },
        "id": "-HYsBelHPO1-",
        "outputId": "ea7d9fe8-663c-4d7b-996a-b12f35fe5b79"
      },
      "source": [
        "# Para acessar valores de qualquer agrupamento ( tupla no caso), usar colchetes [ ]\n",
        "\n",
        "\n",
        "tupla2[1]      # acesando o segundo valor da tupla (lembrando que python começa a contagem em zero)"
      ],
      "execution_count": null,
      "outputs": [
        {
          "output_type": "execute_result",
          "data": {
            "text/plain": [
              "5"
            ]
          },
          "metadata": {},
          "execution_count": 14
        }
      ]
    },
    {
      "cell_type": "code",
      "metadata": {
        "colab": {
          "base_uri": "https://localhost:8080/",
          "height": 200
        },
        "id": "hHL6ITmQU7nv",
        "outputId": "eec8a894-3368-42cd-99e9-e16b9994fb97"
      },
      "source": [
        "# tuplas são imutáveis \n",
        "\n",
        "tupla2[1] = 4\n"
      ],
      "execution_count": null,
      "outputs": [
        {
          "output_type": "error",
          "ename": "TypeError",
          "evalue": "ignored",
          "traceback": [
            "\u001b[0;31m---------------------------------------------------------------------------\u001b[0m",
            "\u001b[0;31mTypeError\u001b[0m                                 Traceback (most recent call last)",
            "\u001b[0;32m<ipython-input-15-892ae3dde4ee>\u001b[0m in \u001b[0;36m<module>\u001b[0;34m()\u001b[0m\n\u001b[1;32m      1\u001b[0m \u001b[0;31m# tuplas são imutáveis\u001b[0m\u001b[0;34m\u001b[0m\u001b[0;34m\u001b[0m\u001b[0;34m\u001b[0m\u001b[0m\n\u001b[1;32m      2\u001b[0m \u001b[0;34m\u001b[0m\u001b[0m\n\u001b[0;32m----> 3\u001b[0;31m \u001b[0mtupla2\u001b[0m\u001b[0;34m[\u001b[0m\u001b[0;36m1\u001b[0m\u001b[0;34m]\u001b[0m \u001b[0;34m=\u001b[0m \u001b[0;36m4\u001b[0m\u001b[0;34m\u001b[0m\u001b[0;34m\u001b[0m\u001b[0m\n\u001b[0m",
            "\u001b[0;31mTypeError\u001b[0m: 'tuple' object does not support item assignment"
          ]
        }
      ]
    },
    {
      "cell_type": "code",
      "metadata": {
        "id": "nlhrSaq0VQuL"
      },
      "source": [
        "# uma vez definida, não podemos alterar as informações contidas na tupla"
      ],
      "execution_count": null,
      "outputs": []
    },
    {
      "cell_type": "code",
      "metadata": {
        "id": "9xPIpkF6VWRs"
      },
      "source": [],
      "execution_count": null,
      "outputs": []
    },
    {
      "cell_type": "markdown",
      "metadata": {
        "id": "opw1zLvWVaNW"
      },
      "source": [
        "#### Listas\n",
        "parte 1\n",
        "\n",
        "https://www.youtube.com/watch?v=N1hTsbW50eM&list=PLHz_AreHm4dksnH2jVTIVNviIMBVYyFnH&index=8 \n",
        "\n",
        "parte 2\n",
        "\n",
        "https://www.youtube.com/watch?v=YV_JQmZNFsk&list=PLHz_AreHm4dksnH2jVTIVNviIMBVYyFnH&index=15"
      ]
    },
    {
      "cell_type": "code",
      "metadata": {
        "id": "Yt7wknWKiBFY"
      },
      "source": [
        " # para criar uma lista usar colchete [ ]\n",
        "\n",
        "lista = [1,4,6]  "
      ],
      "execution_count": 11,
      "outputs": []
    },
    {
      "cell_type": "code",
      "metadata": {
        "colab": {
          "base_uri": "https://localhost:8080/"
        },
        "id": "LIHNKF_PNclI",
        "outputId": "ffa48aed-079c-4811-f479-32378bb28c1f"
      },
      "source": [
        "lista"
      ],
      "execution_count": 12,
      "outputs": [
        {
          "output_type": "execute_result",
          "data": {
            "text/plain": [
              "[1, 4, 6]"
            ]
          },
          "metadata": {},
          "execution_count": 12
        }
      ]
    },
    {
      "cell_type": "code",
      "source": [
        "type(lista)"
      ],
      "metadata": {
        "colab": {
          "base_uri": "https://localhost:8080/"
        },
        "id": "HkOlMiaQXQoB",
        "outputId": "a60ae200-f472-4ee4-f444-86030ce4a88e"
      },
      "execution_count": 13,
      "outputs": [
        {
          "output_type": "execute_result",
          "data": {
            "text/plain": [
              "list"
            ]
          },
          "metadata": {},
          "execution_count": 13
        }
      ]
    },
    {
      "cell_type": "code",
      "metadata": {
        "id": "sYA6B4qINyZm"
      },
      "source": [
        "CorposCelestes = list(('Lua','Sol'))   # Ou função para criar uma lista"
      ],
      "execution_count": null,
      "outputs": []
    },
    {
      "cell_type": "code",
      "metadata": {
        "colab": {
          "base_uri": "https://localhost:8080/"
        },
        "id": "mhBk3qypNxzq",
        "outputId": "59e9b55c-174d-4589-850d-7599f0d708b7"
      },
      "source": [
        "CorposCelestes"
      ],
      "execution_count": null,
      "outputs": [
        {
          "output_type": "execute_result",
          "data": {
            "text/plain": [
              "['Lua', 'Sol']"
            ]
          },
          "metadata": {},
          "execution_count": 19
        }
      ]
    },
    {
      "cell_type": "code",
      "metadata": {
        "colab": {
          "base_uri": "https://localhost:8080/"
        },
        "id": "zib6Xj3ZtZy6",
        "outputId": "981cde84-0e5b-472f-cc62-7ebcfce358bd"
      },
      "source": [
        "# Para acessar valores de qualquer agrupamento ( lista no caso), usar colchetes [ ]\n",
        "\n",
        "lista[2] , CorposCelestes[0]"
      ],
      "execution_count": null,
      "outputs": [
        {
          "output_type": "execute_result",
          "data": {
            "text/plain": [
              "(6, 'Lua')"
            ]
          },
          "metadata": {},
          "execution_count": 20
        }
      ]
    },
    {
      "cell_type": "code",
      "metadata": {
        "colab": {
          "base_uri": "https://localhost:8080/"
        },
        "id": "pjjClLo2W1jI",
        "outputId": "592be8dc-70fb-4e7a-e05a-e3473a167a65"
      },
      "source": [
        "# pode-se trocar os valores de uma lista\n",
        "\n",
        "lista"
      ],
      "execution_count": null,
      "outputs": [
        {
          "output_type": "execute_result",
          "data": {
            "text/plain": [
              "[1, 4, 6]"
            ]
          },
          "metadata": {},
          "execution_count": 21
        }
      ]
    },
    {
      "cell_type": "code",
      "metadata": {
        "id": "gCi5zHCTtZ27",
        "colab": {
          "base_uri": "https://localhost:8080/"
        },
        "outputId": "572b0c61-204f-4594-81bd-00e538d9e2d1"
      },
      "source": [
        "lista[0]   # o que eu tinha antes na posição 0 da minha variavel nomeada ''lista''\n"
      ],
      "execution_count": null,
      "outputs": [
        {
          "output_type": "execute_result",
          "data": {
            "text/plain": [
              "1"
            ]
          },
          "metadata": {},
          "execution_count": 22
        }
      ]
    },
    {
      "cell_type": "code",
      "metadata": {
        "id": "Tn0hicUpWa5p"
      },
      "source": [
        " lista[0] = 47"
      ],
      "execution_count": null,
      "outputs": []
    },
    {
      "cell_type": "code",
      "metadata": {
        "colab": {
          "base_uri": "https://localhost:8080/"
        },
        "id": "x5lsF8M-mguz",
        "outputId": "fa73bcc1-2f85-4d94-98e6-1e3992eb1402"
      },
      "source": [
        " lista , lista[0]"
      ],
      "execution_count": null,
      "outputs": [
        {
          "output_type": "execute_result",
          "data": {
            "text/plain": [
              "([47, 4, 6], 47)"
            ]
          },
          "metadata": {},
          "execution_count": 30
        }
      ]
    },
    {
      "cell_type": "code",
      "metadata": {
        "id": "wgIJIMACv-ss"
      },
      "source": [
        "lista[-1] = 10  # para acessar o ultimo valor da lista"
      ],
      "execution_count": null,
      "outputs": []
    },
    {
      "cell_type": "code",
      "metadata": {
        "colab": {
          "base_uri": "https://localhost:8080/"
        },
        "id": "NFY8ppk_v-2d",
        "outputId": "e7926918-a18d-47ff-cd2f-9130e44035c9"
      },
      "source": [
        "lista"
      ],
      "execution_count": null,
      "outputs": [
        {
          "output_type": "execute_result",
          "data": {
            "text/plain": [
              "[47, 4, 10]"
            ]
          },
          "metadata": {},
          "execution_count": 32
        }
      ]
    },
    {
      "cell_type": "code",
      "metadata": {
        "id": "DRuFU_hJqJ3d",
        "colab": {
          "base_uri": "https://localhost:8080/"
        },
        "outputId": "dfb32cbb-ca1d-40bd-fc55-3dc83fca18d5"
      },
      "source": [
        "# pode-se trocar os valores de uma lista por qualquer objeto (uma outra lista, uma tupla, uma funçao, etc)\n",
        "\n",
        "CorposCelestes"
      ],
      "execution_count": null,
      "outputs": [
        {
          "output_type": "execute_result",
          "data": {
            "text/plain": [
              "['Lua', 'Sol']"
            ]
          },
          "metadata": {},
          "execution_count": 33
        }
      ]
    },
    {
      "cell_type": "code",
      "metadata": {
        "id": "uk-xN-33X1Ft"
      },
      "source": [
        "CorposCelestes[0] = ['Alpha Lynx' , 'Alpha Orionis (Betelgeuse)', 'Saiph']   # A primeira posição da lista (CorposCelestes) recebe essa lista de informações (estrelas)"
      ],
      "execution_count": null,
      "outputs": []
    },
    {
      "cell_type": "code",
      "metadata": {
        "colab": {
          "base_uri": "https://localhost:8080/"
        },
        "id": "l-G26XodqEMQ",
        "outputId": "8c38f8ba-a4d9-48e3-962d-74c9c9b89ce8"
      },
      "source": [
        "CorposCelestes"
      ],
      "execution_count": null,
      "outputs": [
        {
          "output_type": "execute_result",
          "data": {
            "text/plain": [
              "[['Alpha Lynx', 'Alpha Orionis (Betelgeuse)', 'Saiph'], 'Sol']"
            ]
          },
          "metadata": {},
          "execution_count": 35
        }
      ]
    },
    {
      "cell_type": "code",
      "metadata": {
        "colab": {
          "base_uri": "https://localhost:8080/"
        },
        "id": "YXkA0OqVYJHB",
        "outputId": "a4a6c014-4826-4e1a-d35d-32275fbcee7b"
      },
      "source": [
        "CorposCelestes[0]"
      ],
      "execution_count": null,
      "outputs": [
        {
          "output_type": "execute_result",
          "data": {
            "text/plain": [
              "['Alpha Lynx', 'Alpha Orionis (Betelgeuse)', 'Saiph']"
            ]
          },
          "metadata": {},
          "execution_count": 36
        }
      ]
    },
    {
      "cell_type": "code",
      "metadata": {
        "colab": {
          "base_uri": "https://localhost:8080/",
          "height": 234
        },
        "id": "-t7nwFzwrcen",
        "outputId": "7beb0f0a-04a6-4502-bfca-14c41442b5d8"
      },
      "source": [
        "# Se eu tentar acessar uma chave da lista que nao existe ?\n",
        "\n",
        "lista[3] = 1     # acessar a posicao 3 da lista  e receber o nome Supernova\n",
        "\n",
        "                            # lembrando que a posição 3 da lista é o quarto valor da lista  ( pois a indexação começa em zero )"
      ],
      "execution_count": null,
      "outputs": [
        {
          "output_type": "error",
          "ename": "IndexError",
          "evalue": "ignored",
          "traceback": [
            "\u001b[0;31m---------------------------------------------------------------------------\u001b[0m",
            "\u001b[0;31mIndexError\u001b[0m                                Traceback (most recent call last)",
            "\u001b[0;32m<ipython-input-43-0f7625b2f6e3>\u001b[0m in \u001b[0;36m<module>\u001b[0;34m()\u001b[0m\n\u001b[1;32m      1\u001b[0m \u001b[0;31m# Se eu tentar acessar uma chave da lista que nao existe ?\u001b[0m\u001b[0;34m\u001b[0m\u001b[0;34m\u001b[0m\u001b[0;34m\u001b[0m\u001b[0m\n\u001b[1;32m      2\u001b[0m \u001b[0;34m\u001b[0m\u001b[0m\n\u001b[0;32m----> 3\u001b[0;31m \u001b[0mlista\u001b[0m\u001b[0;34m[\u001b[0m\u001b[0;36m3\u001b[0m\u001b[0;34m]\u001b[0m \u001b[0;34m=\u001b[0m \u001b[0;36m1\u001b[0m     \u001b[0;31m# acessar a posicao 3 da lista  e receber o nome Supernova\u001b[0m\u001b[0;34m\u001b[0m\u001b[0;34m\u001b[0m\u001b[0m\n\u001b[0m\u001b[1;32m      4\u001b[0m \u001b[0;34m\u001b[0m\u001b[0m\n\u001b[1;32m      5\u001b[0m                             \u001b[0;31m# lembrando que a posição 3 da lista é o quarto valor da lista  ( pois a indexação começa em zero )\u001b[0m\u001b[0;34m\u001b[0m\u001b[0;34m\u001b[0m\u001b[0;34m\u001b[0m\u001b[0m\n",
            "\u001b[0;31mIndexError\u001b[0m: list assignment index out of range"
          ]
        }
      ]
    },
    {
      "cell_type": "code",
      "metadata": {
        "id": "7OLJlrKY0U7V"
      },
      "source": [
        "lista[1] = 5"
      ],
      "execution_count": null,
      "outputs": []
    },
    {
      "cell_type": "code",
      "metadata": {
        "colab": {
          "base_uri": "https://localhost:8080/"
        },
        "id": "J5g4UEY73Oa8",
        "outputId": "7d54062b-d6bb-4176-f63a-07e9edaa7c15"
      },
      "source": [
        "lista"
      ],
      "execution_count": null,
      "outputs": [
        {
          "output_type": "execute_result",
          "data": {
            "text/plain": [
              "[47, 5, 10]"
            ]
          },
          "metadata": {},
          "execution_count": 46
        }
      ]
    },
    {
      "cell_type": "markdown",
      "metadata": {
        "id": "UIOaEpnyuE4y"
      },
      "source": [
        "###Dicionários\n",
        "\n",
        "https://www.youtube.com/watch?v=ZWj8o692qGY&list=PLHz_AreHm4dksnH2jVTIVNviIMBVYyFnH&index=23"
      ]
    },
    {
      "cell_type": "code",
      "metadata": {
        "id": "T7bBYgXwt3d-"
      },
      "source": [
        "# dicionarios sao indexados por nomes \n",
        "\n",
        "# A indexação ocorre no formato de pares { key : value}\n"
      ],
      "execution_count": null,
      "outputs": []
    },
    {
      "cell_type": "code",
      "metadata": {
        "id": "heo5Oz1XtZuR",
        "colab": {
          "base_uri": "https://localhost:8080/"
        },
        "outputId": "ad0ec02e-f626-4624-abef-38e4c6740cf0"
      },
      "source": [
        "# para criar um dicionário, usar chaves { }\n",
        "\n",
        "dicionario = {'Sol' : 'Estrela' , 'Terra' : 'Planeta' , 'Lua' : 'Satélite' , 'Lynx' : 'Constelação'}\n",
        "dicionario"
      ],
      "execution_count": 6,
      "outputs": [
        {
          "output_type": "execute_result",
          "data": {
            "text/plain": [
              "{'Sol': 'Estrela',\n",
              " 'Terra': 'Planeta',\n",
              " 'Lua': 'Satélite',\n",
              " 'Lynx': 'Constelação'}"
            ]
          },
          "metadata": {},
          "execution_count": 6
        }
      ]
    },
    {
      "cell_type": "code",
      "metadata": {
        "colab": {
          "base_uri": "https://localhost:8080/"
        },
        "id": "xaNVPM7sV1Lb",
        "outputId": "29dd9b6a-1f2a-4ee3-836e-49ddf175a2ec"
      },
      "source": [
        "dicionario.keys()     # onde as chaves são : Sol, Terra, Lua , Lynx "
      ],
      "execution_count": null,
      "outputs": [
        {
          "output_type": "execute_result",
          "data": {
            "text/plain": [
              "dict_keys(['Sol', 'Terra', 'Lua', 'Lynx'])"
            ]
          },
          "metadata": {},
          "execution_count": 48
        }
      ]
    },
    {
      "cell_type": "code",
      "metadata": {
        "colab": {
          "base_uri": "https://localhost:8080/"
        },
        "id": "bbU1EkVsV5rG",
        "outputId": "fd3df9ad-1286-46bb-caf2-0f43ec8a3935"
      },
      "source": [
        "dicionario.values()   # e os valores associados são : Estrela , Planeta , Satélite , Constelação"
      ],
      "execution_count": null,
      "outputs": [
        {
          "output_type": "execute_result",
          "data": {
            "text/plain": [
              "dict_values(['Estrela', 'Planeta', 'Satélite', 'Constelação'])"
            ]
          },
          "metadata": {},
          "execution_count": 49
        }
      ]
    },
    {
      "cell_type": "code",
      "metadata": {
        "colab": {
          "base_uri": "https://localhost:8080/"
        },
        "id": "wOciguemdnll",
        "outputId": "10a35166-3632-42c4-f4f1-d616a63f071b"
      },
      "source": [
        "dicionario.items()    # os pares {chaves : valores}"
      ],
      "execution_count": null,
      "outputs": [
        {
          "output_type": "execute_result",
          "data": {
            "text/plain": [
              "dict_items([('Sol', 'Estrela'), ('Terra', 'Planeta'), ('Lua', 'Satélite'), ('Lynx', 'Constelação')])"
            ]
          },
          "metadata": {},
          "execution_count": 50
        }
      ]
    },
    {
      "cell_type": "code",
      "source": [
        "type(dicionario) "
      ],
      "metadata": {
        "colab": {
          "base_uri": "https://localhost:8080/"
        },
        "id": "jRp2KeI-XCWD",
        "outputId": "3cac4b77-ea06-4d4a-ac8b-3b2666e8bd5a"
      },
      "execution_count": 7,
      "outputs": [
        {
          "output_type": "execute_result",
          "data": {
            "text/plain": [
              "dict"
            ]
          },
          "metadata": {},
          "execution_count": 7
        }
      ]
    },
    {
      "cell_type": "code",
      "metadata": {
        "id": "2pYijXg-ehkI"
      },
      "source": [],
      "execution_count": null,
      "outputs": []
    },
    {
      "cell_type": "code",
      "metadata": {
        "id": "USaJhs8xtZ7n",
        "colab": {
          "base_uri": "https://localhost:8080/",
          "height": 34
        },
        "outputId": "b280ba3e-8edd-41c7-f4c0-ac3e1e0d6c7f"
      },
      "source": [
        "dicionario['Lua']     # Para acessar valores de qualquer agrupamento ( dicionário no caso), usar colchetes [ ] e a chave desejada"
      ],
      "execution_count": null,
      "outputs": [
        {
          "output_type": "execute_result",
          "data": {
            "application/vnd.google.colaboratory.intrinsic+json": {
              "type": "string"
            },
            "text/plain": [
              "'Satélite'"
            ]
          },
          "metadata": {},
          "execution_count": 51
        }
      ]
    },
    {
      "cell_type": "code",
      "metadata": {
        "id": "TYweSzGatZ_l"
      },
      "source": [],
      "execution_count": null,
      "outputs": []
    },
    {
      "cell_type": "code",
      "metadata": {
        "id": "a7s70t18gwZz"
      },
      "source": [],
      "execution_count": null,
      "outputs": []
    },
    {
      "cell_type": "code",
      "metadata": {
        "id": "i4xrRna4taF8",
        "colab": {
          "base_uri": "https://localhost:8080/"
        },
        "outputId": "cf89a2e4-6b8c-4195-dff2-d486ddf9a89f"
      },
      "source": [
        "# Podemos usar numeros como chaves (keys) \n",
        "\n",
        "algarismos = {1 : 'primeiro', 2 : 'segundo' , 3 : 'terceiro' , 4 : 'quarto'}\n",
        "\n",
        "algarismos\n",
        "\n",
        "# Porém não é nada pratico fazer isso, pois uma lista já teria feito a indexação com números (começando em zero)"
      ],
      "execution_count": null,
      "outputs": [
        {
          "output_type": "execute_result",
          "data": {
            "text/plain": [
              "{1: 'primeiro', 2: 'segundo', 3: 'terceiro', 4: 'quarto'}"
            ]
          },
          "metadata": {},
          "execution_count": 52
        }
      ]
    },
    {
      "cell_type": "code",
      "metadata": {
        "id": "46JQFQNNtaKl",
        "colab": {
          "base_uri": "https://localhost:8080/",
          "height": 34
        },
        "outputId": "266223e4-a752-4755-8398-4c0f4023e3d5"
      },
      "source": [
        "algarismos[1]   # Aqui estou acessando a CHAVE de nome 1 do meu dicionario algorismos"
      ],
      "execution_count": null,
      "outputs": [
        {
          "output_type": "execute_result",
          "data": {
            "application/vnd.google.colaboratory.intrinsic+json": {
              "type": "string"
            },
            "text/plain": [
              "'primeiro'"
            ]
          },
          "metadata": {},
          "execution_count": 54
        }
      ]
    },
    {
      "cell_type": "code",
      "metadata": {
        "id": "PEBbUJLchQv-"
      },
      "source": [],
      "execution_count": null,
      "outputs": []
    },
    {
      "cell_type": "code",
      "metadata": {
        "id": "XDjlWMjjtaQY"
      },
      "source": [
        "# equivalencia : \n",
        "\n",
        "algarismos2 = [None, 'primeiro' , 'segundo' , 'terceiro' , 'quarto']  "
      ],
      "execution_count": null,
      "outputs": []
    },
    {
      "cell_type": "code",
      "metadata": {
        "colab": {
          "base_uri": "https://localhost:8080/",
          "height": 34
        },
        "id": "Iol0VCceVeK3",
        "outputId": "8be44a38-fa36-4296-ed54-841543421951"
      },
      "source": [
        "algarismos2[1]   # Aqui estou acessando o INDEX / POSIÇãO 1 da minha lista algosmismos2\n"
      ],
      "execution_count": null,
      "outputs": [
        {
          "output_type": "execute_result",
          "data": {
            "application/vnd.google.colaboratory.intrinsic+json": {
              "type": "string"
            },
            "text/plain": [
              "'primeiro'"
            ]
          },
          "metadata": {},
          "execution_count": 56
        }
      ]
    },
    {
      "cell_type": "code",
      "metadata": {
        "id": "HSclWIC3NGqS"
      },
      "source": [],
      "execution_count": null,
      "outputs": []
    },
    {
      "cell_type": "markdown",
      "metadata": {
        "id": "Zie1LzhoNHXm"
      },
      "source": [
        "### Set\n",
        "\n",
        "https://www.w3schools.com/python/python_sets.asp"
      ]
    },
    {
      "cell_type": "code",
      "metadata": {
        "id": "bE132oKoNKme"
      },
      "source": [
        "# Sets são uma forma de agrupamento que não permite repetições\n",
        "\n",
        "# Sets são criados usando {}\n"
      ],
      "execution_count": null,
      "outputs": []
    },
    {
      "cell_type": "code",
      "metadata": {
        "colab": {
          "base_uri": "https://localhost:8080/"
        },
        "id": "CoRhTTimEcjR",
        "outputId": "8b40259a-3b72-486c-fa91-84d2268500b7"
      },
      "source": [
        "titulos = {'Bacharel', 'Mestre', 'PhD'}\n",
        "titulos"
      ],
      "execution_count": 3,
      "outputs": [
        {
          "output_type": "execute_result",
          "data": {
            "text/plain": [
              "{'Bacharel', 'Mestre', 'PhD'}"
            ]
          },
          "metadata": {},
          "execution_count": 3
        }
      ]
    },
    {
      "cell_type": "code",
      "source": [
        "# Elementos repitidos são ignorados pelo Set\n",
        "\n",
        "numeros = {3,4,2,1,6,1,1,1,1,2,2,1,1,3,3,2,2}\n",
        "numeros"
      ],
      "metadata": {
        "colab": {
          "base_uri": "https://localhost:8080/"
        },
        "id": "a0yVZYRiYOH1",
        "outputId": "a631cebd-5a31-431f-f53d-aafed81d95dd"
      },
      "execution_count": 28,
      "outputs": [
        {
          "output_type": "execute_result",
          "data": {
            "text/plain": [
              "{1, 2, 3, 4, 6}"
            ]
          },
          "metadata": {},
          "execution_count": 28
        }
      ]
    },
    {
      "cell_type": "code",
      "source": [],
      "metadata": {
        "id": "2y_vMkuiZRlw"
      },
      "execution_count": null,
      "outputs": []
    },
    {
      "cell_type": "code",
      "source": [
        "# Uma vez que set não permite repetições, ele tambem não permite indexação\n",
        "\n",
        "numeros[3]"
      ],
      "metadata": {
        "id": "bz-1Ghp0W5d9"
      },
      "execution_count": null,
      "outputs": []
    },
    {
      "cell_type": "code",
      "source": [],
      "metadata": {
        "id": "njm_0-HsZXru"
      },
      "execution_count": null,
      "outputs": []
    },
    {
      "cell_type": "code",
      "source": [
        "# .add() para adicionar valores\n",
        "\n",
        "titulos.add('Dsc')"
      ],
      "metadata": {
        "colab": {
          "base_uri": "https://localhost:8080/"
        },
        "id": "QRI7J-i-YjLX",
        "outputId": "2e470bb1-89f4-4f54-c4e3-87582fc106fa"
      },
      "execution_count": 23,
      "outputs": [
        {
          "output_type": "execute_result",
          "data": {
            "text/plain": [
              "{'Bacharel', 'Dsc', 'Mestre', 'PhD'}"
            ]
          },
          "metadata": {},
          "execution_count": 23
        }
      ]
    },
    {
      "cell_type": "code",
      "source": [
        "titulos"
      ],
      "metadata": {
        "id": "E9AEFgtNYuPQ"
      },
      "execution_count": null,
      "outputs": []
    },
    {
      "cell_type": "code",
      "source": [
        "# .discard() para remover valores\n",
        "\n",
        "titulos.discard('PhD')"
      ],
      "metadata": {
        "id": "jR6ajazWYv65"
      },
      "execution_count": 26,
      "outputs": []
    },
    {
      "cell_type": "code",
      "source": [
        "titulos"
      ],
      "metadata": {
        "colab": {
          "base_uri": "https://localhost:8080/"
        },
        "id": "Ym41yOclY8Rh",
        "outputId": "32368650-c7bb-4a7e-c1da-cb2f06be83e2"
      },
      "execution_count": 27,
      "outputs": [
        {
          "output_type": "execute_result",
          "data": {
            "text/plain": [
              "{'Bacharel', 'Dsc', 'Mestre'}"
            ]
          },
          "metadata": {},
          "execution_count": 27
        }
      ]
    },
    {
      "cell_type": "markdown",
      "metadata": {
        "id": "Q3AqXnDt6IBh"
      },
      "source": [
        "#### revisão"
      ]
    },
    {
      "cell_type": "code",
      "metadata": {
        "id": "f_tIp7N16Ldb"
      },
      "source": [
        "# tupla : imutável. Uma vez definida, não podemos mudar seus valores, somente acessar Acessado a partir do index (posição, começando em zero )\n",
        "\n",
        "# listas : tenho a flexibilidade de alterar seus valores (mutável). Acessado a partir do index (posição, começando em zero )\n",
        "\n",
        "# dicionário : criado a partir do par (key : value), podemos alterar seus valores armazenados (mutável). Acessado a partir das chaves (keys)\n",
        "\n",
        "# set : mutável (com .add() e .discard()). Não permite repetições de valores"
      ],
      "execution_count": null,
      "outputs": []
    },
    {
      "cell_type": "markdown",
      "metadata": {
        "id": "TadhRQipEeAT"
      },
      "source": [
        "##Estruturas de Repetição"
      ]
    },
    {
      "cell_type": "markdown",
      "metadata": {
        "id": "Lfq_rXsNFVom"
      },
      "source": [
        "### While \n",
        "\n",
        "https://www.youtube.com/watch?v=LH6OIn2lBaI&list=PLCKfaoRJSWVtmyzLfMsW7VYGAaVVRJh3w&index=25\n"
      ]
    },
    {
      "cell_type": "code",
      "metadata": {
        "colab": {
          "base_uri": "https://localhost:8080/"
        },
        "id": "N_AlopicEiFz",
        "outputId": "9f5a86e1-bfed-48a1-8fcf-633609cd3bd7"
      },
      "source": [
        "# While avalia a condição e executa o comando (nas linhas abaixos) enquanto a condição for verdadeira\n",
        "\n",
        "a=0\n",
        "\n",
        "while a  < 4:    # Condição à ser avaliada ( a menor que 4, no caso). Não esquecer dos dois pontos \n",
        "  print(a)       # Comando à ser executado enquanto a condição for verdadeira. Não esquecer da identação (TAB)\n",
        "  a = a+1\n",
        "  "
      ],
      "execution_count": null,
      "outputs": [
        {
          "output_type": "stream",
          "name": "stdout",
          "text": [
            "0\n",
            "1\n",
            "2\n",
            "3\n"
          ]
        }
      ]
    },
    {
      "cell_type": "code",
      "metadata": {
        "id": "FcOAH3yao6ju"
      },
      "source": [
        "b = 20\n",
        "while not 20:\n",
        "  print(b)\n",
        "  b+=1\n",
        "\n",
        " "
      ],
      "execution_count": null,
      "outputs": []
    },
    {
      "cell_type": "code",
      "metadata": {
        "id": "RyEzkNsJo6fJ"
      },
      "source": [
        "while True:\n",
        "    n = int(input('Digite um numero entre 0 e 20\\n'))\n",
        "    if 0 <= n <= 20:                                    # Enquanto nao for digitado um numero entre 0 e 20, o programa nao ira continuar\n",
        "        break"
      ],
      "execution_count": null,
      "outputs": []
    },
    {
      "cell_type": "markdown",
      "metadata": {
        "id": "gzz7A_9uFau6"
      },
      "source": [
        "### For \n",
        "\n",
        "https://www.youtube.com/watch?v=cL4YDtFnCt4&list=PLCKfaoRJSWVtmyzLfMsW7VYGAaVVRJh3w&index=14"
      ]
    },
    {
      "cell_type": "code",
      "metadata": {
        "colab": {
          "base_uri": "https://localhost:8080/"
        },
        "id": "jenKZSIWFb-Q",
        "outputId": "d312a224-010b-435b-caf8-572baf138074"
      },
      "source": [
        "# For faz uma varredura para cada elemento do meu objeto (variável) e executa o comando para cada elemento da varredura\n",
        "\n",
        "lista = [1,3,5,7,9]\n",
        "\n",
        "for impar in lista:  # a varredura é executada em torno de cada elemento da variavel (impar, no caso, que NÃO precisa estar definida préviamente)\n",
        "  print(impar)"
      ],
      "execution_count": null,
      "outputs": [
        {
          "output_type": "stream",
          "name": "stdout",
          "text": [
            "1\n",
            "3\n",
            "5\n",
            "7\n",
            "9\n"
          ]
        }
      ]
    },
    {
      "cell_type": "code",
      "metadata": {
        "id": "tnPqFHXeFvN5"
      },
      "source": [],
      "execution_count": null,
      "outputs": []
    },
    {
      "cell_type": "code",
      "metadata": {
        "colab": {
          "base_uri": "https://localhost:8080/"
        },
        "id": "WLfPYVL_Gv4i",
        "outputId": "9112d5d8-d756-42e4-d01b-d52505564aa9"
      },
      "source": [
        "Lista = []  #lista vazia\n",
        "\n",
        "for i in range(0,10,2):   #fazendo uma varredura no intervalo de 0 à 10 (10 não incluso) pulando de 2 em 2\n",
        "  Lista.append(i)             #usando o metodo append para acrescentar cada item da varredura no final da lista\n",
        "  print(Lista)"
      ],
      "execution_count": null,
      "outputs": [
        {
          "output_type": "stream",
          "name": "stdout",
          "text": [
            "[0]\n",
            "[0, 2]\n",
            "[0, 2, 4]\n",
            "[0, 2, 4, 6]\n",
            "[0, 2, 4, 6, 8]\n"
          ]
        }
      ]
    },
    {
      "cell_type": "code",
      "metadata": {
        "id": "_lbaoLdtG_YV"
      },
      "source": [
        "\n"
      ],
      "execution_count": null,
      "outputs": []
    },
    {
      "cell_type": "code",
      "metadata": {
        "colab": {
          "base_uri": "https://localhost:8080/"
        },
        "id": "qylGPjtSMdnH",
        "outputId": "435e0ee0-064d-470a-fa4a-4d4c5ae956f3"
      },
      "source": [
        "for i in range(0,10):   \n",
        "  if i <=5:\n",
        "    print(i)\n",
        "  else:\n",
        "    print(i,'nao é menor ou igual a 5')"
      ],
      "execution_count": null,
      "outputs": [
        {
          "output_type": "stream",
          "name": "stdout",
          "text": [
            "0\n",
            "1\n",
            "2\n",
            "3\n",
            "4\n",
            "5\n",
            "6 nao é menor ou igual a 5\n",
            "7 nao é menor ou igual a 5\n",
            "8 nao é menor ou igual a 5\n",
            "9 nao é menor ou igual a 5\n"
          ]
        }
      ]
    },
    {
      "cell_type": "code",
      "metadata": {
        "id": "QSnX-crTMe1h"
      },
      "source": [],
      "execution_count": null,
      "outputs": []
    },
    {
      "cell_type": "markdown",
      "metadata": {
        "id": "fRO7FuwQNP8T"
      },
      "source": [
        "### Break \n",
        "\n",
        "https://www.youtube.com/watch?v=1OFp_-R2B2A&list=PLCKfaoRJSWVtmyzLfMsW7VYGAaVVRJh3w&index=35"
      ]
    },
    {
      "cell_type": "code",
      "metadata": {
        "id": "DUYF8J78NT4s"
      },
      "source": [
        "# O comando BREAK interrompe a repetição quando certa condição (definida) é alcançada e executa o resto do programa (que não estiver incluso na repetição)"
      ],
      "execution_count": null,
      "outputs": []
    },
    {
      "cell_type": "code",
      "metadata": {
        "id": "qkIws9expWUK"
      },
      "source": [
        "for i in range(100):\n",
        "  print(i)\n",
        "  if i == 10:\n",
        "    break"
      ],
      "execution_count": null,
      "outputs": []
    },
    {
      "cell_type": "code",
      "metadata": {
        "id": "BpAQy_j1q0qk"
      },
      "source": [],
      "execution_count": null,
      "outputs": []
    },
    {
      "cell_type": "code",
      "metadata": {
        "colab": {
          "base_uri": "https://localhost:8080/"
        },
        "id": "Qh-IkxfCqD_m",
        "outputId": "b0eef253-0061-41a5-b1d0-33978869ac4e"
      },
      "source": [
        "# se colocar while True, a repeticao sera feita pra sempre (visto que a condição é sempre verdadeira) e só será interrompida com o comando break\n",
        "\n",
        "a=10\n",
        "while True:\n",
        "  a+=1\n",
        "  print(a)\n",
        "  if a > 25:\n",
        "    break   \n",
        "\n",
        "\n",
        "\n",
        "# Pode-se fazer isso para obrigar que o loop seja executado da forma desejada\n",
        "\n"
      ],
      "execution_count": null,
      "outputs": [
        {
          "output_type": "stream",
          "name": "stdout",
          "text": [
            "11\n",
            "12\n",
            "13\n",
            "14\n",
            "15\n",
            "16\n",
            "17\n",
            "18\n",
            "19\n",
            "20\n",
            "21\n",
            "22\n",
            "23\n",
            "24\n",
            "25\n",
            "26\n"
          ]
        }
      ]
    },
    {
      "cell_type": "markdown",
      "source": [
        "## Try and Except "
      ],
      "metadata": {
        "id": "KgPMaxx1SFLX"
      }
    },
    {
      "cell_type": "markdown",
      "source": [
        "https://www.w3schools.com/python/python_try_except.asp"
      ],
      "metadata": {
        "id": "4WFP98d2SMMg"
      }
    },
    {
      "cell_type": "markdown",
      "metadata": {
        "id": "tGpblrZIzXPN"
      },
      "source": [
        "##Atributos, Métodos, Parâmetros e Funções "
      ]
    },
    {
      "cell_type": "markdown",
      "metadata": {
        "id": "8T-qSJGOprdA"
      },
      "source": [
        "###Atributos\n"
      ]
    },
    {
      "cell_type": "code",
      "metadata": {
        "id": "WVBDAC1AgBpS"
      },
      "source": [
        "# atributos são caracteristicas intrínsecas do objeto\n",
        "\n",
        "import numpy as np\n"
      ],
      "execution_count": null,
      "outputs": []
    },
    {
      "cell_type": "code",
      "metadata": {
        "id": "SArnv2P2o741",
        "colab": {
          "base_uri": "https://localhost:8080/"
        },
        "outputId": "906a80c3-e44d-4d2e-af4e-6078c94c95b3"
      },
      "source": [
        "l = np.array([[1,2,3] , [3,5,7]])     #criar um array com numpy\n",
        "\n",
        "l"
      ],
      "execution_count": null,
      "outputs": [
        {
          "output_type": "execute_result",
          "data": {
            "text/plain": [
              "array([[1, 2, 3],\n",
              "       [3, 5, 7]])"
            ]
          },
          "metadata": {},
          "execution_count": 59
        }
      ]
    },
    {
      "cell_type": "code",
      "metadata": {
        "colab": {
          "base_uri": "https://localhost:8080/"
        },
        "id": "9sdW8PpIO5-7",
        "outputId": "7cc2c4c1-1e37-4072-ae0a-bb34ade677f4"
      },
      "source": [
        "l.shape      # informação sobre o numero de linhas e colunas do meu objeto (como linha e colunas sao intríscicas do objeto l, então são um atributo)\n"
      ],
      "execution_count": null,
      "outputs": [
        {
          "output_type": "execute_result",
          "data": {
            "text/plain": [
              "(2, 3)"
            ]
          },
          "metadata": {},
          "execution_count": 60
        }
      ]
    },
    {
      "cell_type": "code",
      "metadata": {
        "colab": {
          "base_uri": "https://localhost:8080/"
        },
        "id": "AVILEWu-PEWg",
        "outputId": "5e5bdd80-9867-466e-9d94-c192d2d48012"
      },
      "source": [
        "l"
      ],
      "execution_count": null,
      "outputs": [
        {
          "output_type": "execute_result",
          "data": {
            "text/plain": [
              "array([[1, 2, 3],\n",
              "       [3, 5, 7]])"
            ]
          },
          "metadata": {},
          "execution_count": 61
        }
      ]
    },
    {
      "cell_type": "markdown",
      "metadata": {
        "id": "r1pzYAwYp7sO"
      },
      "source": [
        "###Métodos\n"
      ]
    },
    {
      "cell_type": "code",
      "metadata": {
        "id": "s6V37mIko8EX"
      },
      "source": [
        "# métodos são ''ações'' a serem feitas com dado objeto \n",
        "\n",
        "# métodos são referenciados ao objeto com a notação :  objeto . método( )\n"
      ],
      "execution_count": null,
      "outputs": []
    },
    {
      "cell_type": "code",
      "metadata": {
        "id": "cUAWuZ59rAsn"
      },
      "source": [
        "a = [99,321,17,45]"
      ],
      "execution_count": null,
      "outputs": []
    },
    {
      "cell_type": "code",
      "metadata": {
        "colab": {
          "base_uri": "https://localhost:8080/"
        },
        "id": "Jf2cijhcrAyc",
        "outputId": "263f425b-eaf7-4708-84af-d839bb8825c4"
      },
      "source": [
        "a.sort()        # ordena os elementos da lista\n",
        "\n",
        "a"
      ],
      "execution_count": null,
      "outputs": [
        {
          "output_type": "execute_result",
          "data": {
            "text/plain": [
              "[17, 45, 99, 321]"
            ]
          },
          "metadata": {},
          "execution_count": 3
        }
      ]
    },
    {
      "cell_type": "code",
      "metadata": {
        "colab": {
          "base_uri": "https://localhost:8080/"
        },
        "id": "WS3OxRa0rA57",
        "outputId": "905dcdd9-c12d-4779-9b55-2f259123b4b8"
      },
      "source": [
        "a.reverse()     # inverte a ordem atual dos elementos da lista\n",
        "\n",
        "a"
      ],
      "execution_count": null,
      "outputs": [
        {
          "output_type": "execute_result",
          "data": {
            "text/plain": [
              "[321, 99, 45, 17]"
            ]
          },
          "metadata": {},
          "execution_count": 4
        }
      ]
    },
    {
      "cell_type": "code",
      "metadata": {
        "id": "8CMe_nmcs5y1"
      },
      "source": [
        "CorposCelestes = ['Alpha Lynx' , 'Alpha Orionis (Betelgeuse)', 'Saiph']   "
      ],
      "execution_count": null,
      "outputs": []
    },
    {
      "cell_type": "code",
      "metadata": {
        "colab": {
          "base_uri": "https://localhost:8080/",
          "height": 36
        },
        "id": "zoUhEFTos53j",
        "outputId": "fbf8e270-e246-4788-e073-2b26d02451c3"
      },
      "source": [
        "CorposCelestes.pop()    # por default remove o ultimo valor do objeto e retorna ele"
      ],
      "execution_count": null,
      "outputs": [
        {
          "output_type": "execute_result",
          "data": {
            "application/vnd.google.colaboratory.intrinsic+json": {
              "type": "string"
            },
            "text/plain": [
              "'Saiph'"
            ]
          },
          "metadata": {},
          "execution_count": 8
        }
      ]
    },
    {
      "cell_type": "code",
      "metadata": {
        "id": "UU0RwMp6tTFR",
        "colab": {
          "base_uri": "https://localhost:8080/"
        },
        "outputId": "750078bb-2b26-4cac-ebfc-6179f78ae415"
      },
      "source": [
        "CorposCelestes"
      ],
      "execution_count": null,
      "outputs": [
        {
          "output_type": "execute_result",
          "data": {
            "text/plain": [
              "['Alpha Lynx', 'Alpha Orionis (Betelgeuse)']"
            ]
          },
          "metadata": {},
          "execution_count": 9
        }
      ]
    },
    {
      "cell_type": "code",
      "metadata": {
        "id": "lTmwu4g18i_X"
      },
      "source": [],
      "execution_count": null,
      "outputs": []
    },
    {
      "cell_type": "code",
      "metadata": {
        "id": "ty5-yTEU0PEs"
      },
      "source": [
        "# Todos os métodos de uma Lista:  https://docs.python.org/pt-br/3/tutorial/datastructures.html"
      ],
      "execution_count": null,
      "outputs": []
    },
    {
      "cell_type": "code",
      "metadata": {
        "id": "GS_Th2ic0PYU"
      },
      "source": [
        "# Todos os métodos de um Dicionário:  https://docs.python.org/pt-br/3/tutorial/datastructures.html#dictionaries"
      ],
      "execution_count": null,
      "outputs": []
    },
    {
      "cell_type": "markdown",
      "metadata": {
        "id": "LNE1PXyxp_Sy"
      },
      "source": [
        "###Parâmetros"
      ]
    },
    {
      "cell_type": "code",
      "metadata": {
        "id": "Ze9V7GpI0VPY"
      },
      "source": [
        "# parâmetros são '' informações'' extras dada ao método , funcao, etc  a fim de serem utilizadas durante sua execução \n",
        "\n",
        "# Caso nenhum parâmetro seja informado, python executará o comando com os parâmetros defaults ( quando tiver / se possível )\n"
      ],
      "execution_count": null,
      "outputs": []
    },
    {
      "cell_type": "code",
      "metadata": {
        "id": "XnSKITDcztHT"
      },
      "source": [
        "lista3 = [1 , 2 , 3 , 4 , 5 , 6 , 7]"
      ],
      "execution_count": null,
      "outputs": []
    },
    {
      "cell_type": "code",
      "metadata": {
        "id": "H4UYc-biztRr",
        "colab": {
          "base_uri": "https://localhost:8080/"
        },
        "outputId": "ba50a949-87c6-4ef6-fa8f-f299dac45c2a"
      },
      "source": [
        "lista3.pop(5)  # método .pop( ) remove pela POSIÇÃO do que está na lista (index)  (parâmetro: 5)\n",
        "               # retorna o valor 6, que estava na posição 5 da lista"
      ],
      "execution_count": null,
      "outputs": [
        {
          "output_type": "execute_result",
          "data": {
            "text/plain": [
              "6"
            ]
          },
          "metadata": {},
          "execution_count": 18
        }
      ]
    },
    {
      "cell_type": "code",
      "metadata": {
        "colab": {
          "base_uri": "https://localhost:8080/"
        },
        "id": "kLvV3maU9bf5",
        "outputId": "ce555420-3b91-4ab0-bf95-1b51f83a69bf"
      },
      "source": [
        "lista3"
      ],
      "execution_count": null,
      "outputs": [
        {
          "output_type": "execute_result",
          "data": {
            "text/plain": [
              "[1, 2, 3, 4, 5, 7]"
            ]
          },
          "metadata": {},
          "execution_count": 19
        }
      ]
    },
    {
      "cell_type": "code",
      "metadata": {
        "id": "0lNKldMCA31f"
      },
      "source": [],
      "execution_count": null,
      "outputs": []
    },
    {
      "cell_type": "code",
      "metadata": {
        "colab": {
          "base_uri": "https://localhost:8080/"
        },
        "id": "mRZcCNPpQn9a",
        "outputId": "4e82f55f-9321-46fb-b243-936bcb8d15c2"
      },
      "source": [
        "lista3.insert( 5 ,'seis')    # método .insert() insere o que eu quero pela POSIÇÃO desejada:   .insert( posição, o que colocar )     (parâmetro: 5 (posição a inserir) , 'seis' (o que vai ser inserido))\n",
        "lista3"
      ],
      "execution_count": null,
      "outputs": [
        {
          "output_type": "execute_result",
          "data": {
            "text/plain": [
              "[1, 2, 3, 4, 5, 'seis', 7]"
            ]
          },
          "metadata": {},
          "execution_count": 20
        }
      ]
    },
    {
      "cell_type": "code",
      "metadata": {
        "colab": {
          "base_uri": "https://localhost:8080/"
        },
        "id": "k0a5Th0gRKFa",
        "outputId": "49939527-08d8-4181-a5af-8aa02ef7ef29"
      },
      "source": [
        "lista3"
      ],
      "execution_count": null,
      "outputs": [
        {
          "output_type": "execute_result",
          "data": {
            "text/plain": [
              "[1, 2, 3, 4, 5, 'seis', 7]"
            ]
          },
          "metadata": {},
          "execution_count": 21
        }
      ]
    },
    {
      "cell_type": "code",
      "metadata": {
        "colab": {
          "base_uri": "https://localhost:8080/"
        },
        "id": "dJ9NCHY6RbYH",
        "outputId": "8ec635eb-efa2-4522-da38-f64c284eb2c1"
      },
      "source": [
        "lista3.remove('seis')    # método .remove() retira o que eu quero pelo NOME  (parâmetro: ' seis' )\n",
        "lista3"
      ],
      "execution_count": null,
      "outputs": [
        {
          "output_type": "execute_result",
          "data": {
            "text/plain": [
              "[1, 2, 3, 4, 5, 7]"
            ]
          },
          "metadata": {},
          "execution_count": 22
        }
      ]
    },
    {
      "cell_type": "code",
      "metadata": {
        "id": "emRJsjSRRgjd"
      },
      "source": [],
      "execution_count": null,
      "outputs": []
    },
    {
      "cell_type": "code",
      "metadata": {
        "id": "9X4R1yj--Jko"
      },
      "source": [
        "lista3[5] = 6       # atribuindo o inteiro 6 na posição 5 (do index)"
      ],
      "execution_count": null,
      "outputs": []
    },
    {
      "cell_type": "code",
      "metadata": {
        "colab": {
          "base_uri": "https://localhost:8080/"
        },
        "id": "RPc0RPdW-J3r",
        "outputId": "2847d481-61c8-4a45-b5f9-68423eaa1f65"
      },
      "source": [
        "lista3"
      ],
      "execution_count": null,
      "outputs": [
        {
          "output_type": "execute_result",
          "data": {
            "text/plain": [
              "[1, 2, 3, 4, 5, 6]"
            ]
          },
          "metadata": {},
          "execution_count": 24
        }
      ]
    },
    {
      "cell_type": "code",
      "metadata": {
        "id": "C4MG5f7_-Saz"
      },
      "source": [
        "lista3[4] = 67     # atribuindo o inteiro 67 na posiçao 4 (do index)"
      ],
      "execution_count": null,
      "outputs": []
    },
    {
      "cell_type": "code",
      "metadata": {
        "colab": {
          "base_uri": "https://localhost:8080/"
        },
        "id": "Ptr3uS1n-Xnp",
        "outputId": "b6f3bce1-468b-435c-9df7-429aa39c3494"
      },
      "source": [
        "lista3"
      ],
      "execution_count": null,
      "outputs": [
        {
          "output_type": "execute_result",
          "data": {
            "text/plain": [
              "[1, 2, 3, 4, 67]"
            ]
          },
          "metadata": {},
          "execution_count": 32
        }
      ]
    },
    {
      "cell_type": "code",
      "metadata": {
        "id": "cNnUKxKz-aN8"
      },
      "source": [
        "lista3.remove(67)    # método .remove() retira o que eu quero pelo NOME  (parâmetro: 67 )"
      ],
      "execution_count": null,
      "outputs": []
    },
    {
      "cell_type": "code",
      "metadata": {
        "colab": {
          "base_uri": "https://localhost:8080/"
        },
        "id": "MHpg-taa-pHx",
        "outputId": "4005e77f-4602-4f53-dc74-9f6b0ae147ca"
      },
      "source": [
        "lista3"
      ],
      "execution_count": null,
      "outputs": [
        {
          "output_type": "execute_result",
          "data": {
            "text/plain": [
              "[1, 2, 3, 4, 6]"
            ]
          },
          "metadata": {},
          "execution_count": 28
        }
      ]
    },
    {
      "cell_type": "code",
      "metadata": {
        "id": "qrSG21qZ-9oW"
      },
      "source": [],
      "execution_count": null,
      "outputs": []
    },
    {
      "cell_type": "markdown",
      "metadata": {
        "id": "BOajmmTs0z7l"
      },
      "source": [
        "### Funções \n",
        "\n",
        "####Introdução: \n",
        "parte 1: https://www.youtube.com/watch?v=ezfr9d7wd_k&list=PLHz_AreHm4dksnH2jVTIVNviIMBVYyFnH&index=29\n",
        "\n",
        " parte 2: https://www.youtube.com/watch?v=etjJ_4Eqrk8&list=PLHz_AreHm4dksnH2jVTIVNviIMBVYyFnH&index=35\n",
        "\n",
        "\n",
        "####Avançado: \n",
        "https://www.youtube.com/watch?v=etjJ_4Eqrk8&list=PLvE-ZAFRgX8hnECDn1v9HNTI71veL3oW0&index=123"
      ]
    },
    {
      "cell_type": "code",
      "metadata": {
        "id": "dpbIwH8405jq"
      },
      "source": [
        "# Funções são criadas quando é necessário executar uma mesma ação diversas vezes\n",
        "\n",
        "# Funções existem por si só e podem ser invocadas a qualquer momento no script (não sendo necessário referenciar um objeto)\n"
      ],
      "execution_count": null,
      "outputs": []
    },
    {
      "cell_type": "code",
      "metadata": {
        "colab": {
          "base_uri": "https://localhost:8080/"
        },
        "id": "O5XhkJL2AqhP",
        "outputId": "fd000fd3-beb8-4b74-d20d-b120bc92e480"
      },
      "source": [
        "print('Olá Mundo')    # Função Print( ) imprime ao usuário o que for passado como parâmetro"
      ],
      "execution_count": null,
      "outputs": [
        {
          "output_type": "stream",
          "name": "stdout",
          "text": [
            "Olá Mundo\n"
          ]
        }
      ]
    },
    {
      "cell_type": "code",
      "metadata": {
        "id": "ERPWzbnx7ZTv"
      },
      "source": [
        "help(list)        # Função help( )  pede informações sobre algo (o parâmetro informado , no caso list )"
      ],
      "execution_count": null,
      "outputs": []
    },
    {
      "cell_type": "code",
      "metadata": {
        "colab": {
          "base_uri": "https://localhost:8080/"
        },
        "id": "UW5_gQV777bZ",
        "outputId": "b4dcf99c-d788-42f7-9d67-6eb974511f6b"
      },
      "source": [
        "list((1,2,3))       # Função List( ) cria uma lista com o parâmetro informado \n",
        "                    # OBS.: SOMENTE UM PARÂMETRO PODE SER PASSADO PRA ESSA FUNÇÃO (por isso foi passado uma tupla (1,2,3) como parâmetro)"
      ],
      "execution_count": null,
      "outputs": [
        {
          "output_type": "execute_result",
          "data": {
            "text/plain": [
              "[1, 2, 3]"
            ]
          },
          "metadata": {},
          "execution_count": 23
        }
      ]
    },
    {
      "cell_type": "code",
      "metadata": {
        "id": "qLoWqVt6-_tY"
      },
      "source": [],
      "execution_count": null,
      "outputs": []
    },
    {
      "cell_type": "code",
      "metadata": {
        "id": "ylV99yspA0PK"
      },
      "source": [
        "# Python possui funções próprias (internas, como help( ) e print( )) mas podemos importar funções de outros módulos "
      ],
      "execution_count": null,
      "outputs": []
    },
    {
      "cell_type": "code",
      "metadata": {
        "id": "3e6NHGzBAeB8"
      },
      "source": [
        "# Podemos importar somente uma função de um módulo \n",
        "\n",
        "from math import cos     # do módulo math, somente a função cosseno foi importada ( e nada além dessa função )"
      ],
      "execution_count": null,
      "outputs": []
    },
    {
      "cell_type": "code",
      "metadata": {
        "colab": {
          "base_uri": "https://localhost:8080/"
        },
        "id": "F4KfH0fcAzK5",
        "outputId": "4c8efd24-23f0-4f56-dcba-13c9dc837d78"
      },
      "source": [
        "# Quando uma função é importada individualmente, podemos invoca-la sem fazer referência ao módulo de origem:\n",
        "\n",
        "cos(0)"
      ],
      "execution_count": null,
      "outputs": [
        {
          "output_type": "execute_result",
          "data": {
            "text/plain": [
              "1.0"
            ]
          },
          "metadata": {},
          "execution_count": 24
        }
      ]
    },
    {
      "cell_type": "code",
      "metadata": {
        "id": "cOjDbGAc9YNY"
      },
      "source": [
        "# Ou podemos importar o módulo todo \n",
        "\n",
        "import math as mt "
      ],
      "execution_count": null,
      "outputs": []
    },
    {
      "cell_type": "code",
      "metadata": {
        "colab": {
          "base_uri": "https://localhost:8080/"
        },
        "id": "JPONS6HYB7Fj",
        "outputId": "c9012325-1255-4af0-e634-a4fdefbb1d55"
      },
      "source": [
        " # Quando uma função NÃO é importada individualmente, para invocar,  devemos utilizar a notação:   Nome Do Modulo . Função ( ) \n",
        "\n",
        "mt.sin(0)   # do módulo math (importado como mt), utilizar a função sin( ) (seno)"
      ],
      "execution_count": null,
      "outputs": [
        {
          "output_type": "execute_result",
          "data": {
            "text/plain": [
              "0.0"
            ]
          },
          "metadata": {},
          "execution_count": 25
        }
      ]
    },
    {
      "cell_type": "code",
      "metadata": {
        "colab": {
          "base_uri": "https://localhost:8080/"
        },
        "id": "GpWGVPGc861W",
        "outputId": "74680f2a-18f6-4b2a-c588-d26a6d06db1d"
      },
      "source": [
        "mt.cos(0)"
      ],
      "execution_count": null,
      "outputs": [
        {
          "output_type": "execute_result",
          "data": {
            "text/plain": [
              "1.0"
            ]
          },
          "metadata": {},
          "execution_count": 11
        }
      ]
    },
    {
      "cell_type": "code",
      "metadata": {
        "id": "b2u2yr0c_mEu"
      },
      "source": [],
      "execution_count": null,
      "outputs": []
    },
    {
      "cell_type": "code",
      "metadata": {
        "id": "wuHYhotmAd7n"
      },
      "source": [
        "# Quando não importamos uma função individualmente, invocar sem referenciar o modulo de origem gera erro:"
      ],
      "execution_count": null,
      "outputs": []
    },
    {
      "cell_type": "code",
      "metadata": {
        "id": "7KMFMZuCB7Kv"
      },
      "source": [
        "import numpy as np"
      ],
      "execution_count": null,
      "outputs": []
    },
    {
      "cell_type": "code",
      "metadata": {
        "id": "j7jKaTNXDXVX",
        "colab": {
          "base_uri": "https://localhost:8080/",
          "height": 165
        },
        "outputId": "ed161a94-30d9-4a7a-8664-32f519188b80"
      },
      "source": [
        "array([1,2,3])      # função array( ) utilizada sem referenciar o módulo de origem (numpy, no caso)"
      ],
      "execution_count": null,
      "outputs": [
        {
          "output_type": "error",
          "ename": "NameError",
          "evalue": "ignored",
          "traceback": [
            "\u001b[0;31m---------------------------------------------------------------------------\u001b[0m",
            "\u001b[0;31mNameError\u001b[0m                                 Traceback (most recent call last)",
            "\u001b[0;32m<ipython-input-19-02913ccb6d37>\u001b[0m in \u001b[0;36m<module>\u001b[0;34m()\u001b[0m\n\u001b[0;32m----> 1\u001b[0;31m \u001b[0marray\u001b[0m\u001b[0;34m(\u001b[0m\u001b[0;34m[\u001b[0m\u001b[0;36m1\u001b[0m\u001b[0;34m,\u001b[0m\u001b[0;36m2\u001b[0m\u001b[0;34m,\u001b[0m\u001b[0;36m3\u001b[0m\u001b[0;34m]\u001b[0m\u001b[0;34m)\u001b[0m      \u001b[0;31m# sem referenciar o módulo de origem (numpy, no caso)\u001b[0m\u001b[0;34m\u001b[0m\u001b[0;34m\u001b[0m\u001b[0m\n\u001b[0m",
            "\u001b[0;31mNameError\u001b[0m: name 'array' is not defined"
          ]
        }
      ]
    },
    {
      "cell_type": "code",
      "metadata": {
        "colab": {
          "base_uri": "https://localhost:8080/"
        },
        "id": "lGVIc4b3Cx4e",
        "outputId": "a8a26a6c-4a12-4a2b-88d9-a2265f53e096"
      },
      "source": [
        "np.array([1,2,3])   # função array( ) utilizada referenciando o módulo de origem (numpy, no caso)"
      ],
      "execution_count": null,
      "outputs": [
        {
          "output_type": "execute_result",
          "data": {
            "text/plain": [
              "array([1, 2, 3])"
            ]
          },
          "metadata": {},
          "execution_count": 21
        }
      ]
    },
    {
      "cell_type": "code",
      "metadata": {
        "id": "-KBCTi63DAES"
      },
      "source": [],
      "execution_count": null,
      "outputs": []
    },
    {
      "cell_type": "markdown",
      "metadata": {
        "id": "bz4lhlJaoYGo"
      },
      "source": [
        "#### Criar uma função"
      ]
    },
    {
      "cell_type": "code",
      "metadata": {
        "id": "bSs02kJjA7TA"
      },
      "source": [
        "# Uma função pode ser criada \n",
        "\n",
        "def soma(a,b,c):     # def para criar funções  , nome da função (no caso soma) , parâmetros que essa função vai precisar (a,b,c no caso)\n",
        "  s = a+b+c          # o que a função vai fazer\n",
        "  return s           # o que eu preciso que a função retorne (para poder utilizar depois)\n",
        "                     # o que não for retornado não poderá ser utilizado depois (variaveis locais da função)\n"
      ],
      "execution_count": null,
      "outputs": []
    },
    {
      "cell_type": "code",
      "metadata": {
        "id": "uM738k6iBvjJ"
      },
      "source": [
        "soma(1,2,3)"
      ],
      "execution_count": null,
      "outputs": []
    },
    {
      "cell_type": "code",
      "metadata": {
        "id": "GETk3zhnB3ic"
      },
      "source": [
        "a = soma(0,1,2)     # posso atribuir o que for retornado na função à uma variável\n",
        "a"
      ],
      "execution_count": null,
      "outputs": []
    },
    {
      "cell_type": "code",
      "metadata": {
        "id": "f6h8I_Ugodl-"
      },
      "source": [
        "# Podemos definir parâmetros Default para uma função\n",
        "def somar(a=0, b=0, c=0):\n",
        "    s = a + b + c\n",
        "    return s\n"
      ],
      "execution_count": null,
      "outputs": []
    },
    {
      "cell_type": "code",
      "metadata": {
        "colab": {
          "base_uri": "https://localhost:8080/"
        },
        "id": "iCq_5tjsoj6j",
        "outputId": "932100c2-6a70-49fb-fa5d-0b7b965b2521"
      },
      "source": [
        "# Quando um parâmetro não é informado , a função utiliza o que foi definido como Default (no caso, zero é Default (para a, b e ))\n",
        "n1 = somar(2,3,4)\n",
        "n1"
      ],
      "execution_count": null,
      "outputs": [
        {
          "output_type": "execute_result",
          "data": {
            "text/plain": [
              "9"
            ]
          },
          "metadata": {},
          "execution_count": 9
        }
      ]
    },
    {
      "cell_type": "code",
      "metadata": {
        "colab": {
          "base_uri": "https://localhost:8080/"
        },
        "id": "_GERQ2D4oj_K",
        "outputId": "a40e7837-a9d8-433e-ae19-fec99111aaa5"
      },
      "source": [
        "n2 = somar(2,1)\n",
        "n2"
      ],
      "execution_count": null,
      "outputs": [
        {
          "output_type": "execute_result",
          "data": {
            "text/plain": [
              "3"
            ]
          },
          "metadata": {},
          "execution_count": 8
        }
      ]
    },
    {
      "cell_type": "code",
      "metadata": {
        "colab": {
          "base_uri": "https://localhost:8080/"
        },
        "id": "4-bk2R8HokDK",
        "outputId": "b7413084-2308-4c21-c68c-f8da01167403"
      },
      "source": [
        "n3 = somar(3)\n",
        "n3"
      ],
      "execution_count": null,
      "outputs": [
        {
          "output_type": "execute_result",
          "data": {
            "text/plain": [
              "3"
            ]
          },
          "metadata": {},
          "execution_count": 6
        }
      ]
    },
    {
      "cell_type": "markdown",
      "source": [
        "## Classes"
      ],
      "metadata": {
        "id": "1fXx6UQvSfDu"
      }
    },
    {
      "cell_type": "code",
      "source": [
        "https://www.w3schools.com/python/python_classes.asp"
      ],
      "metadata": {
        "id": "xGu2xllDSiFt"
      },
      "execution_count": null,
      "outputs": []
    },
    {
      "cell_type": "markdown",
      "metadata": {
        "id": "aOqOO8xHf8KW"
      },
      "source": [
        "## Módulos\n",
        "\n",
        "introdução: https://www.youtube.com/watch?v=oOUyhGNib2Q&list=PLvE-ZAFRgX8hnECDn1v9HNTI71veL3oW0&index=25\n",
        "\n",
        "\n",
        "Avançado (criar módulos): \n",
        "https://www.youtube.com/watch?v=s3r8_Aug4y8&list=PLHz_AreHm4dksnH2jVTIVNviIMBVYyFnH&index=42"
      ]
    },
    {
      "cell_type": "code",
      "metadata": {
        "id": "SBLLNIus8CTK"
      },
      "source": [
        "# para operacoes matematicas \n",
        "\n",
        "import math as mt\n",
        "import sympy \n",
        "import numpy as np"
      ],
      "execution_count": null,
      "outputs": []
    },
    {
      "cell_type": "code",
      "metadata": {
        "id": "_bAqpND18DvR"
      },
      "source": [
        "# para plotar graficos\n",
        "\n",
        "import matplotlib.pyplot as plt\n",
        "import seaborn as sns\n",
        "import plotly\n"
      ],
      "execution_count": null,
      "outputs": []
    },
    {
      "cell_type": "code",
      "metadata": {
        "id": "RFTG0nYs8D1G"
      },
      "source": [
        "# para lidar com tempo\n",
        "\n",
        "import datetime as dt\n",
        "import calendar\n"
      ],
      "execution_count": null,
      "outputs": []
    },
    {
      "cell_type": "code",
      "metadata": {
        "id": "SZCwUHxC8D4M"
      },
      "source": [
        "# para automações de processos\n",
        "\n",
        "import selenium\n",
        "import pyautogui    # nao instalado"
      ],
      "execution_count": null,
      "outputs": []
    },
    {
      "cell_type": "code",
      "metadata": {
        "id": "23YDqNGa8D7N"
      },
      "source": [
        "!pip install pyautogui     # para instalar modulos \n",
        "                           # uma vez instalado, nao precisa repetir esse comando. Necessário somente importar o Módulo "
      ],
      "execution_count": null,
      "outputs": []
    },
    {
      "cell_type": "code",
      "metadata": {
        "id": "FfvxM1zh8D88"
      },
      "source": [],
      "execution_count": null,
      "outputs": []
    },
    {
      "cell_type": "code",
      "metadata": {
        "id": "064J_RbIatea"
      },
      "source": [],
      "execution_count": null,
      "outputs": []
    },
    {
      "cell_type": "markdown",
      "metadata": {
        "id": "6NIzQshm4E7V"
      },
      "source": [
        "# Unbound"
      ]
    },
    {
      "cell_type": "markdown",
      "metadata": {
        "id": "_K44nehH4NpE"
      },
      "source": [
        "### Nomes das Variáveis"
      ]
    },
    {
      "cell_type": "code",
      "metadata": {
        "id": "hANbJeOK4M0q"
      },
      "source": [
        "# Python diferencia letras Maiúsculas de letras Minúsculas\n"
      ],
      "execution_count": null,
      "outputs": []
    },
    {
      "cell_type": "code",
      "metadata": {
        "id": "gD2pOCSf4aD7"
      },
      "source": [
        "CORES = tuple(('Azul','Amarelo','Vermelho'))    "
      ],
      "execution_count": null,
      "outputs": []
    },
    {
      "cell_type": "code",
      "metadata": {
        "colab": {
          "base_uri": "https://localhost:8080/",
          "height": 165
        },
        "id": "hO6bVhoo4aH8",
        "outputId": "f1a89f56-36af-4b6c-b0ea-02370685cdfe"
      },
      "source": [
        "print(cores)"
      ],
      "execution_count": null,
      "outputs": [
        {
          "output_type": "error",
          "ename": "NameError",
          "evalue": "ignored",
          "traceback": [
            "\u001b[0;31m---------------------------------------------------------------------------\u001b[0m",
            "\u001b[0;31mNameError\u001b[0m                                 Traceback (most recent call last)",
            "\u001b[0;32m<ipython-input-52-85da4caaf0d1>\u001b[0m in \u001b[0;36m<module>\u001b[0;34m()\u001b[0m\n\u001b[0;32m----> 1\u001b[0;31m \u001b[0mprint\u001b[0m\u001b[0;34m(\u001b[0m\u001b[0mcores\u001b[0m\u001b[0;34m)\u001b[0m\u001b[0;34m\u001b[0m\u001b[0;34m\u001b[0m\u001b[0m\n\u001b[0m",
            "\u001b[0;31mNameError\u001b[0m: name 'cores' is not defined"
          ]
        }
      ]
    },
    {
      "cell_type": "code",
      "metadata": {
        "id": "Oa1pUnmG5NOq"
      },
      "source": [],
      "execution_count": null,
      "outputs": []
    },
    {
      "cell_type": "markdown",
      "metadata": {
        "id": "b-jzkaxWnVnB"
      },
      "source": [
        "###Atribuições"
      ]
    },
    {
      "cell_type": "code",
      "metadata": {
        "id": "BsPVXXOdqOZd"
      },
      "source": [
        "# Podemos fazer mais de uma atribuição em uma mesma linha de código\n"
      ],
      "execution_count": null,
      "outputs": []
    },
    {
      "cell_type": "code",
      "metadata": {
        "id": "mRh-hUaOqGIn"
      },
      "source": [
        "lista4 = [0,1,2,3,4,5,6]"
      ],
      "execution_count": null,
      "outputs": []
    },
    {
      "cell_type": "code",
      "metadata": {
        "id": "QYIMcb0cnful"
      },
      "source": [
        "a , b , c , d  = 'Python' , 1 , ['texto', 1,2,3,4] , lista4.pop(3)     # foram feitas 4 atribuições onde cada variavel (a,b,c,d) vai receber um valor diferente"
      ],
      "execution_count": null,
      "outputs": []
    },
    {
      "cell_type": "code",
      "metadata": {
        "colab": {
          "base_uri": "https://localhost:8080/",
          "height": 34
        },
        "id": "FwZPxcnrngho",
        "outputId": "33014fc3-00c3-4a33-a60d-1065ec6edaa5"
      },
      "source": [
        "a"
      ],
      "execution_count": null,
      "outputs": [
        {
          "output_type": "execute_result",
          "data": {
            "application/vnd.google.colaboratory.intrinsic+json": {
              "type": "string"
            },
            "text/plain": [
              "'Python'"
            ]
          },
          "metadata": {},
          "execution_count": 68
        }
      ]
    },
    {
      "cell_type": "code",
      "metadata": {
        "colab": {
          "base_uri": "https://localhost:8080/"
        },
        "id": "btp2FvbJn0c6",
        "outputId": "e687d1f3-860b-4c47-bfa3-430788b0aa71"
      },
      "source": [
        "b"
      ],
      "execution_count": null,
      "outputs": [
        {
          "output_type": "execute_result",
          "data": {
            "text/plain": [
              "1"
            ]
          },
          "metadata": {},
          "execution_count": 58
        }
      ]
    },
    {
      "cell_type": "code",
      "metadata": {
        "colab": {
          "base_uri": "https://localhost:8080/"
        },
        "id": "9WTD4BDQn0gW",
        "outputId": "6591feeb-0188-40aa-dded-aee8cc40cbf8"
      },
      "source": [
        "c"
      ],
      "execution_count": null,
      "outputs": [
        {
          "output_type": "execute_result",
          "data": {
            "text/plain": [
              "['texto', 1, 2, 3, 4]"
            ]
          },
          "metadata": {},
          "execution_count": 59
        }
      ]
    },
    {
      "cell_type": "code",
      "metadata": {
        "colab": {
          "base_uri": "https://localhost:8080/"
        },
        "id": "Dv01ZdrrplsX",
        "outputId": "be84d67f-863c-4b79-8984-81b3ec69d7d3"
      },
      "source": [
        "d"
      ],
      "execution_count": null,
      "outputs": [
        {
          "output_type": "execute_result",
          "data": {
            "text/plain": [
              "3"
            ]
          },
          "metadata": {},
          "execution_count": 77
        }
      ]
    },
    {
      "cell_type": "code",
      "metadata": {
        "id": "t8-uuShdrWSu"
      },
      "source": [],
      "execution_count": null,
      "outputs": []
    },
    {
      "cell_type": "code",
      "metadata": {
        "id": "I_7YAH_zn5V7"
      },
      "source": [
        "# tomar cuidado com as atribuições feitas em uma mesma linha:\n"
      ],
      "execution_count": null,
      "outputs": []
    },
    {
      "cell_type": "code",
      "metadata": {
        "id": "WTt66zuPYQY1"
      },
      "source": [
        "a = 2 \n",
        "b = 3"
      ],
      "execution_count": null,
      "outputs": []
    },
    {
      "cell_type": "code",
      "metadata": {
        "id": "NZEWw3usmHmV"
      },
      "source": [
        "a = b\n",
        "b = a "
      ],
      "execution_count": null,
      "outputs": []
    },
    {
      "cell_type": "code",
      "metadata": {
        "colab": {
          "base_uri": "https://localhost:8080/"
        },
        "id": "vaYE1iSmmI64",
        "outputId": "e52eda49-8c48-4035-dd92-779bfd87287d"
      },
      "source": [
        "a,b"
      ],
      "execution_count": null,
      "outputs": [
        {
          "output_type": "execute_result",
          "data": {
            "text/plain": [
              "(3, 3)"
            ]
          },
          "metadata": {},
          "execution_count": 82
        }
      ]
    },
    {
      "cell_type": "code",
      "metadata": {
        "id": "1Xf1uEQwmJtr"
      },
      "source": [],
      "execution_count": null,
      "outputs": []
    },
    {
      "cell_type": "code",
      "metadata": {
        "id": "NRtVGAjrmL65"
      },
      "source": [
        "a = 2 \n",
        "b = 3"
      ],
      "execution_count": null,
      "outputs": []
    },
    {
      "cell_type": "code",
      "metadata": {
        "colab": {
          "base_uri": "https://localhost:8080/"
        },
        "id": "w8ZawkyzrpV2",
        "outputId": "48ce31a4-a0ea-49f1-c3a3-c3863448c02c"
      },
      "source": [
        "a,b"
      ],
      "execution_count": null,
      "outputs": [
        {
          "output_type": "execute_result",
          "data": {
            "text/plain": [
              "(2, 3)"
            ]
          },
          "metadata": {},
          "execution_count": 84
        }
      ]
    },
    {
      "cell_type": "code",
      "metadata": {
        "id": "YWG1LJV2mOHr"
      },
      "source": [
        "a , b = b , a"
      ],
      "execution_count": null,
      "outputs": []
    },
    {
      "cell_type": "code",
      "metadata": {
        "id": "6mOR4oNZmPc6",
        "colab": {
          "base_uri": "https://localhost:8080/"
        },
        "outputId": "25f14340-a673-490e-b5f9-4c093024fcb9"
      },
      "source": [
        "a,b"
      ],
      "execution_count": null,
      "outputs": [
        {
          "output_type": "execute_result",
          "data": {
            "text/plain": [
              "(2, 3)"
            ]
          },
          "metadata": {},
          "execution_count": 96
        }
      ]
    },
    {
      "cell_type": "code",
      "metadata": {
        "id": "vAPXR6m9mQIo"
      },
      "source": [],
      "execution_count": null,
      "outputs": []
    },
    {
      "cell_type": "code",
      "metadata": {
        "colab": {
          "base_uri": "https://localhost:8080/",
          "height": 130
        },
        "id": "LIzc14kSmUJ9",
        "outputId": "cf3c4a63-3747-4b9b-dd4b-1e4172777053"
      },
      "source": [
        "https://stackoverflow.com/questions/21990883/python-a-b-b-a-b\n",
        "\n",
        "#Python first evaluates the right-hand expression and stores the results on the stack, then takes those two values and assigns them to a and b. That means that a + b is calculated before a is changed.\n",
        "\n",
        "#The interpreter always calculates the figures in the right side of the Equals sign first. The calculation results will be assigned to the variables which on the left hand side \n",
        "#only if all the calculation has been done on the right hand side."
      ],
      "execution_count": null,
      "outputs": [
        {
          "output_type": "error",
          "ename": "SyntaxError",
          "evalue": "ignored",
          "traceback": [
            "\u001b[0;36m  File \u001b[0;32m\"<ipython-input-65-3b3f4df387d1>\"\u001b[0;36m, line \u001b[0;32m1\u001b[0m\n\u001b[0;31m    https://stackoverflow.com/questions/21990883/python-a-b-b-a-b\u001b[0m\n\u001b[0m           ^\u001b[0m\n\u001b[0;31mSyntaxError\u001b[0m\u001b[0;31m:\u001b[0m invalid syntax\n"
          ]
        }
      ]
    },
    {
      "cell_type": "code",
      "metadata": {
        "id": "RHCFenqG28Zv"
      },
      "source": [
        "\n"
      ],
      "execution_count": null,
      "outputs": []
    },
    {
      "cell_type": "code",
      "metadata": {
        "id": "XTVwJSLnn9C_"
      },
      "source": [],
      "execution_count": null,
      "outputs": []
    },
    {
      "cell_type": "markdown",
      "metadata": {
        "id": "T0Ebo0iwhrTK"
      },
      "source": [
        "### Colchetes, Parenteses"
      ]
    },
    {
      "cell_type": "code",
      "metadata": {
        "id": "AvocvYXuN1tQ"
      },
      "source": [],
      "execution_count": null,
      "outputs": []
    },
    {
      "cell_type": "markdown",
      "metadata": {
        "id": "D8nFjuR0FpVZ"
      },
      "source": [
        "### Slicing"
      ]
    },
    {
      "cell_type": "code",
      "metadata": {
        "id": "VX9Hy3SoFsO7"
      },
      "source": [],
      "execution_count": null,
      "outputs": []
    },
    {
      "cell_type": "markdown",
      "metadata": {
        "id": "IHwZ9VHRG6UL"
      },
      "source": [
        "### Format "
      ]
    },
    {
      "cell_type": "code",
      "metadata": {
        "id": "JqaSWjj4IRh7"
      },
      "source": [
        "# Usado para formatar informações que serão impressas ao usuário\n"
      ],
      "execution_count": null,
      "outputs": []
    },
    {
      "cell_type": "markdown",
      "metadata": {
        "id": "osYz6F3NIgMI"
      },
      "source": [
        "#### Format versões antigas"
      ]
    },
    {
      "cell_type": "code",
      "metadata": {
        "id": "veazZ6U9IxVn"
      },
      "source": [
        "# Executado pelo metodo .format( ) aplicado à um print, com notação :\n",
        "\n",
        "#print( ' o que será impresso {o que será substituido} '  .format(o que irá substituir as chaves ))\n"
      ],
      "execution_count": null,
      "outputs": []
    },
    {
      "cell_type": "code",
      "metadata": {
        "colab": {
          "base_uri": "https://localhost:8080/"
        },
        "id": "5_tg8KZuHXS1",
        "outputId": "56b4e00d-f815-4a1d-b3c7-e67bf355f15c"
      },
      "source": [
        "nome = input('Qual seu nome? ')   # input recebe informação digitada pelo usuário\n",
        "\n",
        "\n",
        "print('\\n\\n Olá {}, tenha bons estudos!'.format(nome))   #saída formatada , onde chaves { } serão substituida pela variável ( nome, no caso ) dentro do format\n",
        "                                                         # \\n pula uma linha no print"
      ],
      "execution_count": null,
      "outputs": [
        {
          "output_type": "stream",
          "name": "stdout",
          "text": [
            "Qual seu nome? l\n",
            "\n",
            "\n",
            " Olá l, tenha bons estudos!\n"
          ]
        }
      ]
    },
    {
      "cell_type": "code",
      "metadata": {
        "id": "3DM4pHz0LJ0H"
      },
      "source": [],
      "execution_count": null,
      "outputs": []
    },
    {
      "cell_type": "code",
      "metadata": {
        "id": "6NMhR1f9LMH0"
      },
      "source": [
        "# Podemos formatar para reduzir informações que serão impressas ao passar informações extras dentro das chaves:\n"
      ],
      "execution_count": null,
      "outputs": []
    },
    {
      "cell_type": "code",
      "metadata": {
        "id": "JEGodllSKpF5"
      },
      "source": [
        "import math as mt"
      ],
      "execution_count": null,
      "outputs": []
    },
    {
      "cell_type": "code",
      "metadata": {
        "colab": {
          "base_uri": "https://localhost:8080/"
        },
        "id": "xmeFWFDFKpN5",
        "outputId": "489adb81-d8d5-4b4b-c605-bd20974c14d9"
      },
      "source": [
        "PIvalor = mt.pi\n",
        "PIvalor"
      ],
      "execution_count": null,
      "outputs": [
        {
          "output_type": "execute_result",
          "data": {
            "text/plain": [
              "3.141592653589793"
            ]
          },
          "metadata": {},
          "execution_count": 82
        }
      ]
    },
    {
      "cell_type": "code",
      "metadata": {
        "colab": {
          "base_uri": "https://localhost:8080/"
        },
        "id": "p8Qi7Hb0Ky-X",
        "outputId": "6029aede-3584-4b75-8f3e-58b2338aff9a"
      },
      "source": [
        "print('Pi com duas casas decimais será {:.2f}' .format(PIvalor))     # reduz a quantidade de casas decimais (para duas) ao passar a informação   :.2f   dentro da chave"
      ],
      "execution_count": null,
      "outputs": [
        {
          "output_type": "stream",
          "name": "stdout",
          "text": [
            "Pi com duas casas decimais será 3.14\n"
          ]
        }
      ]
    },
    {
      "cell_type": "code",
      "metadata": {
        "id": "oYeyfQd9RVyO"
      },
      "source": [],
      "execution_count": null,
      "outputs": []
    },
    {
      "cell_type": "code",
      "metadata": {
        "colab": {
          "base_uri": "https://localhost:8080/"
        },
        "id": "tdTVW1PcKzF2",
        "outputId": "c58ee7c0-efec-49df-b18a-ebf9189b8d57"
      },
      "source": [
        "nome2 = input(' Qual seu nome completo?')\n",
        "\n",
        "print('\\n prazer em te conhecer, {:20} !'.format(nome2))          # :20   faz a informacao aparecer em 20 caracteres\n",
        "print('\\n prazer em te conhecer, {:>20} !'.format(nome2))         # :>20  faz a informacao aparecer em 20 caracteres com alinhamento a direita\n",
        "print('\\n prazer em te conhecer, {:<20} !'.format(nome2))         # :<20  faz a informacao aparecer em 20 caracteres com alinhamento a esquerda\n",
        "print('\\n prazer em te conhecer, {:=^20} !'.format(nome2))        # :=^20 faz a informacao aparecer em 20 caracteres e o restante do espaço será preenchido por '='"
      ],
      "execution_count": null,
      "outputs": [
        {
          "output_type": "stream",
          "name": "stdout",
          "text": [
            " Qual seu nome completo?a\n",
            "\n",
            " prazer em te conhecer, a                    !\n",
            "\n",
            " prazer em te conhecer,                    a !\n",
            "\n",
            " prazer em te conhecer, a                    !\n",
            "\n",
            " prazer em te conhecer, =========a========== !\n"
          ]
        }
      ]
    },
    {
      "cell_type": "code",
      "metadata": {
        "id": "z85ej02vNOJM"
      },
      "source": [],
      "execution_count": null,
      "outputs": []
    },
    {
      "cell_type": "code",
      "metadata": {
        "id": "BasO7LHoNPf_"
      },
      "source": [
        "# Podemos imprimir várias informações formatadas ao mesmo tempo (ao inserir mais chaves {} no texto e mais parâmetros no metodo .format() )\n"
      ],
      "execution_count": null,
      "outputs": []
    },
    {
      "cell_type": "code",
      "metadata": {
        "id": "5CiarH6VG-vG"
      },
      "source": [
        "lista = [1.05 , 12.27 , 5.27, 2.5 , 10.1111 ]     # lista com Floats com diferentes casas decimáis "
      ],
      "execution_count": null,
      "outputs": []
    },
    {
      "cell_type": "code",
      "metadata": {
        "colab": {
          "base_uri": "https://localhost:8080/"
        },
        "id": "HwXPmVuwNd61",
        "outputId": "d93ede05-8c19-47e0-b3a3-ee6b8047729f"
      },
      "source": [
        "print('Alguns dos valores da lista são : {} e {}' .format(lista[0],lista[2]))   # foram passados dois parâmetros no método format \n"
      ],
      "execution_count": null,
      "outputs": [
        {
          "output_type": "stream",
          "name": "stdout",
          "text": [
            "Alguns dos valores da lista são : 1.05 e 5.27\n"
          ]
        }
      ]
    },
    {
      "cell_type": "code",
      "metadata": {
        "id": "NzfDP5OEN6pf"
      },
      "source": [],
      "execution_count": null,
      "outputs": []
    },
    {
      "cell_type": "code",
      "metadata": {
        "id": "-pHqyeOiN63S"
      },
      "source": [
        "# Podemos escolher a ordem que serão impressos os parametros do format ao inserir o valor, da sua posição, na chave {}\n"
      ],
      "execution_count": null,
      "outputs": []
    },
    {
      "cell_type": "code",
      "metadata": {
        "id": "ZaPGl4hmO0mO"
      },
      "source": [
        "nome = 'Leandro'\n",
        "sobrenome = 'Pereira'\n",
        "ultimonome = 'Bernardo'"
      ],
      "execution_count": null,
      "outputs": []
    },
    {
      "cell_type": "code",
      "metadata": {
        "colab": {
          "base_uri": "https://localhost:8080/"
        },
        "id": "b63zpWGCPic6",
        "outputId": "f7fc4220-e301-479e-e55f-ec139dbfac33"
      },
      "source": [
        "print('{0}  possui último nome:  {2}  e nome do meio:  {1} '.format( nome, sobrenome, ultimonome))  # (nome) ocupa a posição 0 , (sobrenome) ocupa a posição 1 e (ultimonome) ocupa a posição 2\n"
      ],
      "execution_count": null,
      "outputs": [
        {
          "output_type": "stream",
          "name": "stdout",
          "text": [
            "Leandro  possui último nome:  Bernardo  e nome do meio:  Pereira \n"
          ]
        }
      ]
    },
    {
      "cell_type": "code",
      "metadata": {
        "id": "a64tfiykQhHO"
      },
      "source": [],
      "execution_count": null,
      "outputs": []
    },
    {
      "cell_type": "code",
      "metadata": {
        "id": "SOghaoHeQpeZ"
      },
      "source": [
        "lista = [1.05 , 12.27 , 5.27, 2.5 , 10.1111 ]      # lista com Floats com diferentes casas decimáis "
      ],
      "execution_count": null,
      "outputs": []
    },
    {
      "cell_type": "code",
      "metadata": {
        "colab": {
          "base_uri": "https://localhost:8080/"
        },
        "id": "a3NO9C3hO0pn",
        "outputId": "46f88b84-2a00-47b0-91db-81515dbf9a4c"
      },
      "source": [
        "(lista[0], lista[1], lista[2], lista[3], lista[4])"
      ],
      "execution_count": null,
      "outputs": [
        {
          "output_type": "execute_result",
          "data": {
            "text/plain": [
              "(1.05, 12.27, 5.27, 2.5, 10.1111)"
            ]
          },
          "metadata": {},
          "execution_count": 119
        }
      ]
    },
    {
      "cell_type": "code",
      "metadata": {
        "colab": {
          "base_uri": "https://localhost:8080/"
        },
        "id": "ZM4rsO9BJnDG",
        "outputId": "a2717fc6-2b16-49de-952f-44449dca27ed"
      },
      "source": [
        "print('As variaveis da lista em ordem crescente serão {0}, {3}, {2}, {4} e {1}' .format(lista[0], lista[1], lista[2], lista[3], lista[4]))\n",
        "\n",
        "#onde:\n",
        "# lista[0] ocupa a posição 0 no parametro do format, \n",
        "# lista[1] ocupa a posição 1 no parametro do format, \n",
        "# lista[2] ocupa a posição 2 no parametro do format, \n",
        "# lista[3] ocupa a posição 3 no parametro do format, \n",
        "# lista[4] ocupa a posição 4 no parametro do format.\n"
      ],
      "execution_count": null,
      "outputs": [
        {
          "output_type": "stream",
          "name": "stdout",
          "text": [
            "As variaveis da lista em ordem crescente serão 1.05, 2.5, 5.27, 10.1111 e 12.27\n"
          ]
        }
      ]
    },
    {
      "cell_type": "code",
      "metadata": {
        "id": "sYaXekm8RSpJ"
      },
      "source": [],
      "execution_count": null,
      "outputs": []
    },
    {
      "cell_type": "code",
      "metadata": {
        "id": "ADMdqSVaRq4k"
      },
      "source": [
        "# Podemos formatar para reduzir informações e escolher a ordem que serão impressos \n"
      ],
      "execution_count": null,
      "outputs": []
    },
    {
      "cell_type": "code",
      "metadata": {
        "colab": {
          "base_uri": "https://localhost:8080/"
        },
        "id": "7h6TGD7lJnHF",
        "outputId": "6dc40652-faf3-4fb8-8771-a9bdd351f225"
      },
      "source": [
        "print('As variaveis da lista em ordem crescente e com duas casas decimais serão:  {0:.2f}, {3:.2f}, {2:.2f}, {4:.2f} e {1:.2f}' .format(lista[0], lista[1], lista[2], lista[3], lista[4]))\n",
        "\n",
        "# (0, 1, 2, 3 e 4) para indicar a ordem do format e :.2f  para pedir 2 valores flutuanetes\n",
        "\n"
      ],
      "execution_count": null,
      "outputs": [
        {
          "output_type": "stream",
          "name": "stdout",
          "text": [
            "As variaveis da lista em ordem crescente e com duas casas decimais serão:  1.05, 2.50, 5.27, 10.11 e 12.27\n"
          ]
        }
      ]
    },
    {
      "cell_type": "markdown",
      "metadata": {
        "id": "KZXuejyVIlRm"
      },
      "source": [
        "#### Format versões  3.7 +"
      ]
    },
    {
      "cell_type": "code",
      "metadata": {
        "id": "AZDWsq_IHXZJ"
      },
      "source": [
        "# Nas versões acima do Python 3.7, não precisa colocar o método .format() no final \n",
        "\n",
        "# Basta colocar \"f\" antes das aspas (para textos) e inserir a variável (objeto) dentro das chaves:\n"
      ],
      "execution_count": null,
      "outputs": []
    },
    {
      "cell_type": "code",
      "metadata": {
        "id": "cK1B3MMxSa6V"
      },
      "source": [
        "\n",
        "# Exemplos anteriores com format na versão 3.7+  :\n"
      ],
      "execution_count": null,
      "outputs": []
    },
    {
      "cell_type": "markdown",
      "metadata": {
        "id": "yintPCzeUE_d"
      },
      "source": [
        "##### Exemplo 1"
      ]
    },
    {
      "cell_type": "code",
      "metadata": {
        "colab": {
          "base_uri": "https://localhost:8080/"
        },
        "id": "dNT7cMmxSa-w",
        "outputId": "0a28bce1-2443-4b37-e881-093b4ff7e579"
      },
      "source": [
        "nome = input('Qual seu nome? ')   # input recebe informação digitada pelo usuário\n",
        "\n",
        "\n",
        "print(f'\\n\\n Olá {nome}, tenha bons estudos!')   #saída formatada , onde chaves { } serão substituida pela variável DENTRO da chave ( nome, no caso ) \n",
        "                                                         # \\n pula uma linha no print\n",
        "                                                         "
      ],
      "execution_count": null,
      "outputs": [
        {
          "output_type": "error",
          "ename": "KeyboardInterrupt",
          "evalue": "ignored",
          "traceback": [
            "\u001b[0;31m---------------------------------------------------------------------------\u001b[0m",
            "\u001b[0;31mKeyboardInterrupt\u001b[0m                         Traceback (most recent call last)",
            "\u001b[0;32m/usr/local/lib/python3.7/dist-packages/ipykernel/kernelbase.py\u001b[0m in \u001b[0;36m_input_request\u001b[0;34m(self, prompt, ident, parent, password)\u001b[0m\n\u001b[1;32m    728\u001b[0m             \u001b[0;32mtry\u001b[0m\u001b[0;34m:\u001b[0m\u001b[0;34m\u001b[0m\u001b[0;34m\u001b[0m\u001b[0m\n\u001b[0;32m--> 729\u001b[0;31m                 \u001b[0mident\u001b[0m\u001b[0;34m,\u001b[0m \u001b[0mreply\u001b[0m \u001b[0;34m=\u001b[0m \u001b[0mself\u001b[0m\u001b[0;34m.\u001b[0m\u001b[0msession\u001b[0m\u001b[0;34m.\u001b[0m\u001b[0mrecv\u001b[0m\u001b[0;34m(\u001b[0m\u001b[0mself\u001b[0m\u001b[0;34m.\u001b[0m\u001b[0mstdin_socket\u001b[0m\u001b[0;34m,\u001b[0m \u001b[0;36m0\u001b[0m\u001b[0;34m)\u001b[0m\u001b[0;34m\u001b[0m\u001b[0;34m\u001b[0m\u001b[0m\n\u001b[0m\u001b[1;32m    730\u001b[0m             \u001b[0;32mexcept\u001b[0m \u001b[0mException\u001b[0m\u001b[0;34m:\u001b[0m\u001b[0;34m\u001b[0m\u001b[0;34m\u001b[0m\u001b[0m\n",
            "\u001b[0;32m/usr/local/lib/python3.7/dist-packages/jupyter_client/session.py\u001b[0m in \u001b[0;36mrecv\u001b[0;34m(self, socket, mode, content, copy)\u001b[0m\n\u001b[1;32m    802\u001b[0m         \u001b[0;32mtry\u001b[0m\u001b[0;34m:\u001b[0m\u001b[0;34m\u001b[0m\u001b[0;34m\u001b[0m\u001b[0m\n\u001b[0;32m--> 803\u001b[0;31m             \u001b[0mmsg_list\u001b[0m \u001b[0;34m=\u001b[0m \u001b[0msocket\u001b[0m\u001b[0;34m.\u001b[0m\u001b[0mrecv_multipart\u001b[0m\u001b[0;34m(\u001b[0m\u001b[0mmode\u001b[0m\u001b[0;34m,\u001b[0m \u001b[0mcopy\u001b[0m\u001b[0;34m=\u001b[0m\u001b[0mcopy\u001b[0m\u001b[0;34m)\u001b[0m\u001b[0;34m\u001b[0m\u001b[0;34m\u001b[0m\u001b[0m\n\u001b[0m\u001b[1;32m    804\u001b[0m         \u001b[0;32mexcept\u001b[0m \u001b[0mzmq\u001b[0m\u001b[0;34m.\u001b[0m\u001b[0mZMQError\u001b[0m \u001b[0;32mas\u001b[0m \u001b[0me\u001b[0m\u001b[0;34m:\u001b[0m\u001b[0;34m\u001b[0m\u001b[0;34m\u001b[0m\u001b[0m\n",
            "\u001b[0;32m/usr/local/lib/python3.7/dist-packages/zmq/sugar/socket.py\u001b[0m in \u001b[0;36mrecv_multipart\u001b[0;34m(self, flags, copy, track)\u001b[0m\n\u001b[1;32m    624\u001b[0m         \"\"\"\n\u001b[0;32m--> 625\u001b[0;31m         \u001b[0mparts\u001b[0m \u001b[0;34m=\u001b[0m \u001b[0;34m[\u001b[0m\u001b[0mself\u001b[0m\u001b[0;34m.\u001b[0m\u001b[0mrecv\u001b[0m\u001b[0;34m(\u001b[0m\u001b[0mflags\u001b[0m\u001b[0;34m,\u001b[0m \u001b[0mcopy\u001b[0m\u001b[0;34m=\u001b[0m\u001b[0mcopy\u001b[0m\u001b[0;34m,\u001b[0m \u001b[0mtrack\u001b[0m\u001b[0;34m=\u001b[0m\u001b[0mtrack\u001b[0m\u001b[0;34m)\u001b[0m\u001b[0;34m]\u001b[0m\u001b[0;34m\u001b[0m\u001b[0;34m\u001b[0m\u001b[0m\n\u001b[0m\u001b[1;32m    626\u001b[0m         \u001b[0;31m# have first part already, only loop while more to receive\u001b[0m\u001b[0;34m\u001b[0m\u001b[0;34m\u001b[0m\u001b[0;34m\u001b[0m\u001b[0m\n",
            "\u001b[0;32mzmq/backend/cython/socket.pyx\u001b[0m in \u001b[0;36mzmq.backend.cython.socket.Socket.recv\u001b[0;34m()\u001b[0m\n",
            "\u001b[0;32mzmq/backend/cython/socket.pyx\u001b[0m in \u001b[0;36mzmq.backend.cython.socket.Socket.recv\u001b[0;34m()\u001b[0m\n",
            "\u001b[0;32mzmq/backend/cython/socket.pyx\u001b[0m in \u001b[0;36mzmq.backend.cython.socket._recv_copy\u001b[0;34m()\u001b[0m\n",
            "\u001b[0;32m/usr/local/lib/python3.7/dist-packages/zmq/backend/cython/checkrc.pxd\u001b[0m in \u001b[0;36mzmq.backend.cython.checkrc._check_rc\u001b[0;34m()\u001b[0m\n",
            "\u001b[0;31mKeyboardInterrupt\u001b[0m: ",
            "\nDuring handling of the above exception, another exception occurred:\n",
            "\u001b[0;31mKeyboardInterrupt\u001b[0m                         Traceback (most recent call last)",
            "\u001b[0;32m<ipython-input-148-bc646058ccf3>\u001b[0m in \u001b[0;36m<module>\u001b[0;34m()\u001b[0m\n\u001b[0;32m----> 1\u001b[0;31m \u001b[0mnome\u001b[0m \u001b[0;34m=\u001b[0m \u001b[0minput\u001b[0m\u001b[0;34m(\u001b[0m\u001b[0;34m'Qual seu nome? '\u001b[0m\u001b[0;34m)\u001b[0m   \u001b[0;31m# input recebe informação digitada pelo usuário\u001b[0m\u001b[0;34m\u001b[0m\u001b[0;34m\u001b[0m\u001b[0m\n\u001b[0m\u001b[1;32m      2\u001b[0m \u001b[0;34m\u001b[0m\u001b[0m\n\u001b[1;32m      3\u001b[0m \u001b[0;34m\u001b[0m\u001b[0m\n\u001b[1;32m      4\u001b[0m \u001b[0mprint\u001b[0m\u001b[0;34m(\u001b[0m\u001b[0;34mf'\\n\\n Olá {nome}, tenha bons estudos!'\u001b[0m\u001b[0;34m)\u001b[0m   \u001b[0;31m#saída formatada , onde chaves { } serão substituida pela variável DENTRO da chave ( nome, no caso )\u001b[0m\u001b[0;34m\u001b[0m\u001b[0;34m\u001b[0m\u001b[0m\n\u001b[1;32m      5\u001b[0m                                                          \u001b[0;31m# \\n pula uma linha no print\u001b[0m\u001b[0;34m\u001b[0m\u001b[0;34m\u001b[0m\u001b[0;34m\u001b[0m\u001b[0m\n",
            "\u001b[0;32m/usr/local/lib/python3.7/dist-packages/ipykernel/kernelbase.py\u001b[0m in \u001b[0;36mraw_input\u001b[0;34m(self, prompt)\u001b[0m\n\u001b[1;32m    702\u001b[0m             \u001b[0mself\u001b[0m\u001b[0;34m.\u001b[0m\u001b[0m_parent_ident\u001b[0m\u001b[0;34m,\u001b[0m\u001b[0;34m\u001b[0m\u001b[0;34m\u001b[0m\u001b[0m\n\u001b[1;32m    703\u001b[0m             \u001b[0mself\u001b[0m\u001b[0;34m.\u001b[0m\u001b[0m_parent_header\u001b[0m\u001b[0;34m,\u001b[0m\u001b[0;34m\u001b[0m\u001b[0;34m\u001b[0m\u001b[0m\n\u001b[0;32m--> 704\u001b[0;31m             \u001b[0mpassword\u001b[0m\u001b[0;34m=\u001b[0m\u001b[0;32mFalse\u001b[0m\u001b[0;34m,\u001b[0m\u001b[0;34m\u001b[0m\u001b[0;34m\u001b[0m\u001b[0m\n\u001b[0m\u001b[1;32m    705\u001b[0m         )\n\u001b[1;32m    706\u001b[0m \u001b[0;34m\u001b[0m\u001b[0m\n",
            "\u001b[0;32m/usr/local/lib/python3.7/dist-packages/ipykernel/kernelbase.py\u001b[0m in \u001b[0;36m_input_request\u001b[0;34m(self, prompt, ident, parent, password)\u001b[0m\n\u001b[1;32m    732\u001b[0m             \u001b[0;32mexcept\u001b[0m \u001b[0mKeyboardInterrupt\u001b[0m\u001b[0;34m:\u001b[0m\u001b[0;34m\u001b[0m\u001b[0;34m\u001b[0m\u001b[0m\n\u001b[1;32m    733\u001b[0m                 \u001b[0;31m# re-raise KeyboardInterrupt, to truncate traceback\u001b[0m\u001b[0;34m\u001b[0m\u001b[0;34m\u001b[0m\u001b[0;34m\u001b[0m\u001b[0m\n\u001b[0;32m--> 734\u001b[0;31m                 \u001b[0;32mraise\u001b[0m \u001b[0mKeyboardInterrupt\u001b[0m\u001b[0;34m\u001b[0m\u001b[0;34m\u001b[0m\u001b[0m\n\u001b[0m\u001b[1;32m    735\u001b[0m             \u001b[0;32melse\u001b[0m\u001b[0;34m:\u001b[0m\u001b[0;34m\u001b[0m\u001b[0;34m\u001b[0m\u001b[0m\n\u001b[1;32m    736\u001b[0m                 \u001b[0;32mbreak\u001b[0m\u001b[0;34m\u001b[0m\u001b[0;34m\u001b[0m\u001b[0m\n",
            "\u001b[0;31mKeyboardInterrupt\u001b[0m: "
          ]
        }
      ]
    },
    {
      "cell_type": "code",
      "metadata": {
        "id": "zsBQBR2HSbCy"
      },
      "source": [],
      "execution_count": null,
      "outputs": []
    },
    {
      "cell_type": "markdown",
      "metadata": {
        "id": "MkZ_OpIHUHKZ"
      },
      "source": [
        "##### Exemplo 2"
      ]
    },
    {
      "cell_type": "code",
      "metadata": {
        "id": "KjiN8q82TNf6"
      },
      "source": [
        "import math as mt"
      ],
      "execution_count": null,
      "outputs": []
    },
    {
      "cell_type": "code",
      "metadata": {
        "id": "TrF7IXXcTPF0"
      },
      "source": [
        "PIvalor = mt.pi\n",
        "PIvalor"
      ],
      "execution_count": null,
      "outputs": []
    },
    {
      "cell_type": "code",
      "metadata": {
        "id": "NyDV4Ni2TPJ2"
      },
      "source": [
        "print(f'Pi com duas casas decimais será {PIvalor :.2f}' )     # reduz a quantidade de casas decimais (para duas) ao passar a informação   :.2f   dentro da chave\n"
      ],
      "execution_count": null,
      "outputs": []
    },
    {
      "cell_type": "code",
      "metadata": {
        "id": "3TKtXIG_TnOD"
      },
      "source": [],
      "execution_count": null,
      "outputs": []
    },
    {
      "cell_type": "markdown",
      "metadata": {
        "id": "O5i8M2iXUL5A"
      },
      "source": [
        "##### Exemplo 3"
      ]
    },
    {
      "cell_type": "code",
      "metadata": {
        "id": "zyzNSNC9TnSo"
      },
      "source": [
        "nome2 = input(' Qual seu nome completo?  ')\n",
        "\n",
        "print(f'\\n prazer em te conhecer, {nome2 :20} !')          # :20   faz a informacao aparecer em 20 caracteres\n",
        "print(f'\\n prazer em te conhecer, {nome2 :>20} !')         # :>20  faz a informacao aparecer em 20 caracteres com alinhamento a direita\n",
        "print(f'\\n prazer em te conhecer, {nome2 :<20} !')         # :<20  faz a informacao aparecer em 20 caracteres com alinhamento a esquerda\n",
        "print(f'\\n prazer em te conhecer, {nome2 :=^20} !')        # :=^20 faz a informacao aparecer em 20 caracteres e o restante do espaço será preenchido por '='\n"
      ],
      "execution_count": null,
      "outputs": []
    },
    {
      "cell_type": "code",
      "metadata": {
        "id": "JBtWZayOT8XS"
      },
      "source": [],
      "execution_count": null,
      "outputs": []
    },
    {
      "cell_type": "code",
      "metadata": {
        "id": "ZyO4lgGOUQ6x"
      },
      "source": [],
      "execution_count": null,
      "outputs": []
    },
    {
      "cell_type": "markdown",
      "metadata": {
        "id": "VtkzlA2ZURO6"
      },
      "source": [
        "##### Exemplo 4"
      ]
    },
    {
      "cell_type": "code",
      "metadata": {
        "id": "xwdgP5lHT8bS"
      },
      "source": [
        "lista = [1.05 , 12.27 , 5.27, 2.5 , 10.1111 ]      # lista com Floats com diferentes casas decimáis "
      ],
      "execution_count": null,
      "outputs": []
    },
    {
      "cell_type": "code",
      "metadata": {
        "id": "ODc5ELJNUWri"
      },
      "source": [
        "print(f'Alguns dos valores da lista são : {lista[0]} e {lista[2]}' ) \n"
      ],
      "execution_count": null,
      "outputs": []
    },
    {
      "cell_type": "code",
      "metadata": {
        "id": "FG1NxPSDUdrs"
      },
      "source": [],
      "execution_count": null,
      "outputs": []
    },
    {
      "cell_type": "markdown",
      "metadata": {
        "id": "tcJyOQdzUeEp"
      },
      "source": [
        "##### Exemplo 5"
      ]
    },
    {
      "cell_type": "code",
      "metadata": {
        "id": "s_rvFZ_fUhvP"
      },
      "source": [
        "nome = 'Leandro'\n",
        "sobrenome = 'Pereira'\n",
        "ultimonome = 'Bernardo'"
      ],
      "execution_count": null,
      "outputs": []
    },
    {
      "cell_type": "code",
      "metadata": {
        "id": "-I6fR6EtU1aW"
      },
      "source": [
        "print(f'{nome}  possui último nome:  {ultimonome}  e nome do meio:  {sobrenome} ')\n"
      ],
      "execution_count": null,
      "outputs": []
    },
    {
      "cell_type": "markdown",
      "metadata": {
        "id": "021ljTVMUi3d"
      },
      "source": [
        "##### Exemplo 6"
      ]
    },
    {
      "cell_type": "code",
      "metadata": {
        "id": "fRyTjG8fUlZZ"
      },
      "source": [
        "lista = [1.05 , 12.27 , 5.27, 2.5 , 10.1111 ]       # lista com Floats com diferentes casas decimáis "
      ],
      "execution_count": null,
      "outputs": []
    },
    {
      "cell_type": "code",
      "metadata": {
        "id": "IofobfxvUldb"
      },
      "source": [
        "(lista[0], lista[1], lista[2], lista[3], lista[4])"
      ],
      "execution_count": null,
      "outputs": []
    },
    {
      "cell_type": "code",
      "metadata": {
        "id": "Wqr65Xa3T-Jm"
      },
      "source": [
        "print(f'As variaveis da lista em ordem crescente serão {lista[0]}, {lista[3]}, {lista[2]}, {lista[4]} e {lista[1]}')  \n"
      ],
      "execution_count": null,
      "outputs": []
    },
    {
      "cell_type": "markdown",
      "metadata": {
        "id": "Oz2MnulmUmMW"
      },
      "source": [
        "##### Exemplo 7"
      ]
    },
    {
      "cell_type": "code",
      "metadata": {
        "id": "bfxVUO4BUlkx"
      },
      "source": [
        "print(f'As variaveis da lista em ordem crescente e com duas casas decimais serão:  {lista[0]:.2f}, {lista[3]:.2f}, {lista[2]:.2f}, {lista[4]:.2f} e {lista[1]:.2f}')\n"
      ],
      "execution_count": null,
      "outputs": []
    },
    {
      "cell_type": "markdown",
      "metadata": {
        "id": "JBKZUeW0GYGR"
      },
      "source": [
        "### Cores  ( Terminar )"
      ]
    },
    {
      "cell_type": "code",
      "metadata": {
        "id": "9kmwFqR7GZ0r"
      },
      "source": [
        "#Cores no Terminal   \n",
        "\n",
        "# utiliza o codigo ANSI (escape sequence), que comeca com \\\n",
        "# o melhor codigo para cores no python e o 033\n",
        "\n"
      ],
      "execution_count": null,
      "outputs": []
    },
    {
      "cell_type": "code",
      "metadata": {
        "id": "vqk9YQRSGgwl"
      },
      "source": [
        "\n",
        "#  \\033[m      *Configuracao padrao do terminal  (fundo preto, cor cinza)\n",
        "#  OBS.: colchete  [  depois do \\033 !!\n",
        "#  OBS.: Pode-se usar esse comando para voltar pras configuracoes normais do terminal\n",
        "#           * (inclusive tirar o ``excesso`` de espaco da cor de fundo\n",
        "\n",
        "\n",
        "# \\033[ Style ; Text ; Back ; m      *  estilo da fonte , cor do texto, cor do fundo\n",
        "\n",
        "#  Style :\n",
        "\n",
        "# 0  -  Sem estilo\n",
        "# 1  -  Negrito\n",
        "# 4  -  Sublinhado\n",
        "# 7  -  Negativo   (inverte cores de fundo e da letra)\n",
        "\n",
        "#  Text  :        *cor do texto\n",
        "\n",
        "# 30  -  BRANCO\n",
        "# 31  -  VERMELHO\n",
        "# 32  -  VERDE\n",
        "# 33  -  AMARELO\n",
        "# 34  -  AZUL\n",
        "# 35  -  MAGENTA\n",
        "# 36  -  CIANO\n",
        "# 37  -  CINZA\n",
        "\n",
        "#OBS.: Existem outras cores, porem sera necessario importar modulos\n",
        "\n",
        "#  Back  :       *cor do fundo\n",
        "\n",
        "# 40  -  BRANCO\n",
        "# 41  -  VERMELHO\n",
        "# 42  -  VERDE\n",
        "# 43  -  AMARELO\n",
        "# 44  -  AZUL\n",
        "# 45  -  MAGENTA\n",
        "# 46  -  CIANO\n",
        "# 47  -  CINZA"
      ],
      "execution_count": null,
      "outputs": []
    },
    {
      "cell_type": "markdown",
      "metadata": {
        "id": "2NwV0XLQat3h"
      },
      "source": [
        "# Advanced Python"
      ]
    },
    {
      "cell_type": "markdown",
      "source": [
        "## Numpy"
      ],
      "metadata": {
        "id": "qJY6Ae3MBjK-"
      }
    },
    {
      "cell_type": "code",
      "source": [
        "import numpy as np"
      ],
      "metadata": {
        "id": "9cotJBJlBqLJ"
      },
      "execution_count": null,
      "outputs": []
    },
    {
      "cell_type": "markdown",
      "source": [
        "### Criação de Arrays"
      ],
      "metadata": {
        "id": "3xJf-o9TDwhp"
      }
    },
    {
      "cell_type": "code",
      "source": [
        "np.array([2,3,4]) # cria um array (vetor) "
      ],
      "metadata": {
        "colab": {
          "base_uri": "https://localhost:8080/"
        },
        "id": "8xpDz5t8BnpQ",
        "outputId": "b9053886-712e-4b1e-ce03-e9d12c0d086a"
      },
      "execution_count": null,
      "outputs": [
        {
          "output_type": "execute_result",
          "data": {
            "text/plain": [
              "array([2, 3, 4])"
            ]
          },
          "metadata": {},
          "execution_count": 9
        }
      ]
    },
    {
      "cell_type": "code",
      "source": [
        "np.arange(7) # cria um array sequencial com n posições (7, no caso; ultimo número não é incluido)"
      ],
      "metadata": {
        "colab": {
          "base_uri": "https://localhost:8080/"
        },
        "id": "HGbqUUx5MbHE",
        "outputId": "b9962487-9a25-4e16-afe4-e8579578a6fe"
      },
      "execution_count": null,
      "outputs": [
        {
          "output_type": "execute_result",
          "data": {
            "text/plain": [
              "array([0, 1, 2, 3, 4, 5, 6])"
            ]
          },
          "metadata": {},
          "execution_count": 4
        }
      ]
    },
    {
      "cell_type": "code",
      "source": [
        "np.arange(1.5,3.0,0.5) # cria um array num intervalo (no caso 1.5 até 3.0) com espacamentos definidos (a cada 0.5, no caso)"
      ],
      "metadata": {
        "colab": {
          "base_uri": "https://localhost:8080/"
        },
        "id": "enoNZt2AMpCr",
        "outputId": "21f53be5-7df7-4558-bce9-0c85b9b4f753"
      },
      "execution_count": null,
      "outputs": [
        {
          "output_type": "execute_result",
          "data": {
            "text/plain": [
              "array([1.5, 2. , 2.5])"
            ]
          },
          "metadata": {},
          "execution_count": 6
        }
      ]
    },
    {
      "cell_type": "code",
      "source": [
        "np.linspace(0,10,6) # cria um array no intervalo (0 a 10, no caso) igualmente espaçado (no caso, com 6 espassos) "
      ],
      "metadata": {
        "colab": {
          "base_uri": "https://localhost:8080/"
        },
        "id": "xcKmlTaCYYj5",
        "outputId": "50ed93f1-eb98-4237-f80a-adf3de63ff9f"
      },
      "execution_count": null,
      "outputs": [
        {
          "output_type": "execute_result",
          "data": {
            "text/plain": [
              "(array([ 0.,  2.,  4.,  6.,  8., 10.]), 2.0)"
            ]
          },
          "metadata": {},
          "execution_count": 3
        }
      ]
    },
    {
      "cell_type": "code",
      "source": [
        "z, dz = np.linspace(0,10,6,retstep = True) # retstep = True retorna o tamanho do passo]\n",
        "dz"
      ],
      "metadata": {
        "colab": {
          "base_uri": "https://localhost:8080/"
        },
        "id": "dzbybx_nY43y",
        "outputId": "13219ae2-c3e7-4f21-b297-876131ddcd13"
      },
      "execution_count": null,
      "outputs": [
        {
          "output_type": "execute_result",
          "data": {
            "text/plain": [
              "2.0"
            ]
          },
          "metadata": {},
          "execution_count": 5
        }
      ]
    },
    {
      "cell_type": "code",
      "source": [
        "np.zeros(3) # cria um array de dimensão n (3, no caso) com zeros"
      ],
      "metadata": {
        "colab": {
          "base_uri": "https://localhost:8080/"
        },
        "id": "6quBLj23DNl0",
        "outputId": "4b1082ce-3083-4ab1-e1c8-5fca75cd861b"
      },
      "execution_count": null,
      "outputs": [
        {
          "output_type": "execute_result",
          "data": {
            "text/plain": [
              "array([0., 0., 0.])"
            ]
          },
          "metadata": {},
          "execution_count": 10
        }
      ]
    },
    {
      "cell_type": "code",
      "source": [
        "np.ones((5,2)) # cria um array de dimensão n (5,2 no caso) com uns"
      ],
      "metadata": {
        "colab": {
          "base_uri": "https://localhost:8080/"
        },
        "id": "rYAOv-jTDXaJ",
        "outputId": "e2d5fb23-a823-4c24-f66c-408133637afb"
      },
      "execution_count": null,
      "outputs": [
        {
          "output_type": "execute_result",
          "data": {
            "text/plain": [
              "array([[1., 1.],\n",
              "       [1., 1.],\n",
              "       [1., 1.],\n",
              "       [1., 1.],\n",
              "       [1., 1.]])"
            ]
          },
          "metadata": {},
          "execution_count": 11
        }
      ]
    },
    {
      "cell_type": "code",
      "source": [
        "np.full(4,10) # cria um array de dimensão n (4, no caso) com o valor desejado (10, no caso)"
      ],
      "metadata": {
        "colab": {
          "base_uri": "https://localhost:8080/"
        },
        "id": "4i-PxsYNDgVA",
        "outputId": "6cc4900b-d3d7-45fc-d8f4-c19aecf2e0a0"
      },
      "execution_count": null,
      "outputs": [
        {
          "output_type": "execute_result",
          "data": {
            "text/plain": [
              "array([10, 10, 10, 10])"
            ]
          },
          "metadata": {},
          "execution_count": 13
        }
      ]
    },
    {
      "cell_type": "code",
      "source": [
        "np.eye(5) # cria uma matriz identidade de dimensão n (5, no caso) (mesmo que np.identity())"
      ],
      "metadata": {
        "colab": {
          "base_uri": "https://localhost:8080/"
        },
        "id": "lB6Gs-vXDstp",
        "outputId": "bf2c1e14-2155-432c-abf9-4a7a0ab4180f"
      },
      "execution_count": null,
      "outputs": [
        {
          "output_type": "execute_result",
          "data": {
            "text/plain": [
              "array([[1., 0., 0., 0., 0.],\n",
              "       [0., 1., 0., 0., 0.],\n",
              "       [0., 0., 1., 0., 0.],\n",
              "       [0., 0., 0., 1., 0.],\n",
              "       [0., 0., 0., 0., 1.]])"
            ]
          },
          "metadata": {},
          "execution_count": 14
        }
      ]
    },
    {
      "cell_type": "code",
      "source": [
        "np.empty(6) # cria um array com valores aleatórios (alocados da memória)"
      ],
      "metadata": {
        "colab": {
          "base_uri": "https://localhost:8080/"
        },
        "id": "spIAu0oMKdk7",
        "outputId": "50b2752e-49f4-4621-ea90-e82553152b11"
      },
      "execution_count": null,
      "outputs": [
        {
          "output_type": "execute_result",
          "data": {
            "text/plain": [
              "array([2.39895195e-316, 0.00000000e+000, 0.00000000e+000, 0.00000000e+000,\n",
              "       0.00000000e+000, 0.00000000e+000])"
            ]
          },
          "metadata": {},
          "execution_count": 17
        }
      ]
    },
    {
      "cell_type": "code",
      "source": [
        "np.logspace(0,2,4) # cria n valores (4, no caso) entre duas bases decimais (no caso, 10^0 e 10^2)"
      ],
      "metadata": {
        "colab": {
          "base_uri": "https://localhost:8080/"
        },
        "id": "-4eLQCUXR1Oz",
        "outputId": "3100708a-abbe-46bd-a313-c06f8f6a3edc"
      },
      "execution_count": null,
      "outputs": [
        {
          "output_type": "execute_result",
          "data": {
            "text/plain": [
              "array([  1.        ,   4.64158883,  21.5443469 , 100.        ])"
            ]
          },
          "metadata": {},
          "execution_count": 18
        }
      ]
    },
    {
      "cell_type": "code",
      "source": [
        "np.random.random((3,4)) # cria um array com numeros aleatórios "
      ],
      "metadata": {
        "id": "WHW0yoiJSE3R",
        "outputId": "722a3080-5983-4cfd-ebc5-a3acb29d9135",
        "colab": {
          "base_uri": "https://localhost:8080/"
        }
      },
      "execution_count": null,
      "outputs": [
        {
          "output_type": "execute_result",
          "data": {
            "text/plain": [
              "array([[0.15868206, 0.54562283, 0.4695005 , 0.61429611],\n",
              "       [0.39489092, 0.50362741, 0.66595914, 0.01591968],\n",
              "       [0.02127914, 0.78126286, 0.12488144, 0.96549523]])"
            ]
          },
          "metadata": {},
          "execution_count": 19
        }
      ]
    },
    {
      "cell_type": "code",
      "source": [],
      "metadata": {
        "id": "l9Jg8bF_MUCN"
      },
      "execution_count": null,
      "outputs": []
    },
    {
      "cell_type": "markdown",
      "metadata": {
        "id": "WEN4tDrsYPDl"
      },
      "source": []
    },
    {
      "cell_type": "markdown",
      "metadata": {
        "id": "dzE1svu3135A"
      },
      "source": [
        "## Pandas  \n",
        "Documentação : https://pandas.pydata.org/docs/user_guide/index.html\n",
        "\n",
        "Documentação (mais detalhes):  https://pandas.pydata.org/docs/reference/index.html\n",
        "\n",
        "\n",
        "\n",
        "###### Video Aulas    Pt 1 : https://www.youtube.com/watch?v=ip_26aeJAOY , Pt 2 :  https://www.youtube.com/watch?v=0p4aqnTdv2A\n",
        "\n",
        "\n"
      ]
    },
    {
      "cell_type": "code",
      "metadata": {
        "id": "hEYXe0BwuN54"
      },
      "source": [
        "# Usádo na ciência e na análise de dados ( junto com Numpy, Xarray, etc)\n",
        "# Os objetos desse módulo podem conter diferentes tipos de dados (string, inteiros, float)\n",
        "\n",
        "import pandas as pd"
      ],
      "execution_count": null,
      "outputs": []
    },
    {
      "cell_type": "markdown",
      "metadata": {
        "id": "rj862LiauEjb"
      },
      "source": [
        "### Séries\n",
        "\n",
        "Documentação : https://pandas.pydata.org/docs/reference/api/pandas.Series.html"
      ]
    },
    {
      "cell_type": "code",
      "metadata": {
        "colab": {
          "base_uri": "https://localhost:8080/"
        },
        "id": "Xc1EEphduNDT",
        "outputId": "ffa17783-83f5-4132-d48b-cab5a6de0617"
      },
      "source": [
        "# criado usando a funçao pd.Series( )\n",
        "\n",
        "cores = pd.Series({'Amarelo' : 'Primária' , 'Azul' : 'Primária' , 'Vermelho' : 'Primária', 'Verde' : 'Secundária' , 'Laranja' :'Secundária' , 'Roxo': 'Secundária'})\n",
        "cores\n",
        "\n",
        "# Cada key do dicionário vira um index"
      ],
      "execution_count": null,
      "outputs": [
        {
          "output_type": "execute_result",
          "data": {
            "text/plain": [
              "Amarelo       Primária\n",
              "Azul          Primária\n",
              "Vermelho      Primária\n",
              "Verde       Secundária\n",
              "Laranja     Secundária\n",
              "Roxo        Secundária\n",
              "dtype: object"
            ]
          },
          "metadata": {},
          "execution_count": 107
        }
      ]
    },
    {
      "cell_type": "code",
      "metadata": {
        "id": "THEvjNRoyAro",
        "colab": {
          "base_uri": "https://localhost:8080/",
          "height": 36
        },
        "outputId": "2605a697-577c-4f91-ca76-d4ca5fa95ec3"
      },
      "source": [
        "# Podemos acessar os valores da Série\n",
        "\n",
        "cores['Amarelo']"
      ],
      "execution_count": null,
      "outputs": [
        {
          "output_type": "execute_result",
          "data": {
            "application/vnd.google.colaboratory.intrinsic+json": {
              "type": "string"
            },
            "text/plain": [
              "'Primária'"
            ]
          },
          "metadata": {},
          "execution_count": 108
        }
      ]
    },
    {
      "cell_type": "code",
      "metadata": {
        "id": "BSDEw4jfyy0g",
        "colab": {
          "base_uri": "https://localhost:8080/",
          "height": 36
        },
        "outputId": "f123620e-0159-4780-d1ce-ce5c05cc6391"
      },
      "source": [
        "# Podemos acessar valores específicos da Série\n",
        "\n",
        "cores['Amarelo'][0]   # Pedindo acesso à primeira informação na chave 'Amarelo'\n",
        "                      # Retorna 'P' porquê a informação é um string (texto) e 'P' está na primeira posição dessa string"
      ],
      "execution_count": null,
      "outputs": [
        {
          "output_type": "execute_result",
          "data": {
            "application/vnd.google.colaboratory.intrinsic+json": {
              "type": "string"
            },
            "text/plain": [
              "'P'"
            ]
          },
          "metadata": {},
          "execution_count": 109
        }
      ]
    },
    {
      "cell_type": "code",
      "metadata": {
        "id": "TAv99UIryy3_",
        "colab": {
          "base_uri": "https://localhost:8080/",
          "height": 36
        },
        "outputId": "82bf6109-a18a-471d-fa14-539d8d042a7a"
      },
      "source": [
        "cores['Amarelo'][0 : 5]   # Slicing (implicito), pedindo informação no intervalo definido (5 não incluso)"
      ],
      "execution_count": null,
      "outputs": [
        {
          "output_type": "execute_result",
          "data": {
            "application/vnd.google.colaboratory.intrinsic+json": {
              "type": "string"
            },
            "text/plain": [
              "'Primá'"
            ]
          },
          "metadata": {},
          "execution_count": 110
        }
      ]
    },
    {
      "cell_type": "code",
      "metadata": {
        "id": "fIxIC-yIyy61",
        "colab": {
          "base_uri": "https://localhost:8080/",
          "height": 36
        },
        "outputId": "62ec90c2-19ac-45b9-8755-ac1e53da7073"
      },
      "source": [
        "cores['Amarelo'][:]     # Slicing, pedindo informação em todo o intervalo"
      ],
      "execution_count": null,
      "outputs": [
        {
          "output_type": "execute_result",
          "data": {
            "application/vnd.google.colaboratory.intrinsic+json": {
              "type": "string"
            },
            "text/plain": [
              "'Primária'"
            ]
          },
          "metadata": {},
          "execution_count": 111
        }
      ]
    },
    {
      "cell_type": "code",
      "metadata": {
        "id": "mjUzFCAiyWdM",
        "colab": {
          "base_uri": "https://localhost:8080/"
        },
        "outputId": "703c9d6d-63d8-4e47-e811-b945746739a7"
      },
      "source": [
        "# Podemos acessar vários valores de uma vez, se informarmos uma lista ao acesso usando o formato : Serie[ [ lista de valores a serem acessados ] ]  \n",
        "\n",
        "cores[ ['Amarelo','Azul'] ]"
      ],
      "execution_count": null,
      "outputs": [
        {
          "output_type": "execute_result",
          "data": {
            "text/plain": [
              "Amarelo    Primária\n",
              "Azul       Primária\n",
              "dtype: object"
            ]
          },
          "metadata": {},
          "execution_count": 112
        }
      ]
    },
    {
      "cell_type": "code",
      "metadata": {
        "id": "sKigGT0c8lqU"
      },
      "source": [
        "cores['Amarelo' , 'Azul']"
      ],
      "execution_count": null,
      "outputs": []
    },
    {
      "cell_type": "code",
      "metadata": {
        "id": "fQy0aZzkyywg",
        "colab": {
          "base_uri": "https://localhost:8080/",
          "height": 208
        },
        "outputId": "31af0de8-4fc4-4cbc-8f8f-6c51e7c14646"
      },
      "source": [
        "# Cuidado com a notação ! \n",
        "\n",
        "cores['Amarelo']['Azul']  # pede ao acesso a informação 'Azul' em 'Amarelo' (onde 'Azul' é considerado uma posição) "
      ],
      "execution_count": null,
      "outputs": [
        {
          "output_type": "error",
          "ename": "TypeError",
          "evalue": "ignored",
          "traceback": [
            "\u001b[0;31m---------------------------------------------------------------------------\u001b[0m",
            "\u001b[0;31mTypeError\u001b[0m                                 Traceback (most recent call last)",
            "\u001b[0;32m<ipython-input-113-a1ec9f72cf43>\u001b[0m in \u001b[0;36m<module>\u001b[0;34m()\u001b[0m\n\u001b[1;32m      1\u001b[0m \u001b[0;31m# Cuidado com a notação !\u001b[0m\u001b[0;34m\u001b[0m\u001b[0;34m\u001b[0m\u001b[0;34m\u001b[0m\u001b[0m\n\u001b[1;32m      2\u001b[0m \u001b[0;34m\u001b[0m\u001b[0m\n\u001b[0;32m----> 3\u001b[0;31m \u001b[0mcores\u001b[0m\u001b[0;34m[\u001b[0m\u001b[0;34m'Amarelo'\u001b[0m\u001b[0;34m]\u001b[0m\u001b[0;34m[\u001b[0m\u001b[0;34m'Azul'\u001b[0m\u001b[0;34m]\u001b[0m  \u001b[0;31m# pede ao acesso a informação 'Azul' em 'Amarelo' (onde 'Azul' é considerado uma posição)\u001b[0m\u001b[0;34m\u001b[0m\u001b[0;34m\u001b[0m\u001b[0m\n\u001b[0m",
            "\u001b[0;31mTypeError\u001b[0m: string indices must be integers"
          ]
        }
      ]
    },
    {
      "cell_type": "code",
      "metadata": {
        "id": "1YZpbd7uBLA4"
      },
      "source": [
        "# Cuidado com os nomes! \n",
        "\n",
        "cores['azul']  "
      ],
      "execution_count": null,
      "outputs": []
    },
    {
      "cell_type": "code",
      "metadata": {
        "id": "82K4t5NibRb-"
      },
      "source": [],
      "execution_count": null,
      "outputs": []
    },
    {
      "cell_type": "code",
      "metadata": {
        "id": "FEtQcaQ9yy9u",
        "colab": {
          "base_uri": "https://localhost:8080/"
        },
        "outputId": "264e66bf-ed43-46ab-d1c8-0009126fa19c"
      },
      "source": [
        "# podemos atribuir mais de uma informação para cada key da Série (como em um dicionário)\n",
        "\n",
        "cores2 = pd.Series({'Amarelo' : ['Primária',1] , 'Azul' : ['Primária',1] , 'Vermelho' : ['Primária',1], 'Verde' : ['Secundária',2] , 'Laranja' : ['Secundária',2] , 'Roxo': ['Secundária',2]})\n",
        "cores2"
      ],
      "execution_count": null,
      "outputs": [
        {
          "output_type": "execute_result",
          "data": {
            "text/plain": [
              "Amarelo       [Primária, 1]\n",
              "Azul          [Primária, 1]\n",
              "Vermelho      [Primária, 1]\n",
              "Verde       [Secundária, 2]\n",
              "Laranja     [Secundária, 2]\n",
              "Roxo        [Secundária, 2]\n",
              "dtype: object"
            ]
          },
          "metadata": {},
          "execution_count": 118
        }
      ]
    },
    {
      "cell_type": "code",
      "metadata": {
        "colab": {
          "base_uri": "https://localhost:8080/"
        },
        "id": "h1XZrwgpBLFd",
        "outputId": "2a63e849-f44d-4bb8-cfed-3e72c2466915"
      },
      "source": [
        "cores2['Azul']"
      ],
      "execution_count": null,
      "outputs": [
        {
          "output_type": "execute_result",
          "data": {
            "text/plain": [
              "['Primária', 1]"
            ]
          },
          "metadata": {},
          "execution_count": 119
        }
      ]
    },
    {
      "cell_type": "code",
      "metadata": {
        "id": "7FB7R_CABLJg",
        "colab": {
          "base_uri": "https://localhost:8080/",
          "height": 36
        },
        "outputId": "54e26e82-92cd-4dde-e94b-4e699670c164"
      },
      "source": [
        "# Como o valor (value) possui mais de uma informação, o acesso duplo retorna :\n",
        "\n",
        "cores2['Azul'][0]"
      ],
      "execution_count": null,
      "outputs": [
        {
          "output_type": "execute_result",
          "data": {
            "application/vnd.google.colaboratory.intrinsic+json": {
              "type": "string"
            },
            "text/plain": [
              "'Primária'"
            ]
          },
          "metadata": {},
          "execution_count": 120
        }
      ]
    },
    {
      "cell_type": "code",
      "metadata": {
        "colab": {
          "base_uri": "https://localhost:8080/"
        },
        "id": "6O7isN5n-Hd9",
        "outputId": "23fd0bb1-ab8d-453d-a8be-67590c2cccf5"
      },
      "source": [
        "cores2['Vermelho'][1]"
      ],
      "execution_count": null,
      "outputs": [
        {
          "output_type": "execute_result",
          "data": {
            "text/plain": [
              "1"
            ]
          },
          "metadata": {},
          "execution_count": 124
        }
      ]
    },
    {
      "cell_type": "code",
      "metadata": {
        "id": "Dwni2zASBx8w",
        "colab": {
          "base_uri": "https://localhost:8080/",
          "height": 36
        },
        "outputId": "a25a2547-30dd-4ad6-836d-61bc568d8031"
      },
      "source": [
        "# O acesso triplo retorna:\n",
        "\n",
        "cores2['Roxo'][0][0:3]  # pois o que está na posição zero do valor (value) é um string (texto) e pode ser subscrito mais uma vez"
      ],
      "execution_count": null,
      "outputs": [
        {
          "output_type": "execute_result",
          "data": {
            "application/vnd.google.colaboratory.intrinsic+json": {
              "type": "string"
            },
            "text/plain": [
              "'Sec'"
            ]
          },
          "metadata": {},
          "execution_count": 12
        }
      ]
    },
    {
      "cell_type": "code",
      "metadata": {
        "id": "8IJC1B0lCAFu",
        "colab": {
          "base_uri": "https://localhost:8080/"
        },
        "outputId": "2cad0f24-6607-41b1-e21b-fcc3d67c3e67"
      },
      "source": [
        "# O mesmo não acontece com o que está na posição 1 do valor (value)\n",
        "\n",
        "cores2['Roxo'][1][0]"
      ],
      "execution_count": null,
      "outputs": [
        {
          "output_type": "execute_result",
          "data": {
            "text/plain": [
              "2"
            ]
          },
          "metadata": {},
          "execution_count": 126
        }
      ]
    },
    {
      "cell_type": "code",
      "metadata": {
        "id": "9MrDn8S55zYg",
        "colab": {
          "base_uri": "https://localhost:8080/",
          "height": 36
        },
        "outputId": "1f3d67ba-9d3a-4328-cd7f-1d09f4bf03b9"
      },
      "source": [
        "cores2['Laranja'][0][0:]"
      ],
      "execution_count": null,
      "outputs": [
        {
          "output_type": "execute_result",
          "data": {
            "application/vnd.google.colaboratory.intrinsic+json": {
              "type": "string"
            },
            "text/plain": [
              "'Secundária'"
            ]
          },
          "metadata": {},
          "execution_count": 128
        }
      ]
    },
    {
      "cell_type": "code",
      "metadata": {
        "id": "7cNLJsHg5zdF"
      },
      "source": [
        "# Podemos criar uma Série a partir de dados pré existentes\n"
      ],
      "execution_count": null,
      "outputs": []
    },
    {
      "cell_type": "code",
      "metadata": {
        "id": "yoVdNPae5zhj"
      },
      "source": [
        "tamanho_rios = [6300,6650,6275,6400]"
      ],
      "execution_count": null,
      "outputs": []
    },
    {
      "cell_type": "code",
      "metadata": {
        "colab": {
          "base_uri": "https://localhost:8080/"
        },
        "id": "oddZ9eGT5zlL",
        "outputId": "14f7801d-d96d-4e84-e79c-cf4406ce3c95"
      },
      "source": [
        "dados = pd.Series(data = tamanho_rios , name = 'Comprimento')  # parâmentro:  data - Dados à serem utilizados na Série\n",
        "dados                                                         #              name - Nome dado à Série (atributo)"
      ],
      "execution_count": null,
      "outputs": [
        {
          "output_type": "execute_result",
          "data": {
            "text/plain": [
              "0    6300\n",
              "1    6650\n",
              "2    6275\n",
              "3    6400\n",
              "Name: Comprimento, dtype: int64"
            ]
          },
          "metadata": {},
          "execution_count": 130
        }
      ]
    },
    {
      "cell_type": "code",
      "metadata": {
        "colab": {
          "base_uri": "https://localhost:8080/",
          "height": 36
        },
        "id": "m0axCcu65zou",
        "outputId": "e65c0126-d70c-47e7-f17e-c36c3ba57ca0"
      },
      "source": [
        "dados.name  # acessando o atributo .name da Série"
      ],
      "execution_count": null,
      "outputs": [
        {
          "output_type": "execute_result",
          "data": {
            "application/vnd.google.colaboratory.intrinsic+json": {
              "type": "string"
            },
            "text/plain": [
              "'Comprimento'"
            ]
          },
          "metadata": {},
          "execution_count": 133
        }
      ]
    },
    {
      "cell_type": "code",
      "metadata": {
        "colab": {
          "base_uri": "https://localhost:8080/"
        },
        "id": "2OsSYr5d5ztU",
        "outputId": "8d4afe02-ebaf-49ce-91c7-891b43d62c1a"
      },
      "source": [
        "dados[0:2]   # acessando os valores contido na primeira linha (index 0) e na segunda linha (index 1)  \n",
        "             # Obs : 2 não é incluso no acesso ( Python não inclui o ultimo valor nos acessos! )"
      ],
      "execution_count": null,
      "outputs": [
        {
          "output_type": "execute_result",
          "data": {
            "text/plain": [
              "0    6300\n",
              "1    6650\n",
              "Name: Comprimento, dtype: int64"
            ]
          },
          "metadata": {},
          "execution_count": 134
        }
      ]
    },
    {
      "cell_type": "code",
      "metadata": {
        "id": "IN3KePkrAzUr"
      },
      "source": [],
      "execution_count": null,
      "outputs": []
    },
    {
      "cell_type": "code",
      "metadata": {
        "id": "BnzcmX2vCgha"
      },
      "source": [
        "# Podemos definir nomes para o Index \n"
      ],
      "execution_count": null,
      "outputs": []
    },
    {
      "cell_type": "code",
      "metadata": {
        "colab": {
          "base_uri": "https://localhost:8080/"
        },
        "id": "xtu1q7kVA65I",
        "outputId": "638f4d3a-3703-461e-9cca-d21b6b16d36b"
      },
      "source": [
        "dados   # Primeira Série criada, com indexação padrão"
      ],
      "execution_count": null,
      "outputs": [
        {
          "output_type": "execute_result",
          "data": {
            "text/plain": [
              "0    6300\n",
              "1    6650\n",
              "2    6275\n",
              "3    6400\n",
              "Name: Comprimento, dtype: int64"
            ]
          },
          "metadata": {},
          "execution_count": 149
        }
      ]
    },
    {
      "cell_type": "code",
      "metadata": {
        "id": "9P0nC-nl7QQA"
      },
      "source": [
        "nomes = ['Yangtze', 'Nilo', 'Mississippi', 'Amazonas']"
      ],
      "execution_count": null,
      "outputs": []
    },
    {
      "cell_type": "code",
      "metadata": {
        "id": "Rz-YZakB7Mib",
        "colab": {
          "base_uri": "https://localhost:8080/"
        },
        "outputId": "8e274c42-5c74-4e1c-a8d4-df6f110842ca"
      },
      "source": [
        "tamanho_rios"
      ],
      "execution_count": null,
      "outputs": [
        {
          "output_type": "execute_result",
          "data": {
            "text/plain": [
              "[6300, 6650, 6275, 6400]"
            ]
          },
          "metadata": {},
          "execution_count": 148
        }
      ]
    },
    {
      "cell_type": "code",
      "metadata": {
        "colab": {
          "base_uri": "https://localhost:8080/"
        },
        "id": "CG4gQALX7M-z",
        "outputId": "56b187d7-88e0-4262-e3d8-8381fcab5be1"
      },
      "source": [
        "dadosreal = pd.Series(data = tamanho_rios , index = nomes , name = 'Comprimento dos Rios', dtype = float)\n",
        "dadosreal"
      ],
      "execution_count": null,
      "outputs": [
        {
          "output_type": "execute_result",
          "data": {
            "text/plain": [
              "Yangtze        6300.0\n",
              "Nilo           6650.0\n",
              "Mississippi    6275.0\n",
              "Amazonas       6400.0\n",
              "Name: Comprimento dos Rios, dtype: float64"
            ]
          },
          "metadata": {},
          "execution_count": 147
        }
      ]
    },
    {
      "cell_type": "code",
      "metadata": {
        "colab": {
          "base_uri": "https://localhost:8080/"
        },
        "id": "OyNM3kJsBB8l",
        "outputId": "f3a4cce1-32f1-4f08-9d7b-749105cd33d8"
      },
      "source": [
        "dadosreal[0]"
      ],
      "execution_count": null,
      "outputs": [
        {
          "output_type": "execute_result",
          "data": {
            "text/plain": [
              "6300.0"
            ]
          },
          "metadata": {},
          "execution_count": 150
        }
      ]
    },
    {
      "cell_type": "code",
      "metadata": {
        "colab": {
          "base_uri": "https://localhost:8080/"
        },
        "id": "O-hxJfR6BCCW",
        "outputId": "87e16f37-47f1-4c8d-fc78-2169afe5d78b"
      },
      "source": [
        "dadosreal['Yangtze']"
      ],
      "execution_count": null,
      "outputs": [
        {
          "output_type": "execute_result",
          "data": {
            "text/plain": [
              "6300.0"
            ]
          },
          "metadata": {},
          "execution_count": 151
        }
      ]
    },
    {
      "cell_type": "code",
      "metadata": {
        "id": "SQoQwaBPBJpq"
      },
      "source": [],
      "execution_count": null,
      "outputs": []
    },
    {
      "cell_type": "code",
      "metadata": {
        "id": "3xHcw7H_8t4R"
      },
      "source": [
        "# Alguns atributos são :"
      ],
      "execution_count": null,
      "outputs": []
    },
    {
      "cell_type": "code",
      "metadata": {
        "colab": {
          "base_uri": "https://localhost:8080/",
          "height": 36
        },
        "id": "skbAWjgh7gyE",
        "outputId": "a8d98396-c132-4953-8a63-ce84486bfad2"
      },
      "source": [
        "dadosreal.name"
      ],
      "execution_count": null,
      "outputs": [
        {
          "output_type": "execute_result",
          "data": {
            "application/vnd.google.colaboratory.intrinsic+json": {
              "type": "string"
            },
            "text/plain": [
              "'Comprimento dos Rios'"
            ]
          },
          "metadata": {},
          "execution_count": 152
        }
      ]
    },
    {
      "cell_type": "code",
      "metadata": {
        "colab": {
          "base_uri": "https://localhost:8080/"
        },
        "id": "dHdAQIFJ7g2E",
        "outputId": "2946990d-4ead-4576-b747-dc4e8d29eab5"
      },
      "source": [
        "dadosreal.index , dadosreal.values"
      ],
      "execution_count": null,
      "outputs": [
        {
          "output_type": "execute_result",
          "data": {
            "text/plain": [
              "(Index(['Yangtze', 'Nilo', 'Mississippi', 'Amazonas'], dtype='object'),\n",
              " array([6300., 6650., 6275., 6400.]))"
            ]
          },
          "metadata": {},
          "execution_count": 153
        }
      ]
    },
    {
      "cell_type": "code",
      "metadata": {
        "colab": {
          "base_uri": "https://localhost:8080/"
        },
        "id": "n2EYwQYm7tWW",
        "outputId": "d83c0da8-7101-4529-f6d5-a0c43c09fb17"
      },
      "source": [
        "dadosreal.keys"
      ],
      "execution_count": null,
      "outputs": [
        {
          "output_type": "execute_result",
          "data": {
            "text/plain": [
              "<bound method Series.keys of Yangtze        6300.0\n",
              "Nilo           6650.0\n",
              "Mississippi    6275.0\n",
              "Amazonas       6400.0\n",
              "Name: Comprimento dos Rios, dtype: float64>"
            ]
          },
          "metadata": {},
          "execution_count": 154
        }
      ]
    },
    {
      "cell_type": "code",
      "metadata": {
        "id": "N9biLran74UL"
      },
      "source": [
        "# OBS .: Nota-se que os atributos de uma Série são as informações que são intriscicas a própria serie ( e a compõem )\n",
        "\n",
        "# Ver documentação (link) para ver todos os atributos de uma Série"
      ],
      "execution_count": null,
      "outputs": []
    },
    {
      "cell_type": "code",
      "metadata": {
        "id": "1zRuJA-k74YL"
      },
      "source": [],
      "execution_count": null,
      "outputs": []
    },
    {
      "cell_type": "code",
      "metadata": {
        "id": "w73E6n-u_EHK"
      },
      "source": [],
      "execution_count": null,
      "outputs": []
    },
    {
      "cell_type": "markdown",
      "metadata": {
        "id": "V2U5pJY1_EdU"
      },
      "source": [
        "### DataFrame\n",
        "\n",
        "Documentação : https://pandas.pydata.org/docs/reference/api/pandas.DataFrame.html"
      ]
    },
    {
      "cell_type": "code",
      "metadata": {
        "id": "HGvacwN__IV7"
      },
      "source": [
        "# Um DataFrame ́e uma tabela (matriz) de dados\n",
        "\n",
        "# Criado usando a funçao pd.DataFrame( )\n"
      ],
      "execution_count": null,
      "outputs": []
    },
    {
      "cell_type": "code",
      "metadata": {
        "id": "ldgWeZGdYLVZ"
      },
      "source": [
        "# Listas com informações diversas  \n",
        "\n",
        "Velocidade = [0 , 0.4026 , 1.0926 , 1.2168 , 0.9030 , 0.7050 , 1.279 , 0.7704 , 0.9278 , 0.4271 , 1.0301 , 1.2920 , 0.2396 , 0.8029 , 0.5913 , 0.3973 , 0.8494 , 0.2310 , 0.7711]\n",
        "Estacoes = [0,1,2,3,4,4,5,5,6,6,7,8,8,9,10,10,11,11,12]\n",
        "Prof = [0 , 0.6 , 0.56 , 0.46 , 0.66 , 0.66 , 0.66 , 0.66 , 0.9 , 0.9 , 0.6 , 0.8 , 0.8 , 0.6 , 0.82 , 0.82 , 0.78 , 0.78 , 0.7]\n",
        "porcprof = [0.0,0.6,0.6,0.6,0.2,0.8,0.2,0.8,0.2,0.8,0.6,0.2,0.8,0.6,0.2,0.8,0.2,0.8,0.6]\n",
        "PMed = [.0,0.24,0.224,0.184,0.528,0.132,0.558,0.132,0.720,0.180,0.240,0.640,0.160,0.240,0.656,0.164,0.624,0.156,0.560]\n",
        "Loc = [2.8,3.,5.,7.,9.,9.,11.,11.,13.,13.,15.,17.,17.,19.,21.,21.,23.,23.,25.]\n",
        "Horas = ['13:21:00','13:21:00','13:23:00','13:24:00','13:26:00','13:27:00','13:29:00','13:28:00','13:30:00','13:31:00','13:33:00','13:35:00','13:36:00','13:38:00','13:40:00','13:42:00','13:45:00','13:44:00','13:46:00']\n"
      ],
      "execution_count": null,
      "outputs": []
    },
    {
      "cell_type": "code",
      "metadata": {
        "colab": {
          "base_uri": "https://localhost:8080/"
        },
        "id": "bCr6geEhhAd7",
        "outputId": "34a9362a-7e46-4934-db4d-848cef262004"
      },
      "source": [
        "# Um DataFrame pode ser criados a partir de uma base de dados : Listas, Dicionários, Series, Arquivos Externos, etc , DESDE QUE TODOS OS DADOS TENHAM A MESMA QUANTIDADE DE ITENS ( tamanho ) !!! \n",
        "\n",
        "# Pode-se checar o tamanho usando a função interna:  len() \n",
        "\n",
        "print( len(Velocidade), len(Estacoes), len(Prof), len(porcprof), len(PMed), len(Loc), len(Horas) )"
      ],
      "execution_count": null,
      "outputs": [
        {
          "output_type": "stream",
          "name": "stdout",
          "text": [
            "19 19 19 19 19 19 19\n"
          ]
        }
      ]
    },
    {
      "cell_type": "code",
      "metadata": {
        "colab": {
          "base_uri": "https://localhost:8080/",
          "height": 175
        },
        "id": "vXkBI_XkYogH",
        "outputId": "af53adf1-e990-4640-bc68-f8550e5fa518"
      },
      "source": [
        "dados = pd.DataFrame( data  = [ Velocidade , Estacoes , Prof , Loc ] )\n",
        "\n",
        "# DataFrame criado a partir dos parâmetros informados ( Velocidade, Estacoes, Prof e Loc )\n",
        "# Observe que o parâmetro DATA recebeu uma única informação ( uma lista com os dados desejados ! )\n",
        "# A Indexação será feita a partir da ordem que os dados foram informados  (Velocidade : 0 , Estacoes : 1 , Prof : 2 , Loc : 3)\n",
        "\n",
        "dados"
      ],
      "execution_count": null,
      "outputs": [
        {
          "output_type": "execute_result",
          "data": {
            "text/html": [
              "\n",
              "  <div id=\"df-e4102c8c-1ee9-443b-8ef0-ac4e3509112f\">\n",
              "    <div class=\"colab-df-container\">\n",
              "      <div>\n",
              "<style scoped>\n",
              "    .dataframe tbody tr th:only-of-type {\n",
              "        vertical-align: middle;\n",
              "    }\n",
              "\n",
              "    .dataframe tbody tr th {\n",
              "        vertical-align: top;\n",
              "    }\n",
              "\n",
              "    .dataframe thead th {\n",
              "        text-align: right;\n",
              "    }\n",
              "</style>\n",
              "<table border=\"1\" class=\"dataframe\">\n",
              "  <thead>\n",
              "    <tr style=\"text-align: right;\">\n",
              "      <th></th>\n",
              "      <th>0</th>\n",
              "      <th>1</th>\n",
              "      <th>2</th>\n",
              "      <th>3</th>\n",
              "      <th>4</th>\n",
              "      <th>5</th>\n",
              "      <th>6</th>\n",
              "      <th>7</th>\n",
              "      <th>8</th>\n",
              "      <th>9</th>\n",
              "      <th>10</th>\n",
              "      <th>11</th>\n",
              "      <th>12</th>\n",
              "      <th>13</th>\n",
              "      <th>14</th>\n",
              "      <th>15</th>\n",
              "      <th>16</th>\n",
              "      <th>17</th>\n",
              "      <th>18</th>\n",
              "    </tr>\n",
              "  </thead>\n",
              "  <tbody>\n",
              "    <tr>\n",
              "      <th>0</th>\n",
              "      <td>0.0</td>\n",
              "      <td>0.4026</td>\n",
              "      <td>1.0926</td>\n",
              "      <td>1.2168</td>\n",
              "      <td>0.903</td>\n",
              "      <td>0.705</td>\n",
              "      <td>1.279</td>\n",
              "      <td>0.7704</td>\n",
              "      <td>0.9278</td>\n",
              "      <td>0.4271</td>\n",
              "      <td>1.0301</td>\n",
              "      <td>1.292</td>\n",
              "      <td>0.2396</td>\n",
              "      <td>0.8029</td>\n",
              "      <td>0.5913</td>\n",
              "      <td>0.3973</td>\n",
              "      <td>0.8494</td>\n",
              "      <td>0.231</td>\n",
              "      <td>0.7711</td>\n",
              "    </tr>\n",
              "    <tr>\n",
              "      <th>1</th>\n",
              "      <td>0.0</td>\n",
              "      <td>1.0000</td>\n",
              "      <td>2.0000</td>\n",
              "      <td>3.0000</td>\n",
              "      <td>4.000</td>\n",
              "      <td>4.000</td>\n",
              "      <td>5.000</td>\n",
              "      <td>5.0000</td>\n",
              "      <td>6.0000</td>\n",
              "      <td>6.0000</td>\n",
              "      <td>7.0000</td>\n",
              "      <td>8.000</td>\n",
              "      <td>8.0000</td>\n",
              "      <td>9.0000</td>\n",
              "      <td>10.0000</td>\n",
              "      <td>10.0000</td>\n",
              "      <td>11.0000</td>\n",
              "      <td>11.000</td>\n",
              "      <td>12.0000</td>\n",
              "    </tr>\n",
              "    <tr>\n",
              "      <th>2</th>\n",
              "      <td>0.0</td>\n",
              "      <td>0.6000</td>\n",
              "      <td>0.5600</td>\n",
              "      <td>0.4600</td>\n",
              "      <td>0.660</td>\n",
              "      <td>0.660</td>\n",
              "      <td>0.660</td>\n",
              "      <td>0.6600</td>\n",
              "      <td>0.9000</td>\n",
              "      <td>0.9000</td>\n",
              "      <td>0.6000</td>\n",
              "      <td>0.800</td>\n",
              "      <td>0.8000</td>\n",
              "      <td>0.6000</td>\n",
              "      <td>0.8200</td>\n",
              "      <td>0.8200</td>\n",
              "      <td>0.7800</td>\n",
              "      <td>0.780</td>\n",
              "      <td>0.7000</td>\n",
              "    </tr>\n",
              "    <tr>\n",
              "      <th>3</th>\n",
              "      <td>2.8</td>\n",
              "      <td>3.0000</td>\n",
              "      <td>5.0000</td>\n",
              "      <td>7.0000</td>\n",
              "      <td>9.000</td>\n",
              "      <td>9.000</td>\n",
              "      <td>11.000</td>\n",
              "      <td>11.0000</td>\n",
              "      <td>13.0000</td>\n",
              "      <td>13.0000</td>\n",
              "      <td>15.0000</td>\n",
              "      <td>17.000</td>\n",
              "      <td>17.0000</td>\n",
              "      <td>19.0000</td>\n",
              "      <td>21.0000</td>\n",
              "      <td>21.0000</td>\n",
              "      <td>23.0000</td>\n",
              "      <td>23.000</td>\n",
              "      <td>25.0000</td>\n",
              "    </tr>\n",
              "  </tbody>\n",
              "</table>\n",
              "</div>\n",
              "      <button class=\"colab-df-convert\" onclick=\"convertToInteractive('df-e4102c8c-1ee9-443b-8ef0-ac4e3509112f')\"\n",
              "              title=\"Convert this dataframe to an interactive table.\"\n",
              "              style=\"display:none;\">\n",
              "        \n",
              "  <svg xmlns=\"http://www.w3.org/2000/svg\" height=\"24px\"viewBox=\"0 0 24 24\"\n",
              "       width=\"24px\">\n",
              "    <path d=\"M0 0h24v24H0V0z\" fill=\"none\"/>\n",
              "    <path d=\"M18.56 5.44l.94 2.06.94-2.06 2.06-.94-2.06-.94-.94-2.06-.94 2.06-2.06.94zm-11 1L8.5 8.5l.94-2.06 2.06-.94-2.06-.94L8.5 2.5l-.94 2.06-2.06.94zm10 10l.94 2.06.94-2.06 2.06-.94-2.06-.94-.94-2.06-.94 2.06-2.06.94z\"/><path d=\"M17.41 7.96l-1.37-1.37c-.4-.4-.92-.59-1.43-.59-.52 0-1.04.2-1.43.59L10.3 9.45l-7.72 7.72c-.78.78-.78 2.05 0 2.83L4 21.41c.39.39.9.59 1.41.59.51 0 1.02-.2 1.41-.59l7.78-7.78 2.81-2.81c.8-.78.8-2.07 0-2.86zM5.41 20L4 18.59l7.72-7.72 1.47 1.35L5.41 20z\"/>\n",
              "  </svg>\n",
              "      </button>\n",
              "      \n",
              "  <style>\n",
              "    .colab-df-container {\n",
              "      display:flex;\n",
              "      flex-wrap:wrap;\n",
              "      gap: 12px;\n",
              "    }\n",
              "\n",
              "    .colab-df-convert {\n",
              "      background-color: #E8F0FE;\n",
              "      border: none;\n",
              "      border-radius: 50%;\n",
              "      cursor: pointer;\n",
              "      display: none;\n",
              "      fill: #1967D2;\n",
              "      height: 32px;\n",
              "      padding: 0 0 0 0;\n",
              "      width: 32px;\n",
              "    }\n",
              "\n",
              "    .colab-df-convert:hover {\n",
              "      background-color: #E2EBFA;\n",
              "      box-shadow: 0px 1px 2px rgba(60, 64, 67, 0.3), 0px 1px 3px 1px rgba(60, 64, 67, 0.15);\n",
              "      fill: #174EA6;\n",
              "    }\n",
              "\n",
              "    [theme=dark] .colab-df-convert {\n",
              "      background-color: #3B4455;\n",
              "      fill: #D2E3FC;\n",
              "    }\n",
              "\n",
              "    [theme=dark] .colab-df-convert:hover {\n",
              "      background-color: #434B5C;\n",
              "      box-shadow: 0px 1px 3px 1px rgba(0, 0, 0, 0.15);\n",
              "      filter: drop-shadow(0px 1px 2px rgba(0, 0, 0, 0.3));\n",
              "      fill: #FFFFFF;\n",
              "    }\n",
              "  </style>\n",
              "\n",
              "      <script>\n",
              "        const buttonEl =\n",
              "          document.querySelector('#df-e4102c8c-1ee9-443b-8ef0-ac4e3509112f button.colab-df-convert');\n",
              "        buttonEl.style.display =\n",
              "          google.colab.kernel.accessAllowed ? 'block' : 'none';\n",
              "\n",
              "        async function convertToInteractive(key) {\n",
              "          const element = document.querySelector('#df-e4102c8c-1ee9-443b-8ef0-ac4e3509112f');\n",
              "          const dataTable =\n",
              "            await google.colab.kernel.invokeFunction('convertToInteractive',\n",
              "                                                     [key], {});\n",
              "          if (!dataTable) return;\n",
              "\n",
              "          const docLinkHtml = 'Like what you see? Visit the ' +\n",
              "            '<a target=\"_blank\" href=https://colab.research.google.com/notebooks/data_table.ipynb>data table notebook</a>'\n",
              "            + ' to learn more about interactive tables.';\n",
              "          element.innerHTML = '';\n",
              "          dataTable['output_type'] = 'display_data';\n",
              "          await google.colab.output.renderOutput(dataTable, element);\n",
              "          const docLink = document.createElement('div');\n",
              "          docLink.innerHTML = docLinkHtml;\n",
              "          element.appendChild(docLink);\n",
              "        }\n",
              "      </script>\n",
              "    </div>\n",
              "  </div>\n",
              "  "
            ],
            "text/plain": [
              "    0       1       2       3   ...       15       16      17       18\n",
              "0  0.0  0.4026  1.0926  1.2168  ...   0.3973   0.8494   0.231   0.7711\n",
              "1  0.0  1.0000  2.0000  3.0000  ...  10.0000  11.0000  11.000  12.0000\n",
              "2  0.0  0.6000  0.5600  0.4600  ...   0.8200   0.7800   0.780   0.7000\n",
              "3  2.8  3.0000  5.0000  7.0000  ...  21.0000  23.0000  23.000  25.0000\n",
              "\n",
              "[4 rows x 19 columns]"
            ]
          },
          "metadata": {},
          "execution_count": 4
        }
      ]
    },
    {
      "cell_type": "code",
      "metadata": {
        "colab": {
          "base_uri": "https://localhost:8080/",
          "height": 175
        },
        "id": "7w-A4xd-arvH",
        "outputId": "a211c225-163b-4066-c16e-e914bb900005"
      },
      "source": [
        "dados.rename(index = {0 : 'Velocidade' , 1 : 'Estacoes' , 2 : 'Prof' , 3 : 'Loc' })\n",
        "\n",
        "# Metodo .rename() renomeia linhas (parâmetro  index) ou colunas (parâmetro  columns ) ...\n",
        "# ... de acordo com os parâmetros informados, em formato de dicionário (!!) onde a Key é o nome antigo e o Value é o nome novo"
      ],
      "execution_count": null,
      "outputs": [
        {
          "output_type": "execute_result",
          "data": {
            "text/html": [
              "\n",
              "  <div id=\"df-df3095b9-f3a8-4869-bb7f-8a1c6eb97413\">\n",
              "    <div class=\"colab-df-container\">\n",
              "      <div>\n",
              "<style scoped>\n",
              "    .dataframe tbody tr th:only-of-type {\n",
              "        vertical-align: middle;\n",
              "    }\n",
              "\n",
              "    .dataframe tbody tr th {\n",
              "        vertical-align: top;\n",
              "    }\n",
              "\n",
              "    .dataframe thead th {\n",
              "        text-align: right;\n",
              "    }\n",
              "</style>\n",
              "<table border=\"1\" class=\"dataframe\">\n",
              "  <thead>\n",
              "    <tr style=\"text-align: right;\">\n",
              "      <th></th>\n",
              "      <th>0</th>\n",
              "      <th>1</th>\n",
              "      <th>2</th>\n",
              "      <th>3</th>\n",
              "      <th>4</th>\n",
              "      <th>5</th>\n",
              "      <th>6</th>\n",
              "      <th>7</th>\n",
              "      <th>8</th>\n",
              "      <th>9</th>\n",
              "      <th>10</th>\n",
              "      <th>11</th>\n",
              "      <th>12</th>\n",
              "      <th>13</th>\n",
              "      <th>14</th>\n",
              "      <th>15</th>\n",
              "      <th>16</th>\n",
              "      <th>17</th>\n",
              "      <th>18</th>\n",
              "    </tr>\n",
              "  </thead>\n",
              "  <tbody>\n",
              "    <tr>\n",
              "      <th>Velocidade</th>\n",
              "      <td>0.0</td>\n",
              "      <td>0.4026</td>\n",
              "      <td>1.0926</td>\n",
              "      <td>1.2168</td>\n",
              "      <td>0.903</td>\n",
              "      <td>0.705</td>\n",
              "      <td>1.279</td>\n",
              "      <td>0.7704</td>\n",
              "      <td>0.9278</td>\n",
              "      <td>0.4271</td>\n",
              "      <td>1.0301</td>\n",
              "      <td>1.292</td>\n",
              "      <td>0.2396</td>\n",
              "      <td>0.8029</td>\n",
              "      <td>0.5913</td>\n",
              "      <td>0.3973</td>\n",
              "      <td>0.8494</td>\n",
              "      <td>0.231</td>\n",
              "      <td>0.7711</td>\n",
              "    </tr>\n",
              "    <tr>\n",
              "      <th>Estacoes</th>\n",
              "      <td>0.0</td>\n",
              "      <td>1.0000</td>\n",
              "      <td>2.0000</td>\n",
              "      <td>3.0000</td>\n",
              "      <td>4.000</td>\n",
              "      <td>4.000</td>\n",
              "      <td>5.000</td>\n",
              "      <td>5.0000</td>\n",
              "      <td>6.0000</td>\n",
              "      <td>6.0000</td>\n",
              "      <td>7.0000</td>\n",
              "      <td>8.000</td>\n",
              "      <td>8.0000</td>\n",
              "      <td>9.0000</td>\n",
              "      <td>10.0000</td>\n",
              "      <td>10.0000</td>\n",
              "      <td>11.0000</td>\n",
              "      <td>11.000</td>\n",
              "      <td>12.0000</td>\n",
              "    </tr>\n",
              "    <tr>\n",
              "      <th>Prof</th>\n",
              "      <td>0.0</td>\n",
              "      <td>0.6000</td>\n",
              "      <td>0.5600</td>\n",
              "      <td>0.4600</td>\n",
              "      <td>0.660</td>\n",
              "      <td>0.660</td>\n",
              "      <td>0.660</td>\n",
              "      <td>0.6600</td>\n",
              "      <td>0.9000</td>\n",
              "      <td>0.9000</td>\n",
              "      <td>0.6000</td>\n",
              "      <td>0.800</td>\n",
              "      <td>0.8000</td>\n",
              "      <td>0.6000</td>\n",
              "      <td>0.8200</td>\n",
              "      <td>0.8200</td>\n",
              "      <td>0.7800</td>\n",
              "      <td>0.780</td>\n",
              "      <td>0.7000</td>\n",
              "    </tr>\n",
              "    <tr>\n",
              "      <th>Loc</th>\n",
              "      <td>2.8</td>\n",
              "      <td>3.0000</td>\n",
              "      <td>5.0000</td>\n",
              "      <td>7.0000</td>\n",
              "      <td>9.000</td>\n",
              "      <td>9.000</td>\n",
              "      <td>11.000</td>\n",
              "      <td>11.0000</td>\n",
              "      <td>13.0000</td>\n",
              "      <td>13.0000</td>\n",
              "      <td>15.0000</td>\n",
              "      <td>17.000</td>\n",
              "      <td>17.0000</td>\n",
              "      <td>19.0000</td>\n",
              "      <td>21.0000</td>\n",
              "      <td>21.0000</td>\n",
              "      <td>23.0000</td>\n",
              "      <td>23.000</td>\n",
              "      <td>25.0000</td>\n",
              "    </tr>\n",
              "  </tbody>\n",
              "</table>\n",
              "</div>\n",
              "      <button class=\"colab-df-convert\" onclick=\"convertToInteractive('df-df3095b9-f3a8-4869-bb7f-8a1c6eb97413')\"\n",
              "              title=\"Convert this dataframe to an interactive table.\"\n",
              "              style=\"display:none;\">\n",
              "        \n",
              "  <svg xmlns=\"http://www.w3.org/2000/svg\" height=\"24px\"viewBox=\"0 0 24 24\"\n",
              "       width=\"24px\">\n",
              "    <path d=\"M0 0h24v24H0V0z\" fill=\"none\"/>\n",
              "    <path d=\"M18.56 5.44l.94 2.06.94-2.06 2.06-.94-2.06-.94-.94-2.06-.94 2.06-2.06.94zm-11 1L8.5 8.5l.94-2.06 2.06-.94-2.06-.94L8.5 2.5l-.94 2.06-2.06.94zm10 10l.94 2.06.94-2.06 2.06-.94-2.06-.94-.94-2.06-.94 2.06-2.06.94z\"/><path d=\"M17.41 7.96l-1.37-1.37c-.4-.4-.92-.59-1.43-.59-.52 0-1.04.2-1.43.59L10.3 9.45l-7.72 7.72c-.78.78-.78 2.05 0 2.83L4 21.41c.39.39.9.59 1.41.59.51 0 1.02-.2 1.41-.59l7.78-7.78 2.81-2.81c.8-.78.8-2.07 0-2.86zM5.41 20L4 18.59l7.72-7.72 1.47 1.35L5.41 20z\"/>\n",
              "  </svg>\n",
              "      </button>\n",
              "      \n",
              "  <style>\n",
              "    .colab-df-container {\n",
              "      display:flex;\n",
              "      flex-wrap:wrap;\n",
              "      gap: 12px;\n",
              "    }\n",
              "\n",
              "    .colab-df-convert {\n",
              "      background-color: #E8F0FE;\n",
              "      border: none;\n",
              "      border-radius: 50%;\n",
              "      cursor: pointer;\n",
              "      display: none;\n",
              "      fill: #1967D2;\n",
              "      height: 32px;\n",
              "      padding: 0 0 0 0;\n",
              "      width: 32px;\n",
              "    }\n",
              "\n",
              "    .colab-df-convert:hover {\n",
              "      background-color: #E2EBFA;\n",
              "      box-shadow: 0px 1px 2px rgba(60, 64, 67, 0.3), 0px 1px 3px 1px rgba(60, 64, 67, 0.15);\n",
              "      fill: #174EA6;\n",
              "    }\n",
              "\n",
              "    [theme=dark] .colab-df-convert {\n",
              "      background-color: #3B4455;\n",
              "      fill: #D2E3FC;\n",
              "    }\n",
              "\n",
              "    [theme=dark] .colab-df-convert:hover {\n",
              "      background-color: #434B5C;\n",
              "      box-shadow: 0px 1px 3px 1px rgba(0, 0, 0, 0.15);\n",
              "      filter: drop-shadow(0px 1px 2px rgba(0, 0, 0, 0.3));\n",
              "      fill: #FFFFFF;\n",
              "    }\n",
              "  </style>\n",
              "\n",
              "      <script>\n",
              "        const buttonEl =\n",
              "          document.querySelector('#df-df3095b9-f3a8-4869-bb7f-8a1c6eb97413 button.colab-df-convert');\n",
              "        buttonEl.style.display =\n",
              "          google.colab.kernel.accessAllowed ? 'block' : 'none';\n",
              "\n",
              "        async function convertToInteractive(key) {\n",
              "          const element = document.querySelector('#df-df3095b9-f3a8-4869-bb7f-8a1c6eb97413');\n",
              "          const dataTable =\n",
              "            await google.colab.kernel.invokeFunction('convertToInteractive',\n",
              "                                                     [key], {});\n",
              "          if (!dataTable) return;\n",
              "\n",
              "          const docLinkHtml = 'Like what you see? Visit the ' +\n",
              "            '<a target=\"_blank\" href=https://colab.research.google.com/notebooks/data_table.ipynb>data table notebook</a>'\n",
              "            + ' to learn more about interactive tables.';\n",
              "          element.innerHTML = '';\n",
              "          dataTable['output_type'] = 'display_data';\n",
              "          await google.colab.output.renderOutput(dataTable, element);\n",
              "          const docLink = document.createElement('div');\n",
              "          docLink.innerHTML = docLinkHtml;\n",
              "          element.appendChild(docLink);\n",
              "        }\n",
              "      </script>\n",
              "    </div>\n",
              "  </div>\n",
              "  "
            ],
            "text/plain": [
              "             0       1       2       3   ...       15       16      17       18\n",
              "Velocidade  0.0  0.4026  1.0926  1.2168  ...   0.3973   0.8494   0.231   0.7711\n",
              "Estacoes    0.0  1.0000  2.0000  3.0000  ...  10.0000  11.0000  11.000  12.0000\n",
              "Prof        0.0  0.6000  0.5600  0.4600  ...   0.8200   0.7800   0.780   0.7000\n",
              "Loc         2.8  3.0000  5.0000  7.0000  ...  21.0000  23.0000  23.000  25.0000\n",
              "\n",
              "[4 rows x 19 columns]"
            ]
          },
          "metadata": {},
          "execution_count": 5
        }
      ]
    },
    {
      "cell_type": "code",
      "metadata": {
        "colab": {
          "base_uri": "https://localhost:8080/",
          "height": 645
        },
        "id": "4kBa52YrZJ_R",
        "outputId": "8b713b0b-519a-48f5-a2b5-ad19fdddd21f"
      },
      "source": [
        "dados.transpose()   # Método .transpose( ) inverte as linhas e colunas do DataFrame (matriz)\n",
        "\n",
        "#  OBS : é desfeita a renomeação anterior  \n",
        "#  Necessário salvar em uma variável ( dados = dados.transpose() ) para manter as alterações !\n"
      ],
      "execution_count": null,
      "outputs": [
        {
          "output_type": "execute_result",
          "data": {
            "text/html": [
              "\n",
              "  <div id=\"df-cf28d5d0-c91d-4da7-93c9-2d20a4a276af\">\n",
              "    <div class=\"colab-df-container\">\n",
              "      <div>\n",
              "<style scoped>\n",
              "    .dataframe tbody tr th:only-of-type {\n",
              "        vertical-align: middle;\n",
              "    }\n",
              "\n",
              "    .dataframe tbody tr th {\n",
              "        vertical-align: top;\n",
              "    }\n",
              "\n",
              "    .dataframe thead th {\n",
              "        text-align: right;\n",
              "    }\n",
              "</style>\n",
              "<table border=\"1\" class=\"dataframe\">\n",
              "  <thead>\n",
              "    <tr style=\"text-align: right;\">\n",
              "      <th></th>\n",
              "      <th>0</th>\n",
              "      <th>1</th>\n",
              "      <th>2</th>\n",
              "      <th>3</th>\n",
              "    </tr>\n",
              "  </thead>\n",
              "  <tbody>\n",
              "    <tr>\n",
              "      <th>0</th>\n",
              "      <td>0.0000</td>\n",
              "      <td>0.0</td>\n",
              "      <td>0.00</td>\n",
              "      <td>2.8</td>\n",
              "    </tr>\n",
              "    <tr>\n",
              "      <th>1</th>\n",
              "      <td>0.4026</td>\n",
              "      <td>1.0</td>\n",
              "      <td>0.60</td>\n",
              "      <td>3.0</td>\n",
              "    </tr>\n",
              "    <tr>\n",
              "      <th>2</th>\n",
              "      <td>1.0926</td>\n",
              "      <td>2.0</td>\n",
              "      <td>0.56</td>\n",
              "      <td>5.0</td>\n",
              "    </tr>\n",
              "    <tr>\n",
              "      <th>3</th>\n",
              "      <td>1.2168</td>\n",
              "      <td>3.0</td>\n",
              "      <td>0.46</td>\n",
              "      <td>7.0</td>\n",
              "    </tr>\n",
              "    <tr>\n",
              "      <th>4</th>\n",
              "      <td>0.9030</td>\n",
              "      <td>4.0</td>\n",
              "      <td>0.66</td>\n",
              "      <td>9.0</td>\n",
              "    </tr>\n",
              "    <tr>\n",
              "      <th>5</th>\n",
              "      <td>0.7050</td>\n",
              "      <td>4.0</td>\n",
              "      <td>0.66</td>\n",
              "      <td>9.0</td>\n",
              "    </tr>\n",
              "    <tr>\n",
              "      <th>6</th>\n",
              "      <td>1.2790</td>\n",
              "      <td>5.0</td>\n",
              "      <td>0.66</td>\n",
              "      <td>11.0</td>\n",
              "    </tr>\n",
              "    <tr>\n",
              "      <th>7</th>\n",
              "      <td>0.7704</td>\n",
              "      <td>5.0</td>\n",
              "      <td>0.66</td>\n",
              "      <td>11.0</td>\n",
              "    </tr>\n",
              "    <tr>\n",
              "      <th>8</th>\n",
              "      <td>0.9278</td>\n",
              "      <td>6.0</td>\n",
              "      <td>0.90</td>\n",
              "      <td>13.0</td>\n",
              "    </tr>\n",
              "    <tr>\n",
              "      <th>9</th>\n",
              "      <td>0.4271</td>\n",
              "      <td>6.0</td>\n",
              "      <td>0.90</td>\n",
              "      <td>13.0</td>\n",
              "    </tr>\n",
              "    <tr>\n",
              "      <th>10</th>\n",
              "      <td>1.0301</td>\n",
              "      <td>7.0</td>\n",
              "      <td>0.60</td>\n",
              "      <td>15.0</td>\n",
              "    </tr>\n",
              "    <tr>\n",
              "      <th>11</th>\n",
              "      <td>1.2920</td>\n",
              "      <td>8.0</td>\n",
              "      <td>0.80</td>\n",
              "      <td>17.0</td>\n",
              "    </tr>\n",
              "    <tr>\n",
              "      <th>12</th>\n",
              "      <td>0.2396</td>\n",
              "      <td>8.0</td>\n",
              "      <td>0.80</td>\n",
              "      <td>17.0</td>\n",
              "    </tr>\n",
              "    <tr>\n",
              "      <th>13</th>\n",
              "      <td>0.8029</td>\n",
              "      <td>9.0</td>\n",
              "      <td>0.60</td>\n",
              "      <td>19.0</td>\n",
              "    </tr>\n",
              "    <tr>\n",
              "      <th>14</th>\n",
              "      <td>0.5913</td>\n",
              "      <td>10.0</td>\n",
              "      <td>0.82</td>\n",
              "      <td>21.0</td>\n",
              "    </tr>\n",
              "    <tr>\n",
              "      <th>15</th>\n",
              "      <td>0.3973</td>\n",
              "      <td>10.0</td>\n",
              "      <td>0.82</td>\n",
              "      <td>21.0</td>\n",
              "    </tr>\n",
              "    <tr>\n",
              "      <th>16</th>\n",
              "      <td>0.8494</td>\n",
              "      <td>11.0</td>\n",
              "      <td>0.78</td>\n",
              "      <td>23.0</td>\n",
              "    </tr>\n",
              "    <tr>\n",
              "      <th>17</th>\n",
              "      <td>0.2310</td>\n",
              "      <td>11.0</td>\n",
              "      <td>0.78</td>\n",
              "      <td>23.0</td>\n",
              "    </tr>\n",
              "    <tr>\n",
              "      <th>18</th>\n",
              "      <td>0.7711</td>\n",
              "      <td>12.0</td>\n",
              "      <td>0.70</td>\n",
              "      <td>25.0</td>\n",
              "    </tr>\n",
              "  </tbody>\n",
              "</table>\n",
              "</div>\n",
              "      <button class=\"colab-df-convert\" onclick=\"convertToInteractive('df-cf28d5d0-c91d-4da7-93c9-2d20a4a276af')\"\n",
              "              title=\"Convert this dataframe to an interactive table.\"\n",
              "              style=\"display:none;\">\n",
              "        \n",
              "  <svg xmlns=\"http://www.w3.org/2000/svg\" height=\"24px\"viewBox=\"0 0 24 24\"\n",
              "       width=\"24px\">\n",
              "    <path d=\"M0 0h24v24H0V0z\" fill=\"none\"/>\n",
              "    <path d=\"M18.56 5.44l.94 2.06.94-2.06 2.06-.94-2.06-.94-.94-2.06-.94 2.06-2.06.94zm-11 1L8.5 8.5l.94-2.06 2.06-.94-2.06-.94L8.5 2.5l-.94 2.06-2.06.94zm10 10l.94 2.06.94-2.06 2.06-.94-2.06-.94-.94-2.06-.94 2.06-2.06.94z\"/><path d=\"M17.41 7.96l-1.37-1.37c-.4-.4-.92-.59-1.43-.59-.52 0-1.04.2-1.43.59L10.3 9.45l-7.72 7.72c-.78.78-.78 2.05 0 2.83L4 21.41c.39.39.9.59 1.41.59.51 0 1.02-.2 1.41-.59l7.78-7.78 2.81-2.81c.8-.78.8-2.07 0-2.86zM5.41 20L4 18.59l7.72-7.72 1.47 1.35L5.41 20z\"/>\n",
              "  </svg>\n",
              "      </button>\n",
              "      \n",
              "  <style>\n",
              "    .colab-df-container {\n",
              "      display:flex;\n",
              "      flex-wrap:wrap;\n",
              "      gap: 12px;\n",
              "    }\n",
              "\n",
              "    .colab-df-convert {\n",
              "      background-color: #E8F0FE;\n",
              "      border: none;\n",
              "      border-radius: 50%;\n",
              "      cursor: pointer;\n",
              "      display: none;\n",
              "      fill: #1967D2;\n",
              "      height: 32px;\n",
              "      padding: 0 0 0 0;\n",
              "      width: 32px;\n",
              "    }\n",
              "\n",
              "    .colab-df-convert:hover {\n",
              "      background-color: #E2EBFA;\n",
              "      box-shadow: 0px 1px 2px rgba(60, 64, 67, 0.3), 0px 1px 3px 1px rgba(60, 64, 67, 0.15);\n",
              "      fill: #174EA6;\n",
              "    }\n",
              "\n",
              "    [theme=dark] .colab-df-convert {\n",
              "      background-color: #3B4455;\n",
              "      fill: #D2E3FC;\n",
              "    }\n",
              "\n",
              "    [theme=dark] .colab-df-convert:hover {\n",
              "      background-color: #434B5C;\n",
              "      box-shadow: 0px 1px 3px 1px rgba(0, 0, 0, 0.15);\n",
              "      filter: drop-shadow(0px 1px 2px rgba(0, 0, 0, 0.3));\n",
              "      fill: #FFFFFF;\n",
              "    }\n",
              "  </style>\n",
              "\n",
              "      <script>\n",
              "        const buttonEl =\n",
              "          document.querySelector('#df-cf28d5d0-c91d-4da7-93c9-2d20a4a276af button.colab-df-convert');\n",
              "        buttonEl.style.display =\n",
              "          google.colab.kernel.accessAllowed ? 'block' : 'none';\n",
              "\n",
              "        async function convertToInteractive(key) {\n",
              "          const element = document.querySelector('#df-cf28d5d0-c91d-4da7-93c9-2d20a4a276af');\n",
              "          const dataTable =\n",
              "            await google.colab.kernel.invokeFunction('convertToInteractive',\n",
              "                                                     [key], {});\n",
              "          if (!dataTable) return;\n",
              "\n",
              "          const docLinkHtml = 'Like what you see? Visit the ' +\n",
              "            '<a target=\"_blank\" href=https://colab.research.google.com/notebooks/data_table.ipynb>data table notebook</a>'\n",
              "            + ' to learn more about interactive tables.';\n",
              "          element.innerHTML = '';\n",
              "          dataTable['output_type'] = 'display_data';\n",
              "          await google.colab.output.renderOutput(dataTable, element);\n",
              "          const docLink = document.createElement('div');\n",
              "          docLink.innerHTML = docLinkHtml;\n",
              "          element.appendChild(docLink);\n",
              "        }\n",
              "      </script>\n",
              "    </div>\n",
              "  </div>\n",
              "  "
            ],
            "text/plain": [
              "         0     1     2     3\n",
              "0   0.0000   0.0  0.00   2.8\n",
              "1   0.4026   1.0  0.60   3.0\n",
              "2   1.0926   2.0  0.56   5.0\n",
              "3   1.2168   3.0  0.46   7.0\n",
              "4   0.9030   4.0  0.66   9.0\n",
              "5   0.7050   4.0  0.66   9.0\n",
              "6   1.2790   5.0  0.66  11.0\n",
              "7   0.7704   5.0  0.66  11.0\n",
              "8   0.9278   6.0  0.90  13.0\n",
              "9   0.4271   6.0  0.90  13.0\n",
              "10  1.0301   7.0  0.60  15.0\n",
              "11  1.2920   8.0  0.80  17.0\n",
              "12  0.2396   8.0  0.80  17.0\n",
              "13  0.8029   9.0  0.60  19.0\n",
              "14  0.5913  10.0  0.82  21.0\n",
              "15  0.3973  10.0  0.82  21.0\n",
              "16  0.8494  11.0  0.78  23.0\n",
              "17  0.2310  11.0  0.78  23.0\n",
              "18  0.7711  12.0  0.70  25.0"
            ]
          },
          "metadata": {},
          "execution_count": 6
        }
      ]
    },
    {
      "cell_type": "code",
      "metadata": {
        "colab": {
          "base_uri": "https://localhost:8080/",
          "height": 175
        },
        "id": "hmG9NX0ZfGtJ",
        "outputId": "f466287b-b6dd-4fd7-a53f-b5245da57c97"
      },
      "source": [
        "dados"
      ],
      "execution_count": null,
      "outputs": [
        {
          "output_type": "execute_result",
          "data": {
            "text/html": [
              "\n",
              "  <div id=\"df-65bdf8b1-c90f-4c8d-bde2-834c1d16b97b\">\n",
              "    <div class=\"colab-df-container\">\n",
              "      <div>\n",
              "<style scoped>\n",
              "    .dataframe tbody tr th:only-of-type {\n",
              "        vertical-align: middle;\n",
              "    }\n",
              "\n",
              "    .dataframe tbody tr th {\n",
              "        vertical-align: top;\n",
              "    }\n",
              "\n",
              "    .dataframe thead th {\n",
              "        text-align: right;\n",
              "    }\n",
              "</style>\n",
              "<table border=\"1\" class=\"dataframe\">\n",
              "  <thead>\n",
              "    <tr style=\"text-align: right;\">\n",
              "      <th></th>\n",
              "      <th>0</th>\n",
              "      <th>1</th>\n",
              "      <th>2</th>\n",
              "      <th>3</th>\n",
              "      <th>4</th>\n",
              "      <th>5</th>\n",
              "      <th>6</th>\n",
              "      <th>7</th>\n",
              "      <th>8</th>\n",
              "      <th>9</th>\n",
              "      <th>10</th>\n",
              "      <th>11</th>\n",
              "      <th>12</th>\n",
              "      <th>13</th>\n",
              "      <th>14</th>\n",
              "      <th>15</th>\n",
              "      <th>16</th>\n",
              "      <th>17</th>\n",
              "      <th>18</th>\n",
              "    </tr>\n",
              "  </thead>\n",
              "  <tbody>\n",
              "    <tr>\n",
              "      <th>0</th>\n",
              "      <td>0.0</td>\n",
              "      <td>0.4026</td>\n",
              "      <td>1.0926</td>\n",
              "      <td>1.2168</td>\n",
              "      <td>0.903</td>\n",
              "      <td>0.705</td>\n",
              "      <td>1.279</td>\n",
              "      <td>0.7704</td>\n",
              "      <td>0.9278</td>\n",
              "      <td>0.4271</td>\n",
              "      <td>1.0301</td>\n",
              "      <td>1.292</td>\n",
              "      <td>0.2396</td>\n",
              "      <td>0.8029</td>\n",
              "      <td>0.5913</td>\n",
              "      <td>0.3973</td>\n",
              "      <td>0.8494</td>\n",
              "      <td>0.231</td>\n",
              "      <td>0.7711</td>\n",
              "    </tr>\n",
              "    <tr>\n",
              "      <th>1</th>\n",
              "      <td>0.0</td>\n",
              "      <td>1.0000</td>\n",
              "      <td>2.0000</td>\n",
              "      <td>3.0000</td>\n",
              "      <td>4.000</td>\n",
              "      <td>4.000</td>\n",
              "      <td>5.000</td>\n",
              "      <td>5.0000</td>\n",
              "      <td>6.0000</td>\n",
              "      <td>6.0000</td>\n",
              "      <td>7.0000</td>\n",
              "      <td>8.000</td>\n",
              "      <td>8.0000</td>\n",
              "      <td>9.0000</td>\n",
              "      <td>10.0000</td>\n",
              "      <td>10.0000</td>\n",
              "      <td>11.0000</td>\n",
              "      <td>11.000</td>\n",
              "      <td>12.0000</td>\n",
              "    </tr>\n",
              "    <tr>\n",
              "      <th>2</th>\n",
              "      <td>0.0</td>\n",
              "      <td>0.6000</td>\n",
              "      <td>0.5600</td>\n",
              "      <td>0.4600</td>\n",
              "      <td>0.660</td>\n",
              "      <td>0.660</td>\n",
              "      <td>0.660</td>\n",
              "      <td>0.6600</td>\n",
              "      <td>0.9000</td>\n",
              "      <td>0.9000</td>\n",
              "      <td>0.6000</td>\n",
              "      <td>0.800</td>\n",
              "      <td>0.8000</td>\n",
              "      <td>0.6000</td>\n",
              "      <td>0.8200</td>\n",
              "      <td>0.8200</td>\n",
              "      <td>0.7800</td>\n",
              "      <td>0.780</td>\n",
              "      <td>0.7000</td>\n",
              "    </tr>\n",
              "    <tr>\n",
              "      <th>3</th>\n",
              "      <td>2.8</td>\n",
              "      <td>3.0000</td>\n",
              "      <td>5.0000</td>\n",
              "      <td>7.0000</td>\n",
              "      <td>9.000</td>\n",
              "      <td>9.000</td>\n",
              "      <td>11.000</td>\n",
              "      <td>11.0000</td>\n",
              "      <td>13.0000</td>\n",
              "      <td>13.0000</td>\n",
              "      <td>15.0000</td>\n",
              "      <td>17.000</td>\n",
              "      <td>17.0000</td>\n",
              "      <td>19.0000</td>\n",
              "      <td>21.0000</td>\n",
              "      <td>21.0000</td>\n",
              "      <td>23.0000</td>\n",
              "      <td>23.000</td>\n",
              "      <td>25.0000</td>\n",
              "    </tr>\n",
              "  </tbody>\n",
              "</table>\n",
              "</div>\n",
              "      <button class=\"colab-df-convert\" onclick=\"convertToInteractive('df-65bdf8b1-c90f-4c8d-bde2-834c1d16b97b')\"\n",
              "              title=\"Convert this dataframe to an interactive table.\"\n",
              "              style=\"display:none;\">\n",
              "        \n",
              "  <svg xmlns=\"http://www.w3.org/2000/svg\" height=\"24px\"viewBox=\"0 0 24 24\"\n",
              "       width=\"24px\">\n",
              "    <path d=\"M0 0h24v24H0V0z\" fill=\"none\"/>\n",
              "    <path d=\"M18.56 5.44l.94 2.06.94-2.06 2.06-.94-2.06-.94-.94-2.06-.94 2.06-2.06.94zm-11 1L8.5 8.5l.94-2.06 2.06-.94-2.06-.94L8.5 2.5l-.94 2.06-2.06.94zm10 10l.94 2.06.94-2.06 2.06-.94-2.06-.94-.94-2.06-.94 2.06-2.06.94z\"/><path d=\"M17.41 7.96l-1.37-1.37c-.4-.4-.92-.59-1.43-.59-.52 0-1.04.2-1.43.59L10.3 9.45l-7.72 7.72c-.78.78-.78 2.05 0 2.83L4 21.41c.39.39.9.59 1.41.59.51 0 1.02-.2 1.41-.59l7.78-7.78 2.81-2.81c.8-.78.8-2.07 0-2.86zM5.41 20L4 18.59l7.72-7.72 1.47 1.35L5.41 20z\"/>\n",
              "  </svg>\n",
              "      </button>\n",
              "      \n",
              "  <style>\n",
              "    .colab-df-container {\n",
              "      display:flex;\n",
              "      flex-wrap:wrap;\n",
              "      gap: 12px;\n",
              "    }\n",
              "\n",
              "    .colab-df-convert {\n",
              "      background-color: #E8F0FE;\n",
              "      border: none;\n",
              "      border-radius: 50%;\n",
              "      cursor: pointer;\n",
              "      display: none;\n",
              "      fill: #1967D2;\n",
              "      height: 32px;\n",
              "      padding: 0 0 0 0;\n",
              "      width: 32px;\n",
              "    }\n",
              "\n",
              "    .colab-df-convert:hover {\n",
              "      background-color: #E2EBFA;\n",
              "      box-shadow: 0px 1px 2px rgba(60, 64, 67, 0.3), 0px 1px 3px 1px rgba(60, 64, 67, 0.15);\n",
              "      fill: #174EA6;\n",
              "    }\n",
              "\n",
              "    [theme=dark] .colab-df-convert {\n",
              "      background-color: #3B4455;\n",
              "      fill: #D2E3FC;\n",
              "    }\n",
              "\n",
              "    [theme=dark] .colab-df-convert:hover {\n",
              "      background-color: #434B5C;\n",
              "      box-shadow: 0px 1px 3px 1px rgba(0, 0, 0, 0.15);\n",
              "      filter: drop-shadow(0px 1px 2px rgba(0, 0, 0, 0.3));\n",
              "      fill: #FFFFFF;\n",
              "    }\n",
              "  </style>\n",
              "\n",
              "      <script>\n",
              "        const buttonEl =\n",
              "          document.querySelector('#df-65bdf8b1-c90f-4c8d-bde2-834c1d16b97b button.colab-df-convert');\n",
              "        buttonEl.style.display =\n",
              "          google.colab.kernel.accessAllowed ? 'block' : 'none';\n",
              "\n",
              "        async function convertToInteractive(key) {\n",
              "          const element = document.querySelector('#df-65bdf8b1-c90f-4c8d-bde2-834c1d16b97b');\n",
              "          const dataTable =\n",
              "            await google.colab.kernel.invokeFunction('convertToInteractive',\n",
              "                                                     [key], {});\n",
              "          if (!dataTable) return;\n",
              "\n",
              "          const docLinkHtml = 'Like what you see? Visit the ' +\n",
              "            '<a target=\"_blank\" href=https://colab.research.google.com/notebooks/data_table.ipynb>data table notebook</a>'\n",
              "            + ' to learn more about interactive tables.';\n",
              "          element.innerHTML = '';\n",
              "          dataTable['output_type'] = 'display_data';\n",
              "          await google.colab.output.renderOutput(dataTable, element);\n",
              "          const docLink = document.createElement('div');\n",
              "          docLink.innerHTML = docLinkHtml;\n",
              "          element.appendChild(docLink);\n",
              "        }\n",
              "      </script>\n",
              "    </div>\n",
              "  </div>\n",
              "  "
            ],
            "text/plain": [
              "    0       1       2       3   ...       15       16      17       18\n",
              "0  0.0  0.4026  1.0926  1.2168  ...   0.3973   0.8494   0.231   0.7711\n",
              "1  0.0  1.0000  2.0000  3.0000  ...  10.0000  11.0000  11.000  12.0000\n",
              "2  0.0  0.6000  0.5600  0.4600  ...   0.8200   0.7800   0.780   0.7000\n",
              "3  2.8  3.0000  5.0000  7.0000  ...  21.0000  23.0000  23.000  25.0000\n",
              "\n",
              "[4 rows x 19 columns]"
            ]
          },
          "metadata": {},
          "execution_count": 7
        }
      ]
    },
    {
      "cell_type": "code",
      "metadata": {
        "colab": {
          "base_uri": "https://localhost:8080/",
          "height": 645
        },
        "id": "hL4f3sZwarzD",
        "outputId": "3c39e775-c08b-4aa4-f3cb-cb80de98e8e4"
      },
      "source": [
        "# Podemos aplicar mais de um método em uma mesma linha de código\n",
        "\n",
        "# Os métodos são aplicados de acordo com a ordem de precedência \n",
        "\n",
        "#  .rename() foi aplicado antes de .transpose() \n",
        "\n",
        "newData = dados.rename(index = {0 : 'Velocidade' , 1 : 'Estacoes' , 2 : 'Prof' , 3 : 'Loc' }).transpose()\n",
        "\n",
        "newData"
      ],
      "execution_count": null,
      "outputs": [
        {
          "output_type": "execute_result",
          "data": {
            "text/html": [
              "\n",
              "  <div id=\"df-ab10e3dd-8e9a-46a8-ba36-2b946e2aab05\">\n",
              "    <div class=\"colab-df-container\">\n",
              "      <div>\n",
              "<style scoped>\n",
              "    .dataframe tbody tr th:only-of-type {\n",
              "        vertical-align: middle;\n",
              "    }\n",
              "\n",
              "    .dataframe tbody tr th {\n",
              "        vertical-align: top;\n",
              "    }\n",
              "\n",
              "    .dataframe thead th {\n",
              "        text-align: right;\n",
              "    }\n",
              "</style>\n",
              "<table border=\"1\" class=\"dataframe\">\n",
              "  <thead>\n",
              "    <tr style=\"text-align: right;\">\n",
              "      <th></th>\n",
              "      <th>Velocidade</th>\n",
              "      <th>Estacoes</th>\n",
              "      <th>Prof</th>\n",
              "      <th>Loc</th>\n",
              "    </tr>\n",
              "  </thead>\n",
              "  <tbody>\n",
              "    <tr>\n",
              "      <th>0</th>\n",
              "      <td>0.0000</td>\n",
              "      <td>0.0</td>\n",
              "      <td>0.00</td>\n",
              "      <td>2.8</td>\n",
              "    </tr>\n",
              "    <tr>\n",
              "      <th>1</th>\n",
              "      <td>0.4026</td>\n",
              "      <td>1.0</td>\n",
              "      <td>0.60</td>\n",
              "      <td>3.0</td>\n",
              "    </tr>\n",
              "    <tr>\n",
              "      <th>2</th>\n",
              "      <td>1.0926</td>\n",
              "      <td>2.0</td>\n",
              "      <td>0.56</td>\n",
              "      <td>5.0</td>\n",
              "    </tr>\n",
              "    <tr>\n",
              "      <th>3</th>\n",
              "      <td>1.2168</td>\n",
              "      <td>3.0</td>\n",
              "      <td>0.46</td>\n",
              "      <td>7.0</td>\n",
              "    </tr>\n",
              "    <tr>\n",
              "      <th>4</th>\n",
              "      <td>0.9030</td>\n",
              "      <td>4.0</td>\n",
              "      <td>0.66</td>\n",
              "      <td>9.0</td>\n",
              "    </tr>\n",
              "    <tr>\n",
              "      <th>5</th>\n",
              "      <td>0.7050</td>\n",
              "      <td>4.0</td>\n",
              "      <td>0.66</td>\n",
              "      <td>9.0</td>\n",
              "    </tr>\n",
              "    <tr>\n",
              "      <th>6</th>\n",
              "      <td>1.2790</td>\n",
              "      <td>5.0</td>\n",
              "      <td>0.66</td>\n",
              "      <td>11.0</td>\n",
              "    </tr>\n",
              "    <tr>\n",
              "      <th>7</th>\n",
              "      <td>0.7704</td>\n",
              "      <td>5.0</td>\n",
              "      <td>0.66</td>\n",
              "      <td>11.0</td>\n",
              "    </tr>\n",
              "    <tr>\n",
              "      <th>8</th>\n",
              "      <td>0.9278</td>\n",
              "      <td>6.0</td>\n",
              "      <td>0.90</td>\n",
              "      <td>13.0</td>\n",
              "    </tr>\n",
              "    <tr>\n",
              "      <th>9</th>\n",
              "      <td>0.4271</td>\n",
              "      <td>6.0</td>\n",
              "      <td>0.90</td>\n",
              "      <td>13.0</td>\n",
              "    </tr>\n",
              "    <tr>\n",
              "      <th>10</th>\n",
              "      <td>1.0301</td>\n",
              "      <td>7.0</td>\n",
              "      <td>0.60</td>\n",
              "      <td>15.0</td>\n",
              "    </tr>\n",
              "    <tr>\n",
              "      <th>11</th>\n",
              "      <td>1.2920</td>\n",
              "      <td>8.0</td>\n",
              "      <td>0.80</td>\n",
              "      <td>17.0</td>\n",
              "    </tr>\n",
              "    <tr>\n",
              "      <th>12</th>\n",
              "      <td>0.2396</td>\n",
              "      <td>8.0</td>\n",
              "      <td>0.80</td>\n",
              "      <td>17.0</td>\n",
              "    </tr>\n",
              "    <tr>\n",
              "      <th>13</th>\n",
              "      <td>0.8029</td>\n",
              "      <td>9.0</td>\n",
              "      <td>0.60</td>\n",
              "      <td>19.0</td>\n",
              "    </tr>\n",
              "    <tr>\n",
              "      <th>14</th>\n",
              "      <td>0.5913</td>\n",
              "      <td>10.0</td>\n",
              "      <td>0.82</td>\n",
              "      <td>21.0</td>\n",
              "    </tr>\n",
              "    <tr>\n",
              "      <th>15</th>\n",
              "      <td>0.3973</td>\n",
              "      <td>10.0</td>\n",
              "      <td>0.82</td>\n",
              "      <td>21.0</td>\n",
              "    </tr>\n",
              "    <tr>\n",
              "      <th>16</th>\n",
              "      <td>0.8494</td>\n",
              "      <td>11.0</td>\n",
              "      <td>0.78</td>\n",
              "      <td>23.0</td>\n",
              "    </tr>\n",
              "    <tr>\n",
              "      <th>17</th>\n",
              "      <td>0.2310</td>\n",
              "      <td>11.0</td>\n",
              "      <td>0.78</td>\n",
              "      <td>23.0</td>\n",
              "    </tr>\n",
              "    <tr>\n",
              "      <th>18</th>\n",
              "      <td>0.7711</td>\n",
              "      <td>12.0</td>\n",
              "      <td>0.70</td>\n",
              "      <td>25.0</td>\n",
              "    </tr>\n",
              "  </tbody>\n",
              "</table>\n",
              "</div>\n",
              "      <button class=\"colab-df-convert\" onclick=\"convertToInteractive('df-ab10e3dd-8e9a-46a8-ba36-2b946e2aab05')\"\n",
              "              title=\"Convert this dataframe to an interactive table.\"\n",
              "              style=\"display:none;\">\n",
              "        \n",
              "  <svg xmlns=\"http://www.w3.org/2000/svg\" height=\"24px\"viewBox=\"0 0 24 24\"\n",
              "       width=\"24px\">\n",
              "    <path d=\"M0 0h24v24H0V0z\" fill=\"none\"/>\n",
              "    <path d=\"M18.56 5.44l.94 2.06.94-2.06 2.06-.94-2.06-.94-.94-2.06-.94 2.06-2.06.94zm-11 1L8.5 8.5l.94-2.06 2.06-.94-2.06-.94L8.5 2.5l-.94 2.06-2.06.94zm10 10l.94 2.06.94-2.06 2.06-.94-2.06-.94-.94-2.06-.94 2.06-2.06.94z\"/><path d=\"M17.41 7.96l-1.37-1.37c-.4-.4-.92-.59-1.43-.59-.52 0-1.04.2-1.43.59L10.3 9.45l-7.72 7.72c-.78.78-.78 2.05 0 2.83L4 21.41c.39.39.9.59 1.41.59.51 0 1.02-.2 1.41-.59l7.78-7.78 2.81-2.81c.8-.78.8-2.07 0-2.86zM5.41 20L4 18.59l7.72-7.72 1.47 1.35L5.41 20z\"/>\n",
              "  </svg>\n",
              "      </button>\n",
              "      \n",
              "  <style>\n",
              "    .colab-df-container {\n",
              "      display:flex;\n",
              "      flex-wrap:wrap;\n",
              "      gap: 12px;\n",
              "    }\n",
              "\n",
              "    .colab-df-convert {\n",
              "      background-color: #E8F0FE;\n",
              "      border: none;\n",
              "      border-radius: 50%;\n",
              "      cursor: pointer;\n",
              "      display: none;\n",
              "      fill: #1967D2;\n",
              "      height: 32px;\n",
              "      padding: 0 0 0 0;\n",
              "      width: 32px;\n",
              "    }\n",
              "\n",
              "    .colab-df-convert:hover {\n",
              "      background-color: #E2EBFA;\n",
              "      box-shadow: 0px 1px 2px rgba(60, 64, 67, 0.3), 0px 1px 3px 1px rgba(60, 64, 67, 0.15);\n",
              "      fill: #174EA6;\n",
              "    }\n",
              "\n",
              "    [theme=dark] .colab-df-convert {\n",
              "      background-color: #3B4455;\n",
              "      fill: #D2E3FC;\n",
              "    }\n",
              "\n",
              "    [theme=dark] .colab-df-convert:hover {\n",
              "      background-color: #434B5C;\n",
              "      box-shadow: 0px 1px 3px 1px rgba(0, 0, 0, 0.15);\n",
              "      filter: drop-shadow(0px 1px 2px rgba(0, 0, 0, 0.3));\n",
              "      fill: #FFFFFF;\n",
              "    }\n",
              "  </style>\n",
              "\n",
              "      <script>\n",
              "        const buttonEl =\n",
              "          document.querySelector('#df-ab10e3dd-8e9a-46a8-ba36-2b946e2aab05 button.colab-df-convert');\n",
              "        buttonEl.style.display =\n",
              "          google.colab.kernel.accessAllowed ? 'block' : 'none';\n",
              "\n",
              "        async function convertToInteractive(key) {\n",
              "          const element = document.querySelector('#df-ab10e3dd-8e9a-46a8-ba36-2b946e2aab05');\n",
              "          const dataTable =\n",
              "            await google.colab.kernel.invokeFunction('convertToInteractive',\n",
              "                                                     [key], {});\n",
              "          if (!dataTable) return;\n",
              "\n",
              "          const docLinkHtml = 'Like what you see? Visit the ' +\n",
              "            '<a target=\"_blank\" href=https://colab.research.google.com/notebooks/data_table.ipynb>data table notebook</a>'\n",
              "            + ' to learn more about interactive tables.';\n",
              "          element.innerHTML = '';\n",
              "          dataTable['output_type'] = 'display_data';\n",
              "          await google.colab.output.renderOutput(dataTable, element);\n",
              "          const docLink = document.createElement('div');\n",
              "          docLink.innerHTML = docLinkHtml;\n",
              "          element.appendChild(docLink);\n",
              "        }\n",
              "      </script>\n",
              "    </div>\n",
              "  </div>\n",
              "  "
            ],
            "text/plain": [
              "    Velocidade  Estacoes  Prof   Loc\n",
              "0       0.0000       0.0  0.00   2.8\n",
              "1       0.4026       1.0  0.60   3.0\n",
              "2       1.0926       2.0  0.56   5.0\n",
              "3       1.2168       3.0  0.46   7.0\n",
              "4       0.9030       4.0  0.66   9.0\n",
              "5       0.7050       4.0  0.66   9.0\n",
              "6       1.2790       5.0  0.66  11.0\n",
              "7       0.7704       5.0  0.66  11.0\n",
              "8       0.9278       6.0  0.90  13.0\n",
              "9       0.4271       6.0  0.90  13.0\n",
              "10      1.0301       7.0  0.60  15.0\n",
              "11      1.2920       8.0  0.80  17.0\n",
              "12      0.2396       8.0  0.80  17.0\n",
              "13      0.8029       9.0  0.60  19.0\n",
              "14      0.5913      10.0  0.82  21.0\n",
              "15      0.3973      10.0  0.82  21.0\n",
              "16      0.8494      11.0  0.78  23.0\n",
              "17      0.2310      11.0  0.78  23.0\n",
              "18      0.7711      12.0  0.70  25.0"
            ]
          },
          "metadata": {},
          "execution_count": 9
        }
      ]
    },
    {
      "cell_type": "code",
      "metadata": {
        "id": "LcZ8tiphdbda",
        "colab": {
          "base_uri": "https://localhost:8080/",
          "height": 645
        },
        "outputId": "11ebe886-7dec-4057-ba65-78cffbe2b849"
      },
      "source": [
        "newData"
      ],
      "execution_count": null,
      "outputs": [
        {
          "output_type": "execute_result",
          "data": {
            "text/html": [
              "\n",
              "  <div id=\"df-85c7b749-69b3-4a27-80da-e5338185b40d\">\n",
              "    <div class=\"colab-df-container\">\n",
              "      <div>\n",
              "<style scoped>\n",
              "    .dataframe tbody tr th:only-of-type {\n",
              "        vertical-align: middle;\n",
              "    }\n",
              "\n",
              "    .dataframe tbody tr th {\n",
              "        vertical-align: top;\n",
              "    }\n",
              "\n",
              "    .dataframe thead th {\n",
              "        text-align: right;\n",
              "    }\n",
              "</style>\n",
              "<table border=\"1\" class=\"dataframe\">\n",
              "  <thead>\n",
              "    <tr style=\"text-align: right;\">\n",
              "      <th></th>\n",
              "      <th>Velocidade</th>\n",
              "      <th>Estacoes</th>\n",
              "      <th>Prof</th>\n",
              "      <th>Loc</th>\n",
              "    </tr>\n",
              "  </thead>\n",
              "  <tbody>\n",
              "    <tr>\n",
              "      <th>0</th>\n",
              "      <td>0.0000</td>\n",
              "      <td>0.0</td>\n",
              "      <td>0.00</td>\n",
              "      <td>2.8</td>\n",
              "    </tr>\n",
              "    <tr>\n",
              "      <th>1</th>\n",
              "      <td>0.4026</td>\n",
              "      <td>1.0</td>\n",
              "      <td>0.60</td>\n",
              "      <td>3.0</td>\n",
              "    </tr>\n",
              "    <tr>\n",
              "      <th>2</th>\n",
              "      <td>1.0926</td>\n",
              "      <td>2.0</td>\n",
              "      <td>0.56</td>\n",
              "      <td>5.0</td>\n",
              "    </tr>\n",
              "    <tr>\n",
              "      <th>3</th>\n",
              "      <td>1.2168</td>\n",
              "      <td>3.0</td>\n",
              "      <td>0.46</td>\n",
              "      <td>7.0</td>\n",
              "    </tr>\n",
              "    <tr>\n",
              "      <th>4</th>\n",
              "      <td>0.9030</td>\n",
              "      <td>4.0</td>\n",
              "      <td>0.66</td>\n",
              "      <td>9.0</td>\n",
              "    </tr>\n",
              "    <tr>\n",
              "      <th>5</th>\n",
              "      <td>0.7050</td>\n",
              "      <td>4.0</td>\n",
              "      <td>0.66</td>\n",
              "      <td>9.0</td>\n",
              "    </tr>\n",
              "    <tr>\n",
              "      <th>6</th>\n",
              "      <td>1.2790</td>\n",
              "      <td>5.0</td>\n",
              "      <td>0.66</td>\n",
              "      <td>11.0</td>\n",
              "    </tr>\n",
              "    <tr>\n",
              "      <th>7</th>\n",
              "      <td>0.7704</td>\n",
              "      <td>5.0</td>\n",
              "      <td>0.66</td>\n",
              "      <td>11.0</td>\n",
              "    </tr>\n",
              "    <tr>\n",
              "      <th>8</th>\n",
              "      <td>0.9278</td>\n",
              "      <td>6.0</td>\n",
              "      <td>0.90</td>\n",
              "      <td>13.0</td>\n",
              "    </tr>\n",
              "    <tr>\n",
              "      <th>9</th>\n",
              "      <td>0.4271</td>\n",
              "      <td>6.0</td>\n",
              "      <td>0.90</td>\n",
              "      <td>13.0</td>\n",
              "    </tr>\n",
              "    <tr>\n",
              "      <th>10</th>\n",
              "      <td>1.0301</td>\n",
              "      <td>7.0</td>\n",
              "      <td>0.60</td>\n",
              "      <td>15.0</td>\n",
              "    </tr>\n",
              "    <tr>\n",
              "      <th>11</th>\n",
              "      <td>1.2920</td>\n",
              "      <td>8.0</td>\n",
              "      <td>0.80</td>\n",
              "      <td>17.0</td>\n",
              "    </tr>\n",
              "    <tr>\n",
              "      <th>12</th>\n",
              "      <td>0.2396</td>\n",
              "      <td>8.0</td>\n",
              "      <td>0.80</td>\n",
              "      <td>17.0</td>\n",
              "    </tr>\n",
              "    <tr>\n",
              "      <th>13</th>\n",
              "      <td>0.8029</td>\n",
              "      <td>9.0</td>\n",
              "      <td>0.60</td>\n",
              "      <td>19.0</td>\n",
              "    </tr>\n",
              "    <tr>\n",
              "      <th>14</th>\n",
              "      <td>0.5913</td>\n",
              "      <td>10.0</td>\n",
              "      <td>0.82</td>\n",
              "      <td>21.0</td>\n",
              "    </tr>\n",
              "    <tr>\n",
              "      <th>15</th>\n",
              "      <td>0.3973</td>\n",
              "      <td>10.0</td>\n",
              "      <td>0.82</td>\n",
              "      <td>21.0</td>\n",
              "    </tr>\n",
              "    <tr>\n",
              "      <th>16</th>\n",
              "      <td>0.8494</td>\n",
              "      <td>11.0</td>\n",
              "      <td>0.78</td>\n",
              "      <td>23.0</td>\n",
              "    </tr>\n",
              "    <tr>\n",
              "      <th>17</th>\n",
              "      <td>0.2310</td>\n",
              "      <td>11.0</td>\n",
              "      <td>0.78</td>\n",
              "      <td>23.0</td>\n",
              "    </tr>\n",
              "    <tr>\n",
              "      <th>18</th>\n",
              "      <td>0.7711</td>\n",
              "      <td>12.0</td>\n",
              "      <td>0.70</td>\n",
              "      <td>25.0</td>\n",
              "    </tr>\n",
              "  </tbody>\n",
              "</table>\n",
              "</div>\n",
              "      <button class=\"colab-df-convert\" onclick=\"convertToInteractive('df-85c7b749-69b3-4a27-80da-e5338185b40d')\"\n",
              "              title=\"Convert this dataframe to an interactive table.\"\n",
              "              style=\"display:none;\">\n",
              "        \n",
              "  <svg xmlns=\"http://www.w3.org/2000/svg\" height=\"24px\"viewBox=\"0 0 24 24\"\n",
              "       width=\"24px\">\n",
              "    <path d=\"M0 0h24v24H0V0z\" fill=\"none\"/>\n",
              "    <path d=\"M18.56 5.44l.94 2.06.94-2.06 2.06-.94-2.06-.94-.94-2.06-.94 2.06-2.06.94zm-11 1L8.5 8.5l.94-2.06 2.06-.94-2.06-.94L8.5 2.5l-.94 2.06-2.06.94zm10 10l.94 2.06.94-2.06 2.06-.94-2.06-.94-.94-2.06-.94 2.06-2.06.94z\"/><path d=\"M17.41 7.96l-1.37-1.37c-.4-.4-.92-.59-1.43-.59-.52 0-1.04.2-1.43.59L10.3 9.45l-7.72 7.72c-.78.78-.78 2.05 0 2.83L4 21.41c.39.39.9.59 1.41.59.51 0 1.02-.2 1.41-.59l7.78-7.78 2.81-2.81c.8-.78.8-2.07 0-2.86zM5.41 20L4 18.59l7.72-7.72 1.47 1.35L5.41 20z\"/>\n",
              "  </svg>\n",
              "      </button>\n",
              "      \n",
              "  <style>\n",
              "    .colab-df-container {\n",
              "      display:flex;\n",
              "      flex-wrap:wrap;\n",
              "      gap: 12px;\n",
              "    }\n",
              "\n",
              "    .colab-df-convert {\n",
              "      background-color: #E8F0FE;\n",
              "      border: none;\n",
              "      border-radius: 50%;\n",
              "      cursor: pointer;\n",
              "      display: none;\n",
              "      fill: #1967D2;\n",
              "      height: 32px;\n",
              "      padding: 0 0 0 0;\n",
              "      width: 32px;\n",
              "    }\n",
              "\n",
              "    .colab-df-convert:hover {\n",
              "      background-color: #E2EBFA;\n",
              "      box-shadow: 0px 1px 2px rgba(60, 64, 67, 0.3), 0px 1px 3px 1px rgba(60, 64, 67, 0.15);\n",
              "      fill: #174EA6;\n",
              "    }\n",
              "\n",
              "    [theme=dark] .colab-df-convert {\n",
              "      background-color: #3B4455;\n",
              "      fill: #D2E3FC;\n",
              "    }\n",
              "\n",
              "    [theme=dark] .colab-df-convert:hover {\n",
              "      background-color: #434B5C;\n",
              "      box-shadow: 0px 1px 3px 1px rgba(0, 0, 0, 0.15);\n",
              "      filter: drop-shadow(0px 1px 2px rgba(0, 0, 0, 0.3));\n",
              "      fill: #FFFFFF;\n",
              "    }\n",
              "  </style>\n",
              "\n",
              "      <script>\n",
              "        const buttonEl =\n",
              "          document.querySelector('#df-85c7b749-69b3-4a27-80da-e5338185b40d button.colab-df-convert');\n",
              "        buttonEl.style.display =\n",
              "          google.colab.kernel.accessAllowed ? 'block' : 'none';\n",
              "\n",
              "        async function convertToInteractive(key) {\n",
              "          const element = document.querySelector('#df-85c7b749-69b3-4a27-80da-e5338185b40d');\n",
              "          const dataTable =\n",
              "            await google.colab.kernel.invokeFunction('convertToInteractive',\n",
              "                                                     [key], {});\n",
              "          if (!dataTable) return;\n",
              "\n",
              "          const docLinkHtml = 'Like what you see? Visit the ' +\n",
              "            '<a target=\"_blank\" href=https://colab.research.google.com/notebooks/data_table.ipynb>data table notebook</a>'\n",
              "            + ' to learn more about interactive tables.';\n",
              "          element.innerHTML = '';\n",
              "          dataTable['output_type'] = 'display_data';\n",
              "          await google.colab.output.renderOutput(dataTable, element);\n",
              "          const docLink = document.createElement('div');\n",
              "          docLink.innerHTML = docLinkHtml;\n",
              "          element.appendChild(docLink);\n",
              "        }\n",
              "      </script>\n",
              "    </div>\n",
              "  </div>\n",
              "  "
            ],
            "text/plain": [
              "    Velocidade  Estacoes  Prof   Loc\n",
              "0       0.0000       0.0  0.00   2.8\n",
              "1       0.4026       1.0  0.60   3.0\n",
              "2       1.0926       2.0  0.56   5.0\n",
              "3       1.2168       3.0  0.46   7.0\n",
              "4       0.9030       4.0  0.66   9.0\n",
              "5       0.7050       4.0  0.66   9.0\n",
              "6       1.2790       5.0  0.66  11.0\n",
              "7       0.7704       5.0  0.66  11.0\n",
              "8       0.9278       6.0  0.90  13.0\n",
              "9       0.4271       6.0  0.90  13.0\n",
              "10      1.0301       7.0  0.60  15.0\n",
              "11      1.2920       8.0  0.80  17.0\n",
              "12      0.2396       8.0  0.80  17.0\n",
              "13      0.8029       9.0  0.60  19.0\n",
              "14      0.5913      10.0  0.82  21.0\n",
              "15      0.3973      10.0  0.82  21.0\n",
              "16      0.8494      11.0  0.78  23.0\n",
              "17      0.2310      11.0  0.78  23.0\n",
              "18      0.7711      12.0  0.70  25.0"
            ]
          },
          "metadata": {},
          "execution_count": 10
        }
      ]
    },
    {
      "cell_type": "code",
      "metadata": {
        "id": "lhgO08bpdc_V"
      },
      "source": [],
      "execution_count": null,
      "outputs": []
    },
    {
      "cell_type": "code",
      "metadata": {
        "colab": {
          "base_uri": "https://localhost:8080/",
          "height": 645
        },
        "id": "HpdJBbNVar3G",
        "outputId": "d8c2e4ee-d919-4181-fd4d-f75cc62d2088"
      },
      "source": [
        "# Os métodos são aplicados de acordo com a ordem de precedência \n",
        "\n",
        "# .transpose() foi aplicado antes de .rename()  \n",
        "\n",
        "# agora, o parâmetro para renomear foi COLUMNS !!\n",
        "\n",
        "dados.transpose().rename(columns = {0 : 'Velocidade' , 1 : 'Estacoes' , 2 : 'Prof' , 3 : 'Loc' })"
      ],
      "execution_count": null,
      "outputs": [
        {
          "output_type": "execute_result",
          "data": {
            "text/html": [
              "\n",
              "  <div id=\"df-04ea5357-1f30-454f-968c-4f81cbf45db2\">\n",
              "    <div class=\"colab-df-container\">\n",
              "      <div>\n",
              "<style scoped>\n",
              "    .dataframe tbody tr th:only-of-type {\n",
              "        vertical-align: middle;\n",
              "    }\n",
              "\n",
              "    .dataframe tbody tr th {\n",
              "        vertical-align: top;\n",
              "    }\n",
              "\n",
              "    .dataframe thead th {\n",
              "        text-align: right;\n",
              "    }\n",
              "</style>\n",
              "<table border=\"1\" class=\"dataframe\">\n",
              "  <thead>\n",
              "    <tr style=\"text-align: right;\">\n",
              "      <th></th>\n",
              "      <th>Velocidade</th>\n",
              "      <th>Estacoes</th>\n",
              "      <th>Prof</th>\n",
              "      <th>Loc</th>\n",
              "    </tr>\n",
              "  </thead>\n",
              "  <tbody>\n",
              "    <tr>\n",
              "      <th>0</th>\n",
              "      <td>0.0000</td>\n",
              "      <td>0.0</td>\n",
              "      <td>0.00</td>\n",
              "      <td>2.8</td>\n",
              "    </tr>\n",
              "    <tr>\n",
              "      <th>1</th>\n",
              "      <td>0.4026</td>\n",
              "      <td>1.0</td>\n",
              "      <td>0.60</td>\n",
              "      <td>3.0</td>\n",
              "    </tr>\n",
              "    <tr>\n",
              "      <th>2</th>\n",
              "      <td>1.0926</td>\n",
              "      <td>2.0</td>\n",
              "      <td>0.56</td>\n",
              "      <td>5.0</td>\n",
              "    </tr>\n",
              "    <tr>\n",
              "      <th>3</th>\n",
              "      <td>1.2168</td>\n",
              "      <td>3.0</td>\n",
              "      <td>0.46</td>\n",
              "      <td>7.0</td>\n",
              "    </tr>\n",
              "    <tr>\n",
              "      <th>4</th>\n",
              "      <td>0.9030</td>\n",
              "      <td>4.0</td>\n",
              "      <td>0.66</td>\n",
              "      <td>9.0</td>\n",
              "    </tr>\n",
              "    <tr>\n",
              "      <th>5</th>\n",
              "      <td>0.7050</td>\n",
              "      <td>4.0</td>\n",
              "      <td>0.66</td>\n",
              "      <td>9.0</td>\n",
              "    </tr>\n",
              "    <tr>\n",
              "      <th>6</th>\n",
              "      <td>1.2790</td>\n",
              "      <td>5.0</td>\n",
              "      <td>0.66</td>\n",
              "      <td>11.0</td>\n",
              "    </tr>\n",
              "    <tr>\n",
              "      <th>7</th>\n",
              "      <td>0.7704</td>\n",
              "      <td>5.0</td>\n",
              "      <td>0.66</td>\n",
              "      <td>11.0</td>\n",
              "    </tr>\n",
              "    <tr>\n",
              "      <th>8</th>\n",
              "      <td>0.9278</td>\n",
              "      <td>6.0</td>\n",
              "      <td>0.90</td>\n",
              "      <td>13.0</td>\n",
              "    </tr>\n",
              "    <tr>\n",
              "      <th>9</th>\n",
              "      <td>0.4271</td>\n",
              "      <td>6.0</td>\n",
              "      <td>0.90</td>\n",
              "      <td>13.0</td>\n",
              "    </tr>\n",
              "    <tr>\n",
              "      <th>10</th>\n",
              "      <td>1.0301</td>\n",
              "      <td>7.0</td>\n",
              "      <td>0.60</td>\n",
              "      <td>15.0</td>\n",
              "    </tr>\n",
              "    <tr>\n",
              "      <th>11</th>\n",
              "      <td>1.2920</td>\n",
              "      <td>8.0</td>\n",
              "      <td>0.80</td>\n",
              "      <td>17.0</td>\n",
              "    </tr>\n",
              "    <tr>\n",
              "      <th>12</th>\n",
              "      <td>0.2396</td>\n",
              "      <td>8.0</td>\n",
              "      <td>0.80</td>\n",
              "      <td>17.0</td>\n",
              "    </tr>\n",
              "    <tr>\n",
              "      <th>13</th>\n",
              "      <td>0.8029</td>\n",
              "      <td>9.0</td>\n",
              "      <td>0.60</td>\n",
              "      <td>19.0</td>\n",
              "    </tr>\n",
              "    <tr>\n",
              "      <th>14</th>\n",
              "      <td>0.5913</td>\n",
              "      <td>10.0</td>\n",
              "      <td>0.82</td>\n",
              "      <td>21.0</td>\n",
              "    </tr>\n",
              "    <tr>\n",
              "      <th>15</th>\n",
              "      <td>0.3973</td>\n",
              "      <td>10.0</td>\n",
              "      <td>0.82</td>\n",
              "      <td>21.0</td>\n",
              "    </tr>\n",
              "    <tr>\n",
              "      <th>16</th>\n",
              "      <td>0.8494</td>\n",
              "      <td>11.0</td>\n",
              "      <td>0.78</td>\n",
              "      <td>23.0</td>\n",
              "    </tr>\n",
              "    <tr>\n",
              "      <th>17</th>\n",
              "      <td>0.2310</td>\n",
              "      <td>11.0</td>\n",
              "      <td>0.78</td>\n",
              "      <td>23.0</td>\n",
              "    </tr>\n",
              "    <tr>\n",
              "      <th>18</th>\n",
              "      <td>0.7711</td>\n",
              "      <td>12.0</td>\n",
              "      <td>0.70</td>\n",
              "      <td>25.0</td>\n",
              "    </tr>\n",
              "  </tbody>\n",
              "</table>\n",
              "</div>\n",
              "      <button class=\"colab-df-convert\" onclick=\"convertToInteractive('df-04ea5357-1f30-454f-968c-4f81cbf45db2')\"\n",
              "              title=\"Convert this dataframe to an interactive table.\"\n",
              "              style=\"display:none;\">\n",
              "        \n",
              "  <svg xmlns=\"http://www.w3.org/2000/svg\" height=\"24px\"viewBox=\"0 0 24 24\"\n",
              "       width=\"24px\">\n",
              "    <path d=\"M0 0h24v24H0V0z\" fill=\"none\"/>\n",
              "    <path d=\"M18.56 5.44l.94 2.06.94-2.06 2.06-.94-2.06-.94-.94-2.06-.94 2.06-2.06.94zm-11 1L8.5 8.5l.94-2.06 2.06-.94-2.06-.94L8.5 2.5l-.94 2.06-2.06.94zm10 10l.94 2.06.94-2.06 2.06-.94-2.06-.94-.94-2.06-.94 2.06-2.06.94z\"/><path d=\"M17.41 7.96l-1.37-1.37c-.4-.4-.92-.59-1.43-.59-.52 0-1.04.2-1.43.59L10.3 9.45l-7.72 7.72c-.78.78-.78 2.05 0 2.83L4 21.41c.39.39.9.59 1.41.59.51 0 1.02-.2 1.41-.59l7.78-7.78 2.81-2.81c.8-.78.8-2.07 0-2.86zM5.41 20L4 18.59l7.72-7.72 1.47 1.35L5.41 20z\"/>\n",
              "  </svg>\n",
              "      </button>\n",
              "      \n",
              "  <style>\n",
              "    .colab-df-container {\n",
              "      display:flex;\n",
              "      flex-wrap:wrap;\n",
              "      gap: 12px;\n",
              "    }\n",
              "\n",
              "    .colab-df-convert {\n",
              "      background-color: #E8F0FE;\n",
              "      border: none;\n",
              "      border-radius: 50%;\n",
              "      cursor: pointer;\n",
              "      display: none;\n",
              "      fill: #1967D2;\n",
              "      height: 32px;\n",
              "      padding: 0 0 0 0;\n",
              "      width: 32px;\n",
              "    }\n",
              "\n",
              "    .colab-df-convert:hover {\n",
              "      background-color: #E2EBFA;\n",
              "      box-shadow: 0px 1px 2px rgba(60, 64, 67, 0.3), 0px 1px 3px 1px rgba(60, 64, 67, 0.15);\n",
              "      fill: #174EA6;\n",
              "    }\n",
              "\n",
              "    [theme=dark] .colab-df-convert {\n",
              "      background-color: #3B4455;\n",
              "      fill: #D2E3FC;\n",
              "    }\n",
              "\n",
              "    [theme=dark] .colab-df-convert:hover {\n",
              "      background-color: #434B5C;\n",
              "      box-shadow: 0px 1px 3px 1px rgba(0, 0, 0, 0.15);\n",
              "      filter: drop-shadow(0px 1px 2px rgba(0, 0, 0, 0.3));\n",
              "      fill: #FFFFFF;\n",
              "    }\n",
              "  </style>\n",
              "\n",
              "      <script>\n",
              "        const buttonEl =\n",
              "          document.querySelector('#df-04ea5357-1f30-454f-968c-4f81cbf45db2 button.colab-df-convert');\n",
              "        buttonEl.style.display =\n",
              "          google.colab.kernel.accessAllowed ? 'block' : 'none';\n",
              "\n",
              "        async function convertToInteractive(key) {\n",
              "          const element = document.querySelector('#df-04ea5357-1f30-454f-968c-4f81cbf45db2');\n",
              "          const dataTable =\n",
              "            await google.colab.kernel.invokeFunction('convertToInteractive',\n",
              "                                                     [key], {});\n",
              "          if (!dataTable) return;\n",
              "\n",
              "          const docLinkHtml = 'Like what you see? Visit the ' +\n",
              "            '<a target=\"_blank\" href=https://colab.research.google.com/notebooks/data_table.ipynb>data table notebook</a>'\n",
              "            + ' to learn more about interactive tables.';\n",
              "          element.innerHTML = '';\n",
              "          dataTable['output_type'] = 'display_data';\n",
              "          await google.colab.output.renderOutput(dataTable, element);\n",
              "          const docLink = document.createElement('div');\n",
              "          docLink.innerHTML = docLinkHtml;\n",
              "          element.appendChild(docLink);\n",
              "        }\n",
              "      </script>\n",
              "    </div>\n",
              "  </div>\n",
              "  "
            ],
            "text/plain": [
              "    Velocidade  Estacoes  Prof   Loc\n",
              "0       0.0000       0.0  0.00   2.8\n",
              "1       0.4026       1.0  0.60   3.0\n",
              "2       1.0926       2.0  0.56   5.0\n",
              "3       1.2168       3.0  0.46   7.0\n",
              "4       0.9030       4.0  0.66   9.0\n",
              "5       0.7050       4.0  0.66   9.0\n",
              "6       1.2790       5.0  0.66  11.0\n",
              "7       0.7704       5.0  0.66  11.0\n",
              "8       0.9278       6.0  0.90  13.0\n",
              "9       0.4271       6.0  0.90  13.0\n",
              "10      1.0301       7.0  0.60  15.0\n",
              "11      1.2920       8.0  0.80  17.0\n",
              "12      0.2396       8.0  0.80  17.0\n",
              "13      0.8029       9.0  0.60  19.0\n",
              "14      0.5913      10.0  0.82  21.0\n",
              "15      0.3973      10.0  0.82  21.0\n",
              "16      0.8494      11.0  0.78  23.0\n",
              "17      0.2310      11.0  0.78  23.0\n",
              "18      0.7711      12.0  0.70  25.0"
            ]
          },
          "metadata": {},
          "execution_count": 12
        }
      ]
    },
    {
      "cell_type": "code",
      "metadata": {
        "id": "1tgOZoXiEAnm"
      },
      "source": [],
      "execution_count": null,
      "outputs": []
    },
    {
      "cell_type": "code",
      "metadata": {
        "id": "BehXlNSmar6g"
      },
      "source": [
        "# Podemos acessar os valores do DataFrame\n"
      ],
      "execution_count": null,
      "outputs": []
    },
    {
      "cell_type": "code",
      "metadata": {
        "id": "nWh9-47KD6Jn",
        "colab": {
          "base_uri": "https://localhost:8080/",
          "height": 645
        },
        "outputId": "a122b82d-77ab-4b8b-d962-2a77f90befe5"
      },
      "source": [
        "newData  "
      ],
      "execution_count": null,
      "outputs": [
        {
          "output_type": "execute_result",
          "data": {
            "text/html": [
              "\n",
              "  <div id=\"df-7933052a-b6b0-4d0e-9833-27a7e4466f7a\">\n",
              "    <div class=\"colab-df-container\">\n",
              "      <div>\n",
              "<style scoped>\n",
              "    .dataframe tbody tr th:only-of-type {\n",
              "        vertical-align: middle;\n",
              "    }\n",
              "\n",
              "    .dataframe tbody tr th {\n",
              "        vertical-align: top;\n",
              "    }\n",
              "\n",
              "    .dataframe thead th {\n",
              "        text-align: right;\n",
              "    }\n",
              "</style>\n",
              "<table border=\"1\" class=\"dataframe\">\n",
              "  <thead>\n",
              "    <tr style=\"text-align: right;\">\n",
              "      <th></th>\n",
              "      <th>Velocidade</th>\n",
              "      <th>Estacoes</th>\n",
              "      <th>Prof</th>\n",
              "      <th>Loc</th>\n",
              "    </tr>\n",
              "  </thead>\n",
              "  <tbody>\n",
              "    <tr>\n",
              "      <th>0</th>\n",
              "      <td>0.0000</td>\n",
              "      <td>0.0</td>\n",
              "      <td>0.00</td>\n",
              "      <td>2.8</td>\n",
              "    </tr>\n",
              "    <tr>\n",
              "      <th>1</th>\n",
              "      <td>0.4026</td>\n",
              "      <td>1.0</td>\n",
              "      <td>0.60</td>\n",
              "      <td>3.0</td>\n",
              "    </tr>\n",
              "    <tr>\n",
              "      <th>2</th>\n",
              "      <td>1.0926</td>\n",
              "      <td>2.0</td>\n",
              "      <td>0.56</td>\n",
              "      <td>5.0</td>\n",
              "    </tr>\n",
              "    <tr>\n",
              "      <th>3</th>\n",
              "      <td>1.2168</td>\n",
              "      <td>3.0</td>\n",
              "      <td>0.46</td>\n",
              "      <td>7.0</td>\n",
              "    </tr>\n",
              "    <tr>\n",
              "      <th>4</th>\n",
              "      <td>0.9030</td>\n",
              "      <td>4.0</td>\n",
              "      <td>0.66</td>\n",
              "      <td>9.0</td>\n",
              "    </tr>\n",
              "    <tr>\n",
              "      <th>5</th>\n",
              "      <td>0.7050</td>\n",
              "      <td>4.0</td>\n",
              "      <td>0.66</td>\n",
              "      <td>9.0</td>\n",
              "    </tr>\n",
              "    <tr>\n",
              "      <th>6</th>\n",
              "      <td>1.2790</td>\n",
              "      <td>5.0</td>\n",
              "      <td>0.66</td>\n",
              "      <td>11.0</td>\n",
              "    </tr>\n",
              "    <tr>\n",
              "      <th>7</th>\n",
              "      <td>0.7704</td>\n",
              "      <td>5.0</td>\n",
              "      <td>0.66</td>\n",
              "      <td>11.0</td>\n",
              "    </tr>\n",
              "    <tr>\n",
              "      <th>8</th>\n",
              "      <td>0.9278</td>\n",
              "      <td>6.0</td>\n",
              "      <td>0.90</td>\n",
              "      <td>13.0</td>\n",
              "    </tr>\n",
              "    <tr>\n",
              "      <th>9</th>\n",
              "      <td>0.4271</td>\n",
              "      <td>6.0</td>\n",
              "      <td>0.90</td>\n",
              "      <td>13.0</td>\n",
              "    </tr>\n",
              "    <tr>\n",
              "      <th>10</th>\n",
              "      <td>1.0301</td>\n",
              "      <td>7.0</td>\n",
              "      <td>0.60</td>\n",
              "      <td>15.0</td>\n",
              "    </tr>\n",
              "    <tr>\n",
              "      <th>11</th>\n",
              "      <td>1.2920</td>\n",
              "      <td>8.0</td>\n",
              "      <td>0.80</td>\n",
              "      <td>17.0</td>\n",
              "    </tr>\n",
              "    <tr>\n",
              "      <th>12</th>\n",
              "      <td>0.2396</td>\n",
              "      <td>8.0</td>\n",
              "      <td>0.80</td>\n",
              "      <td>17.0</td>\n",
              "    </tr>\n",
              "    <tr>\n",
              "      <th>13</th>\n",
              "      <td>0.8029</td>\n",
              "      <td>9.0</td>\n",
              "      <td>0.60</td>\n",
              "      <td>19.0</td>\n",
              "    </tr>\n",
              "    <tr>\n",
              "      <th>14</th>\n",
              "      <td>0.5913</td>\n",
              "      <td>10.0</td>\n",
              "      <td>0.82</td>\n",
              "      <td>21.0</td>\n",
              "    </tr>\n",
              "    <tr>\n",
              "      <th>15</th>\n",
              "      <td>0.3973</td>\n",
              "      <td>10.0</td>\n",
              "      <td>0.82</td>\n",
              "      <td>21.0</td>\n",
              "    </tr>\n",
              "    <tr>\n",
              "      <th>16</th>\n",
              "      <td>0.8494</td>\n",
              "      <td>11.0</td>\n",
              "      <td>0.78</td>\n",
              "      <td>23.0</td>\n",
              "    </tr>\n",
              "    <tr>\n",
              "      <th>17</th>\n",
              "      <td>0.2310</td>\n",
              "      <td>11.0</td>\n",
              "      <td>0.78</td>\n",
              "      <td>23.0</td>\n",
              "    </tr>\n",
              "    <tr>\n",
              "      <th>18</th>\n",
              "      <td>0.7711</td>\n",
              "      <td>12.0</td>\n",
              "      <td>0.70</td>\n",
              "      <td>25.0</td>\n",
              "    </tr>\n",
              "  </tbody>\n",
              "</table>\n",
              "</div>\n",
              "      <button class=\"colab-df-convert\" onclick=\"convertToInteractive('df-7933052a-b6b0-4d0e-9833-27a7e4466f7a')\"\n",
              "              title=\"Convert this dataframe to an interactive table.\"\n",
              "              style=\"display:none;\">\n",
              "        \n",
              "  <svg xmlns=\"http://www.w3.org/2000/svg\" height=\"24px\"viewBox=\"0 0 24 24\"\n",
              "       width=\"24px\">\n",
              "    <path d=\"M0 0h24v24H0V0z\" fill=\"none\"/>\n",
              "    <path d=\"M18.56 5.44l.94 2.06.94-2.06 2.06-.94-2.06-.94-.94-2.06-.94 2.06-2.06.94zm-11 1L8.5 8.5l.94-2.06 2.06-.94-2.06-.94L8.5 2.5l-.94 2.06-2.06.94zm10 10l.94 2.06.94-2.06 2.06-.94-2.06-.94-.94-2.06-.94 2.06-2.06.94z\"/><path d=\"M17.41 7.96l-1.37-1.37c-.4-.4-.92-.59-1.43-.59-.52 0-1.04.2-1.43.59L10.3 9.45l-7.72 7.72c-.78.78-.78 2.05 0 2.83L4 21.41c.39.39.9.59 1.41.59.51 0 1.02-.2 1.41-.59l7.78-7.78 2.81-2.81c.8-.78.8-2.07 0-2.86zM5.41 20L4 18.59l7.72-7.72 1.47 1.35L5.41 20z\"/>\n",
              "  </svg>\n",
              "      </button>\n",
              "      \n",
              "  <style>\n",
              "    .colab-df-container {\n",
              "      display:flex;\n",
              "      flex-wrap:wrap;\n",
              "      gap: 12px;\n",
              "    }\n",
              "\n",
              "    .colab-df-convert {\n",
              "      background-color: #E8F0FE;\n",
              "      border: none;\n",
              "      border-radius: 50%;\n",
              "      cursor: pointer;\n",
              "      display: none;\n",
              "      fill: #1967D2;\n",
              "      height: 32px;\n",
              "      padding: 0 0 0 0;\n",
              "      width: 32px;\n",
              "    }\n",
              "\n",
              "    .colab-df-convert:hover {\n",
              "      background-color: #E2EBFA;\n",
              "      box-shadow: 0px 1px 2px rgba(60, 64, 67, 0.3), 0px 1px 3px 1px rgba(60, 64, 67, 0.15);\n",
              "      fill: #174EA6;\n",
              "    }\n",
              "\n",
              "    [theme=dark] .colab-df-convert {\n",
              "      background-color: #3B4455;\n",
              "      fill: #D2E3FC;\n",
              "    }\n",
              "\n",
              "    [theme=dark] .colab-df-convert:hover {\n",
              "      background-color: #434B5C;\n",
              "      box-shadow: 0px 1px 3px 1px rgba(0, 0, 0, 0.15);\n",
              "      filter: drop-shadow(0px 1px 2px rgba(0, 0, 0, 0.3));\n",
              "      fill: #FFFFFF;\n",
              "    }\n",
              "  </style>\n",
              "\n",
              "      <script>\n",
              "        const buttonEl =\n",
              "          document.querySelector('#df-7933052a-b6b0-4d0e-9833-27a7e4466f7a button.colab-df-convert');\n",
              "        buttonEl.style.display =\n",
              "          google.colab.kernel.accessAllowed ? 'block' : 'none';\n",
              "\n",
              "        async function convertToInteractive(key) {\n",
              "          const element = document.querySelector('#df-7933052a-b6b0-4d0e-9833-27a7e4466f7a');\n",
              "          const dataTable =\n",
              "            await google.colab.kernel.invokeFunction('convertToInteractive',\n",
              "                                                     [key], {});\n",
              "          if (!dataTable) return;\n",
              "\n",
              "          const docLinkHtml = 'Like what you see? Visit the ' +\n",
              "            '<a target=\"_blank\" href=https://colab.research.google.com/notebooks/data_table.ipynb>data table notebook</a>'\n",
              "            + ' to learn more about interactive tables.';\n",
              "          element.innerHTML = '';\n",
              "          dataTable['output_type'] = 'display_data';\n",
              "          await google.colab.output.renderOutput(dataTable, element);\n",
              "          const docLink = document.createElement('div');\n",
              "          docLink.innerHTML = docLinkHtml;\n",
              "          element.appendChild(docLink);\n",
              "        }\n",
              "      </script>\n",
              "    </div>\n",
              "  </div>\n",
              "  "
            ],
            "text/plain": [
              "    Velocidade  Estacoes  Prof   Loc\n",
              "0       0.0000       0.0  0.00   2.8\n",
              "1       0.4026       1.0  0.60   3.0\n",
              "2       1.0926       2.0  0.56   5.0\n",
              "3       1.2168       3.0  0.46   7.0\n",
              "4       0.9030       4.0  0.66   9.0\n",
              "5       0.7050       4.0  0.66   9.0\n",
              "6       1.2790       5.0  0.66  11.0\n",
              "7       0.7704       5.0  0.66  11.0\n",
              "8       0.9278       6.0  0.90  13.0\n",
              "9       0.4271       6.0  0.90  13.0\n",
              "10      1.0301       7.0  0.60  15.0\n",
              "11      1.2920       8.0  0.80  17.0\n",
              "12      0.2396       8.0  0.80  17.0\n",
              "13      0.8029       9.0  0.60  19.0\n",
              "14      0.5913      10.0  0.82  21.0\n",
              "15      0.3973      10.0  0.82  21.0\n",
              "16      0.8494      11.0  0.78  23.0\n",
              "17      0.2310      11.0  0.78  23.0\n",
              "18      0.7711      12.0  0.70  25.0"
            ]
          },
          "metadata": {},
          "execution_count": 13
        }
      ]
    },
    {
      "cell_type": "code",
      "metadata": {
        "colab": {
          "base_uri": "https://localhost:8080/"
        },
        "id": "1UPpFC_e-Yr6",
        "outputId": "61d82842-c6dc-4261-df6b-57827a58931a"
      },
      "source": [
        "newData['Velocidade']   # Retorna uma Série com os valores na coluna 'Velocidade'"
      ],
      "execution_count": null,
      "outputs": [
        {
          "output_type": "execute_result",
          "data": {
            "text/plain": [
              "0     0.0000\n",
              "1     0.4026\n",
              "2     1.0926\n",
              "3     1.2168\n",
              "4     0.9030\n",
              "5     0.7050\n",
              "6     1.2790\n",
              "7     0.7704\n",
              "8     0.9278\n",
              "9     0.4271\n",
              "10    1.0301\n",
              "11    1.2920\n",
              "12    0.2396\n",
              "13    0.8029\n",
              "14    0.5913\n",
              "15    0.3973\n",
              "16    0.8494\n",
              "17    0.2310\n",
              "18    0.7711\n",
              "Name: Velocidade, dtype: float64"
            ]
          },
          "metadata": {},
          "execution_count": 14
        }
      ]
    },
    {
      "cell_type": "code",
      "metadata": {
        "colab": {
          "base_uri": "https://localhost:8080/"
        },
        "id": "sepP2m24EtAm",
        "outputId": "cc04a742-c6a5-4b00-a789-d7a59d3d3656"
      },
      "source": [
        "newData['Loc'][5]  # Pede acesso à coluna 'Localizacao' e, depois, pede acesso à informação que está no index 5 "
      ],
      "execution_count": null,
      "outputs": [
        {
          "output_type": "execute_result",
          "data": {
            "text/plain": [
              "9.0"
            ]
          },
          "metadata": {},
          "execution_count": 16
        }
      ]
    },
    {
      "cell_type": "code",
      "metadata": {
        "id": "w7wH1sB_EtE_",
        "colab": {
          "base_uri": "https://localhost:8080/"
        },
        "outputId": "0c7b3b9c-0472-45af-851f-00f28b547ba4"
      },
      "source": [
        "newData['Prof'][:5] # Pede acesso `a coluna 'Prof' e, depois, pede acesso à informação do começo até o index 5 ( 5 não incluso )"
      ],
      "execution_count": null,
      "outputs": [
        {
          "output_type": "execute_result",
          "data": {
            "text/plain": [
              "0    0.00\n",
              "1    0.60\n",
              "2    0.56\n",
              "3    0.46\n",
              "4    0.66\n",
              "Name: Prof, dtype: float64"
            ]
          },
          "metadata": {},
          "execution_count": 17
        }
      ]
    },
    {
      "cell_type": "code",
      "metadata": {
        "id": "30GU1E7hITLt"
      },
      "source": [
        "# Podemos acessar mais de uma coluna no DataFrame\n"
      ],
      "execution_count": null,
      "outputs": []
    },
    {
      "cell_type": "code",
      "metadata": {
        "id": "jq7Et0cYIXKl",
        "colab": {
          "base_uri": "https://localhost:8080/",
          "height": 645
        },
        "outputId": "86c4f9df-0af3-4a1d-999d-38f787687e0e"
      },
      "source": [
        "newData[ [ 'Velocidade' , 'Loc' ] ]   # Foi passado uma LISTA ['Velocidade' , 'Loc'] ao acesso, que retorna as duas colunas (um sub DataFrame)"
      ],
      "execution_count": null,
      "outputs": [
        {
          "output_type": "execute_result",
          "data": {
            "text/html": [
              "\n",
              "  <div id=\"df-619d3767-b278-4d5b-99e1-6e1f770a1cde\">\n",
              "    <div class=\"colab-df-container\">\n",
              "      <div>\n",
              "<style scoped>\n",
              "    .dataframe tbody tr th:only-of-type {\n",
              "        vertical-align: middle;\n",
              "    }\n",
              "\n",
              "    .dataframe tbody tr th {\n",
              "        vertical-align: top;\n",
              "    }\n",
              "\n",
              "    .dataframe thead th {\n",
              "        text-align: right;\n",
              "    }\n",
              "</style>\n",
              "<table border=\"1\" class=\"dataframe\">\n",
              "  <thead>\n",
              "    <tr style=\"text-align: right;\">\n",
              "      <th></th>\n",
              "      <th>Velocidade</th>\n",
              "      <th>Loc</th>\n",
              "    </tr>\n",
              "  </thead>\n",
              "  <tbody>\n",
              "    <tr>\n",
              "      <th>0</th>\n",
              "      <td>0.0000</td>\n",
              "      <td>2.8</td>\n",
              "    </tr>\n",
              "    <tr>\n",
              "      <th>1</th>\n",
              "      <td>0.4026</td>\n",
              "      <td>3.0</td>\n",
              "    </tr>\n",
              "    <tr>\n",
              "      <th>2</th>\n",
              "      <td>1.0926</td>\n",
              "      <td>5.0</td>\n",
              "    </tr>\n",
              "    <tr>\n",
              "      <th>3</th>\n",
              "      <td>1.2168</td>\n",
              "      <td>7.0</td>\n",
              "    </tr>\n",
              "    <tr>\n",
              "      <th>4</th>\n",
              "      <td>0.9030</td>\n",
              "      <td>9.0</td>\n",
              "    </tr>\n",
              "    <tr>\n",
              "      <th>5</th>\n",
              "      <td>0.7050</td>\n",
              "      <td>9.0</td>\n",
              "    </tr>\n",
              "    <tr>\n",
              "      <th>6</th>\n",
              "      <td>1.2790</td>\n",
              "      <td>11.0</td>\n",
              "    </tr>\n",
              "    <tr>\n",
              "      <th>7</th>\n",
              "      <td>0.7704</td>\n",
              "      <td>11.0</td>\n",
              "    </tr>\n",
              "    <tr>\n",
              "      <th>8</th>\n",
              "      <td>0.9278</td>\n",
              "      <td>13.0</td>\n",
              "    </tr>\n",
              "    <tr>\n",
              "      <th>9</th>\n",
              "      <td>0.4271</td>\n",
              "      <td>13.0</td>\n",
              "    </tr>\n",
              "    <tr>\n",
              "      <th>10</th>\n",
              "      <td>1.0301</td>\n",
              "      <td>15.0</td>\n",
              "    </tr>\n",
              "    <tr>\n",
              "      <th>11</th>\n",
              "      <td>1.2920</td>\n",
              "      <td>17.0</td>\n",
              "    </tr>\n",
              "    <tr>\n",
              "      <th>12</th>\n",
              "      <td>0.2396</td>\n",
              "      <td>17.0</td>\n",
              "    </tr>\n",
              "    <tr>\n",
              "      <th>13</th>\n",
              "      <td>0.8029</td>\n",
              "      <td>19.0</td>\n",
              "    </tr>\n",
              "    <tr>\n",
              "      <th>14</th>\n",
              "      <td>0.5913</td>\n",
              "      <td>21.0</td>\n",
              "    </tr>\n",
              "    <tr>\n",
              "      <th>15</th>\n",
              "      <td>0.3973</td>\n",
              "      <td>21.0</td>\n",
              "    </tr>\n",
              "    <tr>\n",
              "      <th>16</th>\n",
              "      <td>0.8494</td>\n",
              "      <td>23.0</td>\n",
              "    </tr>\n",
              "    <tr>\n",
              "      <th>17</th>\n",
              "      <td>0.2310</td>\n",
              "      <td>23.0</td>\n",
              "    </tr>\n",
              "    <tr>\n",
              "      <th>18</th>\n",
              "      <td>0.7711</td>\n",
              "      <td>25.0</td>\n",
              "    </tr>\n",
              "  </tbody>\n",
              "</table>\n",
              "</div>\n",
              "      <button class=\"colab-df-convert\" onclick=\"convertToInteractive('df-619d3767-b278-4d5b-99e1-6e1f770a1cde')\"\n",
              "              title=\"Convert this dataframe to an interactive table.\"\n",
              "              style=\"display:none;\">\n",
              "        \n",
              "  <svg xmlns=\"http://www.w3.org/2000/svg\" height=\"24px\"viewBox=\"0 0 24 24\"\n",
              "       width=\"24px\">\n",
              "    <path d=\"M0 0h24v24H0V0z\" fill=\"none\"/>\n",
              "    <path d=\"M18.56 5.44l.94 2.06.94-2.06 2.06-.94-2.06-.94-.94-2.06-.94 2.06-2.06.94zm-11 1L8.5 8.5l.94-2.06 2.06-.94-2.06-.94L8.5 2.5l-.94 2.06-2.06.94zm10 10l.94 2.06.94-2.06 2.06-.94-2.06-.94-.94-2.06-.94 2.06-2.06.94z\"/><path d=\"M17.41 7.96l-1.37-1.37c-.4-.4-.92-.59-1.43-.59-.52 0-1.04.2-1.43.59L10.3 9.45l-7.72 7.72c-.78.78-.78 2.05 0 2.83L4 21.41c.39.39.9.59 1.41.59.51 0 1.02-.2 1.41-.59l7.78-7.78 2.81-2.81c.8-.78.8-2.07 0-2.86zM5.41 20L4 18.59l7.72-7.72 1.47 1.35L5.41 20z\"/>\n",
              "  </svg>\n",
              "      </button>\n",
              "      \n",
              "  <style>\n",
              "    .colab-df-container {\n",
              "      display:flex;\n",
              "      flex-wrap:wrap;\n",
              "      gap: 12px;\n",
              "    }\n",
              "\n",
              "    .colab-df-convert {\n",
              "      background-color: #E8F0FE;\n",
              "      border: none;\n",
              "      border-radius: 50%;\n",
              "      cursor: pointer;\n",
              "      display: none;\n",
              "      fill: #1967D2;\n",
              "      height: 32px;\n",
              "      padding: 0 0 0 0;\n",
              "      width: 32px;\n",
              "    }\n",
              "\n",
              "    .colab-df-convert:hover {\n",
              "      background-color: #E2EBFA;\n",
              "      box-shadow: 0px 1px 2px rgba(60, 64, 67, 0.3), 0px 1px 3px 1px rgba(60, 64, 67, 0.15);\n",
              "      fill: #174EA6;\n",
              "    }\n",
              "\n",
              "    [theme=dark] .colab-df-convert {\n",
              "      background-color: #3B4455;\n",
              "      fill: #D2E3FC;\n",
              "    }\n",
              "\n",
              "    [theme=dark] .colab-df-convert:hover {\n",
              "      background-color: #434B5C;\n",
              "      box-shadow: 0px 1px 3px 1px rgba(0, 0, 0, 0.15);\n",
              "      filter: drop-shadow(0px 1px 2px rgba(0, 0, 0, 0.3));\n",
              "      fill: #FFFFFF;\n",
              "    }\n",
              "  </style>\n",
              "\n",
              "      <script>\n",
              "        const buttonEl =\n",
              "          document.querySelector('#df-619d3767-b278-4d5b-99e1-6e1f770a1cde button.colab-df-convert');\n",
              "        buttonEl.style.display =\n",
              "          google.colab.kernel.accessAllowed ? 'block' : 'none';\n",
              "\n",
              "        async function convertToInteractive(key) {\n",
              "          const element = document.querySelector('#df-619d3767-b278-4d5b-99e1-6e1f770a1cde');\n",
              "          const dataTable =\n",
              "            await google.colab.kernel.invokeFunction('convertToInteractive',\n",
              "                                                     [key], {});\n",
              "          if (!dataTable) return;\n",
              "\n",
              "          const docLinkHtml = 'Like what you see? Visit the ' +\n",
              "            '<a target=\"_blank\" href=https://colab.research.google.com/notebooks/data_table.ipynb>data table notebook</a>'\n",
              "            + ' to learn more about interactive tables.';\n",
              "          element.innerHTML = '';\n",
              "          dataTable['output_type'] = 'display_data';\n",
              "          await google.colab.output.renderOutput(dataTable, element);\n",
              "          const docLink = document.createElement('div');\n",
              "          docLink.innerHTML = docLinkHtml;\n",
              "          element.appendChild(docLink);\n",
              "        }\n",
              "      </script>\n",
              "    </div>\n",
              "  </div>\n",
              "  "
            ],
            "text/plain": [
              "    Velocidade   Loc\n",
              "0       0.0000   2.8\n",
              "1       0.4026   3.0\n",
              "2       1.0926   5.0\n",
              "3       1.2168   7.0\n",
              "4       0.9030   9.0\n",
              "5       0.7050   9.0\n",
              "6       1.2790  11.0\n",
              "7       0.7704  11.0\n",
              "8       0.9278  13.0\n",
              "9       0.4271  13.0\n",
              "10      1.0301  15.0\n",
              "11      1.2920  17.0\n",
              "12      0.2396  17.0\n",
              "13      0.8029  19.0\n",
              "14      0.5913  21.0\n",
              "15      0.3973  21.0\n",
              "16      0.8494  23.0\n",
              "17      0.2310  23.0\n",
              "18      0.7711  25.0"
            ]
          },
          "metadata": {},
          "execution_count": 19
        }
      ]
    },
    {
      "cell_type": "code",
      "metadata": {
        "id": "cWmF6c_Ear-j"
      },
      "source": [
        "# Podemos incluir colunas em um DataFrame\n"
      ],
      "execution_count": null,
      "outputs": []
    },
    {
      "cell_type": "code",
      "metadata": {
        "id": "F1mbl84XYLZf",
        "colab": {
          "base_uri": "https://localhost:8080/",
          "height": 49
        },
        "outputId": "3bb7e733-734b-4b26-d523-489d93f5dc8e"
      },
      "source": [
        "dados2 = pd.DataFrame(data = ())    # Um DataFrame vazio !\n",
        "dados2"
      ],
      "execution_count": null,
      "outputs": [
        {
          "output_type": "execute_result",
          "data": {
            "text/html": [
              "\n",
              "  <div id=\"df-1de3c4ec-9c4d-4022-871f-d1371def6734\">\n",
              "    <div class=\"colab-df-container\">\n",
              "      <div>\n",
              "<style scoped>\n",
              "    .dataframe tbody tr th:only-of-type {\n",
              "        vertical-align: middle;\n",
              "    }\n",
              "\n",
              "    .dataframe tbody tr th {\n",
              "        vertical-align: top;\n",
              "    }\n",
              "\n",
              "    .dataframe thead th {\n",
              "        text-align: right;\n",
              "    }\n",
              "</style>\n",
              "<table border=\"1\" class=\"dataframe\">\n",
              "  <thead>\n",
              "    <tr style=\"text-align: right;\">\n",
              "      <th></th>\n",
              "    </tr>\n",
              "  </thead>\n",
              "  <tbody>\n",
              "  </tbody>\n",
              "</table>\n",
              "</div>\n",
              "      <button class=\"colab-df-convert\" onclick=\"convertToInteractive('df-1de3c4ec-9c4d-4022-871f-d1371def6734')\"\n",
              "              title=\"Convert this dataframe to an interactive table.\"\n",
              "              style=\"display:none;\">\n",
              "        \n",
              "  <svg xmlns=\"http://www.w3.org/2000/svg\" height=\"24px\"viewBox=\"0 0 24 24\"\n",
              "       width=\"24px\">\n",
              "    <path d=\"M0 0h24v24H0V0z\" fill=\"none\"/>\n",
              "    <path d=\"M18.56 5.44l.94 2.06.94-2.06 2.06-.94-2.06-.94-.94-2.06-.94 2.06-2.06.94zm-11 1L8.5 8.5l.94-2.06 2.06-.94-2.06-.94L8.5 2.5l-.94 2.06-2.06.94zm10 10l.94 2.06.94-2.06 2.06-.94-2.06-.94-.94-2.06-.94 2.06-2.06.94z\"/><path d=\"M17.41 7.96l-1.37-1.37c-.4-.4-.92-.59-1.43-.59-.52 0-1.04.2-1.43.59L10.3 9.45l-7.72 7.72c-.78.78-.78 2.05 0 2.83L4 21.41c.39.39.9.59 1.41.59.51 0 1.02-.2 1.41-.59l7.78-7.78 2.81-2.81c.8-.78.8-2.07 0-2.86zM5.41 20L4 18.59l7.72-7.72 1.47 1.35L5.41 20z\"/>\n",
              "  </svg>\n",
              "      </button>\n",
              "      \n",
              "  <style>\n",
              "    .colab-df-container {\n",
              "      display:flex;\n",
              "      flex-wrap:wrap;\n",
              "      gap: 12px;\n",
              "    }\n",
              "\n",
              "    .colab-df-convert {\n",
              "      background-color: #E8F0FE;\n",
              "      border: none;\n",
              "      border-radius: 50%;\n",
              "      cursor: pointer;\n",
              "      display: none;\n",
              "      fill: #1967D2;\n",
              "      height: 32px;\n",
              "      padding: 0 0 0 0;\n",
              "      width: 32px;\n",
              "    }\n",
              "\n",
              "    .colab-df-convert:hover {\n",
              "      background-color: #E2EBFA;\n",
              "      box-shadow: 0px 1px 2px rgba(60, 64, 67, 0.3), 0px 1px 3px 1px rgba(60, 64, 67, 0.15);\n",
              "      fill: #174EA6;\n",
              "    }\n",
              "\n",
              "    [theme=dark] .colab-df-convert {\n",
              "      background-color: #3B4455;\n",
              "      fill: #D2E3FC;\n",
              "    }\n",
              "\n",
              "    [theme=dark] .colab-df-convert:hover {\n",
              "      background-color: #434B5C;\n",
              "      box-shadow: 0px 1px 3px 1px rgba(0, 0, 0, 0.15);\n",
              "      filter: drop-shadow(0px 1px 2px rgba(0, 0, 0, 0.3));\n",
              "      fill: #FFFFFF;\n",
              "    }\n",
              "  </style>\n",
              "\n",
              "      <script>\n",
              "        const buttonEl =\n",
              "          document.querySelector('#df-1de3c4ec-9c4d-4022-871f-d1371def6734 button.colab-df-convert');\n",
              "        buttonEl.style.display =\n",
              "          google.colab.kernel.accessAllowed ? 'block' : 'none';\n",
              "\n",
              "        async function convertToInteractive(key) {\n",
              "          const element = document.querySelector('#df-1de3c4ec-9c4d-4022-871f-d1371def6734');\n",
              "          const dataTable =\n",
              "            await google.colab.kernel.invokeFunction('convertToInteractive',\n",
              "                                                     [key], {});\n",
              "          if (!dataTable) return;\n",
              "\n",
              "          const docLinkHtml = 'Like what you see? Visit the ' +\n",
              "            '<a target=\"_blank\" href=https://colab.research.google.com/notebooks/data_table.ipynb>data table notebook</a>'\n",
              "            + ' to learn more about interactive tables.';\n",
              "          element.innerHTML = '';\n",
              "          dataTable['output_type'] = 'display_data';\n",
              "          await google.colab.output.renderOutput(dataTable, element);\n",
              "          const docLink = document.createElement('div');\n",
              "          docLink.innerHTML = docLinkHtml;\n",
              "          element.appendChild(docLink);\n",
              "        }\n",
              "      </script>\n",
              "    </div>\n",
              "  </div>\n",
              "  "
            ],
            "text/plain": [
              "Empty DataFrame\n",
              "Columns: []\n",
              "Index: []"
            ]
          },
          "metadata": {},
          "execution_count": 20
        }
      ]
    },
    {
      "cell_type": "code",
      "metadata": {
        "id": "6h6ZJpTYYLc6",
        "colab": {
          "base_uri": "https://localhost:8080/",
          "height": 645
        },
        "outputId": "9a35a329-6370-46e8-a113-066d0f0a4166"
      },
      "source": [
        "# Para incluir uma coluna, usamos a notação de acesso [ ] com o nome da coluna a ser inserida  \n",
        "# DESDE QUE O NOME DA COLUNA JÁ NÃO TENHA SIDO USADO, CASO CONTRÁRIO SERÁ UMA ATRIBUIÇÃO E OS VALORES SERÃO SUBSTITUIDOS \n",
        "\n",
        "dados2['Estacoes'] = Estacoes\n",
        "dados2['Velocidade'] = Velocidade\n",
        "dados2['Hora'] = Horas\n",
        "dados2['Prof'] = Prof\n",
        "dados2['%Prof'] = porcprof\n",
        "dados2['PMed'] = PMed\n",
        "dados2['Localizacao'] = Loc\n",
        "\n",
        "# Note que nenhuma dessas colunas existiam no DataFrame ( dados2 )\n",
        "# então podemos usar esses nomes para as colunas e elas serão incluidas ( e não atribuidas com novos valores !)\n",
        "display(dados2)"
      ],
      "execution_count": null,
      "outputs": [
        {
          "output_type": "display_data",
          "data": {
            "text/html": [
              "\n",
              "  <div id=\"df-6329c662-4cd2-45ea-a659-60ebaf4f5eed\">\n",
              "    <div class=\"colab-df-container\">\n",
              "      <div>\n",
              "<style scoped>\n",
              "    .dataframe tbody tr th:only-of-type {\n",
              "        vertical-align: middle;\n",
              "    }\n",
              "\n",
              "    .dataframe tbody tr th {\n",
              "        vertical-align: top;\n",
              "    }\n",
              "\n",
              "    .dataframe thead th {\n",
              "        text-align: right;\n",
              "    }\n",
              "</style>\n",
              "<table border=\"1\" class=\"dataframe\">\n",
              "  <thead>\n",
              "    <tr style=\"text-align: right;\">\n",
              "      <th></th>\n",
              "      <th>Estacoes</th>\n",
              "      <th>Velocidade</th>\n",
              "      <th>Hora</th>\n",
              "      <th>Prof</th>\n",
              "      <th>%Prof</th>\n",
              "      <th>PMed</th>\n",
              "      <th>Localizacao</th>\n",
              "    </tr>\n",
              "  </thead>\n",
              "  <tbody>\n",
              "    <tr>\n",
              "      <th>0</th>\n",
              "      <td>0</td>\n",
              "      <td>0.0000</td>\n",
              "      <td>13:21:00</td>\n",
              "      <td>0.00</td>\n",
              "      <td>0.0</td>\n",
              "      <td>0.000</td>\n",
              "      <td>2.8</td>\n",
              "    </tr>\n",
              "    <tr>\n",
              "      <th>1</th>\n",
              "      <td>1</td>\n",
              "      <td>0.4026</td>\n",
              "      <td>13:21:00</td>\n",
              "      <td>0.60</td>\n",
              "      <td>0.6</td>\n",
              "      <td>0.240</td>\n",
              "      <td>3.0</td>\n",
              "    </tr>\n",
              "    <tr>\n",
              "      <th>2</th>\n",
              "      <td>2</td>\n",
              "      <td>1.0926</td>\n",
              "      <td>13:23:00</td>\n",
              "      <td>0.56</td>\n",
              "      <td>0.6</td>\n",
              "      <td>0.224</td>\n",
              "      <td>5.0</td>\n",
              "    </tr>\n",
              "    <tr>\n",
              "      <th>3</th>\n",
              "      <td>3</td>\n",
              "      <td>1.2168</td>\n",
              "      <td>13:24:00</td>\n",
              "      <td>0.46</td>\n",
              "      <td>0.6</td>\n",
              "      <td>0.184</td>\n",
              "      <td>7.0</td>\n",
              "    </tr>\n",
              "    <tr>\n",
              "      <th>4</th>\n",
              "      <td>4</td>\n",
              "      <td>0.9030</td>\n",
              "      <td>13:26:00</td>\n",
              "      <td>0.66</td>\n",
              "      <td>0.2</td>\n",
              "      <td>0.528</td>\n",
              "      <td>9.0</td>\n",
              "    </tr>\n",
              "    <tr>\n",
              "      <th>5</th>\n",
              "      <td>4</td>\n",
              "      <td>0.7050</td>\n",
              "      <td>13:27:00</td>\n",
              "      <td>0.66</td>\n",
              "      <td>0.8</td>\n",
              "      <td>0.132</td>\n",
              "      <td>9.0</td>\n",
              "    </tr>\n",
              "    <tr>\n",
              "      <th>6</th>\n",
              "      <td>5</td>\n",
              "      <td>1.2790</td>\n",
              "      <td>13:29:00</td>\n",
              "      <td>0.66</td>\n",
              "      <td>0.2</td>\n",
              "      <td>0.558</td>\n",
              "      <td>11.0</td>\n",
              "    </tr>\n",
              "    <tr>\n",
              "      <th>7</th>\n",
              "      <td>5</td>\n",
              "      <td>0.7704</td>\n",
              "      <td>13:28:00</td>\n",
              "      <td>0.66</td>\n",
              "      <td>0.8</td>\n",
              "      <td>0.132</td>\n",
              "      <td>11.0</td>\n",
              "    </tr>\n",
              "    <tr>\n",
              "      <th>8</th>\n",
              "      <td>6</td>\n",
              "      <td>0.9278</td>\n",
              "      <td>13:30:00</td>\n",
              "      <td>0.90</td>\n",
              "      <td>0.2</td>\n",
              "      <td>0.720</td>\n",
              "      <td>13.0</td>\n",
              "    </tr>\n",
              "    <tr>\n",
              "      <th>9</th>\n",
              "      <td>6</td>\n",
              "      <td>0.4271</td>\n",
              "      <td>13:31:00</td>\n",
              "      <td>0.90</td>\n",
              "      <td>0.8</td>\n",
              "      <td>0.180</td>\n",
              "      <td>13.0</td>\n",
              "    </tr>\n",
              "    <tr>\n",
              "      <th>10</th>\n",
              "      <td>7</td>\n",
              "      <td>1.0301</td>\n",
              "      <td>13:33:00</td>\n",
              "      <td>0.60</td>\n",
              "      <td>0.6</td>\n",
              "      <td>0.240</td>\n",
              "      <td>15.0</td>\n",
              "    </tr>\n",
              "    <tr>\n",
              "      <th>11</th>\n",
              "      <td>8</td>\n",
              "      <td>1.2920</td>\n",
              "      <td>13:35:00</td>\n",
              "      <td>0.80</td>\n",
              "      <td>0.2</td>\n",
              "      <td>0.640</td>\n",
              "      <td>17.0</td>\n",
              "    </tr>\n",
              "    <tr>\n",
              "      <th>12</th>\n",
              "      <td>8</td>\n",
              "      <td>0.2396</td>\n",
              "      <td>13:36:00</td>\n",
              "      <td>0.80</td>\n",
              "      <td>0.8</td>\n",
              "      <td>0.160</td>\n",
              "      <td>17.0</td>\n",
              "    </tr>\n",
              "    <tr>\n",
              "      <th>13</th>\n",
              "      <td>9</td>\n",
              "      <td>0.8029</td>\n",
              "      <td>13:38:00</td>\n",
              "      <td>0.60</td>\n",
              "      <td>0.6</td>\n",
              "      <td>0.240</td>\n",
              "      <td>19.0</td>\n",
              "    </tr>\n",
              "    <tr>\n",
              "      <th>14</th>\n",
              "      <td>10</td>\n",
              "      <td>0.5913</td>\n",
              "      <td>13:40:00</td>\n",
              "      <td>0.82</td>\n",
              "      <td>0.2</td>\n",
              "      <td>0.656</td>\n",
              "      <td>21.0</td>\n",
              "    </tr>\n",
              "    <tr>\n",
              "      <th>15</th>\n",
              "      <td>10</td>\n",
              "      <td>0.3973</td>\n",
              "      <td>13:42:00</td>\n",
              "      <td>0.82</td>\n",
              "      <td>0.8</td>\n",
              "      <td>0.164</td>\n",
              "      <td>21.0</td>\n",
              "    </tr>\n",
              "    <tr>\n",
              "      <th>16</th>\n",
              "      <td>11</td>\n",
              "      <td>0.8494</td>\n",
              "      <td>13:45:00</td>\n",
              "      <td>0.78</td>\n",
              "      <td>0.2</td>\n",
              "      <td>0.624</td>\n",
              "      <td>23.0</td>\n",
              "    </tr>\n",
              "    <tr>\n",
              "      <th>17</th>\n",
              "      <td>11</td>\n",
              "      <td>0.2310</td>\n",
              "      <td>13:44:00</td>\n",
              "      <td>0.78</td>\n",
              "      <td>0.8</td>\n",
              "      <td>0.156</td>\n",
              "      <td>23.0</td>\n",
              "    </tr>\n",
              "    <tr>\n",
              "      <th>18</th>\n",
              "      <td>12</td>\n",
              "      <td>0.7711</td>\n",
              "      <td>13:46:00</td>\n",
              "      <td>0.70</td>\n",
              "      <td>0.6</td>\n",
              "      <td>0.560</td>\n",
              "      <td>25.0</td>\n",
              "    </tr>\n",
              "  </tbody>\n",
              "</table>\n",
              "</div>\n",
              "      <button class=\"colab-df-convert\" onclick=\"convertToInteractive('df-6329c662-4cd2-45ea-a659-60ebaf4f5eed')\"\n",
              "              title=\"Convert this dataframe to an interactive table.\"\n",
              "              style=\"display:none;\">\n",
              "        \n",
              "  <svg xmlns=\"http://www.w3.org/2000/svg\" height=\"24px\"viewBox=\"0 0 24 24\"\n",
              "       width=\"24px\">\n",
              "    <path d=\"M0 0h24v24H0V0z\" fill=\"none\"/>\n",
              "    <path d=\"M18.56 5.44l.94 2.06.94-2.06 2.06-.94-2.06-.94-.94-2.06-.94 2.06-2.06.94zm-11 1L8.5 8.5l.94-2.06 2.06-.94-2.06-.94L8.5 2.5l-.94 2.06-2.06.94zm10 10l.94 2.06.94-2.06 2.06-.94-2.06-.94-.94-2.06-.94 2.06-2.06.94z\"/><path d=\"M17.41 7.96l-1.37-1.37c-.4-.4-.92-.59-1.43-.59-.52 0-1.04.2-1.43.59L10.3 9.45l-7.72 7.72c-.78.78-.78 2.05 0 2.83L4 21.41c.39.39.9.59 1.41.59.51 0 1.02-.2 1.41-.59l7.78-7.78 2.81-2.81c.8-.78.8-2.07 0-2.86zM5.41 20L4 18.59l7.72-7.72 1.47 1.35L5.41 20z\"/>\n",
              "  </svg>\n",
              "      </button>\n",
              "      \n",
              "  <style>\n",
              "    .colab-df-container {\n",
              "      display:flex;\n",
              "      flex-wrap:wrap;\n",
              "      gap: 12px;\n",
              "    }\n",
              "\n",
              "    .colab-df-convert {\n",
              "      background-color: #E8F0FE;\n",
              "      border: none;\n",
              "      border-radius: 50%;\n",
              "      cursor: pointer;\n",
              "      display: none;\n",
              "      fill: #1967D2;\n",
              "      height: 32px;\n",
              "      padding: 0 0 0 0;\n",
              "      width: 32px;\n",
              "    }\n",
              "\n",
              "    .colab-df-convert:hover {\n",
              "      background-color: #E2EBFA;\n",
              "      box-shadow: 0px 1px 2px rgba(60, 64, 67, 0.3), 0px 1px 3px 1px rgba(60, 64, 67, 0.15);\n",
              "      fill: #174EA6;\n",
              "    }\n",
              "\n",
              "    [theme=dark] .colab-df-convert {\n",
              "      background-color: #3B4455;\n",
              "      fill: #D2E3FC;\n",
              "    }\n",
              "\n",
              "    [theme=dark] .colab-df-convert:hover {\n",
              "      background-color: #434B5C;\n",
              "      box-shadow: 0px 1px 3px 1px rgba(0, 0, 0, 0.15);\n",
              "      filter: drop-shadow(0px 1px 2px rgba(0, 0, 0, 0.3));\n",
              "      fill: #FFFFFF;\n",
              "    }\n",
              "  </style>\n",
              "\n",
              "      <script>\n",
              "        const buttonEl =\n",
              "          document.querySelector('#df-6329c662-4cd2-45ea-a659-60ebaf4f5eed button.colab-df-convert');\n",
              "        buttonEl.style.display =\n",
              "          google.colab.kernel.accessAllowed ? 'block' : 'none';\n",
              "\n",
              "        async function convertToInteractive(key) {\n",
              "          const element = document.querySelector('#df-6329c662-4cd2-45ea-a659-60ebaf4f5eed');\n",
              "          const dataTable =\n",
              "            await google.colab.kernel.invokeFunction('convertToInteractive',\n",
              "                                                     [key], {});\n",
              "          if (!dataTable) return;\n",
              "\n",
              "          const docLinkHtml = 'Like what you see? Visit the ' +\n",
              "            '<a target=\"_blank\" href=https://colab.research.google.com/notebooks/data_table.ipynb>data table notebook</a>'\n",
              "            + ' to learn more about interactive tables.';\n",
              "          element.innerHTML = '';\n",
              "          dataTable['output_type'] = 'display_data';\n",
              "          await google.colab.output.renderOutput(dataTable, element);\n",
              "          const docLink = document.createElement('div');\n",
              "          docLink.innerHTML = docLinkHtml;\n",
              "          element.appendChild(docLink);\n",
              "        }\n",
              "      </script>\n",
              "    </div>\n",
              "  </div>\n",
              "  "
            ],
            "text/plain": [
              "    Estacoes  Velocidade      Hora  Prof  %Prof   PMed  Localizacao\n",
              "0          0      0.0000  13:21:00  0.00    0.0  0.000          2.8\n",
              "1          1      0.4026  13:21:00  0.60    0.6  0.240          3.0\n",
              "2          2      1.0926  13:23:00  0.56    0.6  0.224          5.0\n",
              "3          3      1.2168  13:24:00  0.46    0.6  0.184          7.0\n",
              "4          4      0.9030  13:26:00  0.66    0.2  0.528          9.0\n",
              "5          4      0.7050  13:27:00  0.66    0.8  0.132          9.0\n",
              "6          5      1.2790  13:29:00  0.66    0.2  0.558         11.0\n",
              "7          5      0.7704  13:28:00  0.66    0.8  0.132         11.0\n",
              "8          6      0.9278  13:30:00  0.90    0.2  0.720         13.0\n",
              "9          6      0.4271  13:31:00  0.90    0.8  0.180         13.0\n",
              "10         7      1.0301  13:33:00  0.60    0.6  0.240         15.0\n",
              "11         8      1.2920  13:35:00  0.80    0.2  0.640         17.0\n",
              "12         8      0.2396  13:36:00  0.80    0.8  0.160         17.0\n",
              "13         9      0.8029  13:38:00  0.60    0.6  0.240         19.0\n",
              "14        10      0.5913  13:40:00  0.82    0.2  0.656         21.0\n",
              "15        10      0.3973  13:42:00  0.82    0.8  0.164         21.0\n",
              "16        11      0.8494  13:45:00  0.78    0.2  0.624         23.0\n",
              "17        11      0.2310  13:44:00  0.78    0.8  0.156         23.0\n",
              "18        12      0.7711  13:46:00  0.70    0.6  0.560         25.0"
            ]
          },
          "metadata": {}
        }
      ]
    },
    {
      "cell_type": "markdown",
      "metadata": {
        "id": "-5FvhmgRX71a"
      },
      "source": [
        "Codigo completo em que esse DataFrame foi utilizado :\n",
        "\n",
        "https://colab.research.google.com/drive/1sHgCbhxwm5EY9YgeNTC4OH4a-8mOPIlU?usp=sharing"
      ]
    },
    {
      "cell_type": "code",
      "metadata": {
        "id": "KHXULLadYLfx"
      },
      "source": [],
      "execution_count": null,
      "outputs": []
    },
    {
      "cell_type": "code",
      "metadata": {
        "id": "Z-QpqhqAQPD1"
      },
      "source": [
        "# Podemos criar um Dataframe usando um dicionário \n"
      ],
      "execution_count": null,
      "outputs": []
    },
    {
      "cell_type": "code",
      "metadata": {
        "id": "aa18g4st_lw8"
      },
      "source": [
        "nomes = ['Ganymede', 'Callisto', 'Io', 'Europa', 'Moon']"
      ],
      "execution_count": null,
      "outputs": []
    },
    {
      "cell_type": "code",
      "metadata": {
        "id": "TCPesbQ8_uBM"
      },
      "source": [
        "informacoes = {'mass': [1.482e23 , 1.076e23, 8.932e22, 4.800e22, 7.342e22],     # um dicionário, cujas Keys serão os nomes das colunas \n",
        "        'radius': [2.634e6, None, 1.822e6, None, 1.737e6],\n",
        "        'planet': ['Jupiter', 'Jupiter', 'Jupiter', 'Jupiter', 'Earth']}\n"
      ],
      "execution_count": null,
      "outputs": []
    },
    {
      "cell_type": "code",
      "metadata": {
        "id": "JUseCIpQACVH",
        "colab": {
          "base_uri": "https://localhost:8080/",
          "height": 206
        },
        "outputId": "01e89b58-57ba-4f7e-8a51-53deef8ff0c4"
      },
      "source": [
        "Luas = pd.DataFrame(data = informacoes , index = nomes)  \n",
        "Luas"
      ],
      "execution_count": null,
      "outputs": [
        {
          "output_type": "execute_result",
          "data": {
            "text/html": [
              "\n",
              "  <div id=\"df-6f972cec-0bb1-460b-9bb3-40c7b4acc340\">\n",
              "    <div class=\"colab-df-container\">\n",
              "      <div>\n",
              "<style scoped>\n",
              "    .dataframe tbody tr th:only-of-type {\n",
              "        vertical-align: middle;\n",
              "    }\n",
              "\n",
              "    .dataframe tbody tr th {\n",
              "        vertical-align: top;\n",
              "    }\n",
              "\n",
              "    .dataframe thead th {\n",
              "        text-align: right;\n",
              "    }\n",
              "</style>\n",
              "<table border=\"1\" class=\"dataframe\">\n",
              "  <thead>\n",
              "    <tr style=\"text-align: right;\">\n",
              "      <th></th>\n",
              "      <th>mass</th>\n",
              "      <th>radius</th>\n",
              "      <th>planet</th>\n",
              "    </tr>\n",
              "  </thead>\n",
              "  <tbody>\n",
              "    <tr>\n",
              "      <th>Ganymede</th>\n",
              "      <td>1.482000e+23</td>\n",
              "      <td>2634000.0</td>\n",
              "      <td>Jupiter</td>\n",
              "    </tr>\n",
              "    <tr>\n",
              "      <th>Callisto</th>\n",
              "      <td>1.076000e+23</td>\n",
              "      <td>NaN</td>\n",
              "      <td>Jupiter</td>\n",
              "    </tr>\n",
              "    <tr>\n",
              "      <th>Io</th>\n",
              "      <td>8.932000e+22</td>\n",
              "      <td>1822000.0</td>\n",
              "      <td>Jupiter</td>\n",
              "    </tr>\n",
              "    <tr>\n",
              "      <th>Europa</th>\n",
              "      <td>4.800000e+22</td>\n",
              "      <td>NaN</td>\n",
              "      <td>Jupiter</td>\n",
              "    </tr>\n",
              "    <tr>\n",
              "      <th>Moon</th>\n",
              "      <td>7.342000e+22</td>\n",
              "      <td>1737000.0</td>\n",
              "      <td>Earth</td>\n",
              "    </tr>\n",
              "  </tbody>\n",
              "</table>\n",
              "</div>\n",
              "      <button class=\"colab-df-convert\" onclick=\"convertToInteractive('df-6f972cec-0bb1-460b-9bb3-40c7b4acc340')\"\n",
              "              title=\"Convert this dataframe to an interactive table.\"\n",
              "              style=\"display:none;\">\n",
              "        \n",
              "  <svg xmlns=\"http://www.w3.org/2000/svg\" height=\"24px\"viewBox=\"0 0 24 24\"\n",
              "       width=\"24px\">\n",
              "    <path d=\"M0 0h24v24H0V0z\" fill=\"none\"/>\n",
              "    <path d=\"M18.56 5.44l.94 2.06.94-2.06 2.06-.94-2.06-.94-.94-2.06-.94 2.06-2.06.94zm-11 1L8.5 8.5l.94-2.06 2.06-.94-2.06-.94L8.5 2.5l-.94 2.06-2.06.94zm10 10l.94 2.06.94-2.06 2.06-.94-2.06-.94-.94-2.06-.94 2.06-2.06.94z\"/><path d=\"M17.41 7.96l-1.37-1.37c-.4-.4-.92-.59-1.43-.59-.52 0-1.04.2-1.43.59L10.3 9.45l-7.72 7.72c-.78.78-.78 2.05 0 2.83L4 21.41c.39.39.9.59 1.41.59.51 0 1.02-.2 1.41-.59l7.78-7.78 2.81-2.81c.8-.78.8-2.07 0-2.86zM5.41 20L4 18.59l7.72-7.72 1.47 1.35L5.41 20z\"/>\n",
              "  </svg>\n",
              "      </button>\n",
              "      \n",
              "  <style>\n",
              "    .colab-df-container {\n",
              "      display:flex;\n",
              "      flex-wrap:wrap;\n",
              "      gap: 12px;\n",
              "    }\n",
              "\n",
              "    .colab-df-convert {\n",
              "      background-color: #E8F0FE;\n",
              "      border: none;\n",
              "      border-radius: 50%;\n",
              "      cursor: pointer;\n",
              "      display: none;\n",
              "      fill: #1967D2;\n",
              "      height: 32px;\n",
              "      padding: 0 0 0 0;\n",
              "      width: 32px;\n",
              "    }\n",
              "\n",
              "    .colab-df-convert:hover {\n",
              "      background-color: #E2EBFA;\n",
              "      box-shadow: 0px 1px 2px rgba(60, 64, 67, 0.3), 0px 1px 3px 1px rgba(60, 64, 67, 0.15);\n",
              "      fill: #174EA6;\n",
              "    }\n",
              "\n",
              "    [theme=dark] .colab-df-convert {\n",
              "      background-color: #3B4455;\n",
              "      fill: #D2E3FC;\n",
              "    }\n",
              "\n",
              "    [theme=dark] .colab-df-convert:hover {\n",
              "      background-color: #434B5C;\n",
              "      box-shadow: 0px 1px 3px 1px rgba(0, 0, 0, 0.15);\n",
              "      filter: drop-shadow(0px 1px 2px rgba(0, 0, 0, 0.3));\n",
              "      fill: #FFFFFF;\n",
              "    }\n",
              "  </style>\n",
              "\n",
              "      <script>\n",
              "        const buttonEl =\n",
              "          document.querySelector('#df-6f972cec-0bb1-460b-9bb3-40c7b4acc340 button.colab-df-convert');\n",
              "        buttonEl.style.display =\n",
              "          google.colab.kernel.accessAllowed ? 'block' : 'none';\n",
              "\n",
              "        async function convertToInteractive(key) {\n",
              "          const element = document.querySelector('#df-6f972cec-0bb1-460b-9bb3-40c7b4acc340');\n",
              "          const dataTable =\n",
              "            await google.colab.kernel.invokeFunction('convertToInteractive',\n",
              "                                                     [key], {});\n",
              "          if (!dataTable) return;\n",
              "\n",
              "          const docLinkHtml = 'Like what you see? Visit the ' +\n",
              "            '<a target=\"_blank\" href=https://colab.research.google.com/notebooks/data_table.ipynb>data table notebook</a>'\n",
              "            + ' to learn more about interactive tables.';\n",
              "          element.innerHTML = '';\n",
              "          dataTable['output_type'] = 'display_data';\n",
              "          await google.colab.output.renderOutput(dataTable, element);\n",
              "          const docLink = document.createElement('div');\n",
              "          docLink.innerHTML = docLinkHtml;\n",
              "          element.appendChild(docLink);\n",
              "        }\n",
              "      </script>\n",
              "    </div>\n",
              "  </div>\n",
              "  "
            ],
            "text/plain": [
              "                  mass     radius   planet\n",
              "Ganymede  1.482000e+23  2634000.0  Jupiter\n",
              "Callisto  1.076000e+23        NaN  Jupiter\n",
              "Io        8.932000e+22  1822000.0  Jupiter\n",
              "Europa    4.800000e+22        NaN  Jupiter\n",
              "Moon      7.342000e+22  1737000.0    Earth"
            ]
          },
          "metadata": {},
          "execution_count": 25
        }
      ]
    },
    {
      "cell_type": "code",
      "metadata": {
        "id": "pDUKYZm5QgBW"
      },
      "source": [
        "# Cuidado na hora de informar os parâmetros !\n",
        "\n",
        "Lua = pd.DataFrame(data = nomes,index = informacoes)"
      ],
      "execution_count": null,
      "outputs": []
    },
    {
      "cell_type": "code",
      "metadata": {
        "id": "ifSCEJnLQrll"
      },
      "source": [],
      "execution_count": null,
      "outputs": []
    },
    {
      "cell_type": "code",
      "metadata": {
        "id": "55Guwt3v_boe"
      },
      "source": [
        "# Podemos criar um DataFrame com Séries\n"
      ],
      "execution_count": null,
      "outputs": []
    },
    {
      "cell_type": "code",
      "metadata": {
        "id": "Esk4WD4ITL_4"
      },
      "source": [],
      "execution_count": null,
      "outputs": []
    },
    {
      "cell_type": "code",
      "metadata": {
        "id": "LNY0h8ZQTMEg"
      },
      "source": [],
      "execution_count": null,
      "outputs": []
    },
    {
      "cell_type": "code",
      "metadata": {
        "id": "A73vNp5KTMH9"
      },
      "source": [],
      "execution_count": null,
      "outputs": []
    },
    {
      "cell_type": "code",
      "metadata": {
        "id": "y33-WqxHTMMh"
      },
      "source": [],
      "execution_count": null,
      "outputs": []
    },
    {
      "cell_type": "markdown",
      "metadata": {
        "id": "OpnAEhYvbMgz"
      },
      "source": [
        "### Método .loc[ ]  \n",
        "\n",
        "##### Documentação :  https://pandas.pydata.org/docs/reference/api/pandas.DataFrame.loc.html?highlight=loc#pandas.DataFrame.loc\n"
      ]
    },
    {
      "cell_type": "code",
      "metadata": {
        "id": "OVZiXka1b_iy"
      },
      "source": [
        "# Acessa as informações do DataFrame pelo index (índice)\n",
        "\n",
        "# Retorna as informações contidas naquela LINHA do index\n",
        "\n",
        "# A indexação deve ser explícita ( string )\n",
        "\n",
        "# Notação :  DataFrame . loc [ LINHA , COLUNA ]  ( onde LINHA (index) é um parâmetro obrigatório e COLUNA é um parâmetro opcional)\n"
      ],
      "execution_count": null,
      "outputs": []
    },
    {
      "cell_type": "code",
      "metadata": {
        "colab": {
          "base_uri": "https://localhost:8080/",
          "height": 206
        },
        "id": "XBLkRGmXbeOz",
        "outputId": "780a7eb2-53f8-4469-86c4-39fe60702f94"
      },
      "source": [
        "nomes = ['Ganymede', 'Callisto', 'Io', 'Europa', 'Moon']\n",
        "\n",
        "informacoes = {'mass': [1.482e23 , 1.076e23, 8.932e22, 4.800e22, 7.342e22],    \n",
        "        'radius': [2.634e6, None, 1.822e6, None, 1.737e6],\n",
        "        'planet': ['Jupiter', 'Jupiter', 'Jupiter', 'Jupiter', 'Earth']}\n",
        "\n",
        "Luas = pd.DataFrame(data = informacoes , index = nomes)  \n",
        "Luas"
      ],
      "execution_count": null,
      "outputs": [
        {
          "output_type": "execute_result",
          "data": {
            "text/html": [
              "\n",
              "  <div id=\"df-362b6daf-8e1d-49c6-a7da-3d3447b3ae80\">\n",
              "    <div class=\"colab-df-container\">\n",
              "      <div>\n",
              "<style scoped>\n",
              "    .dataframe tbody tr th:only-of-type {\n",
              "        vertical-align: middle;\n",
              "    }\n",
              "\n",
              "    .dataframe tbody tr th {\n",
              "        vertical-align: top;\n",
              "    }\n",
              "\n",
              "    .dataframe thead th {\n",
              "        text-align: right;\n",
              "    }\n",
              "</style>\n",
              "<table border=\"1\" class=\"dataframe\">\n",
              "  <thead>\n",
              "    <tr style=\"text-align: right;\">\n",
              "      <th></th>\n",
              "      <th>mass</th>\n",
              "      <th>radius</th>\n",
              "      <th>planet</th>\n",
              "    </tr>\n",
              "  </thead>\n",
              "  <tbody>\n",
              "    <tr>\n",
              "      <th>Ganymede</th>\n",
              "      <td>1.482000e+23</td>\n",
              "      <td>2634000.0</td>\n",
              "      <td>Jupiter</td>\n",
              "    </tr>\n",
              "    <tr>\n",
              "      <th>Callisto</th>\n",
              "      <td>1.076000e+23</td>\n",
              "      <td>NaN</td>\n",
              "      <td>Jupiter</td>\n",
              "    </tr>\n",
              "    <tr>\n",
              "      <th>Io</th>\n",
              "      <td>8.932000e+22</td>\n",
              "      <td>1822000.0</td>\n",
              "      <td>Jupiter</td>\n",
              "    </tr>\n",
              "    <tr>\n",
              "      <th>Europa</th>\n",
              "      <td>4.800000e+22</td>\n",
              "      <td>NaN</td>\n",
              "      <td>Jupiter</td>\n",
              "    </tr>\n",
              "    <tr>\n",
              "      <th>Moon</th>\n",
              "      <td>7.342000e+22</td>\n",
              "      <td>1737000.0</td>\n",
              "      <td>Earth</td>\n",
              "    </tr>\n",
              "  </tbody>\n",
              "</table>\n",
              "</div>\n",
              "      <button class=\"colab-df-convert\" onclick=\"convertToInteractive('df-362b6daf-8e1d-49c6-a7da-3d3447b3ae80')\"\n",
              "              title=\"Convert this dataframe to an interactive table.\"\n",
              "              style=\"display:none;\">\n",
              "        \n",
              "  <svg xmlns=\"http://www.w3.org/2000/svg\" height=\"24px\"viewBox=\"0 0 24 24\"\n",
              "       width=\"24px\">\n",
              "    <path d=\"M0 0h24v24H0V0z\" fill=\"none\"/>\n",
              "    <path d=\"M18.56 5.44l.94 2.06.94-2.06 2.06-.94-2.06-.94-.94-2.06-.94 2.06-2.06.94zm-11 1L8.5 8.5l.94-2.06 2.06-.94-2.06-.94L8.5 2.5l-.94 2.06-2.06.94zm10 10l.94 2.06.94-2.06 2.06-.94-2.06-.94-.94-2.06-.94 2.06-2.06.94z\"/><path d=\"M17.41 7.96l-1.37-1.37c-.4-.4-.92-.59-1.43-.59-.52 0-1.04.2-1.43.59L10.3 9.45l-7.72 7.72c-.78.78-.78 2.05 0 2.83L4 21.41c.39.39.9.59 1.41.59.51 0 1.02-.2 1.41-.59l7.78-7.78 2.81-2.81c.8-.78.8-2.07 0-2.86zM5.41 20L4 18.59l7.72-7.72 1.47 1.35L5.41 20z\"/>\n",
              "  </svg>\n",
              "      </button>\n",
              "      \n",
              "  <style>\n",
              "    .colab-df-container {\n",
              "      display:flex;\n",
              "      flex-wrap:wrap;\n",
              "      gap: 12px;\n",
              "    }\n",
              "\n",
              "    .colab-df-convert {\n",
              "      background-color: #E8F0FE;\n",
              "      border: none;\n",
              "      border-radius: 50%;\n",
              "      cursor: pointer;\n",
              "      display: none;\n",
              "      fill: #1967D2;\n",
              "      height: 32px;\n",
              "      padding: 0 0 0 0;\n",
              "      width: 32px;\n",
              "    }\n",
              "\n",
              "    .colab-df-convert:hover {\n",
              "      background-color: #E2EBFA;\n",
              "      box-shadow: 0px 1px 2px rgba(60, 64, 67, 0.3), 0px 1px 3px 1px rgba(60, 64, 67, 0.15);\n",
              "      fill: #174EA6;\n",
              "    }\n",
              "\n",
              "    [theme=dark] .colab-df-convert {\n",
              "      background-color: #3B4455;\n",
              "      fill: #D2E3FC;\n",
              "    }\n",
              "\n",
              "    [theme=dark] .colab-df-convert:hover {\n",
              "      background-color: #434B5C;\n",
              "      box-shadow: 0px 1px 3px 1px rgba(0, 0, 0, 0.15);\n",
              "      filter: drop-shadow(0px 1px 2px rgba(0, 0, 0, 0.3));\n",
              "      fill: #FFFFFF;\n",
              "    }\n",
              "  </style>\n",
              "\n",
              "      <script>\n",
              "        const buttonEl =\n",
              "          document.querySelector('#df-362b6daf-8e1d-49c6-a7da-3d3447b3ae80 button.colab-df-convert');\n",
              "        buttonEl.style.display =\n",
              "          google.colab.kernel.accessAllowed ? 'block' : 'none';\n",
              "\n",
              "        async function convertToInteractive(key) {\n",
              "          const element = document.querySelector('#df-362b6daf-8e1d-49c6-a7da-3d3447b3ae80');\n",
              "          const dataTable =\n",
              "            await google.colab.kernel.invokeFunction('convertToInteractive',\n",
              "                                                     [key], {});\n",
              "          if (!dataTable) return;\n",
              "\n",
              "          const docLinkHtml = 'Like what you see? Visit the ' +\n",
              "            '<a target=\"_blank\" href=https://colab.research.google.com/notebooks/data_table.ipynb>data table notebook</a>'\n",
              "            + ' to learn more about interactive tables.';\n",
              "          element.innerHTML = '';\n",
              "          dataTable['output_type'] = 'display_data';\n",
              "          await google.colab.output.renderOutput(dataTable, element);\n",
              "          const docLink = document.createElement('div');\n",
              "          docLink.innerHTML = docLinkHtml;\n",
              "          element.appendChild(docLink);\n",
              "        }\n",
              "      </script>\n",
              "    </div>\n",
              "  </div>\n",
              "  "
            ],
            "text/plain": [
              "                  mass     radius   planet\n",
              "Ganymede  1.482000e+23  2634000.0  Jupiter\n",
              "Callisto  1.076000e+23        NaN  Jupiter\n",
              "Io        8.932000e+22  1822000.0  Jupiter\n",
              "Europa    4.800000e+22        NaN  Jupiter\n",
              "Moon      7.342000e+22  1737000.0    Earth"
            ]
          },
          "metadata": {},
          "execution_count": 26
        }
      ]
    },
    {
      "cell_type": "code",
      "metadata": {
        "colab": {
          "base_uri": "https://localhost:8080/"
        },
        "id": "952oVVXib-ww",
        "outputId": "159c285c-1597-4aa1-c97c-38a8eafeb3e1"
      },
      "source": [
        "Luas.index\n",
        "\n",
        "# No dataframe Luas , os índices são ['Ganymede', 'Callisto', 'Io', 'Europa', 'Moon']\n",
        "\n",
        "# Para usar o Método .loc[] devemos utilizar um desses índices"
      ],
      "execution_count": null,
      "outputs": [
        {
          "output_type": "execute_result",
          "data": {
            "text/plain": [
              "Index(['Ganymede', 'Callisto', 'Io', 'Europa', 'Moon'], dtype='object')"
            ]
          },
          "metadata": {},
          "execution_count": 29
        }
      ]
    },
    {
      "cell_type": "code",
      "metadata": {
        "colab": {
          "base_uri": "https://localhost:8080/"
        },
        "id": "t4T4jEDYb-0s",
        "outputId": "a16cbdff-63bf-4189-896c-399381a1ee06"
      },
      "source": [
        "Luas.loc['Ganymede']   # Retorna as informações contidas naquela LINHA do index (Ganymede)"
      ],
      "execution_count": null,
      "outputs": [
        {
          "output_type": "execute_result",
          "data": {
            "text/plain": [
              "mass      1.482e+23\n",
              "radius    2.634e+06\n",
              "planet      Jupiter\n",
              "Name: Ganymede, dtype: object"
            ]
          },
          "metadata": {},
          "execution_count": 32
        }
      ]
    },
    {
      "cell_type": "code",
      "metadata": {
        "id": "wJikamysfwmW"
      },
      "source": [
        "                                                                                        "
      ],
      "execution_count": null,
      "outputs": []
    },
    {
      "cell_type": "code",
      "metadata": {
        "id": "oeHnY4nWf66_"
      },
      "source": [
        "# O método .loc[] NÃO acessa as informações pelas COLUNAS (caso seja o unico parâmetro informado)\n"
      ],
      "execution_count": null,
      "outputs": []
    },
    {
      "cell_type": "code",
      "metadata": {
        "colab": {
          "base_uri": "https://localhost:8080/"
        },
        "id": "HPZLQjiMe5xu",
        "outputId": "f008c53b-682a-4d3c-8051-f2c3a2c174cc"
      },
      "source": [
        "Luas.columns"
      ],
      "execution_count": null,
      "outputs": [
        {
          "output_type": "execute_result",
          "data": {
            "text/plain": [
              "Index(['mass', 'radius', 'planet'], dtype='object')"
            ]
          },
          "metadata": {},
          "execution_count": 33
        }
      ]
    },
    {
      "cell_type": "code",
      "metadata": {
        "id": "71QWznvQfVcg",
        "colab": {
          "base_uri": "https://localhost:8080/"
        },
        "outputId": "7ceab7da-a55a-4954-b3ce-f8d79ea01f1a"
      },
      "source": [
        "Luas.index"
      ],
      "execution_count": null,
      "outputs": [
        {
          "output_type": "execute_result",
          "data": {
            "text/plain": [
              "Index(['Ganymede', 'Callisto', 'Io', 'Europa', 'Moon'], dtype='object')"
            ]
          },
          "metadata": {},
          "execution_count": 8
        }
      ]
    },
    {
      "cell_type": "code",
      "metadata": {
        "id": "BX54PrMCdjbO",
        "colab": {
          "base_uri": "https://localhost:8080/",
          "height": 571
        },
        "outputId": "5ca86640-9af8-4ba2-e002-5c89d1981e4e"
      },
      "source": [
        "Luas.loc['mass']   # Tentando acessar as informações da COLUNA 'mass' do dataframe  \n",
        "\n",
        "                   # O erro ''informa'' que não existe o índice 'mass' no index ( e não existe mesmo! )"
      ],
      "execution_count": null,
      "outputs": [
        {
          "output_type": "error",
          "ename": "KeyError",
          "evalue": "ignored",
          "traceback": [
            "\u001b[0;31m---------------------------------------------------------------------------\u001b[0m",
            "\u001b[0;31mKeyError\u001b[0m                                  Traceback (most recent call last)",
            "\u001b[0;32m/usr/local/lib/python3.7/dist-packages/pandas/core/indexes/base.py\u001b[0m in \u001b[0;36mget_loc\u001b[0;34m(self, key, method, tolerance)\u001b[0m\n\u001b[1;32m   2897\u001b[0m             \u001b[0;32mtry\u001b[0m\u001b[0;34m:\u001b[0m\u001b[0;34m\u001b[0m\u001b[0;34m\u001b[0m\u001b[0m\n\u001b[0;32m-> 2898\u001b[0;31m                 \u001b[0;32mreturn\u001b[0m \u001b[0mself\u001b[0m\u001b[0;34m.\u001b[0m\u001b[0m_engine\u001b[0m\u001b[0;34m.\u001b[0m\u001b[0mget_loc\u001b[0m\u001b[0;34m(\u001b[0m\u001b[0mcasted_key\u001b[0m\u001b[0;34m)\u001b[0m\u001b[0;34m\u001b[0m\u001b[0;34m\u001b[0m\u001b[0m\n\u001b[0m\u001b[1;32m   2899\u001b[0m             \u001b[0;32mexcept\u001b[0m \u001b[0mKeyError\u001b[0m \u001b[0;32mas\u001b[0m \u001b[0merr\u001b[0m\u001b[0;34m:\u001b[0m\u001b[0;34m\u001b[0m\u001b[0;34m\u001b[0m\u001b[0m\n",
            "\u001b[0;32mpandas/_libs/index.pyx\u001b[0m in \u001b[0;36mpandas._libs.index.IndexEngine.get_loc\u001b[0;34m()\u001b[0m\n",
            "\u001b[0;32mpandas/_libs/index.pyx\u001b[0m in \u001b[0;36mpandas._libs.index.IndexEngine.get_loc\u001b[0;34m()\u001b[0m\n",
            "\u001b[0;32mpandas/_libs/hashtable_class_helper.pxi\u001b[0m in \u001b[0;36mpandas._libs.hashtable.PyObjectHashTable.get_item\u001b[0;34m()\u001b[0m\n",
            "\u001b[0;32mpandas/_libs/hashtable_class_helper.pxi\u001b[0m in \u001b[0;36mpandas._libs.hashtable.PyObjectHashTable.get_item\u001b[0;34m()\u001b[0m\n",
            "\u001b[0;31mKeyError\u001b[0m: 'mass'",
            "\nThe above exception was the direct cause of the following exception:\n",
            "\u001b[0;31mKeyError\u001b[0m                                  Traceback (most recent call last)",
            "\u001b[0;32m<ipython-input-34-44f9b50548b2>\u001b[0m in \u001b[0;36m<module>\u001b[0;34m()\u001b[0m\n\u001b[0;32m----> 1\u001b[0;31m \u001b[0mLuas\u001b[0m\u001b[0;34m.\u001b[0m\u001b[0mloc\u001b[0m\u001b[0;34m[\u001b[0m\u001b[0;34m'mass'\u001b[0m\u001b[0;34m]\u001b[0m   \u001b[0;31m# Tentando acessar as informações da COLUNA 'mass' do dataframe\u001b[0m\u001b[0;34m\u001b[0m\u001b[0;34m\u001b[0m\u001b[0m\n\u001b[0m\u001b[1;32m      2\u001b[0m \u001b[0;34m\u001b[0m\u001b[0m\n\u001b[1;32m      3\u001b[0m                    \u001b[0;31m# O erro ''informa'' que não existe o índice 'mass' no index ( e não existe mesmo! )\u001b[0m\u001b[0;34m\u001b[0m\u001b[0;34m\u001b[0m\u001b[0;34m\u001b[0m\u001b[0m\n",
            "\u001b[0;32m/usr/local/lib/python3.7/dist-packages/pandas/core/indexing.py\u001b[0m in \u001b[0;36m__getitem__\u001b[0;34m(self, key)\u001b[0m\n\u001b[1;32m    877\u001b[0m \u001b[0;34m\u001b[0m\u001b[0m\n\u001b[1;32m    878\u001b[0m             \u001b[0mmaybe_callable\u001b[0m \u001b[0;34m=\u001b[0m \u001b[0mcom\u001b[0m\u001b[0;34m.\u001b[0m\u001b[0mapply_if_callable\u001b[0m\u001b[0;34m(\u001b[0m\u001b[0mkey\u001b[0m\u001b[0;34m,\u001b[0m \u001b[0mself\u001b[0m\u001b[0;34m.\u001b[0m\u001b[0mobj\u001b[0m\u001b[0;34m)\u001b[0m\u001b[0;34m\u001b[0m\u001b[0;34m\u001b[0m\u001b[0m\n\u001b[0;32m--> 879\u001b[0;31m             \u001b[0;32mreturn\u001b[0m \u001b[0mself\u001b[0m\u001b[0;34m.\u001b[0m\u001b[0m_getitem_axis\u001b[0m\u001b[0;34m(\u001b[0m\u001b[0mmaybe_callable\u001b[0m\u001b[0;34m,\u001b[0m \u001b[0maxis\u001b[0m\u001b[0;34m=\u001b[0m\u001b[0maxis\u001b[0m\u001b[0;34m)\u001b[0m\u001b[0;34m\u001b[0m\u001b[0;34m\u001b[0m\u001b[0m\n\u001b[0m\u001b[1;32m    880\u001b[0m \u001b[0;34m\u001b[0m\u001b[0m\n\u001b[1;32m    881\u001b[0m     \u001b[0;32mdef\u001b[0m \u001b[0m_is_scalar_access\u001b[0m\u001b[0;34m(\u001b[0m\u001b[0mself\u001b[0m\u001b[0;34m,\u001b[0m \u001b[0mkey\u001b[0m\u001b[0;34m:\u001b[0m \u001b[0mTuple\u001b[0m\u001b[0;34m)\u001b[0m\u001b[0;34m:\u001b[0m\u001b[0;34m\u001b[0m\u001b[0;34m\u001b[0m\u001b[0m\n",
            "\u001b[0;32m/usr/local/lib/python3.7/dist-packages/pandas/core/indexing.py\u001b[0m in \u001b[0;36m_getitem_axis\u001b[0;34m(self, key, axis)\u001b[0m\n\u001b[1;32m   1108\u001b[0m         \u001b[0;31m# fall thru to straight lookup\u001b[0m\u001b[0;34m\u001b[0m\u001b[0;34m\u001b[0m\u001b[0;34m\u001b[0m\u001b[0m\n\u001b[1;32m   1109\u001b[0m         \u001b[0mself\u001b[0m\u001b[0;34m.\u001b[0m\u001b[0m_validate_key\u001b[0m\u001b[0;34m(\u001b[0m\u001b[0mkey\u001b[0m\u001b[0;34m,\u001b[0m \u001b[0maxis\u001b[0m\u001b[0;34m)\u001b[0m\u001b[0;34m\u001b[0m\u001b[0;34m\u001b[0m\u001b[0m\n\u001b[0;32m-> 1110\u001b[0;31m         \u001b[0;32mreturn\u001b[0m \u001b[0mself\u001b[0m\u001b[0;34m.\u001b[0m\u001b[0m_get_label\u001b[0m\u001b[0;34m(\u001b[0m\u001b[0mkey\u001b[0m\u001b[0;34m,\u001b[0m \u001b[0maxis\u001b[0m\u001b[0;34m=\u001b[0m\u001b[0maxis\u001b[0m\u001b[0;34m)\u001b[0m\u001b[0;34m\u001b[0m\u001b[0;34m\u001b[0m\u001b[0m\n\u001b[0m\u001b[1;32m   1111\u001b[0m \u001b[0;34m\u001b[0m\u001b[0m\n\u001b[1;32m   1112\u001b[0m     \u001b[0;32mdef\u001b[0m \u001b[0m_get_slice_axis\u001b[0m\u001b[0;34m(\u001b[0m\u001b[0mself\u001b[0m\u001b[0;34m,\u001b[0m \u001b[0mslice_obj\u001b[0m\u001b[0;34m:\u001b[0m \u001b[0mslice\u001b[0m\u001b[0;34m,\u001b[0m \u001b[0maxis\u001b[0m\u001b[0;34m:\u001b[0m \u001b[0mint\u001b[0m\u001b[0;34m)\u001b[0m\u001b[0;34m:\u001b[0m\u001b[0;34m\u001b[0m\u001b[0;34m\u001b[0m\u001b[0m\n",
            "\u001b[0;32m/usr/local/lib/python3.7/dist-packages/pandas/core/indexing.py\u001b[0m in \u001b[0;36m_get_label\u001b[0;34m(self, label, axis)\u001b[0m\n\u001b[1;32m   1057\u001b[0m     \u001b[0;32mdef\u001b[0m \u001b[0m_get_label\u001b[0m\u001b[0;34m(\u001b[0m\u001b[0mself\u001b[0m\u001b[0;34m,\u001b[0m \u001b[0mlabel\u001b[0m\u001b[0;34m,\u001b[0m \u001b[0maxis\u001b[0m\u001b[0;34m:\u001b[0m \u001b[0mint\u001b[0m\u001b[0;34m)\u001b[0m\u001b[0;34m:\u001b[0m\u001b[0;34m\u001b[0m\u001b[0;34m\u001b[0m\u001b[0m\n\u001b[1;32m   1058\u001b[0m         \u001b[0;31m# GH#5667 this will fail if the label is not present in the axis.\u001b[0m\u001b[0;34m\u001b[0m\u001b[0;34m\u001b[0m\u001b[0;34m\u001b[0m\u001b[0m\n\u001b[0;32m-> 1059\u001b[0;31m         \u001b[0;32mreturn\u001b[0m \u001b[0mself\u001b[0m\u001b[0;34m.\u001b[0m\u001b[0mobj\u001b[0m\u001b[0;34m.\u001b[0m\u001b[0mxs\u001b[0m\u001b[0;34m(\u001b[0m\u001b[0mlabel\u001b[0m\u001b[0;34m,\u001b[0m \u001b[0maxis\u001b[0m\u001b[0;34m=\u001b[0m\u001b[0maxis\u001b[0m\u001b[0;34m)\u001b[0m\u001b[0;34m\u001b[0m\u001b[0;34m\u001b[0m\u001b[0m\n\u001b[0m\u001b[1;32m   1060\u001b[0m \u001b[0;34m\u001b[0m\u001b[0m\n\u001b[1;32m   1061\u001b[0m     \u001b[0;32mdef\u001b[0m \u001b[0m_handle_lowerdim_multi_index_axis0\u001b[0m\u001b[0;34m(\u001b[0m\u001b[0mself\u001b[0m\u001b[0;34m,\u001b[0m \u001b[0mtup\u001b[0m\u001b[0;34m:\u001b[0m \u001b[0mTuple\u001b[0m\u001b[0;34m)\u001b[0m\u001b[0;34m:\u001b[0m\u001b[0;34m\u001b[0m\u001b[0;34m\u001b[0m\u001b[0m\n",
            "\u001b[0;32m/usr/local/lib/python3.7/dist-packages/pandas/core/generic.py\u001b[0m in \u001b[0;36mxs\u001b[0;34m(self, key, axis, level, drop_level)\u001b[0m\n\u001b[1;32m   3491\u001b[0m             \u001b[0mloc\u001b[0m\u001b[0;34m,\u001b[0m \u001b[0mnew_index\u001b[0m \u001b[0;34m=\u001b[0m \u001b[0mself\u001b[0m\u001b[0;34m.\u001b[0m\u001b[0mindex\u001b[0m\u001b[0;34m.\u001b[0m\u001b[0mget_loc_level\u001b[0m\u001b[0;34m(\u001b[0m\u001b[0mkey\u001b[0m\u001b[0;34m,\u001b[0m \u001b[0mdrop_level\u001b[0m\u001b[0;34m=\u001b[0m\u001b[0mdrop_level\u001b[0m\u001b[0;34m)\u001b[0m\u001b[0;34m\u001b[0m\u001b[0;34m\u001b[0m\u001b[0m\n\u001b[1;32m   3492\u001b[0m         \u001b[0;32melse\u001b[0m\u001b[0;34m:\u001b[0m\u001b[0;34m\u001b[0m\u001b[0;34m\u001b[0m\u001b[0m\n\u001b[0;32m-> 3493\u001b[0;31m             \u001b[0mloc\u001b[0m \u001b[0;34m=\u001b[0m \u001b[0mself\u001b[0m\u001b[0;34m.\u001b[0m\u001b[0mindex\u001b[0m\u001b[0;34m.\u001b[0m\u001b[0mget_loc\u001b[0m\u001b[0;34m(\u001b[0m\u001b[0mkey\u001b[0m\u001b[0;34m)\u001b[0m\u001b[0;34m\u001b[0m\u001b[0;34m\u001b[0m\u001b[0m\n\u001b[0m\u001b[1;32m   3494\u001b[0m \u001b[0;34m\u001b[0m\u001b[0m\n\u001b[1;32m   3495\u001b[0m             \u001b[0;32mif\u001b[0m \u001b[0misinstance\u001b[0m\u001b[0;34m(\u001b[0m\u001b[0mloc\u001b[0m\u001b[0;34m,\u001b[0m \u001b[0mnp\u001b[0m\u001b[0;34m.\u001b[0m\u001b[0mndarray\u001b[0m\u001b[0;34m)\u001b[0m\u001b[0;34m:\u001b[0m\u001b[0;34m\u001b[0m\u001b[0;34m\u001b[0m\u001b[0m\n",
            "\u001b[0;32m/usr/local/lib/python3.7/dist-packages/pandas/core/indexes/base.py\u001b[0m in \u001b[0;36mget_loc\u001b[0;34m(self, key, method, tolerance)\u001b[0m\n\u001b[1;32m   2898\u001b[0m                 \u001b[0;32mreturn\u001b[0m \u001b[0mself\u001b[0m\u001b[0;34m.\u001b[0m\u001b[0m_engine\u001b[0m\u001b[0;34m.\u001b[0m\u001b[0mget_loc\u001b[0m\u001b[0;34m(\u001b[0m\u001b[0mcasted_key\u001b[0m\u001b[0;34m)\u001b[0m\u001b[0;34m\u001b[0m\u001b[0;34m\u001b[0m\u001b[0m\n\u001b[1;32m   2899\u001b[0m             \u001b[0;32mexcept\u001b[0m \u001b[0mKeyError\u001b[0m \u001b[0;32mas\u001b[0m \u001b[0merr\u001b[0m\u001b[0;34m:\u001b[0m\u001b[0;34m\u001b[0m\u001b[0;34m\u001b[0m\u001b[0m\n\u001b[0;32m-> 2900\u001b[0;31m                 \u001b[0;32mraise\u001b[0m \u001b[0mKeyError\u001b[0m\u001b[0;34m(\u001b[0m\u001b[0mkey\u001b[0m\u001b[0;34m)\u001b[0m \u001b[0;32mfrom\u001b[0m \u001b[0merr\u001b[0m\u001b[0;34m\u001b[0m\u001b[0;34m\u001b[0m\u001b[0m\n\u001b[0m\u001b[1;32m   2901\u001b[0m \u001b[0;34m\u001b[0m\u001b[0m\n\u001b[1;32m   2902\u001b[0m         \u001b[0;32mif\u001b[0m \u001b[0mtolerance\u001b[0m \u001b[0;32mis\u001b[0m \u001b[0;32mnot\u001b[0m \u001b[0;32mNone\u001b[0m\u001b[0;34m:\u001b[0m\u001b[0;34m\u001b[0m\u001b[0;34m\u001b[0m\u001b[0m\n",
            "\u001b[0;31mKeyError\u001b[0m: 'mass'"
          ]
        }
      ]
    },
    {
      "cell_type": "code",
      "metadata": {
        "id": "fIRgTiC3djhj"
      },
      "source": [],
      "execution_count": null,
      "outputs": []
    },
    {
      "cell_type": "code",
      "metadata": {
        "colab": {
          "base_uri": "https://localhost:8080/",
          "height": 206
        },
        "id": "ry6FWdFuu7Zw",
        "outputId": "136266d6-4a85-43ab-f978-21dd4336c2dd"
      },
      "source": [
        "# Podemos utilizar as propriedades de slicing no  .loc[ ]   (  Informações sobre slicing em:  https://stackoverflow.com/questions/509211/understanding-slice-notation   )\n",
        "\n",
        "Luas"
      ],
      "execution_count": null,
      "outputs": [
        {
          "output_type": "execute_result",
          "data": {
            "text/html": [
              "\n",
              "  <div id=\"df-e24cf4c9-43ad-42a5-a10f-755b9ec48fd7\">\n",
              "    <div class=\"colab-df-container\">\n",
              "      <div>\n",
              "<style scoped>\n",
              "    .dataframe tbody tr th:only-of-type {\n",
              "        vertical-align: middle;\n",
              "    }\n",
              "\n",
              "    .dataframe tbody tr th {\n",
              "        vertical-align: top;\n",
              "    }\n",
              "\n",
              "    .dataframe thead th {\n",
              "        text-align: right;\n",
              "    }\n",
              "</style>\n",
              "<table border=\"1\" class=\"dataframe\">\n",
              "  <thead>\n",
              "    <tr style=\"text-align: right;\">\n",
              "      <th></th>\n",
              "      <th>mass</th>\n",
              "      <th>radius</th>\n",
              "      <th>planet</th>\n",
              "    </tr>\n",
              "  </thead>\n",
              "  <tbody>\n",
              "    <tr>\n",
              "      <th>Ganymede</th>\n",
              "      <td>1.482000e+23</td>\n",
              "      <td>2634000.0</td>\n",
              "      <td>Jupiter</td>\n",
              "    </tr>\n",
              "    <tr>\n",
              "      <th>Callisto</th>\n",
              "      <td>1.076000e+23</td>\n",
              "      <td>NaN</td>\n",
              "      <td>Jupiter</td>\n",
              "    </tr>\n",
              "    <tr>\n",
              "      <th>Io</th>\n",
              "      <td>8.932000e+22</td>\n",
              "      <td>1822000.0</td>\n",
              "      <td>Jupiter</td>\n",
              "    </tr>\n",
              "    <tr>\n",
              "      <th>Europa</th>\n",
              "      <td>4.800000e+22</td>\n",
              "      <td>NaN</td>\n",
              "      <td>Jupiter</td>\n",
              "    </tr>\n",
              "    <tr>\n",
              "      <th>Moon</th>\n",
              "      <td>7.342000e+22</td>\n",
              "      <td>1737000.0</td>\n",
              "      <td>Earth</td>\n",
              "    </tr>\n",
              "  </tbody>\n",
              "</table>\n",
              "</div>\n",
              "      <button class=\"colab-df-convert\" onclick=\"convertToInteractive('df-e24cf4c9-43ad-42a5-a10f-755b9ec48fd7')\"\n",
              "              title=\"Convert this dataframe to an interactive table.\"\n",
              "              style=\"display:none;\">\n",
              "        \n",
              "  <svg xmlns=\"http://www.w3.org/2000/svg\" height=\"24px\"viewBox=\"0 0 24 24\"\n",
              "       width=\"24px\">\n",
              "    <path d=\"M0 0h24v24H0V0z\" fill=\"none\"/>\n",
              "    <path d=\"M18.56 5.44l.94 2.06.94-2.06 2.06-.94-2.06-.94-.94-2.06-.94 2.06-2.06.94zm-11 1L8.5 8.5l.94-2.06 2.06-.94-2.06-.94L8.5 2.5l-.94 2.06-2.06.94zm10 10l.94 2.06.94-2.06 2.06-.94-2.06-.94-.94-2.06-.94 2.06-2.06.94z\"/><path d=\"M17.41 7.96l-1.37-1.37c-.4-.4-.92-.59-1.43-.59-.52 0-1.04.2-1.43.59L10.3 9.45l-7.72 7.72c-.78.78-.78 2.05 0 2.83L4 21.41c.39.39.9.59 1.41.59.51 0 1.02-.2 1.41-.59l7.78-7.78 2.81-2.81c.8-.78.8-2.07 0-2.86zM5.41 20L4 18.59l7.72-7.72 1.47 1.35L5.41 20z\"/>\n",
              "  </svg>\n",
              "      </button>\n",
              "      \n",
              "  <style>\n",
              "    .colab-df-container {\n",
              "      display:flex;\n",
              "      flex-wrap:wrap;\n",
              "      gap: 12px;\n",
              "    }\n",
              "\n",
              "    .colab-df-convert {\n",
              "      background-color: #E8F0FE;\n",
              "      border: none;\n",
              "      border-radius: 50%;\n",
              "      cursor: pointer;\n",
              "      display: none;\n",
              "      fill: #1967D2;\n",
              "      height: 32px;\n",
              "      padding: 0 0 0 0;\n",
              "      width: 32px;\n",
              "    }\n",
              "\n",
              "    .colab-df-convert:hover {\n",
              "      background-color: #E2EBFA;\n",
              "      box-shadow: 0px 1px 2px rgba(60, 64, 67, 0.3), 0px 1px 3px 1px rgba(60, 64, 67, 0.15);\n",
              "      fill: #174EA6;\n",
              "    }\n",
              "\n",
              "    [theme=dark] .colab-df-convert {\n",
              "      background-color: #3B4455;\n",
              "      fill: #D2E3FC;\n",
              "    }\n",
              "\n",
              "    [theme=dark] .colab-df-convert:hover {\n",
              "      background-color: #434B5C;\n",
              "      box-shadow: 0px 1px 3px 1px rgba(0, 0, 0, 0.15);\n",
              "      filter: drop-shadow(0px 1px 2px rgba(0, 0, 0, 0.3));\n",
              "      fill: #FFFFFF;\n",
              "    }\n",
              "  </style>\n",
              "\n",
              "      <script>\n",
              "        const buttonEl =\n",
              "          document.querySelector('#df-e24cf4c9-43ad-42a5-a10f-755b9ec48fd7 button.colab-df-convert');\n",
              "        buttonEl.style.display =\n",
              "          google.colab.kernel.accessAllowed ? 'block' : 'none';\n",
              "\n",
              "        async function convertToInteractive(key) {\n",
              "          const element = document.querySelector('#df-e24cf4c9-43ad-42a5-a10f-755b9ec48fd7');\n",
              "          const dataTable =\n",
              "            await google.colab.kernel.invokeFunction('convertToInteractive',\n",
              "                                                     [key], {});\n",
              "          if (!dataTable) return;\n",
              "\n",
              "          const docLinkHtml = 'Like what you see? Visit the ' +\n",
              "            '<a target=\"_blank\" href=https://colab.research.google.com/notebooks/data_table.ipynb>data table notebook</a>'\n",
              "            + ' to learn more about interactive tables.';\n",
              "          element.innerHTML = '';\n",
              "          dataTable['output_type'] = 'display_data';\n",
              "          await google.colab.output.renderOutput(dataTable, element);\n",
              "          const docLink = document.createElement('div');\n",
              "          docLink.innerHTML = docLinkHtml;\n",
              "          element.appendChild(docLink);\n",
              "        }\n",
              "      </script>\n",
              "    </div>\n",
              "  </div>\n",
              "  "
            ],
            "text/plain": [
              "                  mass     radius   planet\n",
              "Ganymede  1.482000e+23  2634000.0  Jupiter\n",
              "Callisto  1.076000e+23        NaN  Jupiter\n",
              "Io        8.932000e+22  1822000.0  Jupiter\n",
              "Europa    4.800000e+22        NaN  Jupiter\n",
              "Moon      7.342000e+22  1737000.0    Earth"
            ]
          },
          "metadata": {},
          "execution_count": 35
        }
      ]
    },
    {
      "cell_type": "code",
      "metadata": {
        "colab": {
          "base_uri": "https://localhost:8080/",
          "height": 112
        },
        "id": "IlMhB8Reu9n4",
        "outputId": "b7919bfe-f814-4305-d8ff-e207fa29e35d"
      },
      "source": [
        "Luas.loc['Callisto' : 'Io']   # Acessando as informações da linha 'Callisto' até a linha 'Io' "
      ],
      "execution_count": null,
      "outputs": [
        {
          "output_type": "execute_result",
          "data": {
            "text/html": [
              "\n",
              "  <div id=\"df-ef4baf06-fca5-41fe-a91e-6511e4d80b52\">\n",
              "    <div class=\"colab-df-container\">\n",
              "      <div>\n",
              "<style scoped>\n",
              "    .dataframe tbody tr th:only-of-type {\n",
              "        vertical-align: middle;\n",
              "    }\n",
              "\n",
              "    .dataframe tbody tr th {\n",
              "        vertical-align: top;\n",
              "    }\n",
              "\n",
              "    .dataframe thead th {\n",
              "        text-align: right;\n",
              "    }\n",
              "</style>\n",
              "<table border=\"1\" class=\"dataframe\">\n",
              "  <thead>\n",
              "    <tr style=\"text-align: right;\">\n",
              "      <th></th>\n",
              "      <th>mass</th>\n",
              "      <th>radius</th>\n",
              "      <th>planet</th>\n",
              "    </tr>\n",
              "  </thead>\n",
              "  <tbody>\n",
              "    <tr>\n",
              "      <th>Callisto</th>\n",
              "      <td>1.076000e+23</td>\n",
              "      <td>NaN</td>\n",
              "      <td>Jupiter</td>\n",
              "    </tr>\n",
              "    <tr>\n",
              "      <th>Io</th>\n",
              "      <td>8.932000e+22</td>\n",
              "      <td>1822000.0</td>\n",
              "      <td>Jupiter</td>\n",
              "    </tr>\n",
              "  </tbody>\n",
              "</table>\n",
              "</div>\n",
              "      <button class=\"colab-df-convert\" onclick=\"convertToInteractive('df-ef4baf06-fca5-41fe-a91e-6511e4d80b52')\"\n",
              "              title=\"Convert this dataframe to an interactive table.\"\n",
              "              style=\"display:none;\">\n",
              "        \n",
              "  <svg xmlns=\"http://www.w3.org/2000/svg\" height=\"24px\"viewBox=\"0 0 24 24\"\n",
              "       width=\"24px\">\n",
              "    <path d=\"M0 0h24v24H0V0z\" fill=\"none\"/>\n",
              "    <path d=\"M18.56 5.44l.94 2.06.94-2.06 2.06-.94-2.06-.94-.94-2.06-.94 2.06-2.06.94zm-11 1L8.5 8.5l.94-2.06 2.06-.94-2.06-.94L8.5 2.5l-.94 2.06-2.06.94zm10 10l.94 2.06.94-2.06 2.06-.94-2.06-.94-.94-2.06-.94 2.06-2.06.94z\"/><path d=\"M17.41 7.96l-1.37-1.37c-.4-.4-.92-.59-1.43-.59-.52 0-1.04.2-1.43.59L10.3 9.45l-7.72 7.72c-.78.78-.78 2.05 0 2.83L4 21.41c.39.39.9.59 1.41.59.51 0 1.02-.2 1.41-.59l7.78-7.78 2.81-2.81c.8-.78.8-2.07 0-2.86zM5.41 20L4 18.59l7.72-7.72 1.47 1.35L5.41 20z\"/>\n",
              "  </svg>\n",
              "      </button>\n",
              "      \n",
              "  <style>\n",
              "    .colab-df-container {\n",
              "      display:flex;\n",
              "      flex-wrap:wrap;\n",
              "      gap: 12px;\n",
              "    }\n",
              "\n",
              "    .colab-df-convert {\n",
              "      background-color: #E8F0FE;\n",
              "      border: none;\n",
              "      border-radius: 50%;\n",
              "      cursor: pointer;\n",
              "      display: none;\n",
              "      fill: #1967D2;\n",
              "      height: 32px;\n",
              "      padding: 0 0 0 0;\n",
              "      width: 32px;\n",
              "    }\n",
              "\n",
              "    .colab-df-convert:hover {\n",
              "      background-color: #E2EBFA;\n",
              "      box-shadow: 0px 1px 2px rgba(60, 64, 67, 0.3), 0px 1px 3px 1px rgba(60, 64, 67, 0.15);\n",
              "      fill: #174EA6;\n",
              "    }\n",
              "\n",
              "    [theme=dark] .colab-df-convert {\n",
              "      background-color: #3B4455;\n",
              "      fill: #D2E3FC;\n",
              "    }\n",
              "\n",
              "    [theme=dark] .colab-df-convert:hover {\n",
              "      background-color: #434B5C;\n",
              "      box-shadow: 0px 1px 3px 1px rgba(0, 0, 0, 0.15);\n",
              "      filter: drop-shadow(0px 1px 2px rgba(0, 0, 0, 0.3));\n",
              "      fill: #FFFFFF;\n",
              "    }\n",
              "  </style>\n",
              "\n",
              "      <script>\n",
              "        const buttonEl =\n",
              "          document.querySelector('#df-ef4baf06-fca5-41fe-a91e-6511e4d80b52 button.colab-df-convert');\n",
              "        buttonEl.style.display =\n",
              "          google.colab.kernel.accessAllowed ? 'block' : 'none';\n",
              "\n",
              "        async function convertToInteractive(key) {\n",
              "          const element = document.querySelector('#df-ef4baf06-fca5-41fe-a91e-6511e4d80b52');\n",
              "          const dataTable =\n",
              "            await google.colab.kernel.invokeFunction('convertToInteractive',\n",
              "                                                     [key], {});\n",
              "          if (!dataTable) return;\n",
              "\n",
              "          const docLinkHtml = 'Like what you see? Visit the ' +\n",
              "            '<a target=\"_blank\" href=https://colab.research.google.com/notebooks/data_table.ipynb>data table notebook</a>'\n",
              "            + ' to learn more about interactive tables.';\n",
              "          element.innerHTML = '';\n",
              "          dataTable['output_type'] = 'display_data';\n",
              "          await google.colab.output.renderOutput(dataTable, element);\n",
              "          const docLink = document.createElement('div');\n",
              "          docLink.innerHTML = docLinkHtml;\n",
              "          element.appendChild(docLink);\n",
              "        }\n",
              "      </script>\n",
              "    </div>\n",
              "  </div>\n",
              "  "
            ],
            "text/plain": [
              "                  mass     radius   planet\n",
              "Callisto  1.076000e+23        NaN  Jupiter\n",
              "Io        8.932000e+22  1822000.0  Jupiter"
            ]
          },
          "metadata": {},
          "execution_count": 37
        }
      ]
    },
    {
      "cell_type": "code",
      "metadata": {
        "colab": {
          "base_uri": "https://localhost:8080/",
          "height": 175
        },
        "id": "wnZjEdEbu-J2",
        "outputId": "10972f41-cf9a-44a8-8d83-64e5c0dadce7"
      },
      "source": [
        "Luas.loc[ : 'Europa']    # Acessando as informações do começo até a linha"
      ],
      "execution_count": null,
      "outputs": [
        {
          "output_type": "execute_result",
          "data": {
            "text/html": [
              "\n",
              "  <div id=\"df-193d2122-d311-41c6-aca5-4efe1e11bcda\">\n",
              "    <div class=\"colab-df-container\">\n",
              "      <div>\n",
              "<style scoped>\n",
              "    .dataframe tbody tr th:only-of-type {\n",
              "        vertical-align: middle;\n",
              "    }\n",
              "\n",
              "    .dataframe tbody tr th {\n",
              "        vertical-align: top;\n",
              "    }\n",
              "\n",
              "    .dataframe thead th {\n",
              "        text-align: right;\n",
              "    }\n",
              "</style>\n",
              "<table border=\"1\" class=\"dataframe\">\n",
              "  <thead>\n",
              "    <tr style=\"text-align: right;\">\n",
              "      <th></th>\n",
              "      <th>mass</th>\n",
              "      <th>radius</th>\n",
              "      <th>planet</th>\n",
              "    </tr>\n",
              "  </thead>\n",
              "  <tbody>\n",
              "    <tr>\n",
              "      <th>Ganymede</th>\n",
              "      <td>1.482000e+23</td>\n",
              "      <td>2634000.0</td>\n",
              "      <td>Jupiter</td>\n",
              "    </tr>\n",
              "    <tr>\n",
              "      <th>Callisto</th>\n",
              "      <td>1.076000e+23</td>\n",
              "      <td>NaN</td>\n",
              "      <td>Jupiter</td>\n",
              "    </tr>\n",
              "    <tr>\n",
              "      <th>Io</th>\n",
              "      <td>8.932000e+22</td>\n",
              "      <td>1822000.0</td>\n",
              "      <td>Jupiter</td>\n",
              "    </tr>\n",
              "    <tr>\n",
              "      <th>Europa</th>\n",
              "      <td>4.800000e+22</td>\n",
              "      <td>NaN</td>\n",
              "      <td>Jupiter</td>\n",
              "    </tr>\n",
              "  </tbody>\n",
              "</table>\n",
              "</div>\n",
              "      <button class=\"colab-df-convert\" onclick=\"convertToInteractive('df-193d2122-d311-41c6-aca5-4efe1e11bcda')\"\n",
              "              title=\"Convert this dataframe to an interactive table.\"\n",
              "              style=\"display:none;\">\n",
              "        \n",
              "  <svg xmlns=\"http://www.w3.org/2000/svg\" height=\"24px\"viewBox=\"0 0 24 24\"\n",
              "       width=\"24px\">\n",
              "    <path d=\"M0 0h24v24H0V0z\" fill=\"none\"/>\n",
              "    <path d=\"M18.56 5.44l.94 2.06.94-2.06 2.06-.94-2.06-.94-.94-2.06-.94 2.06-2.06.94zm-11 1L8.5 8.5l.94-2.06 2.06-.94-2.06-.94L8.5 2.5l-.94 2.06-2.06.94zm10 10l.94 2.06.94-2.06 2.06-.94-2.06-.94-.94-2.06-.94 2.06-2.06.94z\"/><path d=\"M17.41 7.96l-1.37-1.37c-.4-.4-.92-.59-1.43-.59-.52 0-1.04.2-1.43.59L10.3 9.45l-7.72 7.72c-.78.78-.78 2.05 0 2.83L4 21.41c.39.39.9.59 1.41.59.51 0 1.02-.2 1.41-.59l7.78-7.78 2.81-2.81c.8-.78.8-2.07 0-2.86zM5.41 20L4 18.59l7.72-7.72 1.47 1.35L5.41 20z\"/>\n",
              "  </svg>\n",
              "      </button>\n",
              "      \n",
              "  <style>\n",
              "    .colab-df-container {\n",
              "      display:flex;\n",
              "      flex-wrap:wrap;\n",
              "      gap: 12px;\n",
              "    }\n",
              "\n",
              "    .colab-df-convert {\n",
              "      background-color: #E8F0FE;\n",
              "      border: none;\n",
              "      border-radius: 50%;\n",
              "      cursor: pointer;\n",
              "      display: none;\n",
              "      fill: #1967D2;\n",
              "      height: 32px;\n",
              "      padding: 0 0 0 0;\n",
              "      width: 32px;\n",
              "    }\n",
              "\n",
              "    .colab-df-convert:hover {\n",
              "      background-color: #E2EBFA;\n",
              "      box-shadow: 0px 1px 2px rgba(60, 64, 67, 0.3), 0px 1px 3px 1px rgba(60, 64, 67, 0.15);\n",
              "      fill: #174EA6;\n",
              "    }\n",
              "\n",
              "    [theme=dark] .colab-df-convert {\n",
              "      background-color: #3B4455;\n",
              "      fill: #D2E3FC;\n",
              "    }\n",
              "\n",
              "    [theme=dark] .colab-df-convert:hover {\n",
              "      background-color: #434B5C;\n",
              "      box-shadow: 0px 1px 3px 1px rgba(0, 0, 0, 0.15);\n",
              "      filter: drop-shadow(0px 1px 2px rgba(0, 0, 0, 0.3));\n",
              "      fill: #FFFFFF;\n",
              "    }\n",
              "  </style>\n",
              "\n",
              "      <script>\n",
              "        const buttonEl =\n",
              "          document.querySelector('#df-193d2122-d311-41c6-aca5-4efe1e11bcda button.colab-df-convert');\n",
              "        buttonEl.style.display =\n",
              "          google.colab.kernel.accessAllowed ? 'block' : 'none';\n",
              "\n",
              "        async function convertToInteractive(key) {\n",
              "          const element = document.querySelector('#df-193d2122-d311-41c6-aca5-4efe1e11bcda');\n",
              "          const dataTable =\n",
              "            await google.colab.kernel.invokeFunction('convertToInteractive',\n",
              "                                                     [key], {});\n",
              "          if (!dataTable) return;\n",
              "\n",
              "          const docLinkHtml = 'Like what you see? Visit the ' +\n",
              "            '<a target=\"_blank\" href=https://colab.research.google.com/notebooks/data_table.ipynb>data table notebook</a>'\n",
              "            + ' to learn more about interactive tables.';\n",
              "          element.innerHTML = '';\n",
              "          dataTable['output_type'] = 'display_data';\n",
              "          await google.colab.output.renderOutput(dataTable, element);\n",
              "          const docLink = document.createElement('div');\n",
              "          docLink.innerHTML = docLinkHtml;\n",
              "          element.appendChild(docLink);\n",
              "        }\n",
              "      </script>\n",
              "    </div>\n",
              "  </div>\n",
              "  "
            ],
            "text/plain": [
              "                  mass     radius   planet\n",
              "Ganymede  1.482000e+23  2634000.0  Jupiter\n",
              "Callisto  1.076000e+23        NaN  Jupiter\n",
              "Io        8.932000e+22  1822000.0  Jupiter\n",
              "Europa    4.800000e+22        NaN  Jupiter"
            ]
          },
          "metadata": {},
          "execution_count": 39
        }
      ]
    },
    {
      "cell_type": "code",
      "metadata": {
        "colab": {
          "base_uri": "https://localhost:8080/",
          "height": 143
        },
        "id": "kSQYRFEKu-N5",
        "outputId": "74d7ac84-66b2-42be-f3ac-40d5db4c3a8d"
      },
      "source": [
        "Luas.loc['Io' : ]    # Acessando as informações da linha 'Io' até o final"
      ],
      "execution_count": null,
      "outputs": [
        {
          "output_type": "execute_result",
          "data": {
            "text/html": [
              "\n",
              "  <div id=\"df-e0f2426e-ead7-45bd-9dbd-d43ebd7a6588\">\n",
              "    <div class=\"colab-df-container\">\n",
              "      <div>\n",
              "<style scoped>\n",
              "    .dataframe tbody tr th:only-of-type {\n",
              "        vertical-align: middle;\n",
              "    }\n",
              "\n",
              "    .dataframe tbody tr th {\n",
              "        vertical-align: top;\n",
              "    }\n",
              "\n",
              "    .dataframe thead th {\n",
              "        text-align: right;\n",
              "    }\n",
              "</style>\n",
              "<table border=\"1\" class=\"dataframe\">\n",
              "  <thead>\n",
              "    <tr style=\"text-align: right;\">\n",
              "      <th></th>\n",
              "      <th>mass</th>\n",
              "      <th>radius</th>\n",
              "      <th>planet</th>\n",
              "    </tr>\n",
              "  </thead>\n",
              "  <tbody>\n",
              "    <tr>\n",
              "      <th>Io</th>\n",
              "      <td>8.932000e+22</td>\n",
              "      <td>1822000.0</td>\n",
              "      <td>Jupiter</td>\n",
              "    </tr>\n",
              "    <tr>\n",
              "      <th>Europa</th>\n",
              "      <td>4.800000e+22</td>\n",
              "      <td>NaN</td>\n",
              "      <td>Jupiter</td>\n",
              "    </tr>\n",
              "    <tr>\n",
              "      <th>Moon</th>\n",
              "      <td>7.342000e+22</td>\n",
              "      <td>1737000.0</td>\n",
              "      <td>Earth</td>\n",
              "    </tr>\n",
              "  </tbody>\n",
              "</table>\n",
              "</div>\n",
              "      <button class=\"colab-df-convert\" onclick=\"convertToInteractive('df-e0f2426e-ead7-45bd-9dbd-d43ebd7a6588')\"\n",
              "              title=\"Convert this dataframe to an interactive table.\"\n",
              "              style=\"display:none;\">\n",
              "        \n",
              "  <svg xmlns=\"http://www.w3.org/2000/svg\" height=\"24px\"viewBox=\"0 0 24 24\"\n",
              "       width=\"24px\">\n",
              "    <path d=\"M0 0h24v24H0V0z\" fill=\"none\"/>\n",
              "    <path d=\"M18.56 5.44l.94 2.06.94-2.06 2.06-.94-2.06-.94-.94-2.06-.94 2.06-2.06.94zm-11 1L8.5 8.5l.94-2.06 2.06-.94-2.06-.94L8.5 2.5l-.94 2.06-2.06.94zm10 10l.94 2.06.94-2.06 2.06-.94-2.06-.94-.94-2.06-.94 2.06-2.06.94z\"/><path d=\"M17.41 7.96l-1.37-1.37c-.4-.4-.92-.59-1.43-.59-.52 0-1.04.2-1.43.59L10.3 9.45l-7.72 7.72c-.78.78-.78 2.05 0 2.83L4 21.41c.39.39.9.59 1.41.59.51 0 1.02-.2 1.41-.59l7.78-7.78 2.81-2.81c.8-.78.8-2.07 0-2.86zM5.41 20L4 18.59l7.72-7.72 1.47 1.35L5.41 20z\"/>\n",
              "  </svg>\n",
              "      </button>\n",
              "      \n",
              "  <style>\n",
              "    .colab-df-container {\n",
              "      display:flex;\n",
              "      flex-wrap:wrap;\n",
              "      gap: 12px;\n",
              "    }\n",
              "\n",
              "    .colab-df-convert {\n",
              "      background-color: #E8F0FE;\n",
              "      border: none;\n",
              "      border-radius: 50%;\n",
              "      cursor: pointer;\n",
              "      display: none;\n",
              "      fill: #1967D2;\n",
              "      height: 32px;\n",
              "      padding: 0 0 0 0;\n",
              "      width: 32px;\n",
              "    }\n",
              "\n",
              "    .colab-df-convert:hover {\n",
              "      background-color: #E2EBFA;\n",
              "      box-shadow: 0px 1px 2px rgba(60, 64, 67, 0.3), 0px 1px 3px 1px rgba(60, 64, 67, 0.15);\n",
              "      fill: #174EA6;\n",
              "    }\n",
              "\n",
              "    [theme=dark] .colab-df-convert {\n",
              "      background-color: #3B4455;\n",
              "      fill: #D2E3FC;\n",
              "    }\n",
              "\n",
              "    [theme=dark] .colab-df-convert:hover {\n",
              "      background-color: #434B5C;\n",
              "      box-shadow: 0px 1px 3px 1px rgba(0, 0, 0, 0.15);\n",
              "      filter: drop-shadow(0px 1px 2px rgba(0, 0, 0, 0.3));\n",
              "      fill: #FFFFFF;\n",
              "    }\n",
              "  </style>\n",
              "\n",
              "      <script>\n",
              "        const buttonEl =\n",
              "          document.querySelector('#df-e0f2426e-ead7-45bd-9dbd-d43ebd7a6588 button.colab-df-convert');\n",
              "        buttonEl.style.display =\n",
              "          google.colab.kernel.accessAllowed ? 'block' : 'none';\n",
              "\n",
              "        async function convertToInteractive(key) {\n",
              "          const element = document.querySelector('#df-e0f2426e-ead7-45bd-9dbd-d43ebd7a6588');\n",
              "          const dataTable =\n",
              "            await google.colab.kernel.invokeFunction('convertToInteractive',\n",
              "                                                     [key], {});\n",
              "          if (!dataTable) return;\n",
              "\n",
              "          const docLinkHtml = 'Like what you see? Visit the ' +\n",
              "            '<a target=\"_blank\" href=https://colab.research.google.com/notebooks/data_table.ipynb>data table notebook</a>'\n",
              "            + ' to learn more about interactive tables.';\n",
              "          element.innerHTML = '';\n",
              "          dataTable['output_type'] = 'display_data';\n",
              "          await google.colab.output.renderOutput(dataTable, element);\n",
              "          const docLink = document.createElement('div');\n",
              "          docLink.innerHTML = docLinkHtml;\n",
              "          element.appendChild(docLink);\n",
              "        }\n",
              "      </script>\n",
              "    </div>\n",
              "  </div>\n",
              "  "
            ],
            "text/plain": [
              "                mass     radius   planet\n",
              "Io      8.932000e+22  1822000.0  Jupiter\n",
              "Europa  4.800000e+22        NaN  Jupiter\n",
              "Moon    7.342000e+22  1737000.0    Earth"
            ]
          },
          "metadata": {},
          "execution_count": 40
        }
      ]
    },
    {
      "cell_type": "code",
      "metadata": {
        "colab": {
          "base_uri": "https://localhost:8080/",
          "height": 206
        },
        "id": "PMVS3TVBvZjc",
        "outputId": "284ac149-7611-4195-e58f-3cd6e9c004c0"
      },
      "source": [
        "Luas.loc[ : ]      # Acessando todas as informações "
      ],
      "execution_count": null,
      "outputs": [
        {
          "output_type": "execute_result",
          "data": {
            "text/html": [
              "\n",
              "  <div id=\"df-22978d7e-9df5-4b72-867e-2cfde7db2787\">\n",
              "    <div class=\"colab-df-container\">\n",
              "      <div>\n",
              "<style scoped>\n",
              "    .dataframe tbody tr th:only-of-type {\n",
              "        vertical-align: middle;\n",
              "    }\n",
              "\n",
              "    .dataframe tbody tr th {\n",
              "        vertical-align: top;\n",
              "    }\n",
              "\n",
              "    .dataframe thead th {\n",
              "        text-align: right;\n",
              "    }\n",
              "</style>\n",
              "<table border=\"1\" class=\"dataframe\">\n",
              "  <thead>\n",
              "    <tr style=\"text-align: right;\">\n",
              "      <th></th>\n",
              "      <th>mass</th>\n",
              "      <th>radius</th>\n",
              "      <th>planet</th>\n",
              "    </tr>\n",
              "  </thead>\n",
              "  <tbody>\n",
              "    <tr>\n",
              "      <th>Ganymede</th>\n",
              "      <td>1.482000e+23</td>\n",
              "      <td>2634000.0</td>\n",
              "      <td>Jupiter</td>\n",
              "    </tr>\n",
              "    <tr>\n",
              "      <th>Callisto</th>\n",
              "      <td>1.076000e+23</td>\n",
              "      <td>NaN</td>\n",
              "      <td>Jupiter</td>\n",
              "    </tr>\n",
              "    <tr>\n",
              "      <th>Io</th>\n",
              "      <td>8.932000e+22</td>\n",
              "      <td>1822000.0</td>\n",
              "      <td>Jupiter</td>\n",
              "    </tr>\n",
              "    <tr>\n",
              "      <th>Europa</th>\n",
              "      <td>4.800000e+22</td>\n",
              "      <td>NaN</td>\n",
              "      <td>Jupiter</td>\n",
              "    </tr>\n",
              "    <tr>\n",
              "      <th>Moon</th>\n",
              "      <td>7.342000e+22</td>\n",
              "      <td>1737000.0</td>\n",
              "      <td>Earth</td>\n",
              "    </tr>\n",
              "  </tbody>\n",
              "</table>\n",
              "</div>\n",
              "      <button class=\"colab-df-convert\" onclick=\"convertToInteractive('df-22978d7e-9df5-4b72-867e-2cfde7db2787')\"\n",
              "              title=\"Convert this dataframe to an interactive table.\"\n",
              "              style=\"display:none;\">\n",
              "        \n",
              "  <svg xmlns=\"http://www.w3.org/2000/svg\" height=\"24px\"viewBox=\"0 0 24 24\"\n",
              "       width=\"24px\">\n",
              "    <path d=\"M0 0h24v24H0V0z\" fill=\"none\"/>\n",
              "    <path d=\"M18.56 5.44l.94 2.06.94-2.06 2.06-.94-2.06-.94-.94-2.06-.94 2.06-2.06.94zm-11 1L8.5 8.5l.94-2.06 2.06-.94-2.06-.94L8.5 2.5l-.94 2.06-2.06.94zm10 10l.94 2.06.94-2.06 2.06-.94-2.06-.94-.94-2.06-.94 2.06-2.06.94z\"/><path d=\"M17.41 7.96l-1.37-1.37c-.4-.4-.92-.59-1.43-.59-.52 0-1.04.2-1.43.59L10.3 9.45l-7.72 7.72c-.78.78-.78 2.05 0 2.83L4 21.41c.39.39.9.59 1.41.59.51 0 1.02-.2 1.41-.59l7.78-7.78 2.81-2.81c.8-.78.8-2.07 0-2.86zM5.41 20L4 18.59l7.72-7.72 1.47 1.35L5.41 20z\"/>\n",
              "  </svg>\n",
              "      </button>\n",
              "      \n",
              "  <style>\n",
              "    .colab-df-container {\n",
              "      display:flex;\n",
              "      flex-wrap:wrap;\n",
              "      gap: 12px;\n",
              "    }\n",
              "\n",
              "    .colab-df-convert {\n",
              "      background-color: #E8F0FE;\n",
              "      border: none;\n",
              "      border-radius: 50%;\n",
              "      cursor: pointer;\n",
              "      display: none;\n",
              "      fill: #1967D2;\n",
              "      height: 32px;\n",
              "      padding: 0 0 0 0;\n",
              "      width: 32px;\n",
              "    }\n",
              "\n",
              "    .colab-df-convert:hover {\n",
              "      background-color: #E2EBFA;\n",
              "      box-shadow: 0px 1px 2px rgba(60, 64, 67, 0.3), 0px 1px 3px 1px rgba(60, 64, 67, 0.15);\n",
              "      fill: #174EA6;\n",
              "    }\n",
              "\n",
              "    [theme=dark] .colab-df-convert {\n",
              "      background-color: #3B4455;\n",
              "      fill: #D2E3FC;\n",
              "    }\n",
              "\n",
              "    [theme=dark] .colab-df-convert:hover {\n",
              "      background-color: #434B5C;\n",
              "      box-shadow: 0px 1px 3px 1px rgba(0, 0, 0, 0.15);\n",
              "      filter: drop-shadow(0px 1px 2px rgba(0, 0, 0, 0.3));\n",
              "      fill: #FFFFFF;\n",
              "    }\n",
              "  </style>\n",
              "\n",
              "      <script>\n",
              "        const buttonEl =\n",
              "          document.querySelector('#df-22978d7e-9df5-4b72-867e-2cfde7db2787 button.colab-df-convert');\n",
              "        buttonEl.style.display =\n",
              "          google.colab.kernel.accessAllowed ? 'block' : 'none';\n",
              "\n",
              "        async function convertToInteractive(key) {\n",
              "          const element = document.querySelector('#df-22978d7e-9df5-4b72-867e-2cfde7db2787');\n",
              "          const dataTable =\n",
              "            await google.colab.kernel.invokeFunction('convertToInteractive',\n",
              "                                                     [key], {});\n",
              "          if (!dataTable) return;\n",
              "\n",
              "          const docLinkHtml = 'Like what you see? Visit the ' +\n",
              "            '<a target=\"_blank\" href=https://colab.research.google.com/notebooks/data_table.ipynb>data table notebook</a>'\n",
              "            + ' to learn more about interactive tables.';\n",
              "          element.innerHTML = '';\n",
              "          dataTable['output_type'] = 'display_data';\n",
              "          await google.colab.output.renderOutput(dataTable, element);\n",
              "          const docLink = document.createElement('div');\n",
              "          docLink.innerHTML = docLinkHtml;\n",
              "          element.appendChild(docLink);\n",
              "        }\n",
              "      </script>\n",
              "    </div>\n",
              "  </div>\n",
              "  "
            ],
            "text/plain": [
              "                  mass     radius   planet\n",
              "Ganymede  1.482000e+23  2634000.0  Jupiter\n",
              "Callisto  1.076000e+23        NaN  Jupiter\n",
              "Io        8.932000e+22  1822000.0  Jupiter\n",
              "Europa    4.800000e+22        NaN  Jupiter\n",
              "Moon      7.342000e+22  1737000.0    Earth"
            ]
          },
          "metadata": {},
          "execution_count": 41
        }
      ]
    },
    {
      "cell_type": "code",
      "metadata": {
        "id": "JTyMUg6LvjhV"
      },
      "source": [],
      "execution_count": null,
      "outputs": []
    },
    {
      "cell_type": "code",
      "metadata": {
        "id": "iJhTfGVGftgt",
        "colab": {
          "base_uri": "https://localhost:8080/",
          "height": 206
        },
        "outputId": "eb5ca76a-9fa5-46bb-a9db-46b7fe59d256"
      },
      "source": [
        "# Podemos acessar mais de uma linha com o método .loc[ ]\n",
        "\n",
        "Luas"
      ],
      "execution_count": null,
      "outputs": [
        {
          "output_type": "execute_result",
          "data": {
            "text/html": [
              "\n",
              "  <div id=\"df-6e4cbfd6-4a54-41bd-a924-d4f902d7a652\">\n",
              "    <div class=\"colab-df-container\">\n",
              "      <div>\n",
              "<style scoped>\n",
              "    .dataframe tbody tr th:only-of-type {\n",
              "        vertical-align: middle;\n",
              "    }\n",
              "\n",
              "    .dataframe tbody tr th {\n",
              "        vertical-align: top;\n",
              "    }\n",
              "\n",
              "    .dataframe thead th {\n",
              "        text-align: right;\n",
              "    }\n",
              "</style>\n",
              "<table border=\"1\" class=\"dataframe\">\n",
              "  <thead>\n",
              "    <tr style=\"text-align: right;\">\n",
              "      <th></th>\n",
              "      <th>mass</th>\n",
              "      <th>radius</th>\n",
              "      <th>planet</th>\n",
              "    </tr>\n",
              "  </thead>\n",
              "  <tbody>\n",
              "    <tr>\n",
              "      <th>Ganymede</th>\n",
              "      <td>1.482000e+23</td>\n",
              "      <td>2634000.0</td>\n",
              "      <td>Jupiter</td>\n",
              "    </tr>\n",
              "    <tr>\n",
              "      <th>Callisto</th>\n",
              "      <td>1.076000e+23</td>\n",
              "      <td>NaN</td>\n",
              "      <td>Jupiter</td>\n",
              "    </tr>\n",
              "    <tr>\n",
              "      <th>Io</th>\n",
              "      <td>8.932000e+22</td>\n",
              "      <td>1822000.0</td>\n",
              "      <td>Jupiter</td>\n",
              "    </tr>\n",
              "    <tr>\n",
              "      <th>Europa</th>\n",
              "      <td>4.800000e+22</td>\n",
              "      <td>NaN</td>\n",
              "      <td>Jupiter</td>\n",
              "    </tr>\n",
              "    <tr>\n",
              "      <th>Moon</th>\n",
              "      <td>7.342000e+22</td>\n",
              "      <td>1737000.0</td>\n",
              "      <td>Earth</td>\n",
              "    </tr>\n",
              "  </tbody>\n",
              "</table>\n",
              "</div>\n",
              "      <button class=\"colab-df-convert\" onclick=\"convertToInteractive('df-6e4cbfd6-4a54-41bd-a924-d4f902d7a652')\"\n",
              "              title=\"Convert this dataframe to an interactive table.\"\n",
              "              style=\"display:none;\">\n",
              "        \n",
              "  <svg xmlns=\"http://www.w3.org/2000/svg\" height=\"24px\"viewBox=\"0 0 24 24\"\n",
              "       width=\"24px\">\n",
              "    <path d=\"M0 0h24v24H0V0z\" fill=\"none\"/>\n",
              "    <path d=\"M18.56 5.44l.94 2.06.94-2.06 2.06-.94-2.06-.94-.94-2.06-.94 2.06-2.06.94zm-11 1L8.5 8.5l.94-2.06 2.06-.94-2.06-.94L8.5 2.5l-.94 2.06-2.06.94zm10 10l.94 2.06.94-2.06 2.06-.94-2.06-.94-.94-2.06-.94 2.06-2.06.94z\"/><path d=\"M17.41 7.96l-1.37-1.37c-.4-.4-.92-.59-1.43-.59-.52 0-1.04.2-1.43.59L10.3 9.45l-7.72 7.72c-.78.78-.78 2.05 0 2.83L4 21.41c.39.39.9.59 1.41.59.51 0 1.02-.2 1.41-.59l7.78-7.78 2.81-2.81c.8-.78.8-2.07 0-2.86zM5.41 20L4 18.59l7.72-7.72 1.47 1.35L5.41 20z\"/>\n",
              "  </svg>\n",
              "      </button>\n",
              "      \n",
              "  <style>\n",
              "    .colab-df-container {\n",
              "      display:flex;\n",
              "      flex-wrap:wrap;\n",
              "      gap: 12px;\n",
              "    }\n",
              "\n",
              "    .colab-df-convert {\n",
              "      background-color: #E8F0FE;\n",
              "      border: none;\n",
              "      border-radius: 50%;\n",
              "      cursor: pointer;\n",
              "      display: none;\n",
              "      fill: #1967D2;\n",
              "      height: 32px;\n",
              "      padding: 0 0 0 0;\n",
              "      width: 32px;\n",
              "    }\n",
              "\n",
              "    .colab-df-convert:hover {\n",
              "      background-color: #E2EBFA;\n",
              "      box-shadow: 0px 1px 2px rgba(60, 64, 67, 0.3), 0px 1px 3px 1px rgba(60, 64, 67, 0.15);\n",
              "      fill: #174EA6;\n",
              "    }\n",
              "\n",
              "    [theme=dark] .colab-df-convert {\n",
              "      background-color: #3B4455;\n",
              "      fill: #D2E3FC;\n",
              "    }\n",
              "\n",
              "    [theme=dark] .colab-df-convert:hover {\n",
              "      background-color: #434B5C;\n",
              "      box-shadow: 0px 1px 3px 1px rgba(0, 0, 0, 0.15);\n",
              "      filter: drop-shadow(0px 1px 2px rgba(0, 0, 0, 0.3));\n",
              "      fill: #FFFFFF;\n",
              "    }\n",
              "  </style>\n",
              "\n",
              "      <script>\n",
              "        const buttonEl =\n",
              "          document.querySelector('#df-6e4cbfd6-4a54-41bd-a924-d4f902d7a652 button.colab-df-convert');\n",
              "        buttonEl.style.display =\n",
              "          google.colab.kernel.accessAllowed ? 'block' : 'none';\n",
              "\n",
              "        async function convertToInteractive(key) {\n",
              "          const element = document.querySelector('#df-6e4cbfd6-4a54-41bd-a924-d4f902d7a652');\n",
              "          const dataTable =\n",
              "            await google.colab.kernel.invokeFunction('convertToInteractive',\n",
              "                                                     [key], {});\n",
              "          if (!dataTable) return;\n",
              "\n",
              "          const docLinkHtml = 'Like what you see? Visit the ' +\n",
              "            '<a target=\"_blank\" href=https://colab.research.google.com/notebooks/data_table.ipynb>data table notebook</a>'\n",
              "            + ' to learn more about interactive tables.';\n",
              "          element.innerHTML = '';\n",
              "          dataTable['output_type'] = 'display_data';\n",
              "          await google.colab.output.renderOutput(dataTable, element);\n",
              "          const docLink = document.createElement('div');\n",
              "          docLink.innerHTML = docLinkHtml;\n",
              "          element.appendChild(docLink);\n",
              "        }\n",
              "      </script>\n",
              "    </div>\n",
              "  </div>\n",
              "  "
            ],
            "text/plain": [
              "                  mass     radius   planet\n",
              "Ganymede  1.482000e+23  2634000.0  Jupiter\n",
              "Callisto  1.076000e+23        NaN  Jupiter\n",
              "Io        8.932000e+22  1822000.0  Jupiter\n",
              "Europa    4.800000e+22        NaN  Jupiter\n",
              "Moon      7.342000e+22  1737000.0    Earth"
            ]
          },
          "metadata": {},
          "execution_count": 42
        }
      ]
    },
    {
      "cell_type": "code",
      "metadata": {
        "id": "uo1BeMZHftkI",
        "colab": {
          "base_uri": "https://localhost:8080/",
          "height": 112
        },
        "outputId": "ae4b1892-1446-43d4-a259-a1991e1b0d03"
      },
      "source": [
        "Luas . loc [ ['Ganymede', 'Moon'] ]    # Cuidado com a notação dos colchetes!   ( .loc [LINHA] [COLUNA ] ) \n",
        "\n",
        "                                       # o ÚNICO parâmetro utilizado no método foi a lista : ['Ganymede', 'Moon'] \n",
        "\n",
        "                                       # Estamos pedindo acesso às linhas 'Ganymede' e 'Moon'\n"
      ],
      "execution_count": null,
      "outputs": [
        {
          "output_type": "execute_result",
          "data": {
            "text/html": [
              "\n",
              "  <div id=\"df-0227d6a1-b516-436f-ab70-5c7cf23dfdd3\">\n",
              "    <div class=\"colab-df-container\">\n",
              "      <div>\n",
              "<style scoped>\n",
              "    .dataframe tbody tr th:only-of-type {\n",
              "        vertical-align: middle;\n",
              "    }\n",
              "\n",
              "    .dataframe tbody tr th {\n",
              "        vertical-align: top;\n",
              "    }\n",
              "\n",
              "    .dataframe thead th {\n",
              "        text-align: right;\n",
              "    }\n",
              "</style>\n",
              "<table border=\"1\" class=\"dataframe\">\n",
              "  <thead>\n",
              "    <tr style=\"text-align: right;\">\n",
              "      <th></th>\n",
              "      <th>mass</th>\n",
              "      <th>radius</th>\n",
              "      <th>planet</th>\n",
              "    </tr>\n",
              "  </thead>\n",
              "  <tbody>\n",
              "    <tr>\n",
              "      <th>Ganymede</th>\n",
              "      <td>1.482000e+23</td>\n",
              "      <td>2634000.0</td>\n",
              "      <td>Jupiter</td>\n",
              "    </tr>\n",
              "    <tr>\n",
              "      <th>Moon</th>\n",
              "      <td>7.342000e+22</td>\n",
              "      <td>1737000.0</td>\n",
              "      <td>Earth</td>\n",
              "    </tr>\n",
              "  </tbody>\n",
              "</table>\n",
              "</div>\n",
              "      <button class=\"colab-df-convert\" onclick=\"convertToInteractive('df-0227d6a1-b516-436f-ab70-5c7cf23dfdd3')\"\n",
              "              title=\"Convert this dataframe to an interactive table.\"\n",
              "              style=\"display:none;\">\n",
              "        \n",
              "  <svg xmlns=\"http://www.w3.org/2000/svg\" height=\"24px\"viewBox=\"0 0 24 24\"\n",
              "       width=\"24px\">\n",
              "    <path d=\"M0 0h24v24H0V0z\" fill=\"none\"/>\n",
              "    <path d=\"M18.56 5.44l.94 2.06.94-2.06 2.06-.94-2.06-.94-.94-2.06-.94 2.06-2.06.94zm-11 1L8.5 8.5l.94-2.06 2.06-.94-2.06-.94L8.5 2.5l-.94 2.06-2.06.94zm10 10l.94 2.06.94-2.06 2.06-.94-2.06-.94-.94-2.06-.94 2.06-2.06.94z\"/><path d=\"M17.41 7.96l-1.37-1.37c-.4-.4-.92-.59-1.43-.59-.52 0-1.04.2-1.43.59L10.3 9.45l-7.72 7.72c-.78.78-.78 2.05 0 2.83L4 21.41c.39.39.9.59 1.41.59.51 0 1.02-.2 1.41-.59l7.78-7.78 2.81-2.81c.8-.78.8-2.07 0-2.86zM5.41 20L4 18.59l7.72-7.72 1.47 1.35L5.41 20z\"/>\n",
              "  </svg>\n",
              "      </button>\n",
              "      \n",
              "  <style>\n",
              "    .colab-df-container {\n",
              "      display:flex;\n",
              "      flex-wrap:wrap;\n",
              "      gap: 12px;\n",
              "    }\n",
              "\n",
              "    .colab-df-convert {\n",
              "      background-color: #E8F0FE;\n",
              "      border: none;\n",
              "      border-radius: 50%;\n",
              "      cursor: pointer;\n",
              "      display: none;\n",
              "      fill: #1967D2;\n",
              "      height: 32px;\n",
              "      padding: 0 0 0 0;\n",
              "      width: 32px;\n",
              "    }\n",
              "\n",
              "    .colab-df-convert:hover {\n",
              "      background-color: #E2EBFA;\n",
              "      box-shadow: 0px 1px 2px rgba(60, 64, 67, 0.3), 0px 1px 3px 1px rgba(60, 64, 67, 0.15);\n",
              "      fill: #174EA6;\n",
              "    }\n",
              "\n",
              "    [theme=dark] .colab-df-convert {\n",
              "      background-color: #3B4455;\n",
              "      fill: #D2E3FC;\n",
              "    }\n",
              "\n",
              "    [theme=dark] .colab-df-convert:hover {\n",
              "      background-color: #434B5C;\n",
              "      box-shadow: 0px 1px 3px 1px rgba(0, 0, 0, 0.15);\n",
              "      filter: drop-shadow(0px 1px 2px rgba(0, 0, 0, 0.3));\n",
              "      fill: #FFFFFF;\n",
              "    }\n",
              "  </style>\n",
              "\n",
              "      <script>\n",
              "        const buttonEl =\n",
              "          document.querySelector('#df-0227d6a1-b516-436f-ab70-5c7cf23dfdd3 button.colab-df-convert');\n",
              "        buttonEl.style.display =\n",
              "          google.colab.kernel.accessAllowed ? 'block' : 'none';\n",
              "\n",
              "        async function convertToInteractive(key) {\n",
              "          const element = document.querySelector('#df-0227d6a1-b516-436f-ab70-5c7cf23dfdd3');\n",
              "          const dataTable =\n",
              "            await google.colab.kernel.invokeFunction('convertToInteractive',\n",
              "                                                     [key], {});\n",
              "          if (!dataTable) return;\n",
              "\n",
              "          const docLinkHtml = 'Like what you see? Visit the ' +\n",
              "            '<a target=\"_blank\" href=https://colab.research.google.com/notebooks/data_table.ipynb>data table notebook</a>'\n",
              "            + ' to learn more about interactive tables.';\n",
              "          element.innerHTML = '';\n",
              "          dataTable['output_type'] = 'display_data';\n",
              "          await google.colab.output.renderOutput(dataTable, element);\n",
              "          const docLink = document.createElement('div');\n",
              "          docLink.innerHTML = docLinkHtml;\n",
              "          element.appendChild(docLink);\n",
              "        }\n",
              "      </script>\n",
              "    </div>\n",
              "  </div>\n",
              "  "
            ],
            "text/plain": [
              "                  mass     radius   planet\n",
              "Ganymede  1.482000e+23  2634000.0  Jupiter\n",
              "Moon      7.342000e+22  1737000.0    Earth"
            ]
          },
          "metadata": {},
          "execution_count": 48
        }
      ]
    },
    {
      "cell_type": "code",
      "metadata": {
        "id": "zFMvp8a_hABs"
      },
      "source": [
        "# Podemos acessar um unico valor com o método .loc[ ]    \n",
        "\n",
        "Luas"
      ],
      "execution_count": null,
      "outputs": []
    },
    {
      "cell_type": "code",
      "metadata": {
        "id": "tgysZfLXhFho",
        "colab": {
          "base_uri": "https://localhost:8080/"
        },
        "outputId": "153540f3-6c08-4c0a-8e27-d09c4a222737"
      },
      "source": [
        "Luas . loc ['Ganymede' , 'mass' ]    # Cuidado com a notação dos colchetes!   ( .loc [LINHA] [COLUNA ] ) \n",
        "                                  \n",
        "                                  # Foram utilizados DOIS parâmetros no método ( sendo eles 'Ganymede' e 'mass' )\n",
        "\n",
        "                                  # Estamos pedindo acesso à linha 'Ganymede' e, depois, pedindo a informação na coluna 'mass'  (de Ganymede)\n",
        "\n",
        "                                  # Equivalente à : Luas['mass']['Ganymede']   ( porém, nesse acesso, a notação é : dataframe [COLUNA] [LINHA]  )"
      ],
      "execution_count": null,
      "outputs": [
        {
          "output_type": "execute_result",
          "data": {
            "text/plain": [
              "1.482e+23"
            ]
          },
          "metadata": {},
          "execution_count": 50
        }
      ]
    },
    {
      "cell_type": "code",
      "metadata": {
        "id": "oB_8lpsAizRB",
        "colab": {
          "base_uri": "https://localhost:8080/"
        },
        "outputId": "b7d7fc5f-0cb2-4fce-e970-687951aa6527"
      },
      "source": [
        "Luas['mass']['Ganymede']         # Equivalente à : Luas.loc['Ganymede','mass'] ( porém, no .loc[], a notação é :  dataframe . loc [LINHA] [COLUNA] )"
      ],
      "execution_count": null,
      "outputs": [
        {
          "output_type": "execute_result",
          "data": {
            "text/plain": [
              "1.482e+23"
            ]
          },
          "metadata": {},
          "execution_count": 51
        }
      ]
    },
    {
      "cell_type": "code",
      "metadata": {
        "id": "Gr9oc7TUhFlG"
      },
      "source": [],
      "execution_count": null,
      "outputs": []
    },
    {
      "cell_type": "code",
      "metadata": {
        "id": "v0OOL_UYjcex",
        "colab": {
          "base_uri": "https://localhost:8080/",
          "height": 206
        },
        "outputId": "64621509-abf1-4fbf-d8aa-fe08957202b3"
      },
      "source": [
        "# Podemos acessar mais de uma coluna com o método .loc[ ]\n",
        "\n",
        "Luas"
      ],
      "execution_count": null,
      "outputs": [
        {
          "output_type": "execute_result",
          "data": {
            "text/html": [
              "\n",
              "  <div id=\"df-fc225812-b76a-4df6-bb26-b0f80efec04d\">\n",
              "    <div class=\"colab-df-container\">\n",
              "      <div>\n",
              "<style scoped>\n",
              "    .dataframe tbody tr th:only-of-type {\n",
              "        vertical-align: middle;\n",
              "    }\n",
              "\n",
              "    .dataframe tbody tr th {\n",
              "        vertical-align: top;\n",
              "    }\n",
              "\n",
              "    .dataframe thead th {\n",
              "        text-align: right;\n",
              "    }\n",
              "</style>\n",
              "<table border=\"1\" class=\"dataframe\">\n",
              "  <thead>\n",
              "    <tr style=\"text-align: right;\">\n",
              "      <th></th>\n",
              "      <th>mass</th>\n",
              "      <th>radius</th>\n",
              "      <th>planet</th>\n",
              "    </tr>\n",
              "  </thead>\n",
              "  <tbody>\n",
              "    <tr>\n",
              "      <th>Ganymede</th>\n",
              "      <td>1.482000e+23</td>\n",
              "      <td>2634000.0</td>\n",
              "      <td>Jupiter</td>\n",
              "    </tr>\n",
              "    <tr>\n",
              "      <th>Callisto</th>\n",
              "      <td>1.076000e+23</td>\n",
              "      <td>NaN</td>\n",
              "      <td>Jupiter</td>\n",
              "    </tr>\n",
              "    <tr>\n",
              "      <th>Io</th>\n",
              "      <td>8.932000e+22</td>\n",
              "      <td>1822000.0</td>\n",
              "      <td>Jupiter</td>\n",
              "    </tr>\n",
              "    <tr>\n",
              "      <th>Europa</th>\n",
              "      <td>4.800000e+22</td>\n",
              "      <td>NaN</td>\n",
              "      <td>Jupiter</td>\n",
              "    </tr>\n",
              "    <tr>\n",
              "      <th>Moon</th>\n",
              "      <td>7.342000e+22</td>\n",
              "      <td>1737000.0</td>\n",
              "      <td>Earth</td>\n",
              "    </tr>\n",
              "  </tbody>\n",
              "</table>\n",
              "</div>\n",
              "      <button class=\"colab-df-convert\" onclick=\"convertToInteractive('df-fc225812-b76a-4df6-bb26-b0f80efec04d')\"\n",
              "              title=\"Convert this dataframe to an interactive table.\"\n",
              "              style=\"display:none;\">\n",
              "        \n",
              "  <svg xmlns=\"http://www.w3.org/2000/svg\" height=\"24px\"viewBox=\"0 0 24 24\"\n",
              "       width=\"24px\">\n",
              "    <path d=\"M0 0h24v24H0V0z\" fill=\"none\"/>\n",
              "    <path d=\"M18.56 5.44l.94 2.06.94-2.06 2.06-.94-2.06-.94-.94-2.06-.94 2.06-2.06.94zm-11 1L8.5 8.5l.94-2.06 2.06-.94-2.06-.94L8.5 2.5l-.94 2.06-2.06.94zm10 10l.94 2.06.94-2.06 2.06-.94-2.06-.94-.94-2.06-.94 2.06-2.06.94z\"/><path d=\"M17.41 7.96l-1.37-1.37c-.4-.4-.92-.59-1.43-.59-.52 0-1.04.2-1.43.59L10.3 9.45l-7.72 7.72c-.78.78-.78 2.05 0 2.83L4 21.41c.39.39.9.59 1.41.59.51 0 1.02-.2 1.41-.59l7.78-7.78 2.81-2.81c.8-.78.8-2.07 0-2.86zM5.41 20L4 18.59l7.72-7.72 1.47 1.35L5.41 20z\"/>\n",
              "  </svg>\n",
              "      </button>\n",
              "      \n",
              "  <style>\n",
              "    .colab-df-container {\n",
              "      display:flex;\n",
              "      flex-wrap:wrap;\n",
              "      gap: 12px;\n",
              "    }\n",
              "\n",
              "    .colab-df-convert {\n",
              "      background-color: #E8F0FE;\n",
              "      border: none;\n",
              "      border-radius: 50%;\n",
              "      cursor: pointer;\n",
              "      display: none;\n",
              "      fill: #1967D2;\n",
              "      height: 32px;\n",
              "      padding: 0 0 0 0;\n",
              "      width: 32px;\n",
              "    }\n",
              "\n",
              "    .colab-df-convert:hover {\n",
              "      background-color: #E2EBFA;\n",
              "      box-shadow: 0px 1px 2px rgba(60, 64, 67, 0.3), 0px 1px 3px 1px rgba(60, 64, 67, 0.15);\n",
              "      fill: #174EA6;\n",
              "    }\n",
              "\n",
              "    [theme=dark] .colab-df-convert {\n",
              "      background-color: #3B4455;\n",
              "      fill: #D2E3FC;\n",
              "    }\n",
              "\n",
              "    [theme=dark] .colab-df-convert:hover {\n",
              "      background-color: #434B5C;\n",
              "      box-shadow: 0px 1px 3px 1px rgba(0, 0, 0, 0.15);\n",
              "      filter: drop-shadow(0px 1px 2px rgba(0, 0, 0, 0.3));\n",
              "      fill: #FFFFFF;\n",
              "    }\n",
              "  </style>\n",
              "\n",
              "      <script>\n",
              "        const buttonEl =\n",
              "          document.querySelector('#df-fc225812-b76a-4df6-bb26-b0f80efec04d button.colab-df-convert');\n",
              "        buttonEl.style.display =\n",
              "          google.colab.kernel.accessAllowed ? 'block' : 'none';\n",
              "\n",
              "        async function convertToInteractive(key) {\n",
              "          const element = document.querySelector('#df-fc225812-b76a-4df6-bb26-b0f80efec04d');\n",
              "          const dataTable =\n",
              "            await google.colab.kernel.invokeFunction('convertToInteractive',\n",
              "                                                     [key], {});\n",
              "          if (!dataTable) return;\n",
              "\n",
              "          const docLinkHtml = 'Like what you see? Visit the ' +\n",
              "            '<a target=\"_blank\" href=https://colab.research.google.com/notebooks/data_table.ipynb>data table notebook</a>'\n",
              "            + ' to learn more about interactive tables.';\n",
              "          element.innerHTML = '';\n",
              "          dataTable['output_type'] = 'display_data';\n",
              "          await google.colab.output.renderOutput(dataTable, element);\n",
              "          const docLink = document.createElement('div');\n",
              "          docLink.innerHTML = docLinkHtml;\n",
              "          element.appendChild(docLink);\n",
              "        }\n",
              "      </script>\n",
              "    </div>\n",
              "  </div>\n",
              "  "
            ],
            "text/plain": [
              "                  mass     radius   planet\n",
              "Ganymede  1.482000e+23  2634000.0  Jupiter\n",
              "Callisto  1.076000e+23        NaN  Jupiter\n",
              "Io        8.932000e+22  1822000.0  Jupiter\n",
              "Europa    4.800000e+22        NaN  Jupiter\n",
              "Moon      7.342000e+22  1737000.0    Earth"
            ]
          },
          "metadata": {},
          "execution_count": 52
        }
      ]
    },
    {
      "cell_type": "code",
      "metadata": {
        "id": "tHncMvp-kf4_",
        "colab": {
          "base_uri": "https://localhost:8080/"
        },
        "outputId": "c4d50977-065c-4798-ead3-fd627cf2f3e2"
      },
      "source": [
        "Luas . loc['Ganymede', [ 'mass' , 'radius'] ]    # Cuidado com a notação dos colchetes!   ( .loc [LINHA] [COLUNA ] ) \n",
        "                                               \n",
        "                                               # Foram utilizados DOIS parâmetros no método ( sendo eles 'Ganymede' e a lista ['mass','radius'] )\n",
        "\n",
        "                                               # Estamos pedindo acesso à linha 'Ganymede' e, depois, pedindo a informação nas colunas 'mass' e 'radius' (de Ganymede)"
      ],
      "execution_count": null,
      "outputs": [
        {
          "output_type": "execute_result",
          "data": {
            "text/plain": [
              "mass      1.482e+23\n",
              "radius    2.634e+06\n",
              "Name: Ganymede, dtype: object"
            ]
          },
          "metadata": {},
          "execution_count": 55
        }
      ]
    },
    {
      "cell_type": "code",
      "metadata": {
        "id": "8yPM0Dj-lFR6"
      },
      "source": [],
      "execution_count": null,
      "outputs": []
    },
    {
      "cell_type": "code",
      "metadata": {
        "id": "jsWd_6Vakf9k"
      },
      "source": [
        "# Podemos acessar linhas e colunas arbitrariamente\n",
        "\n",
        "Luas"
      ],
      "execution_count": null,
      "outputs": []
    },
    {
      "cell_type": "code",
      "metadata": {
        "colab": {
          "base_uri": "https://localhost:8080/",
          "height": 112
        },
        "id": "0xSO8hBVkgDV",
        "outputId": "bfc8f8e1-7354-47fc-eee6-f52bd3781954"
      },
      "source": [
        "Luas . loc [ [ 'Ganymede' , 'Io' ] , ['mass','radius'] ]    # Cuidado com a notação dos colchetes!   ( .loc [LINHA] [COLUNA ] )\n",
        "\n",
        "                                                            # Foram utilizados DOIS parâmetros no método ( sendo eles a lista : ['Ganymede', 'Io'] e a lista ['mass','radius'] ) \n",
        "\n",
        "                                                            # Estamos pedindo acesso às linhas 'Ganymede' e 'Io' e, depois, pedindo as informações nas colunas 'mass' e 'radius'"
      ],
      "execution_count": null,
      "outputs": [
        {
          "output_type": "execute_result",
          "data": {
            "text/html": [
              "\n",
              "  <div id=\"df-a59feef3-cf8a-428c-81e5-c741fdb1816c\">\n",
              "    <div class=\"colab-df-container\">\n",
              "      <div>\n",
              "<style scoped>\n",
              "    .dataframe tbody tr th:only-of-type {\n",
              "        vertical-align: middle;\n",
              "    }\n",
              "\n",
              "    .dataframe tbody tr th {\n",
              "        vertical-align: top;\n",
              "    }\n",
              "\n",
              "    .dataframe thead th {\n",
              "        text-align: right;\n",
              "    }\n",
              "</style>\n",
              "<table border=\"1\" class=\"dataframe\">\n",
              "  <thead>\n",
              "    <tr style=\"text-align: right;\">\n",
              "      <th></th>\n",
              "      <th>mass</th>\n",
              "      <th>radius</th>\n",
              "    </tr>\n",
              "  </thead>\n",
              "  <tbody>\n",
              "    <tr>\n",
              "      <th>Ganymede</th>\n",
              "      <td>1.482000e+23</td>\n",
              "      <td>2634000.0</td>\n",
              "    </tr>\n",
              "    <tr>\n",
              "      <th>Io</th>\n",
              "      <td>8.932000e+22</td>\n",
              "      <td>1822000.0</td>\n",
              "    </tr>\n",
              "  </tbody>\n",
              "</table>\n",
              "</div>\n",
              "      <button class=\"colab-df-convert\" onclick=\"convertToInteractive('df-a59feef3-cf8a-428c-81e5-c741fdb1816c')\"\n",
              "              title=\"Convert this dataframe to an interactive table.\"\n",
              "              style=\"display:none;\">\n",
              "        \n",
              "  <svg xmlns=\"http://www.w3.org/2000/svg\" height=\"24px\"viewBox=\"0 0 24 24\"\n",
              "       width=\"24px\">\n",
              "    <path d=\"M0 0h24v24H0V0z\" fill=\"none\"/>\n",
              "    <path d=\"M18.56 5.44l.94 2.06.94-2.06 2.06-.94-2.06-.94-.94-2.06-.94 2.06-2.06.94zm-11 1L8.5 8.5l.94-2.06 2.06-.94-2.06-.94L8.5 2.5l-.94 2.06-2.06.94zm10 10l.94 2.06.94-2.06 2.06-.94-2.06-.94-.94-2.06-.94 2.06-2.06.94z\"/><path d=\"M17.41 7.96l-1.37-1.37c-.4-.4-.92-.59-1.43-.59-.52 0-1.04.2-1.43.59L10.3 9.45l-7.72 7.72c-.78.78-.78 2.05 0 2.83L4 21.41c.39.39.9.59 1.41.59.51 0 1.02-.2 1.41-.59l7.78-7.78 2.81-2.81c.8-.78.8-2.07 0-2.86zM5.41 20L4 18.59l7.72-7.72 1.47 1.35L5.41 20z\"/>\n",
              "  </svg>\n",
              "      </button>\n",
              "      \n",
              "  <style>\n",
              "    .colab-df-container {\n",
              "      display:flex;\n",
              "      flex-wrap:wrap;\n",
              "      gap: 12px;\n",
              "    }\n",
              "\n",
              "    .colab-df-convert {\n",
              "      background-color: #E8F0FE;\n",
              "      border: none;\n",
              "      border-radius: 50%;\n",
              "      cursor: pointer;\n",
              "      display: none;\n",
              "      fill: #1967D2;\n",
              "      height: 32px;\n",
              "      padding: 0 0 0 0;\n",
              "      width: 32px;\n",
              "    }\n",
              "\n",
              "    .colab-df-convert:hover {\n",
              "      background-color: #E2EBFA;\n",
              "      box-shadow: 0px 1px 2px rgba(60, 64, 67, 0.3), 0px 1px 3px 1px rgba(60, 64, 67, 0.15);\n",
              "      fill: #174EA6;\n",
              "    }\n",
              "\n",
              "    [theme=dark] .colab-df-convert {\n",
              "      background-color: #3B4455;\n",
              "      fill: #D2E3FC;\n",
              "    }\n",
              "\n",
              "    [theme=dark] .colab-df-convert:hover {\n",
              "      background-color: #434B5C;\n",
              "      box-shadow: 0px 1px 3px 1px rgba(0, 0, 0, 0.15);\n",
              "      filter: drop-shadow(0px 1px 2px rgba(0, 0, 0, 0.3));\n",
              "      fill: #FFFFFF;\n",
              "    }\n",
              "  </style>\n",
              "\n",
              "      <script>\n",
              "        const buttonEl =\n",
              "          document.querySelector('#df-a59feef3-cf8a-428c-81e5-c741fdb1816c button.colab-df-convert');\n",
              "        buttonEl.style.display =\n",
              "          google.colab.kernel.accessAllowed ? 'block' : 'none';\n",
              "\n",
              "        async function convertToInteractive(key) {\n",
              "          const element = document.querySelector('#df-a59feef3-cf8a-428c-81e5-c741fdb1816c');\n",
              "          const dataTable =\n",
              "            await google.colab.kernel.invokeFunction('convertToInteractive',\n",
              "                                                     [key], {});\n",
              "          if (!dataTable) return;\n",
              "\n",
              "          const docLinkHtml = 'Like what you see? Visit the ' +\n",
              "            '<a target=\"_blank\" href=https://colab.research.google.com/notebooks/data_table.ipynb>data table notebook</a>'\n",
              "            + ' to learn more about interactive tables.';\n",
              "          element.innerHTML = '';\n",
              "          dataTable['output_type'] = 'display_data';\n",
              "          await google.colab.output.renderOutput(dataTable, element);\n",
              "          const docLink = document.createElement('div');\n",
              "          docLink.innerHTML = docLinkHtml;\n",
              "          element.appendChild(docLink);\n",
              "        }\n",
              "      </script>\n",
              "    </div>\n",
              "  </div>\n",
              "  "
            ],
            "text/plain": [
              "                  mass     radius\n",
              "Ganymede  1.482000e+23  2634000.0\n",
              "Io        8.932000e+22  1822000.0"
            ]
          },
          "metadata": {},
          "execution_count": 56
        }
      ]
    },
    {
      "cell_type": "markdown",
      "metadata": {
        "id": "lEjpG64vbeSZ"
      },
      "source": []
    },
    {
      "cell_type": "markdown",
      "metadata": {
        "id": "RwFvhH3obZmF"
      },
      "source": [
        "### Método .iloc[ ]\n",
        "\n",
        "##### Documentação : https://pandas.pydata.org/docs/reference/api/pandas.DataFrame.iloc.html?highlight=iloc#pandas.DataFrame.iloc"
      ]
    },
    {
      "cell_type": "code",
      "metadata": {
        "id": "E73_sSy-bdpA"
      },
      "source": [
        "# Acessa as informações do DataFrame pelo index (índice)\n",
        "\n",
        "# Retorna as informações contidas naquela LINHA do index\n",
        "\n",
        "# A indexação deve ser implícita ( posição do index )\n",
        "\n",
        "# Notação :  DataFrame . iloc [ LINHA , COLUNA ]  ( onde LINHA (index) é um parâmetro obrigatório e COLUNA é um parâmetro opcional)\n"
      ],
      "execution_count": null,
      "outputs": []
    },
    {
      "cell_type": "code",
      "metadata": {
        "colab": {
          "base_uri": "https://localhost:8080/",
          "height": 206
        },
        "id": "dq_eeRu8TTws",
        "outputId": "1636b76b-f38d-4271-9ca7-ed8e599c57d4"
      },
      "source": [
        "nomes = ['Ganymede', 'Callisto', 'Io', 'Europa', 'Moon']\n",
        "\n",
        "informacoes = {'mass': [1.482e23 , 1.076e23, 8.932e22, 4.800e22, 7.342e22],    \n",
        "        'radius': [2.634e6, None, 1.822e6, None, 1.737e6],\n",
        "        'planet': ['Jupiter', 'Jupiter', 'Jupiter', 'Jupiter', 'Earth']}\n",
        "\n",
        "Luas = pd.DataFrame(data = informacoes , index = nomes)  \n",
        "Luas"
      ],
      "execution_count": null,
      "outputs": [
        {
          "output_type": "execute_result",
          "data": {
            "text/html": [
              "\n",
              "  <div id=\"df-4bad0bd1-3ca1-48cf-8068-0aabaaece01f\">\n",
              "    <div class=\"colab-df-container\">\n",
              "      <div>\n",
              "<style scoped>\n",
              "    .dataframe tbody tr th:only-of-type {\n",
              "        vertical-align: middle;\n",
              "    }\n",
              "\n",
              "    .dataframe tbody tr th {\n",
              "        vertical-align: top;\n",
              "    }\n",
              "\n",
              "    .dataframe thead th {\n",
              "        text-align: right;\n",
              "    }\n",
              "</style>\n",
              "<table border=\"1\" class=\"dataframe\">\n",
              "  <thead>\n",
              "    <tr style=\"text-align: right;\">\n",
              "      <th></th>\n",
              "      <th>mass</th>\n",
              "      <th>radius</th>\n",
              "      <th>planet</th>\n",
              "    </tr>\n",
              "  </thead>\n",
              "  <tbody>\n",
              "    <tr>\n",
              "      <th>Ganymede</th>\n",
              "      <td>1.482000e+23</td>\n",
              "      <td>2634000.0</td>\n",
              "      <td>Jupiter</td>\n",
              "    </tr>\n",
              "    <tr>\n",
              "      <th>Callisto</th>\n",
              "      <td>1.076000e+23</td>\n",
              "      <td>NaN</td>\n",
              "      <td>Jupiter</td>\n",
              "    </tr>\n",
              "    <tr>\n",
              "      <th>Io</th>\n",
              "      <td>8.932000e+22</td>\n",
              "      <td>1822000.0</td>\n",
              "      <td>Jupiter</td>\n",
              "    </tr>\n",
              "    <tr>\n",
              "      <th>Europa</th>\n",
              "      <td>4.800000e+22</td>\n",
              "      <td>NaN</td>\n",
              "      <td>Jupiter</td>\n",
              "    </tr>\n",
              "    <tr>\n",
              "      <th>Moon</th>\n",
              "      <td>7.342000e+22</td>\n",
              "      <td>1737000.0</td>\n",
              "      <td>Earth</td>\n",
              "    </tr>\n",
              "  </tbody>\n",
              "</table>\n",
              "</div>\n",
              "      <button class=\"colab-df-convert\" onclick=\"convertToInteractive('df-4bad0bd1-3ca1-48cf-8068-0aabaaece01f')\"\n",
              "              title=\"Convert this dataframe to an interactive table.\"\n",
              "              style=\"display:none;\">\n",
              "        \n",
              "  <svg xmlns=\"http://www.w3.org/2000/svg\" height=\"24px\"viewBox=\"0 0 24 24\"\n",
              "       width=\"24px\">\n",
              "    <path d=\"M0 0h24v24H0V0z\" fill=\"none\"/>\n",
              "    <path d=\"M18.56 5.44l.94 2.06.94-2.06 2.06-.94-2.06-.94-.94-2.06-.94 2.06-2.06.94zm-11 1L8.5 8.5l.94-2.06 2.06-.94-2.06-.94L8.5 2.5l-.94 2.06-2.06.94zm10 10l.94 2.06.94-2.06 2.06-.94-2.06-.94-.94-2.06-.94 2.06-2.06.94z\"/><path d=\"M17.41 7.96l-1.37-1.37c-.4-.4-.92-.59-1.43-.59-.52 0-1.04.2-1.43.59L10.3 9.45l-7.72 7.72c-.78.78-.78 2.05 0 2.83L4 21.41c.39.39.9.59 1.41.59.51 0 1.02-.2 1.41-.59l7.78-7.78 2.81-2.81c.8-.78.8-2.07 0-2.86zM5.41 20L4 18.59l7.72-7.72 1.47 1.35L5.41 20z\"/>\n",
              "  </svg>\n",
              "      </button>\n",
              "      \n",
              "  <style>\n",
              "    .colab-df-container {\n",
              "      display:flex;\n",
              "      flex-wrap:wrap;\n",
              "      gap: 12px;\n",
              "    }\n",
              "\n",
              "    .colab-df-convert {\n",
              "      background-color: #E8F0FE;\n",
              "      border: none;\n",
              "      border-radius: 50%;\n",
              "      cursor: pointer;\n",
              "      display: none;\n",
              "      fill: #1967D2;\n",
              "      height: 32px;\n",
              "      padding: 0 0 0 0;\n",
              "      width: 32px;\n",
              "    }\n",
              "\n",
              "    .colab-df-convert:hover {\n",
              "      background-color: #E2EBFA;\n",
              "      box-shadow: 0px 1px 2px rgba(60, 64, 67, 0.3), 0px 1px 3px 1px rgba(60, 64, 67, 0.15);\n",
              "      fill: #174EA6;\n",
              "    }\n",
              "\n",
              "    [theme=dark] .colab-df-convert {\n",
              "      background-color: #3B4455;\n",
              "      fill: #D2E3FC;\n",
              "    }\n",
              "\n",
              "    [theme=dark] .colab-df-convert:hover {\n",
              "      background-color: #434B5C;\n",
              "      box-shadow: 0px 1px 3px 1px rgba(0, 0, 0, 0.15);\n",
              "      filter: drop-shadow(0px 1px 2px rgba(0, 0, 0, 0.3));\n",
              "      fill: #FFFFFF;\n",
              "    }\n",
              "  </style>\n",
              "\n",
              "      <script>\n",
              "        const buttonEl =\n",
              "          document.querySelector('#df-4bad0bd1-3ca1-48cf-8068-0aabaaece01f button.colab-df-convert');\n",
              "        buttonEl.style.display =\n",
              "          google.colab.kernel.accessAllowed ? 'block' : 'none';\n",
              "\n",
              "        async function convertToInteractive(key) {\n",
              "          const element = document.querySelector('#df-4bad0bd1-3ca1-48cf-8068-0aabaaece01f');\n",
              "          const dataTable =\n",
              "            await google.colab.kernel.invokeFunction('convertToInteractive',\n",
              "                                                     [key], {});\n",
              "          if (!dataTable) return;\n",
              "\n",
              "          const docLinkHtml = 'Like what you see? Visit the ' +\n",
              "            '<a target=\"_blank\" href=https://colab.research.google.com/notebooks/data_table.ipynb>data table notebook</a>'\n",
              "            + ' to learn more about interactive tables.';\n",
              "          element.innerHTML = '';\n",
              "          dataTable['output_type'] = 'display_data';\n",
              "          await google.colab.output.renderOutput(dataTable, element);\n",
              "          const docLink = document.createElement('div');\n",
              "          docLink.innerHTML = docLinkHtml;\n",
              "          element.appendChild(docLink);\n",
              "        }\n",
              "      </script>\n",
              "    </div>\n",
              "  </div>\n",
              "  "
            ],
            "text/plain": [
              "                  mass     radius   planet\n",
              "Ganymede  1.482000e+23  2634000.0  Jupiter\n",
              "Callisto  1.076000e+23        NaN  Jupiter\n",
              "Io        8.932000e+22  1822000.0  Jupiter\n",
              "Europa    4.800000e+22        NaN  Jupiter\n",
              "Moon      7.342000e+22  1737000.0    Earth"
            ]
          },
          "metadata": {},
          "execution_count": 57
        }
      ]
    },
    {
      "cell_type": "code",
      "metadata": {
        "id": "1GgE3C4CTT0i"
      },
      "source": [],
      "execution_count": null,
      "outputs": []
    },
    {
      "cell_type": "code",
      "metadata": {
        "colab": {
          "base_uri": "https://localhost:8080/"
        },
        "id": "-OSzq253TT4S",
        "outputId": "6867f6ea-af31-4c39-d67b-89f03d2c8bb7"
      },
      "source": [
        "Luas.index\n",
        "\n",
        "# No dataframe Luas , os índices são ['Ganymede', 'Callisto', 'Io', 'Europa', 'Moon']\n",
        "\n",
        "# Para usar o Método .loc[] devemos utilizar um desses índices"
      ],
      "execution_count": null,
      "outputs": [
        {
          "output_type": "execute_result",
          "data": {
            "text/plain": [
              "Index(['Ganymede', 'Callisto', 'Io', 'Europa', 'Moon'], dtype='object')"
            ]
          },
          "metadata": {},
          "execution_count": 58
        }
      ]
    },
    {
      "cell_type": "code",
      "metadata": {
        "colab": {
          "base_uri": "https://localhost:8080/"
        },
        "id": "0m8JYK3HTT7q",
        "outputId": "4563a4bf-b519-4794-fe34-5bc8a4721f8b"
      },
      "source": [
        "Luas.iloc[0]   # Retorna as informações contidas na LINHA ZERO (primeira posição) do index "
      ],
      "execution_count": null,
      "outputs": [
        {
          "output_type": "execute_result",
          "data": {
            "text/plain": [
              "mass      1.482e+23\n",
              "radius    2.634e+06\n",
              "planet      Jupiter\n",
              "Name: Ganymede, dtype: object"
            ]
          },
          "metadata": {},
          "execution_count": 59
        }
      ]
    },
    {
      "cell_type": "code",
      "metadata": {
        "id": "sNYO-GLlTT-6"
      },
      "source": [],
      "execution_count": null,
      "outputs": []
    },
    {
      "cell_type": "code",
      "metadata": {
        "id": "Qml0ygcUTUB6"
      },
      "source": [
        "# O método .iloc[] NÃO acessa as informações pelas COLUNAS (caso seja o unico parâmetro informado)\n"
      ],
      "execution_count": null,
      "outputs": []
    },
    {
      "cell_type": "code",
      "metadata": {
        "colab": {
          "base_uri": "https://localhost:8080/"
        },
        "id": "GKxnEG-neXky",
        "outputId": "9c8a84e2-5607-457e-e95a-924bb3913bd9"
      },
      "source": [
        "Luas.columns"
      ],
      "execution_count": null,
      "outputs": [
        {
          "output_type": "execute_result",
          "data": {
            "text/plain": [
              "Index(['mass', 'radius', 'planet'], dtype='object')"
            ]
          },
          "metadata": {},
          "execution_count": 61
        }
      ]
    },
    {
      "cell_type": "code",
      "metadata": {
        "colab": {
          "base_uri": "https://localhost:8080/"
        },
        "id": "CmA96tzleXoy",
        "outputId": "37cc9add-6e69-46e8-ea1f-8c6854b8fe92"
      },
      "source": [
        "Luas.index"
      ],
      "execution_count": null,
      "outputs": [
        {
          "output_type": "execute_result",
          "data": {
            "text/plain": [
              "Index(['Ganymede', 'Callisto', 'Io', 'Europa', 'Moon'], dtype='object')"
            ]
          },
          "metadata": {},
          "execution_count": 62
        }
      ]
    },
    {
      "cell_type": "code",
      "metadata": {
        "colab": {
          "base_uri": "https://localhost:8080/",
          "height": 206
        },
        "id": "IyJTMRfOf7dk",
        "outputId": "6764f65e-926b-41e0-fa49-df0046d22611"
      },
      "source": [
        "LuasNewName = Luas.rename(columns={'mass' : 0 , 'radius' : 1, 'planet' : 2})  # renomeando as colunas para demonstrar o que o .iloc[ ] retorna\n",
        "LuasNewName"
      ],
      "execution_count": null,
      "outputs": [
        {
          "output_type": "execute_result",
          "data": {
            "text/html": [
              "\n",
              "  <div id=\"df-b46f8973-26f3-44e6-aa30-a2aaac142907\">\n",
              "    <div class=\"colab-df-container\">\n",
              "      <div>\n",
              "<style scoped>\n",
              "    .dataframe tbody tr th:only-of-type {\n",
              "        vertical-align: middle;\n",
              "    }\n",
              "\n",
              "    .dataframe tbody tr th {\n",
              "        vertical-align: top;\n",
              "    }\n",
              "\n",
              "    .dataframe thead th {\n",
              "        text-align: right;\n",
              "    }\n",
              "</style>\n",
              "<table border=\"1\" class=\"dataframe\">\n",
              "  <thead>\n",
              "    <tr style=\"text-align: right;\">\n",
              "      <th></th>\n",
              "      <th>0</th>\n",
              "      <th>1</th>\n",
              "      <th>2</th>\n",
              "    </tr>\n",
              "  </thead>\n",
              "  <tbody>\n",
              "    <tr>\n",
              "      <th>Ganymede</th>\n",
              "      <td>1.482000e+23</td>\n",
              "      <td>2634000.0</td>\n",
              "      <td>Jupiter</td>\n",
              "    </tr>\n",
              "    <tr>\n",
              "      <th>Callisto</th>\n",
              "      <td>1.076000e+23</td>\n",
              "      <td>NaN</td>\n",
              "      <td>Jupiter</td>\n",
              "    </tr>\n",
              "    <tr>\n",
              "      <th>Io</th>\n",
              "      <td>8.932000e+22</td>\n",
              "      <td>1822000.0</td>\n",
              "      <td>Jupiter</td>\n",
              "    </tr>\n",
              "    <tr>\n",
              "      <th>Europa</th>\n",
              "      <td>4.800000e+22</td>\n",
              "      <td>NaN</td>\n",
              "      <td>Jupiter</td>\n",
              "    </tr>\n",
              "    <tr>\n",
              "      <th>Moon</th>\n",
              "      <td>7.342000e+22</td>\n",
              "      <td>1737000.0</td>\n",
              "      <td>Earth</td>\n",
              "    </tr>\n",
              "  </tbody>\n",
              "</table>\n",
              "</div>\n",
              "      <button class=\"colab-df-convert\" onclick=\"convertToInteractive('df-b46f8973-26f3-44e6-aa30-a2aaac142907')\"\n",
              "              title=\"Convert this dataframe to an interactive table.\"\n",
              "              style=\"display:none;\">\n",
              "        \n",
              "  <svg xmlns=\"http://www.w3.org/2000/svg\" height=\"24px\"viewBox=\"0 0 24 24\"\n",
              "       width=\"24px\">\n",
              "    <path d=\"M0 0h24v24H0V0z\" fill=\"none\"/>\n",
              "    <path d=\"M18.56 5.44l.94 2.06.94-2.06 2.06-.94-2.06-.94-.94-2.06-.94 2.06-2.06.94zm-11 1L8.5 8.5l.94-2.06 2.06-.94-2.06-.94L8.5 2.5l-.94 2.06-2.06.94zm10 10l.94 2.06.94-2.06 2.06-.94-2.06-.94-.94-2.06-.94 2.06-2.06.94z\"/><path d=\"M17.41 7.96l-1.37-1.37c-.4-.4-.92-.59-1.43-.59-.52 0-1.04.2-1.43.59L10.3 9.45l-7.72 7.72c-.78.78-.78 2.05 0 2.83L4 21.41c.39.39.9.59 1.41.59.51 0 1.02-.2 1.41-.59l7.78-7.78 2.81-2.81c.8-.78.8-2.07 0-2.86zM5.41 20L4 18.59l7.72-7.72 1.47 1.35L5.41 20z\"/>\n",
              "  </svg>\n",
              "      </button>\n",
              "      \n",
              "  <style>\n",
              "    .colab-df-container {\n",
              "      display:flex;\n",
              "      flex-wrap:wrap;\n",
              "      gap: 12px;\n",
              "    }\n",
              "\n",
              "    .colab-df-convert {\n",
              "      background-color: #E8F0FE;\n",
              "      border: none;\n",
              "      border-radius: 50%;\n",
              "      cursor: pointer;\n",
              "      display: none;\n",
              "      fill: #1967D2;\n",
              "      height: 32px;\n",
              "      padding: 0 0 0 0;\n",
              "      width: 32px;\n",
              "    }\n",
              "\n",
              "    .colab-df-convert:hover {\n",
              "      background-color: #E2EBFA;\n",
              "      box-shadow: 0px 1px 2px rgba(60, 64, 67, 0.3), 0px 1px 3px 1px rgba(60, 64, 67, 0.15);\n",
              "      fill: #174EA6;\n",
              "    }\n",
              "\n",
              "    [theme=dark] .colab-df-convert {\n",
              "      background-color: #3B4455;\n",
              "      fill: #D2E3FC;\n",
              "    }\n",
              "\n",
              "    [theme=dark] .colab-df-convert:hover {\n",
              "      background-color: #434B5C;\n",
              "      box-shadow: 0px 1px 3px 1px rgba(0, 0, 0, 0.15);\n",
              "      filter: drop-shadow(0px 1px 2px rgba(0, 0, 0, 0.3));\n",
              "      fill: #FFFFFF;\n",
              "    }\n",
              "  </style>\n",
              "\n",
              "      <script>\n",
              "        const buttonEl =\n",
              "          document.querySelector('#df-b46f8973-26f3-44e6-aa30-a2aaac142907 button.colab-df-convert');\n",
              "        buttonEl.style.display =\n",
              "          google.colab.kernel.accessAllowed ? 'block' : 'none';\n",
              "\n",
              "        async function convertToInteractive(key) {\n",
              "          const element = document.querySelector('#df-b46f8973-26f3-44e6-aa30-a2aaac142907');\n",
              "          const dataTable =\n",
              "            await google.colab.kernel.invokeFunction('convertToInteractive',\n",
              "                                                     [key], {});\n",
              "          if (!dataTable) return;\n",
              "\n",
              "          const docLinkHtml = 'Like what you see? Visit the ' +\n",
              "            '<a target=\"_blank\" href=https://colab.research.google.com/notebooks/data_table.ipynb>data table notebook</a>'\n",
              "            + ' to learn more about interactive tables.';\n",
              "          element.innerHTML = '';\n",
              "          dataTable['output_type'] = 'display_data';\n",
              "          await google.colab.output.renderOutput(dataTable, element);\n",
              "          const docLink = document.createElement('div');\n",
              "          docLink.innerHTML = docLinkHtml;\n",
              "          element.appendChild(docLink);\n",
              "        }\n",
              "      </script>\n",
              "    </div>\n",
              "  </div>\n",
              "  "
            ],
            "text/plain": [
              "                     0          1        2\n",
              "Ganymede  1.482000e+23  2634000.0  Jupiter\n",
              "Callisto  1.076000e+23        NaN  Jupiter\n",
              "Io        8.932000e+22  1822000.0  Jupiter\n",
              "Europa    4.800000e+22        NaN  Jupiter\n",
              "Moon      7.342000e+22  1737000.0    Earth"
            ]
          },
          "metadata": {},
          "execution_count": 63
        }
      ]
    },
    {
      "cell_type": "code",
      "metadata": {
        "colab": {
          "base_uri": "https://localhost:8080/"
        },
        "id": "-eNl4cM0eXs1",
        "outputId": "45041620-be40-4f0e-9b51-45e02c7499b5"
      },
      "source": [
        "LuasNewName.iloc[0]    # Apesar de 0 ser o nome de uma das COLUNAS de LuasNewName, o iloc continua retornando o valor da LINHA zero (posição)"
      ],
      "execution_count": null,
      "outputs": [
        {
          "output_type": "execute_result",
          "data": {
            "text/plain": [
              "0    1.482e+23\n",
              "1    2.634e+06\n",
              "2      Jupiter\n",
              "Name: Ganymede, dtype: object"
            ]
          },
          "metadata": {},
          "execution_count": 64
        }
      ]
    },
    {
      "cell_type": "code",
      "metadata": {
        "id": "ft7djLQveXwR"
      },
      "source": [],
      "execution_count": null,
      "outputs": []
    },
    {
      "cell_type": "code",
      "metadata": {
        "colab": {
          "base_uri": "https://localhost:8080/",
          "height": 206
        },
        "id": "-sxQnA6ci5SR",
        "outputId": "0e5a8ef7-7ec0-410b-babf-2889464fe308"
      },
      "source": [
        "# Podemos utilizar as propriedades de slicing no  .iloc[ ]   (  Informações sobre slicing em:  https://stackoverflow.com/questions/509211/understanding-slice-notation   )\n",
        "\n",
        "Luas"
      ],
      "execution_count": null,
      "outputs": [
        {
          "output_type": "execute_result",
          "data": {
            "text/html": [
              "<div>\n",
              "<style scoped>\n",
              "    .dataframe tbody tr th:only-of-type {\n",
              "        vertical-align: middle;\n",
              "    }\n",
              "\n",
              "    .dataframe tbody tr th {\n",
              "        vertical-align: top;\n",
              "    }\n",
              "\n",
              "    .dataframe thead th {\n",
              "        text-align: right;\n",
              "    }\n",
              "</style>\n",
              "<table border=\"1\" class=\"dataframe\">\n",
              "  <thead>\n",
              "    <tr style=\"text-align: right;\">\n",
              "      <th></th>\n",
              "      <th>mass</th>\n",
              "      <th>radius</th>\n",
              "      <th>planet</th>\n",
              "    </tr>\n",
              "  </thead>\n",
              "  <tbody>\n",
              "    <tr>\n",
              "      <th>Ganymede</th>\n",
              "      <td>1.482000e+23</td>\n",
              "      <td>2634000.0</td>\n",
              "      <td>Jupiter</td>\n",
              "    </tr>\n",
              "    <tr>\n",
              "      <th>Callisto</th>\n",
              "      <td>1.076000e+23</td>\n",
              "      <td>NaN</td>\n",
              "      <td>Jupiter</td>\n",
              "    </tr>\n",
              "    <tr>\n",
              "      <th>Io</th>\n",
              "      <td>8.932000e+22</td>\n",
              "      <td>1822000.0</td>\n",
              "      <td>Jupiter</td>\n",
              "    </tr>\n",
              "    <tr>\n",
              "      <th>Europa</th>\n",
              "      <td>4.800000e+22</td>\n",
              "      <td>NaN</td>\n",
              "      <td>Jupiter</td>\n",
              "    </tr>\n",
              "    <tr>\n",
              "      <th>Moon</th>\n",
              "      <td>7.342000e+22</td>\n",
              "      <td>1737000.0</td>\n",
              "      <td>Earth</td>\n",
              "    </tr>\n",
              "  </tbody>\n",
              "</table>\n",
              "</div>"
            ],
            "text/plain": [
              "                  mass     radius   planet\n",
              "Ganymede  1.482000e+23  2634000.0  Jupiter\n",
              "Callisto  1.076000e+23        NaN  Jupiter\n",
              "Io        8.932000e+22  1822000.0  Jupiter\n",
              "Europa    4.800000e+22        NaN  Jupiter\n",
              "Moon      7.342000e+22  1737000.0    Earth"
            ]
          },
          "metadata": {},
          "execution_count": 64
        }
      ]
    },
    {
      "cell_type": "code",
      "metadata": {
        "colab": {
          "base_uri": "https://localhost:8080/",
          "height": 112
        },
        "id": "s7vultIejHVZ",
        "outputId": "7222b96b-3218-4ede-c331-5b00f7b0b58f"
      },
      "source": [
        "Luas.iloc[1 : 3]   # Acessando as informações da linha 1 até a linha 3 ( linha 1 INCLUSA, linha 3 NÃO INCLUSA )"
      ],
      "execution_count": null,
      "outputs": [
        {
          "output_type": "execute_result",
          "data": {
            "text/html": [
              "\n",
              "  <div id=\"df-89a612ba-5470-4498-9b9b-2f69fc82d131\">\n",
              "    <div class=\"colab-df-container\">\n",
              "      <div>\n",
              "<style scoped>\n",
              "    .dataframe tbody tr th:only-of-type {\n",
              "        vertical-align: middle;\n",
              "    }\n",
              "\n",
              "    .dataframe tbody tr th {\n",
              "        vertical-align: top;\n",
              "    }\n",
              "\n",
              "    .dataframe thead th {\n",
              "        text-align: right;\n",
              "    }\n",
              "</style>\n",
              "<table border=\"1\" class=\"dataframe\">\n",
              "  <thead>\n",
              "    <tr style=\"text-align: right;\">\n",
              "      <th></th>\n",
              "      <th>mass</th>\n",
              "      <th>radius</th>\n",
              "      <th>planet</th>\n",
              "    </tr>\n",
              "  </thead>\n",
              "  <tbody>\n",
              "    <tr>\n",
              "      <th>Callisto</th>\n",
              "      <td>1.076000e+23</td>\n",
              "      <td>NaN</td>\n",
              "      <td>Jupiter</td>\n",
              "    </tr>\n",
              "    <tr>\n",
              "      <th>Io</th>\n",
              "      <td>8.932000e+22</td>\n",
              "      <td>1822000.0</td>\n",
              "      <td>Jupiter</td>\n",
              "    </tr>\n",
              "  </tbody>\n",
              "</table>\n",
              "</div>\n",
              "      <button class=\"colab-df-convert\" onclick=\"convertToInteractive('df-89a612ba-5470-4498-9b9b-2f69fc82d131')\"\n",
              "              title=\"Convert this dataframe to an interactive table.\"\n",
              "              style=\"display:none;\">\n",
              "        \n",
              "  <svg xmlns=\"http://www.w3.org/2000/svg\" height=\"24px\"viewBox=\"0 0 24 24\"\n",
              "       width=\"24px\">\n",
              "    <path d=\"M0 0h24v24H0V0z\" fill=\"none\"/>\n",
              "    <path d=\"M18.56 5.44l.94 2.06.94-2.06 2.06-.94-2.06-.94-.94-2.06-.94 2.06-2.06.94zm-11 1L8.5 8.5l.94-2.06 2.06-.94-2.06-.94L8.5 2.5l-.94 2.06-2.06.94zm10 10l.94 2.06.94-2.06 2.06-.94-2.06-.94-.94-2.06-.94 2.06-2.06.94z\"/><path d=\"M17.41 7.96l-1.37-1.37c-.4-.4-.92-.59-1.43-.59-.52 0-1.04.2-1.43.59L10.3 9.45l-7.72 7.72c-.78.78-.78 2.05 0 2.83L4 21.41c.39.39.9.59 1.41.59.51 0 1.02-.2 1.41-.59l7.78-7.78 2.81-2.81c.8-.78.8-2.07 0-2.86zM5.41 20L4 18.59l7.72-7.72 1.47 1.35L5.41 20z\"/>\n",
              "  </svg>\n",
              "      </button>\n",
              "      \n",
              "  <style>\n",
              "    .colab-df-container {\n",
              "      display:flex;\n",
              "      flex-wrap:wrap;\n",
              "      gap: 12px;\n",
              "    }\n",
              "\n",
              "    .colab-df-convert {\n",
              "      background-color: #E8F0FE;\n",
              "      border: none;\n",
              "      border-radius: 50%;\n",
              "      cursor: pointer;\n",
              "      display: none;\n",
              "      fill: #1967D2;\n",
              "      height: 32px;\n",
              "      padding: 0 0 0 0;\n",
              "      width: 32px;\n",
              "    }\n",
              "\n",
              "    .colab-df-convert:hover {\n",
              "      background-color: #E2EBFA;\n",
              "      box-shadow: 0px 1px 2px rgba(60, 64, 67, 0.3), 0px 1px 3px 1px rgba(60, 64, 67, 0.15);\n",
              "      fill: #174EA6;\n",
              "    }\n",
              "\n",
              "    [theme=dark] .colab-df-convert {\n",
              "      background-color: #3B4455;\n",
              "      fill: #D2E3FC;\n",
              "    }\n",
              "\n",
              "    [theme=dark] .colab-df-convert:hover {\n",
              "      background-color: #434B5C;\n",
              "      box-shadow: 0px 1px 3px 1px rgba(0, 0, 0, 0.15);\n",
              "      filter: drop-shadow(0px 1px 2px rgba(0, 0, 0, 0.3));\n",
              "      fill: #FFFFFF;\n",
              "    }\n",
              "  </style>\n",
              "\n",
              "      <script>\n",
              "        const buttonEl =\n",
              "          document.querySelector('#df-89a612ba-5470-4498-9b9b-2f69fc82d131 button.colab-df-convert');\n",
              "        buttonEl.style.display =\n",
              "          google.colab.kernel.accessAllowed ? 'block' : 'none';\n",
              "\n",
              "        async function convertToInteractive(key) {\n",
              "          const element = document.querySelector('#df-89a612ba-5470-4498-9b9b-2f69fc82d131');\n",
              "          const dataTable =\n",
              "            await google.colab.kernel.invokeFunction('convertToInteractive',\n",
              "                                                     [key], {});\n",
              "          if (!dataTable) return;\n",
              "\n",
              "          const docLinkHtml = 'Like what you see? Visit the ' +\n",
              "            '<a target=\"_blank\" href=https://colab.research.google.com/notebooks/data_table.ipynb>data table notebook</a>'\n",
              "            + ' to learn more about interactive tables.';\n",
              "          element.innerHTML = '';\n",
              "          dataTable['output_type'] = 'display_data';\n",
              "          await google.colab.output.renderOutput(dataTable, element);\n",
              "          const docLink = document.createElement('div');\n",
              "          docLink.innerHTML = docLinkHtml;\n",
              "          element.appendChild(docLink);\n",
              "        }\n",
              "      </script>\n",
              "    </div>\n",
              "  </div>\n",
              "  "
            ],
            "text/plain": [
              "                  mass     radius   planet\n",
              "Callisto  1.076000e+23        NaN  Jupiter\n",
              "Io        8.932000e+22  1822000.0  Jupiter"
            ]
          },
          "metadata": {},
          "execution_count": 65
        }
      ]
    },
    {
      "cell_type": "code",
      "metadata": {
        "colab": {
          "base_uri": "https://localhost:8080/",
          "height": 112
        },
        "id": "r3i_A3YLjHQ0",
        "outputId": "e76dfcd2-47ac-4cca-9699-a45817bd5f8e"
      },
      "source": [
        "Luas.iloc[ : 2]    # Acessando as informações do começo até a linha 2 ( linha 2 NÃO INCLUSA ! )"
      ],
      "execution_count": null,
      "outputs": [
        {
          "output_type": "execute_result",
          "data": {
            "text/html": [
              "\n",
              "  <div id=\"df-4f1ea8bf-af7c-4eb7-a930-8f843bb39753\">\n",
              "    <div class=\"colab-df-container\">\n",
              "      <div>\n",
              "<style scoped>\n",
              "    .dataframe tbody tr th:only-of-type {\n",
              "        vertical-align: middle;\n",
              "    }\n",
              "\n",
              "    .dataframe tbody tr th {\n",
              "        vertical-align: top;\n",
              "    }\n",
              "\n",
              "    .dataframe thead th {\n",
              "        text-align: right;\n",
              "    }\n",
              "</style>\n",
              "<table border=\"1\" class=\"dataframe\">\n",
              "  <thead>\n",
              "    <tr style=\"text-align: right;\">\n",
              "      <th></th>\n",
              "      <th>mass</th>\n",
              "      <th>radius</th>\n",
              "      <th>planet</th>\n",
              "    </tr>\n",
              "  </thead>\n",
              "  <tbody>\n",
              "    <tr>\n",
              "      <th>Ganymede</th>\n",
              "      <td>1.482000e+23</td>\n",
              "      <td>2634000.0</td>\n",
              "      <td>Jupiter</td>\n",
              "    </tr>\n",
              "    <tr>\n",
              "      <th>Callisto</th>\n",
              "      <td>1.076000e+23</td>\n",
              "      <td>NaN</td>\n",
              "      <td>Jupiter</td>\n",
              "    </tr>\n",
              "  </tbody>\n",
              "</table>\n",
              "</div>\n",
              "      <button class=\"colab-df-convert\" onclick=\"convertToInteractive('df-4f1ea8bf-af7c-4eb7-a930-8f843bb39753')\"\n",
              "              title=\"Convert this dataframe to an interactive table.\"\n",
              "              style=\"display:none;\">\n",
              "        \n",
              "  <svg xmlns=\"http://www.w3.org/2000/svg\" height=\"24px\"viewBox=\"0 0 24 24\"\n",
              "       width=\"24px\">\n",
              "    <path d=\"M0 0h24v24H0V0z\" fill=\"none\"/>\n",
              "    <path d=\"M18.56 5.44l.94 2.06.94-2.06 2.06-.94-2.06-.94-.94-2.06-.94 2.06-2.06.94zm-11 1L8.5 8.5l.94-2.06 2.06-.94-2.06-.94L8.5 2.5l-.94 2.06-2.06.94zm10 10l.94 2.06.94-2.06 2.06-.94-2.06-.94-.94-2.06-.94 2.06-2.06.94z\"/><path d=\"M17.41 7.96l-1.37-1.37c-.4-.4-.92-.59-1.43-.59-.52 0-1.04.2-1.43.59L10.3 9.45l-7.72 7.72c-.78.78-.78 2.05 0 2.83L4 21.41c.39.39.9.59 1.41.59.51 0 1.02-.2 1.41-.59l7.78-7.78 2.81-2.81c.8-.78.8-2.07 0-2.86zM5.41 20L4 18.59l7.72-7.72 1.47 1.35L5.41 20z\"/>\n",
              "  </svg>\n",
              "      </button>\n",
              "      \n",
              "  <style>\n",
              "    .colab-df-container {\n",
              "      display:flex;\n",
              "      flex-wrap:wrap;\n",
              "      gap: 12px;\n",
              "    }\n",
              "\n",
              "    .colab-df-convert {\n",
              "      background-color: #E8F0FE;\n",
              "      border: none;\n",
              "      border-radius: 50%;\n",
              "      cursor: pointer;\n",
              "      display: none;\n",
              "      fill: #1967D2;\n",
              "      height: 32px;\n",
              "      padding: 0 0 0 0;\n",
              "      width: 32px;\n",
              "    }\n",
              "\n",
              "    .colab-df-convert:hover {\n",
              "      background-color: #E2EBFA;\n",
              "      box-shadow: 0px 1px 2px rgba(60, 64, 67, 0.3), 0px 1px 3px 1px rgba(60, 64, 67, 0.15);\n",
              "      fill: #174EA6;\n",
              "    }\n",
              "\n",
              "    [theme=dark] .colab-df-convert {\n",
              "      background-color: #3B4455;\n",
              "      fill: #D2E3FC;\n",
              "    }\n",
              "\n",
              "    [theme=dark] .colab-df-convert:hover {\n",
              "      background-color: #434B5C;\n",
              "      box-shadow: 0px 1px 3px 1px rgba(0, 0, 0, 0.15);\n",
              "      filter: drop-shadow(0px 1px 2px rgba(0, 0, 0, 0.3));\n",
              "      fill: #FFFFFF;\n",
              "    }\n",
              "  </style>\n",
              "\n",
              "      <script>\n",
              "        const buttonEl =\n",
              "          document.querySelector('#df-4f1ea8bf-af7c-4eb7-a930-8f843bb39753 button.colab-df-convert');\n",
              "        buttonEl.style.display =\n",
              "          google.colab.kernel.accessAllowed ? 'block' : 'none';\n",
              "\n",
              "        async function convertToInteractive(key) {\n",
              "          const element = document.querySelector('#df-4f1ea8bf-af7c-4eb7-a930-8f843bb39753');\n",
              "          const dataTable =\n",
              "            await google.colab.kernel.invokeFunction('convertToInteractive',\n",
              "                                                     [key], {});\n",
              "          if (!dataTable) return;\n",
              "\n",
              "          const docLinkHtml = 'Like what you see? Visit the ' +\n",
              "            '<a target=\"_blank\" href=https://colab.research.google.com/notebooks/data_table.ipynb>data table notebook</a>'\n",
              "            + ' to learn more about interactive tables.';\n",
              "          element.innerHTML = '';\n",
              "          dataTable['output_type'] = 'display_data';\n",
              "          await google.colab.output.renderOutput(dataTable, element);\n",
              "          const docLink = document.createElement('div');\n",
              "          docLink.innerHTML = docLinkHtml;\n",
              "          element.appendChild(docLink);\n",
              "        }\n",
              "      </script>\n",
              "    </div>\n",
              "  </div>\n",
              "  "
            ],
            "text/plain": [
              "                  mass     radius   planet\n",
              "Ganymede  1.482000e+23  2634000.0  Jupiter\n",
              "Callisto  1.076000e+23        NaN  Jupiter"
            ]
          },
          "metadata": {},
          "execution_count": 66
        }
      ]
    },
    {
      "cell_type": "code",
      "metadata": {
        "colab": {
          "base_uri": "https://localhost:8080/",
          "height": 143
        },
        "id": "7etKMbzflAV6",
        "outputId": "d5efa013-fb04-4658-baca-f4140d97b81c"
      },
      "source": [
        "Luas.iloc[2 : ]    # Acessando as informações da linha 2 até o final ( lina 2 INCLUSA )"
      ],
      "execution_count": null,
      "outputs": [
        {
          "output_type": "execute_result",
          "data": {
            "text/html": [
              "\n",
              "  <div id=\"df-c3550602-feea-4061-9a01-fec55116d064\">\n",
              "    <div class=\"colab-df-container\">\n",
              "      <div>\n",
              "<style scoped>\n",
              "    .dataframe tbody tr th:only-of-type {\n",
              "        vertical-align: middle;\n",
              "    }\n",
              "\n",
              "    .dataframe tbody tr th {\n",
              "        vertical-align: top;\n",
              "    }\n",
              "\n",
              "    .dataframe thead th {\n",
              "        text-align: right;\n",
              "    }\n",
              "</style>\n",
              "<table border=\"1\" class=\"dataframe\">\n",
              "  <thead>\n",
              "    <tr style=\"text-align: right;\">\n",
              "      <th></th>\n",
              "      <th>mass</th>\n",
              "      <th>radius</th>\n",
              "      <th>planet</th>\n",
              "    </tr>\n",
              "  </thead>\n",
              "  <tbody>\n",
              "    <tr>\n",
              "      <th>Io</th>\n",
              "      <td>8.932000e+22</td>\n",
              "      <td>1822000.0</td>\n",
              "      <td>Jupiter</td>\n",
              "    </tr>\n",
              "    <tr>\n",
              "      <th>Europa</th>\n",
              "      <td>4.800000e+22</td>\n",
              "      <td>NaN</td>\n",
              "      <td>Jupiter</td>\n",
              "    </tr>\n",
              "    <tr>\n",
              "      <th>Moon</th>\n",
              "      <td>7.342000e+22</td>\n",
              "      <td>1737000.0</td>\n",
              "      <td>Earth</td>\n",
              "    </tr>\n",
              "  </tbody>\n",
              "</table>\n",
              "</div>\n",
              "      <button class=\"colab-df-convert\" onclick=\"convertToInteractive('df-c3550602-feea-4061-9a01-fec55116d064')\"\n",
              "              title=\"Convert this dataframe to an interactive table.\"\n",
              "              style=\"display:none;\">\n",
              "        \n",
              "  <svg xmlns=\"http://www.w3.org/2000/svg\" height=\"24px\"viewBox=\"0 0 24 24\"\n",
              "       width=\"24px\">\n",
              "    <path d=\"M0 0h24v24H0V0z\" fill=\"none\"/>\n",
              "    <path d=\"M18.56 5.44l.94 2.06.94-2.06 2.06-.94-2.06-.94-.94-2.06-.94 2.06-2.06.94zm-11 1L8.5 8.5l.94-2.06 2.06-.94-2.06-.94L8.5 2.5l-.94 2.06-2.06.94zm10 10l.94 2.06.94-2.06 2.06-.94-2.06-.94-.94-2.06-.94 2.06-2.06.94z\"/><path d=\"M17.41 7.96l-1.37-1.37c-.4-.4-.92-.59-1.43-.59-.52 0-1.04.2-1.43.59L10.3 9.45l-7.72 7.72c-.78.78-.78 2.05 0 2.83L4 21.41c.39.39.9.59 1.41.59.51 0 1.02-.2 1.41-.59l7.78-7.78 2.81-2.81c.8-.78.8-2.07 0-2.86zM5.41 20L4 18.59l7.72-7.72 1.47 1.35L5.41 20z\"/>\n",
              "  </svg>\n",
              "      </button>\n",
              "      \n",
              "  <style>\n",
              "    .colab-df-container {\n",
              "      display:flex;\n",
              "      flex-wrap:wrap;\n",
              "      gap: 12px;\n",
              "    }\n",
              "\n",
              "    .colab-df-convert {\n",
              "      background-color: #E8F0FE;\n",
              "      border: none;\n",
              "      border-radius: 50%;\n",
              "      cursor: pointer;\n",
              "      display: none;\n",
              "      fill: #1967D2;\n",
              "      height: 32px;\n",
              "      padding: 0 0 0 0;\n",
              "      width: 32px;\n",
              "    }\n",
              "\n",
              "    .colab-df-convert:hover {\n",
              "      background-color: #E2EBFA;\n",
              "      box-shadow: 0px 1px 2px rgba(60, 64, 67, 0.3), 0px 1px 3px 1px rgba(60, 64, 67, 0.15);\n",
              "      fill: #174EA6;\n",
              "    }\n",
              "\n",
              "    [theme=dark] .colab-df-convert {\n",
              "      background-color: #3B4455;\n",
              "      fill: #D2E3FC;\n",
              "    }\n",
              "\n",
              "    [theme=dark] .colab-df-convert:hover {\n",
              "      background-color: #434B5C;\n",
              "      box-shadow: 0px 1px 3px 1px rgba(0, 0, 0, 0.15);\n",
              "      filter: drop-shadow(0px 1px 2px rgba(0, 0, 0, 0.3));\n",
              "      fill: #FFFFFF;\n",
              "    }\n",
              "  </style>\n",
              "\n",
              "      <script>\n",
              "        const buttonEl =\n",
              "          document.querySelector('#df-c3550602-feea-4061-9a01-fec55116d064 button.colab-df-convert');\n",
              "        buttonEl.style.display =\n",
              "          google.colab.kernel.accessAllowed ? 'block' : 'none';\n",
              "\n",
              "        async function convertToInteractive(key) {\n",
              "          const element = document.querySelector('#df-c3550602-feea-4061-9a01-fec55116d064');\n",
              "          const dataTable =\n",
              "            await google.colab.kernel.invokeFunction('convertToInteractive',\n",
              "                                                     [key], {});\n",
              "          if (!dataTable) return;\n",
              "\n",
              "          const docLinkHtml = 'Like what you see? Visit the ' +\n",
              "            '<a target=\"_blank\" href=https://colab.research.google.com/notebooks/data_table.ipynb>data table notebook</a>'\n",
              "            + ' to learn more about interactive tables.';\n",
              "          element.innerHTML = '';\n",
              "          dataTable['output_type'] = 'display_data';\n",
              "          await google.colab.output.renderOutput(dataTable, element);\n",
              "          const docLink = document.createElement('div');\n",
              "          docLink.innerHTML = docLinkHtml;\n",
              "          element.appendChild(docLink);\n",
              "        }\n",
              "      </script>\n",
              "    </div>\n",
              "  </div>\n",
              "  "
            ],
            "text/plain": [
              "                mass     radius   planet\n",
              "Io      8.932000e+22  1822000.0  Jupiter\n",
              "Europa  4.800000e+22        NaN  Jupiter\n",
              "Moon    7.342000e+22  1737000.0    Earth"
            ]
          },
          "metadata": {},
          "execution_count": 67
        }
      ]
    },
    {
      "cell_type": "code",
      "metadata": {
        "colab": {
          "base_uri": "https://localhost:8080/",
          "height": 206
        },
        "id": "YiJKsazdi-tG",
        "outputId": "a34aa957-ca8e-4c0e-aa92-be76e3e47f32"
      },
      "source": [
        "Luas.iloc[ : ]      # Acessando todas as informações "
      ],
      "execution_count": null,
      "outputs": [
        {
          "output_type": "execute_result",
          "data": {
            "text/html": [
              "\n",
              "  <div id=\"df-d5d5ac1a-ed3d-437a-98e8-0bbe7e69f454\">\n",
              "    <div class=\"colab-df-container\">\n",
              "      <div>\n",
              "<style scoped>\n",
              "    .dataframe tbody tr th:only-of-type {\n",
              "        vertical-align: middle;\n",
              "    }\n",
              "\n",
              "    .dataframe tbody tr th {\n",
              "        vertical-align: top;\n",
              "    }\n",
              "\n",
              "    .dataframe thead th {\n",
              "        text-align: right;\n",
              "    }\n",
              "</style>\n",
              "<table border=\"1\" class=\"dataframe\">\n",
              "  <thead>\n",
              "    <tr style=\"text-align: right;\">\n",
              "      <th></th>\n",
              "      <th>mass</th>\n",
              "      <th>radius</th>\n",
              "      <th>planet</th>\n",
              "    </tr>\n",
              "  </thead>\n",
              "  <tbody>\n",
              "    <tr>\n",
              "      <th>Ganymede</th>\n",
              "      <td>1.482000e+23</td>\n",
              "      <td>2634000.0</td>\n",
              "      <td>Jupiter</td>\n",
              "    </tr>\n",
              "    <tr>\n",
              "      <th>Callisto</th>\n",
              "      <td>1.076000e+23</td>\n",
              "      <td>NaN</td>\n",
              "      <td>Jupiter</td>\n",
              "    </tr>\n",
              "    <tr>\n",
              "      <th>Io</th>\n",
              "      <td>8.932000e+22</td>\n",
              "      <td>1822000.0</td>\n",
              "      <td>Jupiter</td>\n",
              "    </tr>\n",
              "    <tr>\n",
              "      <th>Europa</th>\n",
              "      <td>4.800000e+22</td>\n",
              "      <td>NaN</td>\n",
              "      <td>Jupiter</td>\n",
              "    </tr>\n",
              "    <tr>\n",
              "      <th>Moon</th>\n",
              "      <td>7.342000e+22</td>\n",
              "      <td>1737000.0</td>\n",
              "      <td>Earth</td>\n",
              "    </tr>\n",
              "  </tbody>\n",
              "</table>\n",
              "</div>\n",
              "      <button class=\"colab-df-convert\" onclick=\"convertToInteractive('df-d5d5ac1a-ed3d-437a-98e8-0bbe7e69f454')\"\n",
              "              title=\"Convert this dataframe to an interactive table.\"\n",
              "              style=\"display:none;\">\n",
              "        \n",
              "  <svg xmlns=\"http://www.w3.org/2000/svg\" height=\"24px\"viewBox=\"0 0 24 24\"\n",
              "       width=\"24px\">\n",
              "    <path d=\"M0 0h24v24H0V0z\" fill=\"none\"/>\n",
              "    <path d=\"M18.56 5.44l.94 2.06.94-2.06 2.06-.94-2.06-.94-.94-2.06-.94 2.06-2.06.94zm-11 1L8.5 8.5l.94-2.06 2.06-.94-2.06-.94L8.5 2.5l-.94 2.06-2.06.94zm10 10l.94 2.06.94-2.06 2.06-.94-2.06-.94-.94-2.06-.94 2.06-2.06.94z\"/><path d=\"M17.41 7.96l-1.37-1.37c-.4-.4-.92-.59-1.43-.59-.52 0-1.04.2-1.43.59L10.3 9.45l-7.72 7.72c-.78.78-.78 2.05 0 2.83L4 21.41c.39.39.9.59 1.41.59.51 0 1.02-.2 1.41-.59l7.78-7.78 2.81-2.81c.8-.78.8-2.07 0-2.86zM5.41 20L4 18.59l7.72-7.72 1.47 1.35L5.41 20z\"/>\n",
              "  </svg>\n",
              "      </button>\n",
              "      \n",
              "  <style>\n",
              "    .colab-df-container {\n",
              "      display:flex;\n",
              "      flex-wrap:wrap;\n",
              "      gap: 12px;\n",
              "    }\n",
              "\n",
              "    .colab-df-convert {\n",
              "      background-color: #E8F0FE;\n",
              "      border: none;\n",
              "      border-radius: 50%;\n",
              "      cursor: pointer;\n",
              "      display: none;\n",
              "      fill: #1967D2;\n",
              "      height: 32px;\n",
              "      padding: 0 0 0 0;\n",
              "      width: 32px;\n",
              "    }\n",
              "\n",
              "    .colab-df-convert:hover {\n",
              "      background-color: #E2EBFA;\n",
              "      box-shadow: 0px 1px 2px rgba(60, 64, 67, 0.3), 0px 1px 3px 1px rgba(60, 64, 67, 0.15);\n",
              "      fill: #174EA6;\n",
              "    }\n",
              "\n",
              "    [theme=dark] .colab-df-convert {\n",
              "      background-color: #3B4455;\n",
              "      fill: #D2E3FC;\n",
              "    }\n",
              "\n",
              "    [theme=dark] .colab-df-convert:hover {\n",
              "      background-color: #434B5C;\n",
              "      box-shadow: 0px 1px 3px 1px rgba(0, 0, 0, 0.15);\n",
              "      filter: drop-shadow(0px 1px 2px rgba(0, 0, 0, 0.3));\n",
              "      fill: #FFFFFF;\n",
              "    }\n",
              "  </style>\n",
              "\n",
              "      <script>\n",
              "        const buttonEl =\n",
              "          document.querySelector('#df-d5d5ac1a-ed3d-437a-98e8-0bbe7e69f454 button.colab-df-convert');\n",
              "        buttonEl.style.display =\n",
              "          google.colab.kernel.accessAllowed ? 'block' : 'none';\n",
              "\n",
              "        async function convertToInteractive(key) {\n",
              "          const element = document.querySelector('#df-d5d5ac1a-ed3d-437a-98e8-0bbe7e69f454');\n",
              "          const dataTable =\n",
              "            await google.colab.kernel.invokeFunction('convertToInteractive',\n",
              "                                                     [key], {});\n",
              "          if (!dataTable) return;\n",
              "\n",
              "          const docLinkHtml = 'Like what you see? Visit the ' +\n",
              "            '<a target=\"_blank\" href=https://colab.research.google.com/notebooks/data_table.ipynb>data table notebook</a>'\n",
              "            + ' to learn more about interactive tables.';\n",
              "          element.innerHTML = '';\n",
              "          dataTable['output_type'] = 'display_data';\n",
              "          await google.colab.output.renderOutput(dataTable, element);\n",
              "          const docLink = document.createElement('div');\n",
              "          docLink.innerHTML = docLinkHtml;\n",
              "          element.appendChild(docLink);\n",
              "        }\n",
              "      </script>\n",
              "    </div>\n",
              "  </div>\n",
              "  "
            ],
            "text/plain": [
              "                  mass     radius   planet\n",
              "Ganymede  1.482000e+23  2634000.0  Jupiter\n",
              "Callisto  1.076000e+23        NaN  Jupiter\n",
              "Io        8.932000e+22  1822000.0  Jupiter\n",
              "Europa    4.800000e+22        NaN  Jupiter\n",
              "Moon      7.342000e+22  1737000.0    Earth"
            ]
          },
          "metadata": {},
          "execution_count": 68
        }
      ]
    },
    {
      "cell_type": "code",
      "metadata": {
        "id": "ETjaORPDlhmJ"
      },
      "source": [],
      "execution_count": null,
      "outputs": []
    },
    {
      "cell_type": "code",
      "metadata": {
        "colab": {
          "base_uri": "https://localhost:8080/",
          "height": 206
        },
        "id": "sMajm4dthvIx",
        "outputId": "5b10e5b9-d541-4153-9d90-c6df6ad3db85"
      },
      "source": [
        "# Podemos acessar mais de uma linha com o método .iloc[ ]\n",
        "\n",
        "Luas"
      ],
      "execution_count": null,
      "outputs": [
        {
          "output_type": "execute_result",
          "data": {
            "text/html": [
              "\n",
              "  <div id=\"df-afa2ca67-7885-4542-9df5-2109f33d5469\">\n",
              "    <div class=\"colab-df-container\">\n",
              "      <div>\n",
              "<style scoped>\n",
              "    .dataframe tbody tr th:only-of-type {\n",
              "        vertical-align: middle;\n",
              "    }\n",
              "\n",
              "    .dataframe tbody tr th {\n",
              "        vertical-align: top;\n",
              "    }\n",
              "\n",
              "    .dataframe thead th {\n",
              "        text-align: right;\n",
              "    }\n",
              "</style>\n",
              "<table border=\"1\" class=\"dataframe\">\n",
              "  <thead>\n",
              "    <tr style=\"text-align: right;\">\n",
              "      <th></th>\n",
              "      <th>mass</th>\n",
              "      <th>radius</th>\n",
              "      <th>planet</th>\n",
              "    </tr>\n",
              "  </thead>\n",
              "  <tbody>\n",
              "    <tr>\n",
              "      <th>Ganymede</th>\n",
              "      <td>1.482000e+23</td>\n",
              "      <td>2634000.0</td>\n",
              "      <td>Jupiter</td>\n",
              "    </tr>\n",
              "    <tr>\n",
              "      <th>Callisto</th>\n",
              "      <td>1.076000e+23</td>\n",
              "      <td>NaN</td>\n",
              "      <td>Jupiter</td>\n",
              "    </tr>\n",
              "    <tr>\n",
              "      <th>Io</th>\n",
              "      <td>8.932000e+22</td>\n",
              "      <td>1822000.0</td>\n",
              "      <td>Jupiter</td>\n",
              "    </tr>\n",
              "    <tr>\n",
              "      <th>Europa</th>\n",
              "      <td>4.800000e+22</td>\n",
              "      <td>NaN</td>\n",
              "      <td>Jupiter</td>\n",
              "    </tr>\n",
              "    <tr>\n",
              "      <th>Moon</th>\n",
              "      <td>7.342000e+22</td>\n",
              "      <td>1737000.0</td>\n",
              "      <td>Earth</td>\n",
              "    </tr>\n",
              "  </tbody>\n",
              "</table>\n",
              "</div>\n",
              "      <button class=\"colab-df-convert\" onclick=\"convertToInteractive('df-afa2ca67-7885-4542-9df5-2109f33d5469')\"\n",
              "              title=\"Convert this dataframe to an interactive table.\"\n",
              "              style=\"display:none;\">\n",
              "        \n",
              "  <svg xmlns=\"http://www.w3.org/2000/svg\" height=\"24px\"viewBox=\"0 0 24 24\"\n",
              "       width=\"24px\">\n",
              "    <path d=\"M0 0h24v24H0V0z\" fill=\"none\"/>\n",
              "    <path d=\"M18.56 5.44l.94 2.06.94-2.06 2.06-.94-2.06-.94-.94-2.06-.94 2.06-2.06.94zm-11 1L8.5 8.5l.94-2.06 2.06-.94-2.06-.94L8.5 2.5l-.94 2.06-2.06.94zm10 10l.94 2.06.94-2.06 2.06-.94-2.06-.94-.94-2.06-.94 2.06-2.06.94z\"/><path d=\"M17.41 7.96l-1.37-1.37c-.4-.4-.92-.59-1.43-.59-.52 0-1.04.2-1.43.59L10.3 9.45l-7.72 7.72c-.78.78-.78 2.05 0 2.83L4 21.41c.39.39.9.59 1.41.59.51 0 1.02-.2 1.41-.59l7.78-7.78 2.81-2.81c.8-.78.8-2.07 0-2.86zM5.41 20L4 18.59l7.72-7.72 1.47 1.35L5.41 20z\"/>\n",
              "  </svg>\n",
              "      </button>\n",
              "      \n",
              "  <style>\n",
              "    .colab-df-container {\n",
              "      display:flex;\n",
              "      flex-wrap:wrap;\n",
              "      gap: 12px;\n",
              "    }\n",
              "\n",
              "    .colab-df-convert {\n",
              "      background-color: #E8F0FE;\n",
              "      border: none;\n",
              "      border-radius: 50%;\n",
              "      cursor: pointer;\n",
              "      display: none;\n",
              "      fill: #1967D2;\n",
              "      height: 32px;\n",
              "      padding: 0 0 0 0;\n",
              "      width: 32px;\n",
              "    }\n",
              "\n",
              "    .colab-df-convert:hover {\n",
              "      background-color: #E2EBFA;\n",
              "      box-shadow: 0px 1px 2px rgba(60, 64, 67, 0.3), 0px 1px 3px 1px rgba(60, 64, 67, 0.15);\n",
              "      fill: #174EA6;\n",
              "    }\n",
              "\n",
              "    [theme=dark] .colab-df-convert {\n",
              "      background-color: #3B4455;\n",
              "      fill: #D2E3FC;\n",
              "    }\n",
              "\n",
              "    [theme=dark] .colab-df-convert:hover {\n",
              "      background-color: #434B5C;\n",
              "      box-shadow: 0px 1px 3px 1px rgba(0, 0, 0, 0.15);\n",
              "      filter: drop-shadow(0px 1px 2px rgba(0, 0, 0, 0.3));\n",
              "      fill: #FFFFFF;\n",
              "    }\n",
              "  </style>\n",
              "\n",
              "      <script>\n",
              "        const buttonEl =\n",
              "          document.querySelector('#df-afa2ca67-7885-4542-9df5-2109f33d5469 button.colab-df-convert');\n",
              "        buttonEl.style.display =\n",
              "          google.colab.kernel.accessAllowed ? 'block' : 'none';\n",
              "\n",
              "        async function convertToInteractive(key) {\n",
              "          const element = document.querySelector('#df-afa2ca67-7885-4542-9df5-2109f33d5469');\n",
              "          const dataTable =\n",
              "            await google.colab.kernel.invokeFunction('convertToInteractive',\n",
              "                                                     [key], {});\n",
              "          if (!dataTable) return;\n",
              "\n",
              "          const docLinkHtml = 'Like what you see? Visit the ' +\n",
              "            '<a target=\"_blank\" href=https://colab.research.google.com/notebooks/data_table.ipynb>data table notebook</a>'\n",
              "            + ' to learn more about interactive tables.';\n",
              "          element.innerHTML = '';\n",
              "          dataTable['output_type'] = 'display_data';\n",
              "          await google.colab.output.renderOutput(dataTable, element);\n",
              "          const docLink = document.createElement('div');\n",
              "          docLink.innerHTML = docLinkHtml;\n",
              "          element.appendChild(docLink);\n",
              "        }\n",
              "      </script>\n",
              "    </div>\n",
              "  </div>\n",
              "  "
            ],
            "text/plain": [
              "                  mass     radius   planet\n",
              "Ganymede  1.482000e+23  2634000.0  Jupiter\n",
              "Callisto  1.076000e+23        NaN  Jupiter\n",
              "Io        8.932000e+22  1822000.0  Jupiter\n",
              "Europa    4.800000e+22        NaN  Jupiter\n",
              "Moon      7.342000e+22  1737000.0    Earth"
            ]
          },
          "metadata": {},
          "execution_count": 69
        }
      ]
    },
    {
      "cell_type": "code",
      "metadata": {
        "colab": {
          "base_uri": "https://localhost:8080/",
          "height": 112
        },
        "id": "_Jy0T953hwfh",
        "outputId": "19913fe5-d0cb-4a9f-da24-5b1d818eaea2"
      },
      "source": [
        "Luas . iloc [ [0 , 1] ]    # Cuidado com a notação dos colchetes !   ( .iloc [LINHA] [COLUNA ] )\n",
        "\n",
        "                           # o ÚNICO parâmetro utilizado no método foi a lista [0,1] ( equivalente à ['Ganymede', 'Moon'] ) \n",
        "\n",
        "                           # Estamos pedindo acesso a linhas 0 ('Ganymede')  E a linha 1 ('Moon')\n",
        "\n"
      ],
      "execution_count": null,
      "outputs": [
        {
          "output_type": "execute_result",
          "data": {
            "text/html": [
              "\n",
              "  <div id=\"df-3253e72c-5247-4bda-a76d-2f169ca5b730\">\n",
              "    <div class=\"colab-df-container\">\n",
              "      <div>\n",
              "<style scoped>\n",
              "    .dataframe tbody tr th:only-of-type {\n",
              "        vertical-align: middle;\n",
              "    }\n",
              "\n",
              "    .dataframe tbody tr th {\n",
              "        vertical-align: top;\n",
              "    }\n",
              "\n",
              "    .dataframe thead th {\n",
              "        text-align: right;\n",
              "    }\n",
              "</style>\n",
              "<table border=\"1\" class=\"dataframe\">\n",
              "  <thead>\n",
              "    <tr style=\"text-align: right;\">\n",
              "      <th></th>\n",
              "      <th>mass</th>\n",
              "      <th>radius</th>\n",
              "      <th>planet</th>\n",
              "    </tr>\n",
              "  </thead>\n",
              "  <tbody>\n",
              "    <tr>\n",
              "      <th>Ganymede</th>\n",
              "      <td>1.482000e+23</td>\n",
              "      <td>2634000.0</td>\n",
              "      <td>Jupiter</td>\n",
              "    </tr>\n",
              "    <tr>\n",
              "      <th>Callisto</th>\n",
              "      <td>1.076000e+23</td>\n",
              "      <td>NaN</td>\n",
              "      <td>Jupiter</td>\n",
              "    </tr>\n",
              "  </tbody>\n",
              "</table>\n",
              "</div>\n",
              "      <button class=\"colab-df-convert\" onclick=\"convertToInteractive('df-3253e72c-5247-4bda-a76d-2f169ca5b730')\"\n",
              "              title=\"Convert this dataframe to an interactive table.\"\n",
              "              style=\"display:none;\">\n",
              "        \n",
              "  <svg xmlns=\"http://www.w3.org/2000/svg\" height=\"24px\"viewBox=\"0 0 24 24\"\n",
              "       width=\"24px\">\n",
              "    <path d=\"M0 0h24v24H0V0z\" fill=\"none\"/>\n",
              "    <path d=\"M18.56 5.44l.94 2.06.94-2.06 2.06-.94-2.06-.94-.94-2.06-.94 2.06-2.06.94zm-11 1L8.5 8.5l.94-2.06 2.06-.94-2.06-.94L8.5 2.5l-.94 2.06-2.06.94zm10 10l.94 2.06.94-2.06 2.06-.94-2.06-.94-.94-2.06-.94 2.06-2.06.94z\"/><path d=\"M17.41 7.96l-1.37-1.37c-.4-.4-.92-.59-1.43-.59-.52 0-1.04.2-1.43.59L10.3 9.45l-7.72 7.72c-.78.78-.78 2.05 0 2.83L4 21.41c.39.39.9.59 1.41.59.51 0 1.02-.2 1.41-.59l7.78-7.78 2.81-2.81c.8-.78.8-2.07 0-2.86zM5.41 20L4 18.59l7.72-7.72 1.47 1.35L5.41 20z\"/>\n",
              "  </svg>\n",
              "      </button>\n",
              "      \n",
              "  <style>\n",
              "    .colab-df-container {\n",
              "      display:flex;\n",
              "      flex-wrap:wrap;\n",
              "      gap: 12px;\n",
              "    }\n",
              "\n",
              "    .colab-df-convert {\n",
              "      background-color: #E8F0FE;\n",
              "      border: none;\n",
              "      border-radius: 50%;\n",
              "      cursor: pointer;\n",
              "      display: none;\n",
              "      fill: #1967D2;\n",
              "      height: 32px;\n",
              "      padding: 0 0 0 0;\n",
              "      width: 32px;\n",
              "    }\n",
              "\n",
              "    .colab-df-convert:hover {\n",
              "      background-color: #E2EBFA;\n",
              "      box-shadow: 0px 1px 2px rgba(60, 64, 67, 0.3), 0px 1px 3px 1px rgba(60, 64, 67, 0.15);\n",
              "      fill: #174EA6;\n",
              "    }\n",
              "\n",
              "    [theme=dark] .colab-df-convert {\n",
              "      background-color: #3B4455;\n",
              "      fill: #D2E3FC;\n",
              "    }\n",
              "\n",
              "    [theme=dark] .colab-df-convert:hover {\n",
              "      background-color: #434B5C;\n",
              "      box-shadow: 0px 1px 3px 1px rgba(0, 0, 0, 0.15);\n",
              "      filter: drop-shadow(0px 1px 2px rgba(0, 0, 0, 0.3));\n",
              "      fill: #FFFFFF;\n",
              "    }\n",
              "  </style>\n",
              "\n",
              "      <script>\n",
              "        const buttonEl =\n",
              "          document.querySelector('#df-3253e72c-5247-4bda-a76d-2f169ca5b730 button.colab-df-convert');\n",
              "        buttonEl.style.display =\n",
              "          google.colab.kernel.accessAllowed ? 'block' : 'none';\n",
              "\n",
              "        async function convertToInteractive(key) {\n",
              "          const element = document.querySelector('#df-3253e72c-5247-4bda-a76d-2f169ca5b730');\n",
              "          const dataTable =\n",
              "            await google.colab.kernel.invokeFunction('convertToInteractive',\n",
              "                                                     [key], {});\n",
              "          if (!dataTable) return;\n",
              "\n",
              "          const docLinkHtml = 'Like what you see? Visit the ' +\n",
              "            '<a target=\"_blank\" href=https://colab.research.google.com/notebooks/data_table.ipynb>data table notebook</a>'\n",
              "            + ' to learn more about interactive tables.';\n",
              "          element.innerHTML = '';\n",
              "          dataTable['output_type'] = 'display_data';\n",
              "          await google.colab.output.renderOutput(dataTable, element);\n",
              "          const docLink = document.createElement('div');\n",
              "          docLink.innerHTML = docLinkHtml;\n",
              "          element.appendChild(docLink);\n",
              "        }\n",
              "      </script>\n",
              "    </div>\n",
              "  </div>\n",
              "  "
            ],
            "text/plain": [
              "                  mass     radius   planet\n",
              "Ganymede  1.482000e+23  2634000.0  Jupiter\n",
              "Callisto  1.076000e+23        NaN  Jupiter"
            ]
          },
          "metadata": {},
          "execution_count": 70
        }
      ]
    },
    {
      "cell_type": "code",
      "metadata": {
        "id": "wzLzWf7Nhwma"
      },
      "source": [],
      "execution_count": null,
      "outputs": []
    },
    {
      "cell_type": "code",
      "metadata": {
        "colab": {
          "base_uri": "https://localhost:8080/",
          "height": 206
        },
        "id": "g_VQnjg9hwpQ",
        "outputId": "6a7ca5b6-6025-4829-923c-5e21f2c34553"
      },
      "source": [
        "# Podemos acessar uma única coluna com o método .iloc[ ]  \n",
        "\n",
        "Luas"
      ],
      "execution_count": null,
      "outputs": [
        {
          "output_type": "execute_result",
          "data": {
            "text/html": [
              "<div>\n",
              "<style scoped>\n",
              "    .dataframe tbody tr th:only-of-type {\n",
              "        vertical-align: middle;\n",
              "    }\n",
              "\n",
              "    .dataframe tbody tr th {\n",
              "        vertical-align: top;\n",
              "    }\n",
              "\n",
              "    .dataframe thead th {\n",
              "        text-align: right;\n",
              "    }\n",
              "</style>\n",
              "<table border=\"1\" class=\"dataframe\">\n",
              "  <thead>\n",
              "    <tr style=\"text-align: right;\">\n",
              "      <th></th>\n",
              "      <th>mass</th>\n",
              "      <th>radius</th>\n",
              "      <th>planet</th>\n",
              "    </tr>\n",
              "  </thead>\n",
              "  <tbody>\n",
              "    <tr>\n",
              "      <th>Ganymede</th>\n",
              "      <td>1.482000e+23</td>\n",
              "      <td>2634000.0</td>\n",
              "      <td>Jupiter</td>\n",
              "    </tr>\n",
              "    <tr>\n",
              "      <th>Callisto</th>\n",
              "      <td>1.076000e+23</td>\n",
              "      <td>NaN</td>\n",
              "      <td>Jupiter</td>\n",
              "    </tr>\n",
              "    <tr>\n",
              "      <th>Io</th>\n",
              "      <td>8.932000e+22</td>\n",
              "      <td>1822000.0</td>\n",
              "      <td>Jupiter</td>\n",
              "    </tr>\n",
              "    <tr>\n",
              "      <th>Europa</th>\n",
              "      <td>4.800000e+22</td>\n",
              "      <td>NaN</td>\n",
              "      <td>Jupiter</td>\n",
              "    </tr>\n",
              "    <tr>\n",
              "      <th>Moon</th>\n",
              "      <td>7.342000e+22</td>\n",
              "      <td>1737000.0</td>\n",
              "      <td>Earth</td>\n",
              "    </tr>\n",
              "  </tbody>\n",
              "</table>\n",
              "</div>"
            ],
            "text/plain": [
              "                  mass     radius   planet\n",
              "Ganymede  1.482000e+23  2634000.0  Jupiter\n",
              "Callisto  1.076000e+23        NaN  Jupiter\n",
              "Io        8.932000e+22  1822000.0  Jupiter\n",
              "Europa    4.800000e+22        NaN  Jupiter\n",
              "Moon      7.342000e+22  1737000.0    Earth"
            ]
          },
          "metadata": {},
          "execution_count": 66
        }
      ]
    },
    {
      "cell_type": "code",
      "metadata": {
        "colab": {
          "base_uri": "https://localhost:8080/",
          "height": 35
        },
        "id": "b9kCcskihwro",
        "outputId": "97d9e225-9f69-42f8-8e89-5de0d8691383"
      },
      "source": [
        "Luas . iloc[0 , 2]      # Cuidado com a notação dos colchetes!     ( .iloc [LINHA] [COLUNA ] )\n",
        "                                  \n",
        "                        # Foram utilizados DOIS parâmetros no método ( sendo eles 0 (LINHA 'Ganymede') e 2 ( COLUNA planet) )\n",
        "\n",
        "                        # Estamos pedindo acesso à LINHA 0 ('Ganymede') e, depois, pedindo a informação na COLUNA 2 ('planet')  \n",
        "\n",
        "                        # Equivalente à : Luas['planet'][0]   ( porém, nesse acesso, a notação é : dataframe [COLUNA] [LINHA]  )"
      ],
      "execution_count": null,
      "outputs": [
        {
          "output_type": "execute_result",
          "data": {
            "application/vnd.google.colaboratory.intrinsic+json": {
              "type": "string"
            },
            "text/plain": [
              "'Jupiter'"
            ]
          },
          "metadata": {},
          "execution_count": 79
        }
      ]
    },
    {
      "cell_type": "code",
      "metadata": {
        "colab": {
          "base_uri": "https://localhost:8080/",
          "height": 35
        },
        "id": "TGqiWY3vhwuf",
        "outputId": "73796c5c-d32d-4a69-a3a1-e1fb07c21c0a"
      },
      "source": [
        "Luas['planet']['Ganymede']       # Equivalente à Luas . iloc[0 , 2] ( porém, no .iloc[] a notação é :  dataframe . iloc [LINHA] [COLUNA] )"
      ],
      "execution_count": null,
      "outputs": [
        {
          "output_type": "execute_result",
          "data": {
            "application/vnd.google.colaboratory.intrinsic+json": {
              "type": "string"
            },
            "text/plain": [
              "'Jupiter'"
            ]
          },
          "metadata": {},
          "execution_count": 76
        }
      ]
    },
    {
      "cell_type": "code",
      "metadata": {
        "id": "HLfGrF4cFPuu"
      },
      "source": [],
      "execution_count": null,
      "outputs": []
    },
    {
      "cell_type": "code",
      "metadata": {
        "colab": {
          "base_uri": "https://localhost:8080/",
          "height": 206
        },
        "id": "vp6zVaZYFPzP",
        "outputId": "3c0911b3-44d8-434c-f4f8-b659a649fe55"
      },
      "source": [
        "# Podemos acessar mais de uma coluna com o método .iloc[ ]\n",
        "\n",
        "Luas"
      ],
      "execution_count": null,
      "outputs": [
        {
          "output_type": "execute_result",
          "data": {
            "text/html": [
              "\n",
              "  <div id=\"df-2753b47b-72bd-4264-ada2-3d36cec0f1e5\">\n",
              "    <div class=\"colab-df-container\">\n",
              "      <div>\n",
              "<style scoped>\n",
              "    .dataframe tbody tr th:only-of-type {\n",
              "        vertical-align: middle;\n",
              "    }\n",
              "\n",
              "    .dataframe tbody tr th {\n",
              "        vertical-align: top;\n",
              "    }\n",
              "\n",
              "    .dataframe thead th {\n",
              "        text-align: right;\n",
              "    }\n",
              "</style>\n",
              "<table border=\"1\" class=\"dataframe\">\n",
              "  <thead>\n",
              "    <tr style=\"text-align: right;\">\n",
              "      <th></th>\n",
              "      <th>mass</th>\n",
              "      <th>radius</th>\n",
              "      <th>planet</th>\n",
              "    </tr>\n",
              "  </thead>\n",
              "  <tbody>\n",
              "    <tr>\n",
              "      <th>Ganymede</th>\n",
              "      <td>1.482000e+23</td>\n",
              "      <td>2634000.0</td>\n",
              "      <td>Jupiter</td>\n",
              "    </tr>\n",
              "    <tr>\n",
              "      <th>Callisto</th>\n",
              "      <td>1.076000e+23</td>\n",
              "      <td>NaN</td>\n",
              "      <td>Jupiter</td>\n",
              "    </tr>\n",
              "    <tr>\n",
              "      <th>Io</th>\n",
              "      <td>8.932000e+22</td>\n",
              "      <td>1822000.0</td>\n",
              "      <td>Jupiter</td>\n",
              "    </tr>\n",
              "    <tr>\n",
              "      <th>Europa</th>\n",
              "      <td>4.800000e+22</td>\n",
              "      <td>NaN</td>\n",
              "      <td>Jupiter</td>\n",
              "    </tr>\n",
              "    <tr>\n",
              "      <th>Moon</th>\n",
              "      <td>7.342000e+22</td>\n",
              "      <td>1737000.0</td>\n",
              "      <td>Earth</td>\n",
              "    </tr>\n",
              "  </tbody>\n",
              "</table>\n",
              "</div>\n",
              "      <button class=\"colab-df-convert\" onclick=\"convertToInteractive('df-2753b47b-72bd-4264-ada2-3d36cec0f1e5')\"\n",
              "              title=\"Convert this dataframe to an interactive table.\"\n",
              "              style=\"display:none;\">\n",
              "        \n",
              "  <svg xmlns=\"http://www.w3.org/2000/svg\" height=\"24px\"viewBox=\"0 0 24 24\"\n",
              "       width=\"24px\">\n",
              "    <path d=\"M0 0h24v24H0V0z\" fill=\"none\"/>\n",
              "    <path d=\"M18.56 5.44l.94 2.06.94-2.06 2.06-.94-2.06-.94-.94-2.06-.94 2.06-2.06.94zm-11 1L8.5 8.5l.94-2.06 2.06-.94-2.06-.94L8.5 2.5l-.94 2.06-2.06.94zm10 10l.94 2.06.94-2.06 2.06-.94-2.06-.94-.94-2.06-.94 2.06-2.06.94z\"/><path d=\"M17.41 7.96l-1.37-1.37c-.4-.4-.92-.59-1.43-.59-.52 0-1.04.2-1.43.59L10.3 9.45l-7.72 7.72c-.78.78-.78 2.05 0 2.83L4 21.41c.39.39.9.59 1.41.59.51 0 1.02-.2 1.41-.59l7.78-7.78 2.81-2.81c.8-.78.8-2.07 0-2.86zM5.41 20L4 18.59l7.72-7.72 1.47 1.35L5.41 20z\"/>\n",
              "  </svg>\n",
              "      </button>\n",
              "      \n",
              "  <style>\n",
              "    .colab-df-container {\n",
              "      display:flex;\n",
              "      flex-wrap:wrap;\n",
              "      gap: 12px;\n",
              "    }\n",
              "\n",
              "    .colab-df-convert {\n",
              "      background-color: #E8F0FE;\n",
              "      border: none;\n",
              "      border-radius: 50%;\n",
              "      cursor: pointer;\n",
              "      display: none;\n",
              "      fill: #1967D2;\n",
              "      height: 32px;\n",
              "      padding: 0 0 0 0;\n",
              "      width: 32px;\n",
              "    }\n",
              "\n",
              "    .colab-df-convert:hover {\n",
              "      background-color: #E2EBFA;\n",
              "      box-shadow: 0px 1px 2px rgba(60, 64, 67, 0.3), 0px 1px 3px 1px rgba(60, 64, 67, 0.15);\n",
              "      fill: #174EA6;\n",
              "    }\n",
              "\n",
              "    [theme=dark] .colab-df-convert {\n",
              "      background-color: #3B4455;\n",
              "      fill: #D2E3FC;\n",
              "    }\n",
              "\n",
              "    [theme=dark] .colab-df-convert:hover {\n",
              "      background-color: #434B5C;\n",
              "      box-shadow: 0px 1px 3px 1px rgba(0, 0, 0, 0.15);\n",
              "      filter: drop-shadow(0px 1px 2px rgba(0, 0, 0, 0.3));\n",
              "      fill: #FFFFFF;\n",
              "    }\n",
              "  </style>\n",
              "\n",
              "      <script>\n",
              "        const buttonEl =\n",
              "          document.querySelector('#df-2753b47b-72bd-4264-ada2-3d36cec0f1e5 button.colab-df-convert');\n",
              "        buttonEl.style.display =\n",
              "          google.colab.kernel.accessAllowed ? 'block' : 'none';\n",
              "\n",
              "        async function convertToInteractive(key) {\n",
              "          const element = document.querySelector('#df-2753b47b-72bd-4264-ada2-3d36cec0f1e5');\n",
              "          const dataTable =\n",
              "            await google.colab.kernel.invokeFunction('convertToInteractive',\n",
              "                                                     [key], {});\n",
              "          if (!dataTable) return;\n",
              "\n",
              "          const docLinkHtml = 'Like what you see? Visit the ' +\n",
              "            '<a target=\"_blank\" href=https://colab.research.google.com/notebooks/data_table.ipynb>data table notebook</a>'\n",
              "            + ' to learn more about interactive tables.';\n",
              "          element.innerHTML = '';\n",
              "          dataTable['output_type'] = 'display_data';\n",
              "          await google.colab.output.renderOutput(dataTable, element);\n",
              "          const docLink = document.createElement('div');\n",
              "          docLink.innerHTML = docLinkHtml;\n",
              "          element.appendChild(docLink);\n",
              "        }\n",
              "      </script>\n",
              "    </div>\n",
              "  </div>\n",
              "  "
            ],
            "text/plain": [
              "                  mass     radius   planet\n",
              "Ganymede  1.482000e+23  2634000.0  Jupiter\n",
              "Callisto  1.076000e+23        NaN  Jupiter\n",
              "Io        8.932000e+22  1822000.0  Jupiter\n",
              "Europa    4.800000e+22        NaN  Jupiter\n",
              "Moon      7.342000e+22  1737000.0    Earth"
            ]
          },
          "metadata": {},
          "execution_count": 80
        }
      ]
    },
    {
      "cell_type": "code",
      "metadata": {
        "colab": {
          "base_uri": "https://localhost:8080/"
        },
        "id": "rn9v0Z9ZFP2q",
        "outputId": "696392dd-e265-43ef-e387-913b9db88c5c"
      },
      "source": [
        "Luas . iloc[0 , [ 0 , 1] ]   # Cuidado com a notação dos colchetes!    ( .iloc [LINHA] [COLUNA ] )\n",
        "                                               \n",
        "                             # Foram utilizados DOIS parâmetros no método ( sendo eles 0 ('Ganymede') e a lista [0,1] , referente à ['mass','radius'] \n",
        "\n",
        "                             # Estamos pedindo acesso à LINHA 0 ('Ganymede') e, depois, pedindo a informação nas COLUNAS 0 e 1:  'mass' e 'radius' (de Ganymede)"
      ],
      "execution_count": null,
      "outputs": [
        {
          "output_type": "execute_result",
          "data": {
            "text/plain": [
              "mass      1.482e+23\n",
              "radius    2.634e+06\n",
              "Name: Ganymede, dtype: object"
            ]
          },
          "metadata": {},
          "execution_count": 81
        }
      ]
    },
    {
      "cell_type": "code",
      "metadata": {
        "id": "rBf5_Od7FP6J"
      },
      "source": [],
      "execution_count": null,
      "outputs": []
    },
    {
      "cell_type": "code",
      "metadata": {
        "colab": {
          "base_uri": "https://localhost:8080/",
          "height": 206
        },
        "id": "IIajf8qCFP9q",
        "outputId": "90058a2f-ef97-499d-9c7b-c612e86ade06"
      },
      "source": [
        "# Podemos acessar linhas e colunas arbitrariamente\n",
        "\n",
        "Luas"
      ],
      "execution_count": null,
      "outputs": [
        {
          "output_type": "execute_result",
          "data": {
            "text/html": [
              "\n",
              "  <div id=\"df-02943490-5793-4ec4-a8a6-a0404555a1bd\">\n",
              "    <div class=\"colab-df-container\">\n",
              "      <div>\n",
              "<style scoped>\n",
              "    .dataframe tbody tr th:only-of-type {\n",
              "        vertical-align: middle;\n",
              "    }\n",
              "\n",
              "    .dataframe tbody tr th {\n",
              "        vertical-align: top;\n",
              "    }\n",
              "\n",
              "    .dataframe thead th {\n",
              "        text-align: right;\n",
              "    }\n",
              "</style>\n",
              "<table border=\"1\" class=\"dataframe\">\n",
              "  <thead>\n",
              "    <tr style=\"text-align: right;\">\n",
              "      <th></th>\n",
              "      <th>mass</th>\n",
              "      <th>radius</th>\n",
              "      <th>planet</th>\n",
              "    </tr>\n",
              "  </thead>\n",
              "  <tbody>\n",
              "    <tr>\n",
              "      <th>Ganymede</th>\n",
              "      <td>1.482000e+23</td>\n",
              "      <td>2634000.0</td>\n",
              "      <td>Jupiter</td>\n",
              "    </tr>\n",
              "    <tr>\n",
              "      <th>Callisto</th>\n",
              "      <td>1.076000e+23</td>\n",
              "      <td>NaN</td>\n",
              "      <td>Jupiter</td>\n",
              "    </tr>\n",
              "    <tr>\n",
              "      <th>Io</th>\n",
              "      <td>8.932000e+22</td>\n",
              "      <td>1822000.0</td>\n",
              "      <td>Jupiter</td>\n",
              "    </tr>\n",
              "    <tr>\n",
              "      <th>Europa</th>\n",
              "      <td>4.800000e+22</td>\n",
              "      <td>NaN</td>\n",
              "      <td>Jupiter</td>\n",
              "    </tr>\n",
              "    <tr>\n",
              "      <th>Moon</th>\n",
              "      <td>7.342000e+22</td>\n",
              "      <td>1737000.0</td>\n",
              "      <td>Earth</td>\n",
              "    </tr>\n",
              "  </tbody>\n",
              "</table>\n",
              "</div>\n",
              "      <button class=\"colab-df-convert\" onclick=\"convertToInteractive('df-02943490-5793-4ec4-a8a6-a0404555a1bd')\"\n",
              "              title=\"Convert this dataframe to an interactive table.\"\n",
              "              style=\"display:none;\">\n",
              "        \n",
              "  <svg xmlns=\"http://www.w3.org/2000/svg\" height=\"24px\"viewBox=\"0 0 24 24\"\n",
              "       width=\"24px\">\n",
              "    <path d=\"M0 0h24v24H0V0z\" fill=\"none\"/>\n",
              "    <path d=\"M18.56 5.44l.94 2.06.94-2.06 2.06-.94-2.06-.94-.94-2.06-.94 2.06-2.06.94zm-11 1L8.5 8.5l.94-2.06 2.06-.94-2.06-.94L8.5 2.5l-.94 2.06-2.06.94zm10 10l.94 2.06.94-2.06 2.06-.94-2.06-.94-.94-2.06-.94 2.06-2.06.94z\"/><path d=\"M17.41 7.96l-1.37-1.37c-.4-.4-.92-.59-1.43-.59-.52 0-1.04.2-1.43.59L10.3 9.45l-7.72 7.72c-.78.78-.78 2.05 0 2.83L4 21.41c.39.39.9.59 1.41.59.51 0 1.02-.2 1.41-.59l7.78-7.78 2.81-2.81c.8-.78.8-2.07 0-2.86zM5.41 20L4 18.59l7.72-7.72 1.47 1.35L5.41 20z\"/>\n",
              "  </svg>\n",
              "      </button>\n",
              "      \n",
              "  <style>\n",
              "    .colab-df-container {\n",
              "      display:flex;\n",
              "      flex-wrap:wrap;\n",
              "      gap: 12px;\n",
              "    }\n",
              "\n",
              "    .colab-df-convert {\n",
              "      background-color: #E8F0FE;\n",
              "      border: none;\n",
              "      border-radius: 50%;\n",
              "      cursor: pointer;\n",
              "      display: none;\n",
              "      fill: #1967D2;\n",
              "      height: 32px;\n",
              "      padding: 0 0 0 0;\n",
              "      width: 32px;\n",
              "    }\n",
              "\n",
              "    .colab-df-convert:hover {\n",
              "      background-color: #E2EBFA;\n",
              "      box-shadow: 0px 1px 2px rgba(60, 64, 67, 0.3), 0px 1px 3px 1px rgba(60, 64, 67, 0.15);\n",
              "      fill: #174EA6;\n",
              "    }\n",
              "\n",
              "    [theme=dark] .colab-df-convert {\n",
              "      background-color: #3B4455;\n",
              "      fill: #D2E3FC;\n",
              "    }\n",
              "\n",
              "    [theme=dark] .colab-df-convert:hover {\n",
              "      background-color: #434B5C;\n",
              "      box-shadow: 0px 1px 3px 1px rgba(0, 0, 0, 0.15);\n",
              "      filter: drop-shadow(0px 1px 2px rgba(0, 0, 0, 0.3));\n",
              "      fill: #FFFFFF;\n",
              "    }\n",
              "  </style>\n",
              "\n",
              "      <script>\n",
              "        const buttonEl =\n",
              "          document.querySelector('#df-02943490-5793-4ec4-a8a6-a0404555a1bd button.colab-df-convert');\n",
              "        buttonEl.style.display =\n",
              "          google.colab.kernel.accessAllowed ? 'block' : 'none';\n",
              "\n",
              "        async function convertToInteractive(key) {\n",
              "          const element = document.querySelector('#df-02943490-5793-4ec4-a8a6-a0404555a1bd');\n",
              "          const dataTable =\n",
              "            await google.colab.kernel.invokeFunction('convertToInteractive',\n",
              "                                                     [key], {});\n",
              "          if (!dataTable) return;\n",
              "\n",
              "          const docLinkHtml = 'Like what you see? Visit the ' +\n",
              "            '<a target=\"_blank\" href=https://colab.research.google.com/notebooks/data_table.ipynb>data table notebook</a>'\n",
              "            + ' to learn more about interactive tables.';\n",
              "          element.innerHTML = '';\n",
              "          dataTable['output_type'] = 'display_data';\n",
              "          await google.colab.output.renderOutput(dataTable, element);\n",
              "          const docLink = document.createElement('div');\n",
              "          docLink.innerHTML = docLinkHtml;\n",
              "          element.appendChild(docLink);\n",
              "        }\n",
              "      </script>\n",
              "    </div>\n",
              "  </div>\n",
              "  "
            ],
            "text/plain": [
              "                  mass     radius   planet\n",
              "Ganymede  1.482000e+23  2634000.0  Jupiter\n",
              "Callisto  1.076000e+23        NaN  Jupiter\n",
              "Io        8.932000e+22  1822000.0  Jupiter\n",
              "Europa    4.800000e+22        NaN  Jupiter\n",
              "Moon      7.342000e+22  1737000.0    Earth"
            ]
          },
          "metadata": {},
          "execution_count": 82
        }
      ]
    },
    {
      "cell_type": "code",
      "metadata": {
        "colab": {
          "base_uri": "https://localhost:8080/",
          "height": 112
        },
        "id": "5tm4aJawHBGH",
        "outputId": "4f4ceaf2-486c-411c-fb4c-88ddd94246b9"
      },
      "source": [
        "Luas . iloc [ [0 , 2] , [0 , 1] ]    # Cuidado com a notação dos colchetes!    ( .iloc [LINHA] [COLUNA ] ) \n",
        "\n",
        "                                     # Foram utilizados DOIS parâmetros no método ( sendo eles a lista [0,2]                                                                                                                                                                                                                                                                                                                                                                                                                                                              ( Ganymede e Io ) e a lista [0,1] ( mass e radius ) ) \n",
        "\n",
        "                                     # Estamos pedindo acesso às linhas 'Ganymede' e 'Io' e, depois, pedindo as informações nas colunas 'mass' e 'radius'"
      ],
      "execution_count": null,
      "outputs": [
        {
          "output_type": "execute_result",
          "data": {
            "text/html": [
              "\n",
              "  <div id=\"df-b605e6c6-613e-4dc4-8a05-05b5641a0580\">\n",
              "    <div class=\"colab-df-container\">\n",
              "      <div>\n",
              "<style scoped>\n",
              "    .dataframe tbody tr th:only-of-type {\n",
              "        vertical-align: middle;\n",
              "    }\n",
              "\n",
              "    .dataframe tbody tr th {\n",
              "        vertical-align: top;\n",
              "    }\n",
              "\n",
              "    .dataframe thead th {\n",
              "        text-align: right;\n",
              "    }\n",
              "</style>\n",
              "<table border=\"1\" class=\"dataframe\">\n",
              "  <thead>\n",
              "    <tr style=\"text-align: right;\">\n",
              "      <th></th>\n",
              "      <th>mass</th>\n",
              "      <th>radius</th>\n",
              "    </tr>\n",
              "  </thead>\n",
              "  <tbody>\n",
              "    <tr>\n",
              "      <th>Ganymede</th>\n",
              "      <td>1.482000e+23</td>\n",
              "      <td>2634000.0</td>\n",
              "    </tr>\n",
              "    <tr>\n",
              "      <th>Io</th>\n",
              "      <td>8.932000e+22</td>\n",
              "      <td>1822000.0</td>\n",
              "    </tr>\n",
              "  </tbody>\n",
              "</table>\n",
              "</div>\n",
              "      <button class=\"colab-df-convert\" onclick=\"convertToInteractive('df-b605e6c6-613e-4dc4-8a05-05b5641a0580')\"\n",
              "              title=\"Convert this dataframe to an interactive table.\"\n",
              "              style=\"display:none;\">\n",
              "        \n",
              "  <svg xmlns=\"http://www.w3.org/2000/svg\" height=\"24px\"viewBox=\"0 0 24 24\"\n",
              "       width=\"24px\">\n",
              "    <path d=\"M0 0h24v24H0V0z\" fill=\"none\"/>\n",
              "    <path d=\"M18.56 5.44l.94 2.06.94-2.06 2.06-.94-2.06-.94-.94-2.06-.94 2.06-2.06.94zm-11 1L8.5 8.5l.94-2.06 2.06-.94-2.06-.94L8.5 2.5l-.94 2.06-2.06.94zm10 10l.94 2.06.94-2.06 2.06-.94-2.06-.94-.94-2.06-.94 2.06-2.06.94z\"/><path d=\"M17.41 7.96l-1.37-1.37c-.4-.4-.92-.59-1.43-.59-.52 0-1.04.2-1.43.59L10.3 9.45l-7.72 7.72c-.78.78-.78 2.05 0 2.83L4 21.41c.39.39.9.59 1.41.59.51 0 1.02-.2 1.41-.59l7.78-7.78 2.81-2.81c.8-.78.8-2.07 0-2.86zM5.41 20L4 18.59l7.72-7.72 1.47 1.35L5.41 20z\"/>\n",
              "  </svg>\n",
              "      </button>\n",
              "      \n",
              "  <style>\n",
              "    .colab-df-container {\n",
              "      display:flex;\n",
              "      flex-wrap:wrap;\n",
              "      gap: 12px;\n",
              "    }\n",
              "\n",
              "    .colab-df-convert {\n",
              "      background-color: #E8F0FE;\n",
              "      border: none;\n",
              "      border-radius: 50%;\n",
              "      cursor: pointer;\n",
              "      display: none;\n",
              "      fill: #1967D2;\n",
              "      height: 32px;\n",
              "      padding: 0 0 0 0;\n",
              "      width: 32px;\n",
              "    }\n",
              "\n",
              "    .colab-df-convert:hover {\n",
              "      background-color: #E2EBFA;\n",
              "      box-shadow: 0px 1px 2px rgba(60, 64, 67, 0.3), 0px 1px 3px 1px rgba(60, 64, 67, 0.15);\n",
              "      fill: #174EA6;\n",
              "    }\n",
              "\n",
              "    [theme=dark] .colab-df-convert {\n",
              "      background-color: #3B4455;\n",
              "      fill: #D2E3FC;\n",
              "    }\n",
              "\n",
              "    [theme=dark] .colab-df-convert:hover {\n",
              "      background-color: #434B5C;\n",
              "      box-shadow: 0px 1px 3px 1px rgba(0, 0, 0, 0.15);\n",
              "      filter: drop-shadow(0px 1px 2px rgba(0, 0, 0, 0.3));\n",
              "      fill: #FFFFFF;\n",
              "    }\n",
              "  </style>\n",
              "\n",
              "      <script>\n",
              "        const buttonEl =\n",
              "          document.querySelector('#df-b605e6c6-613e-4dc4-8a05-05b5641a0580 button.colab-df-convert');\n",
              "        buttonEl.style.display =\n",
              "          google.colab.kernel.accessAllowed ? 'block' : 'none';\n",
              "\n",
              "        async function convertToInteractive(key) {\n",
              "          const element = document.querySelector('#df-b605e6c6-613e-4dc4-8a05-05b5641a0580');\n",
              "          const dataTable =\n",
              "            await google.colab.kernel.invokeFunction('convertToInteractive',\n",
              "                                                     [key], {});\n",
              "          if (!dataTable) return;\n",
              "\n",
              "          const docLinkHtml = 'Like what you see? Visit the ' +\n",
              "            '<a target=\"_blank\" href=https://colab.research.google.com/notebooks/data_table.ipynb>data table notebook</a>'\n",
              "            + ' to learn more about interactive tables.';\n",
              "          element.innerHTML = '';\n",
              "          dataTable['output_type'] = 'display_data';\n",
              "          await google.colab.output.renderOutput(dataTable, element);\n",
              "          const docLink = document.createElement('div');\n",
              "          docLink.innerHTML = docLinkHtml;\n",
              "          element.appendChild(docLink);\n",
              "        }\n",
              "      </script>\n",
              "    </div>\n",
              "  </div>\n",
              "  "
            ],
            "text/plain": [
              "                  mass     radius\n",
              "Ganymede  1.482000e+23  2634000.0\n",
              "Io        8.932000e+22  1822000.0"
            ]
          },
          "metadata": {},
          "execution_count": 83
        }
      ]
    },
    {
      "cell_type": "code",
      "metadata": {
        "id": "SvCiD1AsHBKH"
      },
      "source": [
        "                                          "
      ],
      "execution_count": null,
      "outputs": []
    },
    {
      "cell_type": "code",
      "metadata": {
        "id": "h5v0QjQoHBNl"
      },
      "source": [],
      "execution_count": null,
      "outputs": []
    },
    {
      "cell_type": "markdown",
      "metadata": {
        "id": "hanOL4mu1877"
      },
      "source": [
        "### Multi Index\n",
        "\n",
        "https://pandas.pydata.org/pandas-docs/stable/user_guide/advanced.html"
      ]
    },
    {
      "cell_type": "code",
      "metadata": {
        "id": "dqrPcR0C2BKP"
      },
      "source": [
        "import pandas as pd"
      ],
      "execution_count": null,
      "outputs": []
    },
    {
      "cell_type": "code",
      "source": [
        "cidades = ('Paris','Berlin','Viena','Londres','Madri')\n",
        "meses = ('Jan','Abr','Jul','Out')"
      ],
      "metadata": {
        "id": "CZejPXI_aguh"
      },
      "execution_count": null,
      "outputs": []
    },
    {
      "cell_type": "code",
      "source": [
        "index = pd.MultiIndex.from_product((cidades,meses))  # Cria o multi index (MultiIndex) \n",
        "                                                     # a partir do produto cartesiano (.from_product) entre os dados parametro\n",
        "index                        "
      ],
      "metadata": {
        "id": "7kNjA07kavc6"
      },
      "execution_count": null,
      "outputs": []
    },
    {
      "cell_type": "code",
      "source": [
        "# Outros construtores\n",
        "\n",
        "MultiIndex.from_arrays(arrays[, sortorder, ...])   # Convert arrays to MultiIndex.\n",
        "\n",
        "MultiIndex.from_tuples(tuples[, sortorder, ...])   # Convert list of tuples to MultiIndex.\n",
        "\n",
        "MultiIndex.from_product(iterables[, ...])          # Make a MultiIndex from the cartesian product of multiple iterables.\n",
        "\n",
        "MultiIndex.from_frame(df[, sortorder, names])      # Make a MultiIndex from a DataFrame."
      ],
      "metadata": {
        "id": "ge_IbIFyavkX"
      },
      "execution_count": null,
      "outputs": []
    },
    {
      "cell_type": "code",
      "source": [
        "temps = [[4.9, 11.5, 20.5, 13.0], [0.1, 9.0, 19.1, 9.4] ,\n",
        "         [0.3, 10.7, 20.8, 10.2], [5.2 , 9.9 , 18.7 , 12.0] ,\n",
        "         [6.3, 12.9, 25.6 , 15.1]] \n",
        "temps"
      ],
      "metadata": {
        "colab": {
          "base_uri": "https://localhost:8080/"
        },
        "id": "VPG0tpKoiTVV",
        "outputId": "919b936f-48fa-4fa7-9634-4d6ab6b6d50f"
      },
      "execution_count": null,
      "outputs": [
        {
          "output_type": "execute_result",
          "data": {
            "text/plain": [
              "[[4.9, 11.5, 20.5, 13.0],\n",
              " [0.1, 9.0, 19.1, 9.4],\n",
              " [0.3, 10.7, 20.8, 10.2],\n",
              " [5.2, 9.9, 18.7, 12.0],\n",
              " [6.3, 12.9, 25.6, 15.1]]"
            ]
          },
          "metadata": {},
          "execution_count": 13
        }
      ]
    },
    {
      "cell_type": "code",
      "source": [
        "chuvas = [[51.0, 51.8, 62.3, 61.5], [37.2, 33.7, 52.5, 32.2],\n",
        "         [38., 45., 70., 38.], [55.2, 43.7, 44.5, 68.5] ,\n",
        "         [33., 45., 12., 60.]]"
      ],
      "metadata": {
        "id": "JSqKkyMniTW4"
      },
      "execution_count": null,
      "outputs": []
    },
    {
      "cell_type": "code",
      "source": [
        "import numpy as np\n",
        "\n",
        "arr = np.array((temps, chuvas))\n",
        "arr.shape"
      ],
      "metadata": {
        "colab": {
          "base_uri": "https://localhost:8080/"
        },
        "id": "KaQANntniTaR",
        "outputId": "b064a721-bbf1-4316-a1b3-9276b1501884"
      },
      "execution_count": null,
      "outputs": [
        {
          "output_type": "execute_result",
          "data": {
            "text/plain": [
              "(2, 5, 4)"
            ]
          },
          "metadata": {},
          "execution_count": 16
        }
      ]
    },
    {
      "cell_type": "code",
      "source": [
        "#reshape e transpose\n",
        "arr1 = arr.reshape((2,20)).T\n",
        "arr1"
      ],
      "metadata": {
        "colab": {
          "base_uri": "https://localhost:8080/"
        },
        "id": "HF_NimBYjE_1",
        "outputId": "c5e3177c-38ba-413f-a088-7ba904b253ab"
      },
      "execution_count": null,
      "outputs": [
        {
          "output_type": "execute_result",
          "data": {
            "text/plain": [
              "array([[ 4.9, 51. ],\n",
              "       [11.5, 51.8],\n",
              "       [20.5, 62.3],\n",
              "       [13. , 61.5],\n",
              "       [ 0.1, 37.2],\n",
              "       [ 9. , 33.7],\n",
              "       [19.1, 52.5],\n",
              "       [ 9.4, 32.2],\n",
              "       [ 0.3, 38. ],\n",
              "       [10.7, 45. ],\n",
              "       [20.8, 70. ],\n",
              "       [10.2, 38. ],\n",
              "       [ 5.2, 55.2],\n",
              "       [ 9.9, 43.7],\n",
              "       [18.7, 44.5],\n",
              "       [12. , 68.5],\n",
              "       [ 6.3, 33. ],\n",
              "       [12.9, 45. ],\n",
              "       [25.6, 12. ],\n",
              "       [15.1, 60. ]])"
            ]
          },
          "metadata": {},
          "execution_count": 17
        }
      ]
    },
    {
      "cell_type": "code",
      "source": [
        "df3 = pd.DataFrame(arr1,index=index,columns=['Temp Media','Chuva'])\n",
        "df3"
      ],
      "metadata": {
        "colab": {
          "base_uri": "https://localhost:8080/",
          "height": 345
        },
        "id": "3X9Hf75XjFCt",
        "outputId": "8552d64d-eee9-4ddd-934d-5d1fba5259e6"
      },
      "execution_count": null,
      "outputs": [
        {
          "output_type": "error",
          "ename": "ValueError",
          "evalue": "ignored",
          "traceback": [
            "\u001b[0;31m---------------------------------------------------------------------------\u001b[0m",
            "\u001b[0;31mValueError\u001b[0m                                Traceback (most recent call last)",
            "\u001b[0;32m<ipython-input-18-205b3192a974>\u001b[0m in \u001b[0;36m<module>\u001b[0;34m()\u001b[0m\n\u001b[0;32m----> 1\u001b[0;31m \u001b[0mdf3\u001b[0m \u001b[0;34m=\u001b[0m \u001b[0mpd\u001b[0m\u001b[0;34m.\u001b[0m\u001b[0mDataFrame\u001b[0m\u001b[0;34m(\u001b[0m\u001b[0marr1\u001b[0m\u001b[0;34m,\u001b[0m\u001b[0mindex\u001b[0m\u001b[0;34m=\u001b[0m\u001b[0mindex\u001b[0m\u001b[0;34m,\u001b[0m\u001b[0mcolumns\u001b[0m\u001b[0;34m=\u001b[0m\u001b[0;34m[\u001b[0m\u001b[0;34m'Temp Media'\u001b[0m\u001b[0;34m,\u001b[0m\u001b[0;34m'Chuva'\u001b[0m\u001b[0;34m]\u001b[0m\u001b[0;34m)\u001b[0m\u001b[0;34m\u001b[0m\u001b[0;34m\u001b[0m\u001b[0m\n\u001b[0m\u001b[1;32m      2\u001b[0m \u001b[0mdf3\u001b[0m\u001b[0;34m\u001b[0m\u001b[0;34m\u001b[0m\u001b[0m\n",
            "\u001b[0;32m/usr/local/lib/python3.7/dist-packages/pandas/core/frame.py\u001b[0m in \u001b[0;36m__init__\u001b[0;34m(self, data, index, columns, dtype, copy)\u001b[0m\n\u001b[1;32m    676\u001b[0m                     \u001b[0mdtype\u001b[0m\u001b[0;34m=\u001b[0m\u001b[0mdtype\u001b[0m\u001b[0;34m,\u001b[0m\u001b[0;34m\u001b[0m\u001b[0;34m\u001b[0m\u001b[0m\n\u001b[1;32m    677\u001b[0m                     \u001b[0mcopy\u001b[0m\u001b[0;34m=\u001b[0m\u001b[0mcopy\u001b[0m\u001b[0;34m,\u001b[0m\u001b[0;34m\u001b[0m\u001b[0;34m\u001b[0m\u001b[0m\n\u001b[0;32m--> 678\u001b[0;31m                     \u001b[0mtyp\u001b[0m\u001b[0;34m=\u001b[0m\u001b[0mmanager\u001b[0m\u001b[0;34m,\u001b[0m\u001b[0;34m\u001b[0m\u001b[0;34m\u001b[0m\u001b[0m\n\u001b[0m\u001b[1;32m    679\u001b[0m                 )\n\u001b[1;32m    680\u001b[0m \u001b[0;34m\u001b[0m\u001b[0m\n",
            "\u001b[0;32m/usr/local/lib/python3.7/dist-packages/pandas/core/internals/construction.py\u001b[0m in \u001b[0;36mndarray_to_mgr\u001b[0;34m(values, index, columns, dtype, copy, typ)\u001b[0m\n\u001b[1;32m    322\u001b[0m     )\n\u001b[1;32m    323\u001b[0m \u001b[0;34m\u001b[0m\u001b[0m\n\u001b[0;32m--> 324\u001b[0;31m     \u001b[0m_check_values_indices_shape_match\u001b[0m\u001b[0;34m(\u001b[0m\u001b[0mvalues\u001b[0m\u001b[0;34m,\u001b[0m \u001b[0mindex\u001b[0m\u001b[0;34m,\u001b[0m \u001b[0mcolumns\u001b[0m\u001b[0;34m)\u001b[0m\u001b[0;34m\u001b[0m\u001b[0;34m\u001b[0m\u001b[0m\n\u001b[0m\u001b[1;32m    325\u001b[0m \u001b[0;34m\u001b[0m\u001b[0m\n\u001b[1;32m    326\u001b[0m     \u001b[0;32mif\u001b[0m \u001b[0mtyp\u001b[0m \u001b[0;34m==\u001b[0m \u001b[0;34m\"array\"\u001b[0m\u001b[0;34m:\u001b[0m\u001b[0;34m\u001b[0m\u001b[0;34m\u001b[0m\u001b[0m\n",
            "\u001b[0;32m/usr/local/lib/python3.7/dist-packages/pandas/core/internals/construction.py\u001b[0m in \u001b[0;36m_check_values_indices_shape_match\u001b[0;34m(values, index, columns)\u001b[0m\n\u001b[1;32m    391\u001b[0m         \u001b[0mpassed\u001b[0m \u001b[0;34m=\u001b[0m \u001b[0mvalues\u001b[0m\u001b[0;34m.\u001b[0m\u001b[0mshape\u001b[0m\u001b[0;34m\u001b[0m\u001b[0;34m\u001b[0m\u001b[0m\n\u001b[1;32m    392\u001b[0m         \u001b[0mimplied\u001b[0m \u001b[0;34m=\u001b[0m \u001b[0;34m(\u001b[0m\u001b[0mlen\u001b[0m\u001b[0;34m(\u001b[0m\u001b[0mindex\u001b[0m\u001b[0;34m)\u001b[0m\u001b[0;34m,\u001b[0m \u001b[0mlen\u001b[0m\u001b[0;34m(\u001b[0m\u001b[0mcolumns\u001b[0m\u001b[0;34m)\u001b[0m\u001b[0;34m)\u001b[0m\u001b[0;34m\u001b[0m\u001b[0;34m\u001b[0m\u001b[0m\n\u001b[0;32m--> 393\u001b[0;31m         \u001b[0;32mraise\u001b[0m \u001b[0mValueError\u001b[0m\u001b[0;34m(\u001b[0m\u001b[0;34mf\"Shape of passed values is {passed}, indices imply {implied}\"\u001b[0m\u001b[0;34m)\u001b[0m\u001b[0;34m\u001b[0m\u001b[0;34m\u001b[0m\u001b[0m\n\u001b[0m\u001b[1;32m    394\u001b[0m \u001b[0;34m\u001b[0m\u001b[0m\n\u001b[1;32m    395\u001b[0m \u001b[0;34m\u001b[0m\u001b[0m\n",
            "\u001b[0;31mValueError\u001b[0m: Shape of passed values is (20, 2), indices imply (25, 2)"
          ]
        }
      ]
    },
    {
      "cell_type": "code",
      "source": [],
      "metadata": {
        "id": "cvZroYBmjFGI"
      },
      "execution_count": null,
      "outputs": []
    },
    {
      "cell_type": "code",
      "source": [],
      "metadata": {
        "id": "EzLLUroFjFId"
      },
      "execution_count": null,
      "outputs": []
    },
    {
      "cell_type": "markdown",
      "metadata": {
        "id": "Id4FCdK2Cmfg"
      },
      "source": [
        "### Método .dropna() \n",
        "https://pandas.pydata.org/docs/reference/api/pandas.DataFrame.dropna.html"
      ]
    },
    {
      "cell_type": "code",
      "source": [],
      "metadata": {
        "id": "3_h8YO5RgLQy"
      },
      "execution_count": null,
      "outputs": []
    },
    {
      "cell_type": "markdown",
      "metadata": {
        "id": "BVq6HVG_QWNI"
      },
      "source": [
        "##Matplotlib.pyplot \n",
        "\n",
        "https://www.youtube.com/watch?v=2qH_HvoBG0M"
      ]
    },
    {
      "cell_type": "markdown",
      "metadata": {
        "id": "xB-irFSGDMDS"
      },
      "source": [
        "### Plot ( com matplot.lib)\n",
        "\n",
        "https://queirozf.com/entries/pandas-dataframe-plot-examples-with-matplotlib-pyplot"
      ]
    },
    {
      "cell_type": "markdown",
      "metadata": {
        "id": "QTq_WqYbV7oa"
      },
      "source": [
        "## Scipy "
      ]
    },
    {
      "cell_type": "markdown",
      "metadata": {
        "id": "-346ZPsVWAXB"
      },
      "source": [
        "### Integral\n",
        "\n",
        "https://docs.scipy.org/doc/scipy/reference/tutorial/integrate.html"
      ]
    },
    {
      "cell_type": "markdown",
      "source": [
        "## Pillow (imagens)"
      ],
      "metadata": {
        "id": "8rNtUcR7G1Rr"
      }
    },
    {
      "cell_type": "code",
      "source": [
        "# https://pillow.readthedocs.io/en/stable/handbook/tutorial.html"
      ],
      "metadata": {
        "colab": {
          "base_uri": "https://localhost:8080/",
          "height": 130
        },
        "id": "hYxja0yoG4HU",
        "outputId": "2379d8a7-a0ac-4d6f-d907-ccf2aa9ce832"
      },
      "execution_count": null,
      "outputs": [
        {
          "output_type": "error",
          "ename": "SyntaxError",
          "evalue": "ignored",
          "traceback": [
            "\u001b[0;36m  File \u001b[0;32m\"<ipython-input-1-ffe59aa72f15>\"\u001b[0;36m, line \u001b[0;32m1\u001b[0m\n\u001b[0;31m    https://pillow.readthedocs.io/en/stable/handbook/tutorial.html\u001b[0m\n\u001b[0m           ^\u001b[0m\n\u001b[0;31mSyntaxError\u001b[0m\u001b[0;31m:\u001b[0m invalid syntax\n"
          ]
        }
      ]
    },
    {
      "cell_type": "markdown",
      "source": [
        "# Machine Learning"
      ],
      "metadata": {
        "id": "6n7GjXSRH50r"
      }
    },
    {
      "cell_type": "markdown",
      "source": [
        "![image.png](data:image/png;base64,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)"
      ],
      "metadata": {
        "id": "GARfy6hRKf-J"
      }
    },
    {
      "cell_type": "code",
      "source": [],
      "metadata": {
        "id": "fwHnCCfIH-d2"
      },
      "execution_count": null,
      "outputs": []
    },
    {
      "cell_type": "markdown",
      "source": [
        "## TensorFlow"
      ],
      "metadata": {
        "id": "o3fQunOGKn4r"
      }
    },
    {
      "cell_type": "code",
      "source": [
        "# Módulo utilizado para Machine Learning\n",
        "# Utiliza Keras (API) para definir e criar as Redes Neurais   https://www.simplilearn.com/tutorials/deep-learning-tutorial/what-is-keras"
      ],
      "metadata": {
        "id": "iuR8D0PUwmrY"
      },
      "execution_count": null,
      "outputs": []
    },
    {
      "cell_type": "code",
      "source": [
        "# curso https://www.coursera.org/learn/introduction-tensorflow/home/week/1"
      ],
      "metadata": {
        "id": "17E9puJotszq"
      },
      "execution_count": null,
      "outputs": []
    },
    {
      "cell_type": "markdown",
      "source": [
        "### Introdução : \n",
        "\n",
        "semana 1 https://www.coursera.org/learn/introduction-tensorflow/home/week/1\n",
        "\n",
        "codigos https://github.com/https-deeplearning-ai/tensorflow-1-public/blob/main/C1/W1/ungraded_lab/C1_W1_Lab_1_hello_world_nn.ipynb "
      ],
      "metadata": {
        "id": "OboRzFzaqWiJ"
      }
    },
    {
      "cell_type": "code",
      "source": [
        "import tensorflow as tf\n",
        "from tensorflow import keras\n"
      ],
      "metadata": {
        "id": "SIrbPIf-Ku8w"
      },
      "execution_count": null,
      "outputs": []
    },
    {
      "cell_type": "code",
      "source": [
        "# Criando um modelo SEQUENCIAL simples (com apenas 1 neurônio)\n",
        "\n",
        "model = tf.keras.Sequential()     # Sequential() define como sequencial a camada de neuronios                       \n",
        "model.add(keras.layers.Dense(units=1, input_shape=[1]))   # Dense() adiciona uma camada de neuronios ,  units define quantidade de neuronios na camada\n",
        "\n",
        "#ou \n",
        "\n",
        "model2 = tf.keras.Sequential([keras.layers.Dense(units=1, input_shape=[1])])\n"
      ],
      "metadata": {
        "id": "ZtKe-YtUrE55"
      },
      "execution_count": null,
      "outputs": []
    },
    {
      "cell_type": "code",
      "source": [
        "# Compilando o modelo\n",
        "\n",
        "model.compile(optimizer='sgd', loss='mean_squared_error') \n",
        "\n",
        "# função  loss  faz a comparação entre o resultado encontrado e o resultado real (e a diferença entre eles)\n",
        "  # https://keras.io/api/losses/\n",
        "\n",
        "# função  optimizer  faz um novo palpite, de acordo como a função loss foi, tenta minimizar as perdas\n",
        "  # https://keras.io/api/optimizers/"
      ],
      "metadata": {
        "id": "vtHB3P6Xy1AY"
      },
      "execution_count": null,
      "outputs": []
    },
    {
      "cell_type": "code",
      "source": [
        "# Outros modelos alem do Sequencial são o Funcional e o Subclasses   https://keras.io/api/models/"
      ],
      "metadata": {
        "id": "gveFl_IL2uA3"
      },
      "execution_count": null,
      "outputs": []
    },
    {
      "cell_type": "code",
      "source": [
        "import numpy as np"
      ],
      "metadata": {
        "id": "H-jui3lT2uIc"
      },
      "execution_count": null,
      "outputs": []
    },
    {
      "cell_type": "code",
      "source": [
        "xs = np.array([-1.0,  0.0, 1.0, 2.0, 3.0, 4.0], dtype=float)\n",
        "ys = np.array([-3.0, -1.0, 1.0, 3.0, 5.0, 7.0], dtype=float)\n",
        "\n",
        "# y = 2x -1 "
      ],
      "metadata": {
        "id": "gotPedTt2uK4"
      },
      "execution_count": null,
      "outputs": []
    },
    {
      "cell_type": "code",
      "source": [
        "model.fit(xs, ys, epochs=500)  # faz 500 repeticoes para improvisar o modelo \n"
      ],
      "metadata": {
        "id": "8bg7-jgS2uNa"
      },
      "execution_count": null,
      "outputs": []
    },
    {
      "cell_type": "code",
      "source": [
        "model.predict([15.0])"
      ],
      "metadata": {
        "colab": {
          "base_uri": "https://localhost:8080/"
        },
        "id": "l-oivTBbBfe_",
        "outputId": "64d4b470-eb87-43ec-cf55-bcf6acd9641c"
      },
      "execution_count": null,
      "outputs": [
        {
          "output_type": "execute_result",
          "data": {
            "text/plain": [
              "array([[28.999977]], dtype=float32)"
            ]
          },
          "metadata": {},
          "execution_count": 11
        }
      ]
    },
    {
      "cell_type": "code",
      "source": [],
      "metadata": {
        "id": "H2MwTZ4lBfm3"
      },
      "execution_count": null,
      "outputs": []
    },
    {
      "cell_type": "markdown",
      "source": [
        "### Treinando imagens do fashion mnist\n",
        "\n",
        "semana 2: https://www.coursera.org/learn/introduction-tensorflow/home/week/2\n",
        "\n",
        "codigos: https://github.com/https-deeplearning-ai/tensorflow-1-public/blob/main/C1/W2/ungraded_labs/C1_W2_Lab_1_beyond_hello_world.ipynb\n"
      ],
      "metadata": {
        "id": "4m33wA74Zb5P"
      }
    },
    {
      "cell_type": "code",
      "source": [
        "fashion_mnist = tf.keras.datasets.fashion_mnist"
      ],
      "metadata": {
        "id": "qlGw_HiZ2uuL"
      },
      "execution_count": null,
      "outputs": []
    },
    {
      "cell_type": "code",
      "source": [
        "(training_images, training_labels), (test_images, test_labels) = fashion_mnist.load_data()"
      ],
      "metadata": {
        "id": "waKu2HwN3BS8"
      },
      "execution_count": null,
      "outputs": []
    },
    {
      "cell_type": "code",
      "source": [
        "model = keras.Sequential([keras.layers.Flatten(input_shape = (28,28)), # Flatten comprime os dados\n",
        "                          keras.layers.Dense(128, activation = tf.nn.relu),  # Dense gera camadas conectadas\n",
        "                          keras.layers.Dense(10, activation = tf.nn.softmax)])"
      ],
      "metadata": {
        "id": "SoqgHcIR3JSb"
      },
      "execution_count": null,
      "outputs": []
    },
    {
      "cell_type": "code",
      "source": [
        "import numpy as np\n",
        "import matplotlib.pyplot as plt\n",
        "\n",
        "# You can put between 0 to 59999 here\n",
        "index = 7\n",
        "\n",
        "# Set number of characters per row when printing\n",
        "np.set_printoptions(linewidth=320)\n",
        "\n",
        "# Print the label and image\n",
        "print(f'LABEL: {training_labels[index]}')\n",
        "print(f'\\nIMAGE PIXEL ARRAY:\\n {training_images[index]}')\n",
        "\n",
        "# Visualize the image\n",
        "plt.imshow(training_images[index])\n"
      ],
      "metadata": {
        "colab": {
          "base_uri": "https://localhost:8080/",
          "height": 820
        },
        "id": "SXNo-pDF3LPb",
        "outputId": "d5133500-9e4e-48cd-f0c3-4d5b7af36f96"
      },
      "execution_count": null,
      "outputs": [
        {
          "output_type": "stream",
          "name": "stdout",
          "text": [
            "LABEL: 2\n",
            "\n",
            "IMAGE PIXEL ARRAY:\n",
            " [[  0   0   0   0   0   1   1   0   0   0   0  63  28   0   0   0  33  85   0   0   0   0   0   0   0   0   0   0]\n",
            " [  0   0   0   0   0   2   0   0  28 126 241 255 255 255 255 255 255 252 248 111   0   0   0   2   0   0   0   0]\n",
            " [  0   0   0   0   2   0   0 206 244 251 241 230 238 221 205 230 240 230 239 251 233 165   0   0   2   0   0   0]\n",
            " [  0   0   0   1   0   0 199 251 228 234 233 236 235 245 247 237 234 239 230 230 235 255 176   0   0   1   0   0]\n",
            " [  0   0   0   0   0  81 254 226 228 239 237 236 234 232 233 235 235 236 239 237 233 225 246  73   0   0   0   0]\n",
            " [  0   0   3   0   0 255 235 239 223 234 238 236 237 236 235 235 235 235 236 235 234 230 231 255  24   0   4   0]\n",
            " [  0   0   0   0 177 239 223 254 223 232 234 234 236 236 235 235 235 235 235 234 231 233 222 246  88   0   1   0]\n",
            " [  0   0   0   0 234 239 229 255 220 232 233 232 234 235 235 235 235 235 234 233 232 230 228 254 140   0   0   0]\n",
            " [  0   0   0   0 225 240 226 255 221 227 232 228 231 230 228 229 231 230 228 228 232 223 229 244 231   0   0   0]\n",
            " [  0   0   0  47 245 231 234 249 229 221 229 225 229 227 226 227 228 227 228 229 228 224 246 240 227   0   0   0]\n",
            " [  0   0   0  51 248 230 245 246 230 226 230 227 230 229 228 229 230 228 228 231 225 227 242 237 255   0   0   0]\n",
            " [  0   0   0 101 253 229 247 241 221 233 228 227 229 228 227 228 230 227 230 234 225 229 251 229 243  55   0   0]\n",
            " [  0   0   0 102 255 227 242 241 221 234 223 230 228 231 229 231 231 227 229 241 219 236 254 225 250 167   0   0]\n",
            " [  0   0   0  90 255 229 236 231 222 236 223 231 229 231 229 231 231 228 224 245 218 243 239 227 244 175   0   0]\n",
            " [  0   0   0 212 250 225 236 249 229 237 223 231 229 231 229 231 231 230 221 243 225 248 230 236 234 255   1   0]\n",
            " [  0   0   0 245 243 232 243 218 228 238 222 231 229 231 229 231 231 230 222 237 237 252 229 239 240 223   0   0]\n",
            " [  0   0  27 255 235 242 237 216 230 236 224 229 227 233 233 233 230 228 224 230 245 247 221 243 239 252   0   0]\n",
            " [  0   0  88 255 232 248 236 208 234 231 223 227 226 233 232 232 230 228 224 224 235 233 234 247 235 255   0   0]\n",
            " [  0   0  83 255 225 250 237 224 236 229 225 225 227 235 229 231 230 230 227 221 227 221 239 250 231 255   0   0]\n",
            " [  0   0  20 255 224 248 234 226 232 222 225 224 231 238 226 230 228 230 230 221 229 225 244 246 230 255   0   0]\n",
            " [  0   0  95 255 218 242 255 232 226 224 229 228 228 232 228 229 231 233 232 226 221 224 247 244 228 255   0   0]\n",
            " [  0   0 167 255 213 235 255  81 245 251 238 236 230 229 230 229 230 231 238 240 255 192 255 239 228 255  23   0]\n",
            " [  0   0 173 242 224 233 255   0 136 226 239 255 229 236 236 234 233 228 251 248 200  81 255 237 225 255 101   0]\n",
            " [  0   0 172 255 226 233 255   0   0   0   0   0   8  21  22  21  20  14   0   0   0   0 255 238 229 246 178   0]\n",
            " [  0   0  16 255 236 238 252   0   0   0   0   0   0   0   0   0   0   0   0   0   0   0 222 244 222 254 119   0]\n",
            " [  0   0   0  30 228 242 163   0   0   0   0   2   4   6   5   5   4   4   2   0   1   0 151 251 235 180   0   0]\n",
            " [  0   0   0   0 234 255 191   0  11   0   0   0   0   0   0   0   0   0   0   0   4   0 103 246 247  72   0   0]\n",
            " [  0   0   0   1  95  77  52   0   4   0   0   0   0   0   0   0   0   0   0   0   3   0  82 237 231  70   0   0]]\n"
          ]
        },
        {
          "output_type": "execute_result",
          "data": {
            "text/plain": [
              "<matplotlib.image.AxesImage at 0x7f5ae59bef90>"
            ]
          },
          "metadata": {},
          "execution_count": 11
        },
        {
          "output_type": "display_data",
          "data": {
            "text/plain": [
              "<Figure size 432x288 with 1 Axes>"
            ],
            "image/png": "[encoded data removed]"
          },
          "metadata": {
            "needs_background": "light"
          }
        }
      ]
    },
    {
      "cell_type": "code",
      "source": [
        "training_images  = training_images / 255.0\n",
        "test_images = test_images / 255.0"
      ],
      "metadata": {
        "id": "ZpYKeyoobQ7B"
      },
      "execution_count": null,
      "outputs": []
    },
    {
      "cell_type": "code",
      "source": [],
      "metadata": {
        "id": "x4Sd6lEacciB"
      },
      "execution_count": null,
      "outputs": []
    },
    {
      "cell_type": "markdown",
      "metadata": {
        "id": "9ppfZe09N2Ox"
      },
      "source": [
        "# Links"
      ]
    },
    {
      "cell_type": "code",
      "metadata": {
        "colab": {
          "base_uri": "https://localhost:8080/",
          "height": 130
        },
        "id": "hzwjhAbFN3EP",
        "outputId": "0ce9b2e1-f22e-41f4-98ed-701244a72b66"
      },
      "source": [
        " # tutoriais : \n",
        " https://www.w3schools.com/python/default.asp\n",
        " \n",
        " # documentação :\n",
        " https://www.python.org/doc/\n",
        "\n",
        " # duvidas :\n",
        "  https://stackoverflow.com/\n",
        "  https://pt.stackoverflow.com/  # portugues"
      ],
      "execution_count": null,
      "outputs": [
        {
          "output_type": "error",
          "ename": "SyntaxError",
          "evalue": "ignored",
          "traceback": [
            "\u001b[0;36m  File \u001b[0;32m\"<ipython-input-19-b4a3c3eb73d0>\"\u001b[0;36m, line \u001b[0;32m2\u001b[0m\n\u001b[0;31m    https://www.w3schools.com/python/default.asp\u001b[0m\n\u001b[0m           ^\u001b[0m\n\u001b[0;31mSyntaxError\u001b[0m\u001b[0;31m:\u001b[0m invalid syntax\n"
          ]
        }
      ]
    },
    {
      "cell_type": "code",
      "metadata": {
        "id": "g48Cm9x3N3bR"
      },
      "source": [
        "import tensorflow as tf\n",
        "from tensorflow import keras\n",
        "\n",
        "import numpy as np"
      ],
      "execution_count": null,
      "outputs": []
    },
    {
      "cell_type": "code",
      "source": [
        "model = tf.keras.Sequential()\n",
        "model.add(keras.layers.Dense(units=1, input_shape=[1]))"
      ],
      "metadata": {
        "id": "Qp4r2sVB2MBC"
      },
      "execution_count": null,
      "outputs": []
    },
    {
      "cell_type": "code",
      "source": [
        "model.compile(optimizer='sgd', loss='mean_squared_error') "
      ],
      "metadata": {
        "id": "QGnNVyMs2MLP"
      },
      "execution_count": null,
      "outputs": []
    },
    {
      "cell_type": "code",
      "source": [
        "xs = np.array([-1.0,  0.0, 1.0, 2.0, 3.0, 4.0], dtype=float)\n",
        "ys = np.array([-3.0, -1.0, 1.0, 3.0, 5.0, 7.0], dtype=float) \n",
        "# y = 2x -1 (reta)\n"
      ],
      "metadata": {
        "id": "796mM8eI2MNl"
      },
      "execution_count": null,
      "outputs": []
    },
    {
      "cell_type": "code",
      "source": [
        "model.fit(xs, ys, epochs=500)"
      ],
      "metadata": {
        "id": "-t5-rKtW2MPv"
      },
      "execution_count": null,
      "outputs": []
    },
    {
      "cell_type": "code",
      "source": [
        "model.predict([10.0])"
      ],
      "metadata": {
        "colab": {
          "base_uri": "https://localhost:8080/"
        },
        "id": "5Nwox_Ay2MTR",
        "outputId": "de07ef40-32c9-4c2e-8698-f479dcfbb11f"
      },
      "execution_count": null,
      "outputs": [
        {
          "output_type": "execute_result",
          "data": {
            "text/plain": [
              "array([[18.986242]], dtype=float32)"
            ]
          },
          "metadata": {},
          "execution_count": 20
        }
      ]
    },
    {
      "cell_type": "code",
      "source": [],
      "metadata": {
        "id": "oIy3mtQU2MWq"
      },
      "execution_count": null,
      "outputs": []
    },
    {
      "cell_type": "code",
      "source": [],
      "metadata": {
        "id": "BuVfCPd_2MYo"
      },
      "execution_count": null,
      "outputs": []
    },
    {
      "cell_type": "code",
      "source": [],
      "metadata": {
        "id": "Ufnb9iEK2MbF"
      },
      "execution_count": null,
      "outputs": []
    },
    {
      "cell_type": "code",
      "source": [],
      "metadata": {
        "id": "3V3hYAQG2McS"
      },
      "execution_count": null,
      "outputs": []
    }
  ]
}